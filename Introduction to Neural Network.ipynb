{
 "cells": [
  {
   "cell_type": "markdown",
   "metadata": {},
   "source": [
    "### Neural Networks"
   ]
  },
  {
   "cell_type": "markdown",
   "metadata": {},
   "source": [
    " - Basically a set of inter-connected nodes or neurons or perceptrons.\n",
    "     - Typically consists of layers of such neurons.\n",
    "     - Each neuron in a given layer is connected to all the neurons of the previous layers through a weight and an activatio function.\n",
    "     - Activation function is used to generate the non-linearity in the model that is to be trained with the data in hand.\n",
    " Let us first consider how a single layer neural network would look like. For our purposes let's consider our input to be a three dimensional vector. For example let's say we are monitoring the Pressure, temperature and humidity at a weather station. the vector is $\\vec{V}=\\left(P, T, H\\right)$. We would also need the label or the output. In this case this can be the chances of rain, $R$.\n",
    "\n",
    "<img src=\"images/linearneuralnetwork.PNG\" width=\"500\" height=\"250\">\n"
   ]
  },
  {
   "cell_type": "markdown",
   "metadata": {},
   "source": [
    "$R'$ is the output of the untrained linear neural net and is given by:\n",
    "\n",
    "\\begin{equation}\n",
    "R'=1\\times w_0+P\\times w_1+T\\times w_2+H\\times w_3\n",
    "\\end{equation}\n",
    "\n",
    "The difference between the output of the untrained model, $R'$ and the actual value $R$, a function of the difference $\\Delta=f\\left(R-R'\\right)$ is used to optimize the weights $w_i$ using optimization methods such as Gradient Descent. Note that we have a node to denote the offset whose input is always $1$ (weight given by $w_0$). As a rule of thumb, in the final representation and as well counting the number of neurons in each layer this is mostly omitted. In the above example the neural network has single layer with three neurons. "
   ]
  },
  {
   "cell_type": "markdown",
   "metadata": {},
   "source": [
    "### Training a linear model using a  neural network"
   ]
  },
  {
   "cell_type": "markdown",
   "metadata": {},
   "source": [
    "- We will try to first model a simple linear equation using a single layer neural network.\n",
    "    - $y=3x+5$\n",
    "    - The neural net model would look like $y'= w_0+w_1x$\n",
    "    \n",
    "We will first simulate some of the data:"
   ]
  },
  {
   "cell_type": "code",
   "execution_count": 1,
   "metadata": {},
   "outputs": [],
   "source": [
    "import numpy as np\n",
    "import pandas as pd\n",
    "import matplotlib.pyplot as plt"
   ]
  },
  {
   "cell_type": "code",
   "execution_count": 2,
   "metadata": {},
   "outputs": [],
   "source": [
    "x = np.arange(0, 5, 0.5)"
   ]
  },
  {
   "cell_type": "code",
   "execution_count": 3,
   "metadata": {},
   "outputs": [],
   "source": [
    "y = 3*x+5 #+ .001*np.random.randn(len(x))"
   ]
  },
  {
   "cell_type": "code",
   "execution_count": 4,
   "metadata": {},
   "outputs": [
    {
     "data": {
      "text/plain": [
       "Text(0, 0.5, 'y')"
      ]
     },
     "execution_count": 4,
     "metadata": {},
     "output_type": "execute_result"
    },
    {
     "data": {
      "image/png": "[encoded data removed]",
      "text/plain": [
       "<Figure size 432x288 with 1 Axes>"
      ]
     },
     "metadata": {
      "needs_background": "light"
     },
     "output_type": "display_data"
    }
   ],
   "source": [
    "plt.plot(x, y, 'b*')\n",
    "plt.xlabel('x')\n",
    "plt.ylabel('y')"
   ]
  },
  {
   "cell_type": "code",
   "execution_count": 5,
   "metadata": {},
   "outputs": [],
   "source": [
    "x = np.float32(x.reshape(-1, 1))\n",
    "y = np.float32(y.reshape(-1, 1))"
   ]
  },
  {
   "cell_type": "code",
   "execution_count": 6,
   "metadata": {},
   "outputs": [],
   "source": [
    "#Importing torch\n",
    "import torch\n",
    "import torch.nn as nn\n",
    "from torch.autograd import Variable"
   ]
  },
  {
   "cell_type": "code",
   "execution_count": 7,
   "metadata": {},
   "outputs": [],
   "source": [
    "#Create a class for the training\n",
    "class LinearRegression(nn.Module):\n",
    "    def __init__(self, input_size, output_size):\n",
    "        super().__init__()\n",
    "        self.input_dim = input_size\n",
    "        self.output_dim = output_size\n",
    "        self.linear = nn.Linear(self.input_dim, self.output_dim)\n",
    "    def forward(self, x):\n",
    "        output = self.linear(x)\n",
    "        return output"
   ]
  },
  {
   "cell_type": "code",
   "execution_count": 8,
   "metadata": {},
   "outputs": [],
   "source": [
    "#Instantiate the model\n",
    "input_dim = 1\n",
    "output_dim = 1\n",
    "\n",
    "model = LinearRegression(input_dim, output_dim)"
   ]
  },
  {
   "cell_type": "markdown",
   "metadata": {},
   "source": [
    "What else is required?\n",
    "\n",
    "- A loss function, in order to compare the output of the neural network to the real life value (in our case simulated y)\n",
    "- A simple loss function would be the mean squared error:\n",
    "    - $MSE = \\frac{1}{n}\\Sigma_i\\left(\\hat{y}_i-y_i\\right)^2$\n",
    "        - $\\hat{y}_i$: predicted value\n",
    "        - $y_i$: true value"
   ]
  },
  {
   "cell_type": "code",
   "execution_count": 9,
   "metadata": {},
   "outputs": [],
   "source": [
    "#Define the loss function\n",
    "criterion = nn.MSELoss(reduction='mean')"
   ]
  },
  {
   "cell_type": "markdown",
   "metadata": {},
   "source": [
    "However learning still needs to takes place. The learning takes place by feeding back the loss function to the parameters in such a way that the loss function is minimized. \n",
    "\n",
    "- $\\theta := \\theta - \\eta.\\nabla_{\\theta}$, where \n",
    "    - $\\theta$ represents the parameters, \n",
    "    - $\\eta$ is the learning rate\n",
    "    - $\\nabla_{\\theta}$ is the gradient of the loss function w.r.t. $\\theta$\n",
    "- What are the parameters in this case?\n",
    "    - $\\alpha$ and $\\beta$ in $y=\\alpha x + \\beta$\n",
    "    - After successful learning we should obtain: $\\alpha=3$, $\\beta=5$"
   ]
  },
  {
   "cell_type": "code",
   "execution_count": 10,
   "metadata": {},
   "outputs": [],
   "source": [
    "#Define learning rate\n",
    "lr = 0.1\n",
    "#Define the optimizer\n",
    "optimizer = torch.optim.SGD(model.parameters(), lr=lr)"
   ]
  },
  {
   "cell_type": "markdown",
   "metadata": {},
   "source": [
    "Now it is time to train. A few points before training:\n",
    "\n",
    "- Generally once has to go through the dataset several time in order to properly optimize the weights, we fix the number of 'epochs' initially\n",
    "- Since the inputs will generally be numpy array we have to convert them into torch tensors first.\n",
    "- While going through each epoch, we compute the outputs and obtain the loss.\n",
    "- The loss is then used to compute the gradients which will be used to update the parameters"
   ]
  },
  {
   "cell_type": "code",
   "execution_count": 11,
   "metadata": {},
   "outputs": [],
   "source": [
    "nb_epoch = 100"
   ]
  },
  {
   "cell_type": "code",
   "execution_count": 12,
   "metadata": {
    "scrolled": true
   },
   "outputs": [
    {
     "name": "stdout",
     "output_type": "stream",
     "text": [
      "Epoch 1,  Loss: 156.2805938720703\n",
      "Epoch 2,  Loss: 52.39402389526367\n",
      "Epoch 3,  Loss: 18.221067428588867\n",
      "Epoch 4,  Loss: 6.912304401397705\n",
      "Epoch 5,  Loss: 3.109316349029541\n",
      "Epoch 6,  Loss: 1.7765237092971802\n",
      "Epoch 7,  Loss: 1.2622603178024292\n",
      "Epoch 8,  Loss: 1.0242156982421875\n",
      "Epoch 9,  Loss: 0.883813202381134\n",
      "Epoch 10,  Loss: 0.7817903757095337\n",
      "Epoch 11,  Loss: 0.6980701684951782\n",
      "Epoch 12,  Loss: 0.625486433506012\n",
      "Epoch 13,  Loss: 0.5611651539802551\n",
      "Epoch 14,  Loss: 0.5036938190460205\n",
      "Epoch 15,  Loss: 0.45218509435653687\n",
      "Epoch 16,  Loss: 0.40596917271614075\n",
      "Epoch 17,  Loss: 0.36448490619659424\n",
      "Epoch 18,  Loss: 0.32724258303642273\n",
      "Epoch 19,  Loss: 0.29380661249160767\n",
      "Epoch 20,  Loss: 0.26378709077835083\n",
      "Epoch 21,  Loss: 0.23683494329452515\n",
      "Epoch 22,  Loss: 0.21263675391674042\n",
      "Epoch 23,  Loss: 0.19091089069843292\n",
      "Epoch 24,  Loss: 0.1714048832654953\n",
      "Epoch 25,  Loss: 0.15389180183410645\n",
      "Epoch 26,  Loss: 0.138168066740036\n",
      "Epoch 27,  Loss: 0.12405100464820862\n",
      "Epoch 28,  Loss: 0.11137615889310837\n",
      "Epoch 29,  Loss: 0.09999652951955795\n",
      "Epoch 30,  Loss: 0.0897795781493187\n",
      "Epoch 31,  Loss: 0.08060630410909653\n",
      "Epoch 32,  Loss: 0.07237054407596588\n",
      "Epoch 33,  Loss: 0.06497615575790405\n",
      "Epoch 34,  Loss: 0.058337219059467316\n",
      "Epoch 35,  Loss: 0.05237683653831482\n",
      "Epoch 36,  Loss: 0.04702530428767204\n",
      "Epoch 37,  Loss: 0.04222051426768303\n",
      "Epoch 38,  Loss: 0.0379067026078701\n",
      "Epoch 39,  Loss: 0.0340336374938488\n",
      "Epoch 40,  Loss: 0.030556362122297287\n",
      "Epoch 41,  Loss: 0.02743419259786606\n",
      "Epoch 42,  Loss: 0.024631228297948837\n",
      "Epoch 43,  Loss: 0.022114567458629608\n",
      "Epoch 44,  Loss: 0.01985500007867813\n",
      "Epoch 45,  Loss: 0.017826348543167114\n",
      "Epoch 46,  Loss: 0.016005000099539757\n",
      "Epoch 47,  Loss: 0.014369749464094639\n",
      "Epoch 48,  Loss: 0.01290150173008442\n",
      "Epoch 49,  Loss: 0.01158328726887703\n",
      "Epoch 50,  Loss: 0.010399769060313702\n",
      "Epoch 51,  Loss: 0.009337210096418858\n",
      "Epoch 52,  Loss: 0.008383183740079403\n",
      "Epoch 53,  Loss: 0.007526639383286238\n",
      "Epoch 54,  Loss: 0.006757630500942469\n",
      "Epoch 55,  Loss: 0.0060671791434288025\n",
      "Epoch 56,  Loss: 0.0054472666233778\n",
      "Epoch 57,  Loss: 0.004890698008239269\n",
      "Epoch 58,  Loss: 0.004390989430248737\n",
      "Epoch 59,  Loss: 0.003942360635846853\n",
      "Epoch 60,  Loss: 0.0035395361483097076\n",
      "Epoch 61,  Loss: 0.003177897771820426\n",
      "Epoch 62,  Loss: 0.002853203797712922\n",
      "Epoch 63,  Loss: 0.0025616728235036135\n",
      "Epoch 64,  Loss: 0.0022999404463917017\n",
      "Epoch 65,  Loss: 0.0020649416837841272\n",
      "Epoch 66,  Loss: 0.0018539365846663713\n",
      "Epoch 67,  Loss: 0.001664535840973258\n",
      "Epoch 68,  Loss: 0.001494476106017828\n",
      "Epoch 69,  Loss: 0.0013417762238532305\n",
      "Epoch 70,  Loss: 0.0012046819319948554\n",
      "Epoch 71,  Loss: 0.00108159554656595\n",
      "Epoch 72,  Loss: 0.0009710841113701463\n",
      "Epoch 73,  Loss: 0.0008718775934539735\n",
      "Epoch 74,  Loss: 0.0007827956578694284\n",
      "Epoch 75,  Loss: 0.0007028207764960825\n",
      "Epoch 76,  Loss: 0.0006310114404186606\n",
      "Epoch 77,  Loss: 0.0005665381322614849\n",
      "Epoch 78,  Loss: 0.0005086508463136852\n",
      "Epoch 79,  Loss: 0.00045667949598282576\n",
      "Epoch 80,  Loss: 0.0004100175865460187\n",
      "Epoch 81,  Loss: 0.0003681291127577424\n",
      "Epoch 82,  Loss: 0.00033051162608899176\n",
      "Epoch 83,  Loss: 0.0002967383770737797\n",
      "Epoch 84,  Loss: 0.0002664188505150378\n",
      "Epoch 85,  Loss: 0.00023919364321045578\n",
      "Epoch 86,  Loss: 0.000214757164940238\n",
      "Epoch 87,  Loss: 0.0001928142737597227\n",
      "Epoch 88,  Loss: 0.00017310905968770385\n",
      "Epoch 89,  Loss: 0.0001554247719468549\n",
      "Epoch 90,  Loss: 0.00013953965390101075\n",
      "Epoch 91,  Loss: 0.00012528638762887567\n",
      "Epoch 92,  Loss: 0.00011248284135945141\n",
      "Epoch 93,  Loss: 0.00010099117935169488\n",
      "Epoch 94,  Loss: 9.067201608559117e-05\n",
      "Epoch 95,  Loss: 8.140759018715471e-05\n",
      "Epoch 96,  Loss: 7.308823842322454e-05\n",
      "Epoch 97,  Loss: 6.562172347912565e-05\n",
      "Epoch 98,  Loss: 5.891580076422542e-05\n",
      "Epoch 99,  Loss: 5.28974924236536e-05\n",
      "Epoch 100,  Loss: 4.749392974190414e-05\n"
     ]
    }
   ],
   "source": [
    "epoch=0\n",
    "for epoch in range(nb_epoch):\n",
    "    epoch+=1\n",
    "    #Convert the numpy array to torch tensor\n",
    "    inputs = Variable(torch.from_numpy(x))\n",
    "    labels = Variable(torch.from_numpy(y))\n",
    "    \n",
    "    #Clear the gradients\n",
    "    optimizer.zero_grad()\n",
    "    \n",
    "    #Compute the output using forward pass\n",
    "    outputs = model.forward(inputs)\n",
    "    \n",
    "    #Compute the loss\n",
    "    loss = criterion(outputs, labels)\n",
    "    \n",
    "    #get the Gradient\n",
    "    loss.backward()\n",
    "    \n",
    "    #Update the parameters\n",
    "    optimizer.step()\n",
    "    \n",
    "    print('Epoch {},  Loss: {}'.format(epoch, loss.data))"
   ]
  },
  {
   "cell_type": "code",
   "execution_count": 13,
   "metadata": {},
   "outputs": [
    {
     "data": {
      "text/plain": [
       "[Parameter containing:\n",
       " tensor([[3.0040]], requires_grad=True), Parameter containing:\n",
       " tensor([4.9879], requires_grad=True)]"
      ]
     },
     "execution_count": 13,
     "metadata": {},
     "output_type": "execute_result"
    }
   ],
   "source": [
    "list(model.parameters())"
   ]
  },
  {
   "cell_type": "code",
   "execution_count": 14,
   "metadata": {},
   "outputs": [],
   "source": [
    "with torch.no_grad():\n",
    "    predicted = model.forward(inputs).data.numpy()"
   ]
  },
  {
   "cell_type": "code",
   "execution_count": 15,
   "metadata": {},
   "outputs": [
    {
     "data": {
      "text/plain": [
       "<matplotlib.legend.Legend at 0x1f8bd6155f8>"
      ]
     },
     "execution_count": 15,
     "metadata": {},
     "output_type": "execute_result"
    },
    {
     "data": {
      "image/png": "[encoded data removed]",
      "text/plain": [
       "<Figure size 432x288 with 1 Axes>"
      ]
     },
     "metadata": {
      "needs_background": "light"
     },
     "output_type": "display_data"
    }
   ],
   "source": [
    "plt.plot(x, y, 'b*', label='True Data', alpha=0.5)\n",
    "plt.plot(x, predicted, 'g--', label = 'predicted data', alpha=0.5)\n",
    "plt.legend(loc='best')"
   ]
  },
  {
   "cell_type": "markdown",
   "metadata": {},
   "source": [
    "### What about non-linearity?\n",
    "\n",
    "The above example was about linear regression and hence a linear model could easily model the sample data. However we want to be able to data that is non-linear as well. Non-linearity is introduced in Neural networks through what are known as activation function. A well known activation function is the Sigmoid function which is given by :\n",
    "\n",
    "\\begin{equation}\n",
    "S(z)=\\frac{1}{1+e^{-z}}=\\frac{e^z}{e^z+1}\n",
    "\\end{equation}\n",
    "\n",
    "If you plot the sigmoid function this is what it looks like:"
   ]
  },
  {
   "cell_type": "code",
   "execution_count": 16,
   "metadata": {},
   "outputs": [],
   "source": [
    "def sigmoid(x):\n",
    "    return 1/(1+np.exp(-x))"
   ]
  },
  {
   "cell_type": "code",
   "execution_count": 17,
   "metadata": {},
   "outputs": [
    {
     "data": {
      "text/plain": [
       "<matplotlib.collections.LineCollection at 0x1f8bd66b588>"
      ]
     },
     "execution_count": 17,
     "metadata": {},
     "output_type": "execute_result"
    },
    {
     "data": {
      "image/png": "[encoded data removed]",
      "text/plain": [
       "<Figure size 432x288 with 1 Axes>"
      ]
     },
     "metadata": {
      "needs_background": "light"
     },
     "output_type": "display_data"
    }
   ],
   "source": [
    "z = np.linspace(-10, 10, num=100 )\n",
    "plt.plot(z, sigmoid(z), 'r-', label='Sigmoid Function')\n",
    "plt.legend(loc='best')\n",
    "plt.xlabel('z')\n",
    "plt.ylabel('S(z)')\n",
    "plt.hlines(y=0.5, xmin=-10, xmax=10)\n",
    "plt.vlines(x=0, ymin=0, ymax=1)"
   ]
  },
  {
   "cell_type": "markdown",
   "metadata": {},
   "source": [
    "#### ReLU activation\n",
    "There are a few other popular activation functions as well. A particularly popular one is the ReLU (Rectified Linear Unit ) activation which looks like:\n",
    "\n",
    "\\begin{equation}\n",
    "R\\left(x\\right) = 0, x<0 \\\\\n",
    "R\\left(x\\right) = x, x>0\n",
    "\\end{equation}"
   ]
  },
  {
   "cell_type": "code",
   "execution_count": 18,
   "metadata": {},
   "outputs": [],
   "source": [
    "def relu(x):\n",
    "    if x<=0:\n",
    "        output=0.0\n",
    "    elif x>0:\n",
    "        output=x\n",
    "    return output"
   ]
  },
  {
   "cell_type": "code",
   "execution_count": 19,
   "metadata": {},
   "outputs": [],
   "source": [
    "relu_vec = np.vectorize(relu)"
   ]
  },
  {
   "cell_type": "code",
   "execution_count": 20,
   "metadata": {},
   "outputs": [
    {
     "data": {
      "text/plain": [
       "<matplotlib.collections.LineCollection at 0x1f8c3729be0>"
      ]
     },
     "execution_count": 20,
     "metadata": {},
     "output_type": "execute_result"
    },
    {
     "data": {
      "image/png": "[encoded data removed]",
      "text/plain": [
       "<Figure size 432x288 with 1 Axes>"
      ]
     },
     "metadata": {
      "needs_background": "light"
     },
     "output_type": "display_data"
    }
   ],
   "source": [
    "z = np.linspace(-10, 10, num=100)\n",
    "plt.plot(z, relu_vec(z), 'r-', label='ReLU Function')\n",
    "plt.legend(loc='best')\n",
    "plt.xlabel('z')\n",
    "plt.ylabel('ReLU(z)')\n",
    "plt.hlines(y=0, xmin=-10, xmax=10)\n",
    "plt.vlines(x=0, ymin=0, ymax=10)"
   ]
  },
  {
   "cell_type": "markdown",
   "metadata": {},
   "source": [
    "In order to enable non-linearity in our models we apply activation function to each node or neuron of a layer.\n",
    "\n",
    "<img src=\"images/linearneuralnetworkplusactivation.PNG\" width=\"500\" height=\"250\">\n",
    "\n",
    "In the above diagram we see the activation function applied to the final layer which has a single neuron in it. In general, activation functions are applied to all the neurons in each layer, with each neuron being applied an activation function. "
   ]
  },
  {
   "cell_type": "markdown",
   "metadata": {},
   "source": [
    "In order to maximize the effectiveness of neural network we need to add more layers of network. This combined with the activation function will allow us to model complex data which has non-trivial relationship between the features and the labels:\n",
    "\n",
    "<img src=\"images/multilayerneuralnet.png\" width=\"500\" height=\"250\">"
   ]
  },
  {
   "cell_type": "markdown",
   "metadata": {},
   "source": [
    "#### Softmax activation\n",
    "The softmax activation function is another highly popular activation function which is usually used in the final layer when doing multiclass-classification using neural networks. Suppose we want to apply softmax to the output of a neural network classfier trying to classify 10 types of images with classes $k=1,2..10$. The output layer would thus have 10 layers. The softmax activated output for the i$^{th}$ neuron of the final layer would be thus given by \n"
   ]
  },
  {
   "cell_type": "markdown",
   "metadata": {},
   "source": [
    "\\begin{equation}\n",
    "P\\left(y=2|x\\right) = \\frac{e^{x^Tw_j}}{\\Sigma_k e^{x^Tw_k}}\n",
    "\\end{equation}"
   ]
  },
  {
   "cell_type": "markdown",
   "metadata": {},
   "source": [
    "#### Backpropagation\n",
    "\n",
    "As we can see that a neural network can very complicated and perform parameter updates (here the weight $w_{ij}$), we will need to compute the gradient at each node. This is known as backpropagation as the error obtained by comparing the output with the actual value using a loss function is then used to compute the gradients of the parameters."
   ]
  },
  {
   "cell_type": "code",
   "execution_count": null,
   "metadata": {},
   "outputs": [],
   "source": []
  }
 ],
 "metadata": {
  "kernelspec": {
   "display_name": "Python 3",
   "language": "python",
   "name": "python3"
  },
  "language_info": {
   "codemirror_mode": {
    "name": "ipython",
    "version": 3
   },
   "file_extension": ".py",
   "mimetype": "text/x-python",
   "name": "python",
   "nbconvert_exporter": "python",
   "pygments_lexer": "ipython3",
   "version": "3.7.3"
  }
 },
 "nbformat": 4,
 "nbformat_minor": 2
}
