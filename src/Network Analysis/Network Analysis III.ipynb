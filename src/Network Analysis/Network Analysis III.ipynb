{
 "cells": [
  {
   "cell_type": "markdown",
   "metadata": {},
   "source": [
    "## Projection in Graph"
   ]
  },
  {
   "cell_type": "markdown",
   "metadata": {},
   "source": [
    "- Useful to investigate the relationships between nodes on one partition\n",
    "    - Conditioned on the connections to the nodes in other partition"
   ]
  },
  {
   "cell_type": "markdown",
   "metadata": {},
   "source": [
    "<img src=\"../../images/bipartite_example_projection.png\" width=\"300\" height=\"300\">"
   ]
  },
  {
   "cell_type": "markdown",
   "metadata": {},
   "source": [
    "Understanding the choice of products can help us understand the relationship between the customers\n",
    "\n",
    "<img src=\"../../images/projection.png\" width=\"400\" height=\"400\">"
   ]
  },
  {
   "cell_type": "code",
   "execution_count": 1,
   "metadata": {},
   "outputs": [],
   "source": [
    "import networkx as nx\n",
    "import pandas as pd\n",
    "import matplotlib.pyplot as plt\n",
    "# import nxviz as nv\n",
    "import numpy as np\n",
    "from operator import itemgetter"
   ]
  },
  {
   "cell_type": "code",
   "execution_count": 7,
   "metadata": {},
   "outputs": [],
   "source": [
    "df = pd.read_csv('../../data/network/american-revolution.csv', index_col=0)"
   ]
  },
  {
   "cell_type": "code",
   "execution_count": 8,
   "metadata": {},
   "outputs": [
    {
     "data": {
      "text/html": [
       "<div>\n",
       "<style scoped>\n",
       "    .dataframe tbody tr th:only-of-type {\n",
       "        vertical-align: middle;\n",
       "    }\n",
       "\n",
       "    .dataframe tbody tr th {\n",
       "        vertical-align: top;\n",
       "    }\n",
       "\n",
       "    .dataframe thead th {\n",
       "        text-align: right;\n",
       "    }\n",
       "</style>\n",
       "<table border=\"1\" class=\"dataframe\">\n",
       "  <thead>\n",
       "    <tr style=\"text-align: right;\">\n",
       "      <th></th>\n",
       "      <th>StAndrewsLodge</th>\n",
       "      <th>LoyalNine</th>\n",
       "      <th>NorthCaucus</th>\n",
       "      <th>LongRoomClub</th>\n",
       "      <th>TeaParty</th>\n",
       "      <th>BostonCommittee</th>\n",
       "      <th>LondonEnemies</th>\n",
       "    </tr>\n",
       "  </thead>\n",
       "  <tbody>\n",
       "    <tr>\n",
       "      <td>Adams.John</td>\n",
       "      <td>0</td>\n",
       "      <td>0</td>\n",
       "      <td>1</td>\n",
       "      <td>1</td>\n",
       "      <td>0</td>\n",
       "      <td>0</td>\n",
       "      <td>0</td>\n",
       "    </tr>\n",
       "    <tr>\n",
       "      <td>Adams.Samuel</td>\n",
       "      <td>0</td>\n",
       "      <td>0</td>\n",
       "      <td>1</td>\n",
       "      <td>1</td>\n",
       "      <td>0</td>\n",
       "      <td>1</td>\n",
       "      <td>1</td>\n",
       "    </tr>\n",
       "    <tr>\n",
       "      <td>Allen.Dr</td>\n",
       "      <td>0</td>\n",
       "      <td>0</td>\n",
       "      <td>1</td>\n",
       "      <td>0</td>\n",
       "      <td>0</td>\n",
       "      <td>0</td>\n",
       "      <td>0</td>\n",
       "    </tr>\n",
       "    <tr>\n",
       "      <td>Appleton.Nathaniel</td>\n",
       "      <td>0</td>\n",
       "      <td>0</td>\n",
       "      <td>1</td>\n",
       "      <td>0</td>\n",
       "      <td>0</td>\n",
       "      <td>1</td>\n",
       "      <td>0</td>\n",
       "    </tr>\n",
       "    <tr>\n",
       "      <td>Ash.Gilbert</td>\n",
       "      <td>1</td>\n",
       "      <td>0</td>\n",
       "      <td>0</td>\n",
       "      <td>0</td>\n",
       "      <td>0</td>\n",
       "      <td>0</td>\n",
       "      <td>0</td>\n",
       "    </tr>\n",
       "  </tbody>\n",
       "</table>\n",
       "</div>"
      ],
      "text/plain": [
       "                    StAndrewsLodge  LoyalNine  NorthCaucus  LongRoomClub  \\\n",
       "Adams.John                       0          0            1             1   \n",
       "Adams.Samuel                     0          0            1             1   \n",
       "Allen.Dr                         0          0            1             0   \n",
       "Appleton.Nathaniel               0          0            1             0   \n",
       "Ash.Gilbert                      1          0            0             0   \n",
       "\n",
       "                    TeaParty  BostonCommittee  LondonEnemies  \n",
       "Adams.John                 0                0              0  \n",
       "Adams.Samuel               0                1              1  \n",
       "Allen.Dr                   0                0              0  \n",
       "Appleton.Nathaniel         0                1              0  \n",
       "Ash.Gilbert                0                0              0  "
      ]
     },
     "execution_count": 8,
     "metadata": {},
     "output_type": "execute_result"
    }
   ],
   "source": [
    "df.head()"
   ]
  },
  {
   "cell_type": "code",
   "execution_count": 9,
   "metadata": {},
   "outputs": [],
   "source": [
    "df_new = pd.DataFrame()\n",
    "i=0\n",
    "for index in df.index:\n",
    "    for column in df.columns:\n",
    "        if df.loc[index, column] == 1:\n",
    "            df_new.loc[i, 'people'] = index\n",
    "            df_new.loc[i, 'club'] = column\n",
    "            i+=1\n",
    "        "
   ]
  },
  {
   "cell_type": "code",
   "execution_count": 10,
   "metadata": {},
   "outputs": [
    {
     "data": {
      "text/html": [
       "<div>\n",
       "<style scoped>\n",
       "    .dataframe tbody tr th:only-of-type {\n",
       "        vertical-align: middle;\n",
       "    }\n",
       "\n",
       "    .dataframe tbody tr th {\n",
       "        vertical-align: top;\n",
       "    }\n",
       "\n",
       "    .dataframe thead th {\n",
       "        text-align: right;\n",
       "    }\n",
       "</style>\n",
       "<table border=\"1\" class=\"dataframe\">\n",
       "  <thead>\n",
       "    <tr style=\"text-align: right;\">\n",
       "      <th></th>\n",
       "      <th>people</th>\n",
       "      <th>club</th>\n",
       "    </tr>\n",
       "  </thead>\n",
       "  <tbody>\n",
       "    <tr>\n",
       "      <td>0</td>\n",
       "      <td>Adams.John</td>\n",
       "      <td>NorthCaucus</td>\n",
       "    </tr>\n",
       "    <tr>\n",
       "      <td>1</td>\n",
       "      <td>Adams.John</td>\n",
       "      <td>LongRoomClub</td>\n",
       "    </tr>\n",
       "    <tr>\n",
       "      <td>2</td>\n",
       "      <td>Adams.Samuel</td>\n",
       "      <td>NorthCaucus</td>\n",
       "    </tr>\n",
       "    <tr>\n",
       "      <td>3</td>\n",
       "      <td>Adams.Samuel</td>\n",
       "      <td>LongRoomClub</td>\n",
       "    </tr>\n",
       "    <tr>\n",
       "      <td>4</td>\n",
       "      <td>Adams.Samuel</td>\n",
       "      <td>BostonCommittee</td>\n",
       "    </tr>\n",
       "    <tr>\n",
       "      <td>...</td>\n",
       "      <td>...</td>\n",
       "      <td>...</td>\n",
       "    </tr>\n",
       "    <tr>\n",
       "      <td>314</td>\n",
       "      <td>Winthrop.John</td>\n",
       "      <td>LondonEnemies</td>\n",
       "    </tr>\n",
       "    <tr>\n",
       "      <td>315</td>\n",
       "      <td>Wyeth.Joshua</td>\n",
       "      <td>TeaParty</td>\n",
       "    </tr>\n",
       "    <tr>\n",
       "      <td>316</td>\n",
       "      <td>Young.Thomas</td>\n",
       "      <td>NorthCaucus</td>\n",
       "    </tr>\n",
       "    <tr>\n",
       "      <td>317</td>\n",
       "      <td>Young.Thomas</td>\n",
       "      <td>TeaParty</td>\n",
       "    </tr>\n",
       "    <tr>\n",
       "      <td>318</td>\n",
       "      <td>Young.Thomas</td>\n",
       "      <td>BostonCommittee</td>\n",
       "    </tr>\n",
       "  </tbody>\n",
       "</table>\n",
       "<p>319 rows × 2 columns</p>\n",
       "</div>"
      ],
      "text/plain": [
       "            people             club\n",
       "0       Adams.John      NorthCaucus\n",
       "1       Adams.John     LongRoomClub\n",
       "2     Adams.Samuel      NorthCaucus\n",
       "3     Adams.Samuel     LongRoomClub\n",
       "4     Adams.Samuel  BostonCommittee\n",
       "..             ...              ...\n",
       "314  Winthrop.John    LondonEnemies\n",
       "315   Wyeth.Joshua         TeaParty\n",
       "316   Young.Thomas      NorthCaucus\n",
       "317   Young.Thomas         TeaParty\n",
       "318   Young.Thomas  BostonCommittee\n",
       "\n",
       "[319 rows x 2 columns]"
      ]
     },
     "execution_count": 10,
     "metadata": {},
     "output_type": "execute_result"
    }
   ],
   "source": [
    "df_new"
   ]
  },
  {
   "cell_type": "code",
   "execution_count": 16,
   "metadata": {},
   "outputs": [],
   "source": [
    "df_new.to_csv('../../data/network/american_revolution.edgelist',\n",
    "              index=False, header = False, sep=' ')"
   ]
  },
  {
   "cell_type": "code",
   "execution_count": 23,
   "metadata": {},
   "outputs": [],
   "source": [
    "G = nx.read_edgelist('../../data/network/american_revolution.edgelist')"
   ]
  },
  {
   "cell_type": "markdown",
   "metadata": {},
   "source": [
    "#### Assigning partition to the graph\n",
    "We will now assign nodes to two different partitions 'people' and 'clubs'. we can see the names of people has a '.' between the Surname and first name and we will this to assign the partition"
   ]
  },
  {
   "cell_type": "code",
   "execution_count": 24,
   "metadata": {},
   "outputs": [],
   "source": [
    "for node in G.nodes():\n",
    "    if '.' in node:\n",
    "        G.node[node]['bipartite'] = 'people'\n",
    "    else:\n",
    "        G.node[node]['bipartite'] = 'clubs'\n",
    "    "
   ]
  },
  {
   "cell_type": "markdown",
   "metadata": {},
   "source": [
    "#### Computing some projections"
   ]
  },
  {
   "cell_type": "markdown",
   "metadata": {},
   "source": [
    "Let's start by getting the people nodes list. we can do this using list comprehension."
   ]
  },
  {
   "cell_type": "code",
   "execution_count": 28,
   "metadata": {},
   "outputs": [],
   "source": [
    "people = [n for n in G.nodes() if G.node[n]['bipartite'] == 'people']"
   ]
  },
  {
   "cell_type": "code",
   "execution_count": 30,
   "metadata": {},
   "outputs": [],
   "source": [
    "# getting all the club names\n",
    "clubs = [n for n in G.nodes() if G.node[n]['bipartite'] == 'clubs']"
   ]
  },
  {
   "cell_type": "code",
   "execution_count": 31,
   "metadata": {},
   "outputs": [
    {
     "data": {
      "text/plain": [
       "['NorthCaucus',\n",
       " 'LongRoomClub',\n",
       " 'BostonCommittee',\n",
       " 'LondonEnemies',\n",
       " 'StAndrewsLodge',\n",
       " 'LoyalNine',\n",
       " 'TeaParty']"
      ]
     },
     "execution_count": 31,
     "metadata": {},
     "output_type": "execute_result"
    }
   ],
   "source": [
    "clubs"
   ]
  },
  {
   "cell_type": "markdown",
   "metadata": {},
   "source": [
    "#### Getting the projection graph"
   ]
  },
  {
   "cell_type": "code",
   "execution_count": 32,
   "metadata": {},
   "outputs": [],
   "source": [
    "peopleG = nx.bipartite.projected_graph(G, people)"
   ]
  },
  {
   "cell_type": "code",
   "execution_count": 35,
   "metadata": {},
   "outputs": [],
   "source": [
    "clubsG = nx.bipartite.projected_graph(G, clubs)"
   ]
  },
  {
   "cell_type": "code",
   "execution_count": 36,
   "metadata": {},
   "outputs": [
    {
     "name": "stderr",
     "output_type": "stream",
     "text": [
      "C:\\Users\\nathd\\Anaconda3\\lib\\site-packages\\networkx\\drawing\\nx_pylab.py:579: MatplotlibDeprecationWarning: \n",
      "The iterable function was deprecated in Matplotlib 3.1 and will be removed in 3.3. Use np.iterable instead.\n",
      "  if not cb.iterable(width):\n"
     ]
    },
    {
     "data": {
      "image/png": "[encoded data removed]",
      "text/plain": [
       "<Figure size 432x288 with 1 Axes>"
      ]
     },
     "metadata": {},
     "output_type": "display_data"
    }
   ],
   "source": [
    "nx.draw_kamada_kawai(clubsG, with_labels=True)"
   ]
  },
  {
   "cell_type": "code",
   "execution_count": 44,
   "metadata": {},
   "outputs": [
    {
     "data": {
      "image/png": "[encoded data removed]",
      "text/plain": [
       "<Figure size 432x288 with 1 Axes>"
      ]
     },
     "metadata": {
      "needs_background": "light"
     },
     "output_type": "display_data"
    }
   ],
   "source": [
    "# Plot the degree centrality distribution of both node partitions from the original graph\n",
    "plt.figure()\n",
    "original_dc = nx.bipartite.degree_centrality(G, people)\n",
    "plt.hist(list(original_dc.values()), alpha=0.5)\n",
    "plt.yscale('log')\n",
    "plt.title('Bipartite degree centrality')\n",
    "plt.show()"
   ]
  },
  {
   "cell_type": "code",
   "execution_count": 38,
   "metadata": {},
   "outputs": [
    {
     "data": {
      "image/png": "[encoded data removed]",
      "text/plain": [
       "<Figure size 432x288 with 1 Axes>"
      ]
     },
     "metadata": {
      "needs_background": "light"
     },
     "output_type": "display_data"
    }
   ],
   "source": [
    "# Plot the degree centrality distribution of the peopleG graph\n",
    "plt.figure()  \n",
    "people_dc = nx.degree_centrality(peopleG)\n",
    "plt.hist(list(people_dc.values()))\n",
    "plt.yscale('log')\n",
    "plt.title('Degree centrality of people partition')\n",
    "plt.show()"
   ]
  },
  {
   "cell_type": "code",
   "execution_count": 41,
   "metadata": {},
   "outputs": [
    {
     "data": {
      "image/png": "[encoded data removed]",
      "text/plain": [
       "<Figure size 432x288 with 1 Axes>"
      ]
     },
     "metadata": {
      "needs_background": "light"
     },
     "output_type": "display_data"
    }
   ],
   "source": [
    "\n",
    "# Plot the degree centrality distribution of the clubsG graph\n",
    "plt.figure() \n",
    "clubs_dc = nx.degree_centrality(clubsG)\n",
    "plt.hist(list(clubs_dc.values()))\n",
    "plt.yscale('log')\n",
    "plt.title('Degree centrality of clubs partition')\n",
    "plt.show()"
   ]
  },
  {
   "cell_type": "markdown",
   "metadata": {},
   "source": [
    "#### Representing Bipartite Graphs as matrices"
   ]
  },
  {
   "cell_type": "markdown",
   "metadata": {},
   "source": [
    "Matrix Representation\n",
    "- Rows: nodes on one partition\n",
    "- Columns: nodes on another partition\n",
    "- Cells: 1 if edge present else 0"
   ]
  },
  {
   "cell_type": "markdown",
   "metadata": {},
   "source": [
    "<p float=\"left\">\n",
    "    <img align=\"left\" src=\"../../images/bipartite_example_projection.png\" width=\"300\" height=\"300\">\n",
    "    <img align=\"middle\" src=\"../../images/matrix_rep_bipartite.png\" width=\"200\" height=\"200\">\n",
    "</p>\n",
    "\n",
    "This matrix also known as the biadjacency matrix (as it is a bipartite graph) can be computed using the method\n",
    "```python\n",
    "networkx.bipartite.biadjacency_matrix(G, row_order, column_order)\n",
    "```\n"
   ]
  },
  {
   "cell_type": "markdown",
   "metadata": {},
   "source": [
    "One can indeed obtain the projection of one of the partitions by doing a matrix muliplication of the matrix representation with its'transpose\n",
    "\n",
    "<img align=\"middle\" src=\"../../images/projection_with_matrix_rep.png\" width=\"800\">"
   ]
  },
  {
   "cell_type": "code",
   "execution_count": 45,
   "metadata": {},
   "outputs": [],
   "source": [
    "# Get nodes from partition function\n",
    "def get_nodes_from_partition(G, partition):\n",
    "    return [n for n, d in G.nodes(data=True) if d['bipartite'] == partition]"
   ]
  },
  {
   "cell_type": "markdown",
   "metadata": {},
   "source": [
    "#### Getting the matrix representation of the projection graphs\n",
    "Using the method mentioned before we can compute the biadjacency matrix of the graph G. We can use this to compute the matrix representation of the projection of the desired partition by multiplying the matrix with it's transpose. If we want to compute the projection of the users then we need to give the row orders as list of users and columns as list of clubs and vice versa in order to get the projection for the clubs. "
   ]
  },
  {
   "cell_type": "markdown",
   "metadata": {},
   "source": [
    "##### Projection of people"
   ]
  },
  {
   "cell_type": "code",
   "execution_count": 62,
   "metadata": {},
   "outputs": [
    {
     "name": "stdout",
     "output_type": "stream",
     "text": [
      "  (0, 250)\t1\n",
      "  (0, 231)\t1\n",
      "  (0, 197)\t1\n",
      "  (0, 180)\t1\n",
      "  (0, 166)\t1\n",
      "  (0, 135)\t1\n",
      "  (0, 101)\t1\n",
      "  (0, 83)\t1\n",
      "  (0, 70)\t1\n",
      "  (0, 67)\t1\n",
      "  (0, 60)\t1\n",
      "  (0, 59)\t1\n",
      "  (0, 253)\t1\n",
      "  (0, 251)\t1\n",
      "  (0, 241)\t1\n",
      "  (0, 235)\t2\n",
      "  (0, 232)\t1\n",
      "  (0, 229)\t1\n",
      "  (0, 227)\t1\n",
      "  (0, 226)\t1\n",
      "  (0, 224)\t1\n",
      "  (0, 223)\t1\n",
      "  (0, 222)\t1\n",
      "  (0, 221)\t1\n",
      "  (0, 209)\t1\n",
      "  :\t:\n",
      "  (253, 104)\t1\n",
      "  (253, 95)\t2\n",
      "  (253, 92)\t2\n",
      "  (253, 77)\t1\n",
      "  (253, 76)\t1\n",
      "  (253, 68)\t2\n",
      "  (253, 58)\t2\n",
      "  (253, 57)\t2\n",
      "  (253, 50)\t2\n",
      "  (253, 49)\t1\n",
      "  (253, 47)\t1\n",
      "  (253, 46)\t2\n",
      "  (253, 45)\t1\n",
      "  (253, 44)\t1\n",
      "  (253, 43)\t1\n",
      "  (253, 38)\t1\n",
      "  (253, 27)\t1\n",
      "  (253, 16)\t1\n",
      "  (253, 13)\t2\n",
      "  (253, 10)\t3\n",
      "  (253, 9)\t1\n",
      "  (253, 3)\t2\n",
      "  (253, 2)\t1\n",
      "  (253, 1)\t2\n",
      "  (253, 0)\t1\n"
     ]
    }
   ],
   "source": [
    "# Get the list of people and list of clubs from the graph: people_nodes, clubs_nodes\n",
    "people_nodes = get_nodes_from_partition(G, 'people')\n",
    "clubs_nodes = get_nodes_from_partition(G, 'clubs')\n",
    "\n",
    "# Compute the biadjacency matrix: bi_matrix\n",
    "bi_matrix = nx.bipartite.biadjacency_matrix(G, row_order=people_nodes, column_order=clubs_nodes)\n",
    "\n",
    "# Compute the user-user projection: user_matrix\n",
    "user_matrix = bi_matrix @ bi_matrix.T\n",
    "\n",
    "print(user_matrix)"
   ]
  },
  {
   "cell_type": "markdown",
   "metadata": {},
   "source": [
    "#### Finding shared memberships\n",
    "\n",
    "From the user matrix that we obtained above we shall now try to find\n",
    "- Users who frequented more than one club\n",
    "- Users who shared clubs\n",
    "However the user matrix is actually a sparse matrix and we need to convert into a regular matrix before being able to use it."
   ]
  },
  {
   "cell_type": "code",
   "execution_count": 63,
   "metadata": {},
   "outputs": [
    {
     "name": "stdout",
     "output_type": "stream",
     "text": [
      "Number of clubs: 5\n",
      "People with the most number of memberships:\n",
      "- Revere.Paul\n",
      "- Warren.Joseph\n"
     ]
    }
   ],
   "source": [
    "# Use the diagonal to find out the users who went frequented the maximum number of clubs\n",
    "diag = user_matrix.diagonal() \n",
    "indices = np.where(diag == diag.max())[0]  \n",
    "print(f'Number of clubs: {diag.max()}')\n",
    "print('People with the most number of memberships:')\n",
    "for i in indices:\n",
    "    print(f'- {people_nodes[i]}')\n"
   ]
  },
  {
   "cell_type": "markdown",
   "metadata": {},
   "source": [
    "Now let us proceed to find customers with most shared clubs"
   ]
  },
  {
   "cell_type": "code",
   "execution_count": 67,
   "metadata": {},
   "outputs": [],
   "source": [
    "# Set the diagonal elements = 0\n",
    "user_matrix.setdiag(0)\n",
    "# convert to coordinate matrix\n",
    "users_coo = user_matrix.tocoo()"
   ]
  },
  {
   "cell_type": "code",
   "execution_count": 69,
   "metadata": {},
   "outputs": [
    {
     "name": "stdout",
     "output_type": "stream",
     "text": [
      "Maximum shared membership: 4\n",
      "People with most number of shared memberships:\n",
      "- Adams.Samuel, Warren.Joseph\n",
      "- Adams.Samuel, Church.Benjamin\n",
      "- Bass.Henry, Chase.Thomas\n",
      "- Chase.Thomas, Bass.Henry\n",
      "- Church.Benjamin, Warren.Joseph\n",
      "- Church.Benjamin, Adams.Samuel\n",
      "- Revere.Paul, Warren.Joseph\n",
      "- Warren.Joseph, Revere.Paul\n",
      "- Warren.Joseph, Church.Benjamin\n",
      "- Warren.Joseph, Adams.Samuel\n"
     ]
    }
   ],
   "source": [
    "# Find pairs of users who shared membership in the most number of clubs\n",
    "indices2 = np.where(users_coo.data == users_coo.data.max())[0]\n",
    "print(f'Maximum shared membership: {users_coo.data.max()}')\n",
    "print('People with most number of shared memberships:')\n",
    "for idx in indices2:\n",
    "    print('- {0}, {1}'.format(people_nodes[users_coo.row[idx]],\n",
    "                              people_nodes[users_coo.col[idx]]))  "
   ]
  },
  {
   "cell_type": "markdown",
   "metadata": {},
   "source": [
    "### Representing network data using pandas"
   ]
  },
  {
   "cell_type": "code",
   "execution_count": null,
   "metadata": {},
   "outputs": [],
   "source": [
    " "
   ]
  }
 ],
 "metadata": {
  "kernelspec": {
   "display_name": "Python 3",
   "language": "python",
   "name": "python3"
  },
  "language_info": {
   "codemirror_mode": {
    "name": "ipython",
    "version": 3
   },
   "file_extension": ".py",
   "mimetype": "text/x-python",
   "name": "python",
   "nbconvert_exporter": "python",
   "pygments_lexer": "ipython3",
   "version": "3.7.4"
  }
 },
 "nbformat": 4,
 "nbformat_minor": 2
}
