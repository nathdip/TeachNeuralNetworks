{
 "cells": [
  {
   "cell_type": "markdown",
   "metadata": {},
   "source": [
    "### Neural Networks"
   ]
  },
  {
   "cell_type": "markdown",
   "metadata": {},
   "source": [
    " - Basically a set of inter-connected nodes or neurons or perceptrons.\n",
    "     - Typically consists of layers of such neurons.\n",
    "     - Each neuron in a given layer is connected to all the neurons of the previous layers through a weight and an activatio function.\n",
    "     - Activation function is used to generate the non-linearity in the model that is to be trained with the data in hand.\n",
    " Let us first consider how a single layer neural network would look like. For our purposes let's consider our input to be a three dimensional vector. For example let's say we are monitoring the Pressure, temperature and humidity at a weather station. the vector is $\\vec{V}=\\left(P, T, H\\right)$. We would also need the label or the output. In this case this can be the chances of rain, $R$.\n",
    "\n",
    "<img src=\"images/linearneuralnetwork.PNG\" width=\"500\" height=\"250\">\n"
   ]
  },
  {
   "cell_type": "markdown",
   "metadata": {},
   "source": [
    "$R'$ is the output of the untrained linear neural net and is given by:\n",
    "\n",
    "\\begin{equation}\n",
    "R'=1\\times w_0+P\\times w_1+T\\times w_2+H\\times w_3\n",
    "\\end{equation}\n",
    "\n",
    "The difference between the output of the untrained model, $R'$ and the actual value $R$, a function of the difference $\\Delta=f\\left(R-R'\\right)$, known as the loss or the cost function is used to optimize the weights $w_i$ using optimization methods such as Gradient Descent. Note that we have a node to denote the offset whose input is always $1$ (weight given by $w_0$). As a rule of thumb, in the final representation and as well counting the number of neurons in each layer the node denoting the offset is mostly omitted. In the above example the neural network has single layer with three neurons. "
   ]
  },
  {
   "cell_type": "markdown",
   "metadata": {},
   "source": [
    "### Training a linear model using a  neural network"
   ]
  },
  {
   "cell_type": "markdown",
   "metadata": {},
   "source": [
    "- We will try to first model a simple linear equation using a single layer neural network.\n",
    "    - $y=3x+5$\n",
    "    - The neural net model would look like $y'= w_0+w_1x$\n",
    "    \n",
    "We will first simulate some of the data:"
   ]
  },
  {
   "cell_type": "code",
   "execution_count": 1,
   "metadata": {},
   "outputs": [],
   "source": [
    "import numpy as np\n",
    "import pandas as pd\n",
    "import matplotlib.pyplot as plt"
   ]
  },
  {
   "cell_type": "code",
   "execution_count": 2,
   "metadata": {},
   "outputs": [],
   "source": [
    "x = np.arange(0, 5, 0.5)"
   ]
  },
  {
   "cell_type": "code",
   "execution_count": 3,
   "metadata": {},
   "outputs": [],
   "source": [
    "y = 3*x+5 #+ .001*np.random.randn(len(x))"
   ]
  },
  {
   "cell_type": "code",
   "execution_count": 4,
   "metadata": {},
   "outputs": [
    {
     "data": {
      "text/plain": [
       "Text(0, 0.5, 'y')"
      ]
     },
     "execution_count": 4,
     "metadata": {},
     "output_type": "execute_result"
    },
    {
     "data": {
      "image/png": "[encoded data removed]",
      "text/plain": [
       "<Figure size 432x288 with 1 Axes>"
      ]
     },
     "metadata": {
      "needs_background": "light"
     },
     "output_type": "display_data"
    }
   ],
   "source": [
    "plt.plot(x, y, 'b*')\n",
    "plt.xlabel('x')\n",
    "plt.ylabel('y')"
   ]
  },
  {
   "cell_type": "code",
   "execution_count": 5,
   "metadata": {},
   "outputs": [],
   "source": [
    "x = np.float32(x.reshape(-1, 1))\n",
    "y = np.float32(y.reshape(-1, 1))"
   ]
  },
  {
   "cell_type": "code",
   "execution_count": 6,
   "metadata": {},
   "outputs": [],
   "source": [
    "#Importing torch\n",
    "import torch\n",
    "import torch.nn as nn\n",
    "from torch.autograd import Variable"
   ]
  },
  {
   "cell_type": "code",
   "execution_count": 7,
   "metadata": {},
   "outputs": [],
   "source": [
    "#Create a class for the training\n",
    "class LinearRegression(nn.Module):\n",
    "    def __init__(self, input_size, output_size):\n",
    "        super().__init__()\n",
    "        self.input_dim = input_size\n",
    "        self.output_dim = output_size\n",
    "        self.linear = nn.Linear(self.input_dim, self.output_dim)\n",
    "    def forward(self, x):\n",
    "        output = self.linear(x)\n",
    "        return output"
   ]
  },
  {
   "cell_type": "code",
   "execution_count": 8,
   "metadata": {},
   "outputs": [],
   "source": [
    "#Instantiate the model\n",
    "input_dim = 1\n",
    "output_dim = 1\n",
    "\n",
    "model = LinearRegression(input_dim, output_dim)"
   ]
  },
  {
   "cell_type": "markdown",
   "metadata": {},
   "source": [
    "What else is required?\n",
    "\n",
    "- A loss function, in order to compare the output of the neural network to the real life value (in our case simulated y)\n",
    "- A simple loss function would be the mean squared error:\n",
    "    - $MSE = \\frac{1}{n}\\Sigma_i\\left(\\hat{y}_i-y_i\\right)^2$\n",
    "        - $\\hat{y}_i$: predicted value\n",
    "        - $y_i$: true value"
   ]
  },
  {
   "cell_type": "code",
   "execution_count": 9,
   "metadata": {},
   "outputs": [],
   "source": [
    "#Define the loss function\n",
    "criterion = nn.MSELoss(reduction='mean')"
   ]
  },
  {
   "cell_type": "markdown",
   "metadata": {},
   "source": [
    "However learning still needs to takes place. The learning takes place by feeding back the loss function to the parameters in such a way that the loss function is minimized. \n",
    "\n",
    "- $\\theta := \\theta - \\eta.\\nabla_{\\theta}$, where \n",
    "    - $\\theta$ represents the parameters, \n",
    "    - $\\eta$ is the learning rate\n",
    "    - $\\nabla_{\\theta}$ is the gradient of the loss function w.r.t. $\\theta$\n",
    "- What are the parameters in this case?\n",
    "    - $\\alpha$ and $\\beta$ in $y=\\alpha x + \\beta$\n",
    "    - After successful learning we should obtain: $\\alpha=3$, $\\beta=5$"
   ]
  },
  {
   "cell_type": "code",
   "execution_count": 10,
   "metadata": {},
   "outputs": [],
   "source": [
    "#Define learning rate\n",
    "lr = 0.1\n",
    "#Define the optimizer\n",
    "optimizer = torch.optim.SGD(model.parameters(), lr=lr)"
   ]
  },
  {
   "cell_type": "markdown",
   "metadata": {},
   "source": [
    "Now it is time to train. A few points before training:\n",
    "\n",
    "- Generally once has to go through the dataset several time in order to properly optimize the weights, we fix the number of 'epochs' initially\n",
    "- Since the inputs will generally be numpy array we have to convert them into torch tensors first.\n",
    "- While going through each epoch, we compute the outputs and obtain the loss.\n",
    "- The loss is then used to compute the gradients which will be used to update the parameters"
   ]
  },
  {
   "cell_type": "code",
   "execution_count": 11,
   "metadata": {},
   "outputs": [],
   "source": [
    "nb_epoch = 100"
   ]
  },
  {
   "cell_type": "code",
   "execution_count": 12,
   "metadata": {
    "scrolled": true
   },
   "outputs": [
    {
     "name": "stdout",
     "output_type": "stream",
     "text": [
      "Epoch 1,  Loss: 188.68670654296875\n",
      "Epoch 2,  Loss: 63.560482025146484\n",
      "Epoch 3,  Loss: 22.36962127685547\n",
      "Epoch 4,  Loss: 8.710518836975098\n",
      "Epoch 5,  Loss: 4.092309474945068\n",
      "Epoch 6,  Loss: 2.4520766735076904\n",
      "Epoch 7,  Loss: 1.8009326457977295\n",
      "Epoch 8,  Loss: 1.4856059551239014\n",
      "Epoch 9,  Loss: 1.2907707691192627\n",
      "Epoch 10,  Loss: 1.1447780132293701\n",
      "Epoch 11,  Loss: 1.0231863260269165\n",
      "Epoch 12,  Loss: 0.917127251625061\n",
      "Epoch 13,  Loss: 0.8229238986968994\n",
      "Epoch 14,  Loss: 0.7386798858642578\n",
      "Epoch 15,  Loss: 0.6631527543067932\n",
      "Epoch 16,  Loss: 0.5953789949417114\n",
      "Epoch 17,  Loss: 0.5345410704612732\n",
      "Epoch 18,  Loss: 0.479922890663147\n",
      "Epoch 19,  Loss: 0.4308871328830719\n",
      "Epoch 20,  Loss: 0.3868613541126251\n",
      "Epoch 21,  Loss: 0.3473344147205353\n",
      "Epoch 22,  Loss: 0.311845988035202\n",
      "Epoch 23,  Loss: 0.27998316287994385\n",
      "Epoch 24,  Loss: 0.25137656927108765\n",
      "Epoch 25,  Loss: 0.22569242119789124\n",
      "Epoch 26,  Loss: 0.20263256132602692\n",
      "Epoch 27,  Loss: 0.181928813457489\n",
      "Epoch 28,  Loss: 0.16334056854248047\n",
      "Epoch 29,  Loss: 0.14665140211582184\n",
      "Epoch 30,  Loss: 0.13166749477386475\n",
      "Epoch 31,  Loss: 0.11821464449167252\n",
      "Epoch 32,  Loss: 0.10613620281219482\n",
      "Epoch 33,  Loss: 0.09529184550046921\n",
      "Epoch 34,  Loss: 0.08555549383163452\n",
      "Epoch 35,  Loss: 0.07681398838758469\n",
      "Epoch 36,  Loss: 0.06896571069955826\n",
      "Epoch 37,  Loss: 0.06191915273666382\n",
      "Epoch 38,  Loss: 0.055592652410268784\n",
      "Epoch 39,  Loss: 0.049912601709365845\n",
      "Epoch 40,  Loss: 0.044812824577093124\n",
      "Epoch 41,  Loss: 0.04023415595293045\n",
      "Epoch 42,  Loss: 0.03612331673502922\n",
      "Epoch 43,  Loss: 0.03243251517415047\n",
      "Epoch 44,  Loss: 0.029118796810507774\n",
      "Epoch 45,  Loss: 0.026143619790673256\n",
      "Epoch 46,  Loss: 0.023472364991903305\n",
      "Epoch 47,  Loss: 0.021074173972010612\n",
      "Epoch 48,  Loss: 0.018920937553048134\n",
      "Epoch 49,  Loss: 0.016987744718790054\n",
      "Epoch 50,  Loss: 0.01525196898728609\n",
      "Epoch 51,  Loss: 0.013693670742213726\n",
      "Epoch 52,  Loss: 0.012294551357626915\n",
      "Epoch 53,  Loss: 0.01103836577385664\n",
      "Epoch 54,  Loss: 0.009910551831126213\n",
      "Epoch 55,  Loss: 0.008897955529391766\n",
      "Epoch 56,  Loss: 0.007988840341567993\n",
      "Epoch 57,  Loss: 0.007172581274062395\n",
      "Epoch 58,  Loss: 0.006439731922000647\n",
      "Epoch 59,  Loss: 0.005781746003776789\n",
      "Epoch 60,  Loss: 0.005191028118133545\n",
      "Epoch 61,  Loss: 0.004660652484744787\n",
      "Epoch 62,  Loss: 0.004184427671134472\n",
      "Epoch 63,  Loss: 0.0037568833213299513\n",
      "Epoch 64,  Loss: 0.0033730342984199524\n",
      "Epoch 65,  Loss: 0.0030284090898931026\n",
      "Epoch 66,  Loss: 0.0027189943939447403\n",
      "Epoch 67,  Loss: 0.0024411820340901613\n",
      "Epoch 68,  Loss: 0.002191746374592185\n",
      "Epoch 69,  Loss: 0.0019678149838000536\n",
      "Epoch 70,  Loss: 0.0017667646752670407\n",
      "Epoch 71,  Loss: 0.0015862685395404696\n",
      "Epoch 72,  Loss: 0.0014241717290133238\n",
      "Epoch 73,  Loss: 0.0012786536244675517\n",
      "Epoch 74,  Loss: 0.0011480184039101005\n",
      "Epoch 75,  Loss: 0.001030723680742085\n",
      "Epoch 76,  Loss: 0.0009254097822122276\n",
      "Epoch 77,  Loss: 0.000830858654808253\n",
      "Epoch 78,  Loss: 0.0007459669723175466\n",
      "Epoch 79,  Loss: 0.0006697414210066199\n",
      "Epoch 80,  Loss: 0.0006013113306835294\n",
      "Epoch 81,  Loss: 0.0005398787325248122\n",
      "Epoch 82,  Loss: 0.0004847196105401963\n",
      "Epoch 83,  Loss: 0.0004351952811703086\n",
      "Epoch 84,  Loss: 0.0003907339705619961\n",
      "Epoch 85,  Loss: 0.0003508063673507422\n",
      "Epoch 86,  Loss: 0.00031496735755354166\n",
      "Epoch 87,  Loss: 0.00028278681566007435\n",
      "Epoch 88,  Loss: 0.0002538986154831946\n",
      "Epoch 89,  Loss: 0.00022795413678977638\n",
      "Epoch 90,  Loss: 0.00020466309797484428\n",
      "Epoch 91,  Loss: 0.0001837519375840202\n",
      "Epoch 92,  Loss: 0.00016497824981343\n",
      "Epoch 93,  Loss: 0.00014812253357376903\n",
      "Epoch 94,  Loss: 0.00013298814883455634\n",
      "Epoch 95,  Loss: 0.00011940029071411118\n",
      "Epoch 96,  Loss: 0.00010720464342739433\n",
      "Epoch 97,  Loss: 9.624796075513586e-05\n",
      "Epoch 98,  Loss: 8.641609747428447e-05\n",
      "Epoch 99,  Loss: 7.758508581900969e-05\n",
      "Epoch 100,  Loss: 6.96591887390241e-05\n"
     ]
    }
   ],
   "source": [
    "epoch=0\n",
    "for epoch in range(nb_epoch):\n",
    "    epoch+=1\n",
    "    #Convert the numpy array to torch tensor\n",
    "    inputs = Variable(torch.from_numpy(x))\n",
    "    labels = Variable(torch.from_numpy(y))\n",
    "    \n",
    "    #Clear the gradients\n",
    "    optimizer.zero_grad()\n",
    "    \n",
    "    #Compute the output using forward pass\n",
    "    outputs = model.forward(inputs)\n",
    "    \n",
    "    #Compute the loss\n",
    "    loss = criterion(outputs, labels)\n",
    "    \n",
    "    #get the Gradient\n",
    "    loss.backward()\n",
    "    \n",
    "    #Update the parameters\n",
    "    optimizer.step()\n",
    "    \n",
    "    print('Epoch {},  Loss: {}'.format(epoch, loss.data))"
   ]
  },
  {
   "cell_type": "code",
   "execution_count": 13,
   "metadata": {},
   "outputs": [
    {
     "data": {
      "text/plain": [
       "[Parameter containing:\n",
       " tensor([[3.0048]], requires_grad=True), Parameter containing:\n",
       " tensor([4.9853], requires_grad=True)]"
      ]
     },
     "execution_count": 13,
     "metadata": {},
     "output_type": "execute_result"
    }
   ],
   "source": [
    "list(model.parameters())"
   ]
  },
  {
   "cell_type": "code",
   "execution_count": 14,
   "metadata": {},
   "outputs": [],
   "source": [
    "with torch.no_grad():\n",
    "    predicted = model.forward(inputs).data.numpy()"
   ]
  },
  {
   "cell_type": "code",
   "execution_count": 15,
   "metadata": {},
   "outputs": [
    {
     "data": {
      "text/plain": [
       "<matplotlib.legend.Legend at 0x1ae903526a0>"
      ]
     },
     "execution_count": 15,
     "metadata": {},
     "output_type": "execute_result"
    },
    {
     "data": {
      "image/png": "[encoded data removed]",
      "text/plain": [
       "<Figure size 432x288 with 1 Axes>"
      ]
     },
     "metadata": {
      "needs_background": "light"
     },
     "output_type": "display_data"
    }
   ],
   "source": [
    "plt.plot(x, y, 'b*', label='True Data', alpha=0.5)\n",
    "plt.plot(x, predicted, 'g--', label = 'predicted data', alpha=0.5)\n",
    "plt.legend(loc='best')"
   ]
  },
  {
   "cell_type": "markdown",
   "metadata": {},
   "source": [
    "### Loss \n",
    "\n",
    "Loss is way to estimate how much the predicted output is different from the actual value (in case of regression) and label (in case of classification). The loss is also often called cost function. \n",
    "\n",
    "In case of regression a common cost function would be the Mean Square Loss. Suppose we define our model as $h_{\\theta}\\left(x\\right)$ then we define the loss function as :\n",
    "\n",
    "\\begin{equation}\n",
    "J\\left(\\theta\\right) = \\sum_{i=1}^{n} \\left(h_{\\theta}\\left(x^i\\right)-y^i\\right)^2\n",
    "\\end{equation}\n",
    "where $x^i$ are the risen incidents.\n",
    "\n"
   ]
  },
  {
   "cell_type": "markdown",
   "metadata": {},
   "source": [
    "### What about non-linearity?\n",
    "\n",
    "The above example was about linear regression and hence a linear model could easily model the sample data. However we want to be able to data that is non-linear as well. Non-linearity is introduced in Neural networks through what are known as activation function. A well known activation function is the Sigmoid function which is given by :\n",
    "\n",
    "\\begin{equation}\n",
    "S(z)=\\frac{1}{1+e^{-z}}=\\frac{e^z}{e^z+1}\n",
    "\\end{equation}\n",
    "\n",
    "If you plot the sigmoid function this is what it looks like:"
   ]
  },
  {
   "cell_type": "markdown",
   "metadata": {},
   "source": [
    "In case of a classification problem, this loss function described above for the problem of regression will not give us much information. Consider the case when we consider the output of a binary classifier. The loss function used in this case is of the form:\n",
    "\n",
    "\\begin{equation}\n",
    "J\\left(\\theta\\right) = \\sum_{i=1}^n\\left[y^ilogh\\left(x^i\\right)+\\left(1-y^i\\right)log\\left(i-h\\left(x^i\\right)\\right)\\right]\n",
    "\\end{equation}\n"
   ]
  },
  {
   "cell_type": "code",
   "execution_count": 16,
   "metadata": {},
   "outputs": [],
   "source": [
    "def sigmoid(x):\n",
    "    return 1/(1+np.exp(-x))"
   ]
  },
  {
   "cell_type": "code",
   "execution_count": 17,
   "metadata": {},
   "outputs": [
    {
     "data": {
      "text/plain": [
       "<matplotlib.collections.LineCollection at 0x1ae903a5940>"
      ]
     },
     "execution_count": 17,
     "metadata": {},
     "output_type": "execute_result"
    },
    {
     "data": {
      "image/png": "[encoded data removed]",
      "text/plain": [
       "<Figure size 432x288 with 1 Axes>"
      ]
     },
     "metadata": {
      "needs_background": "light"
     },
     "output_type": "display_data"
    }
   ],
   "source": [
    "z = np.linspace(-10, 10, num=100 )\n",
    "plt.plot(z, sigmoid(z), 'r-', label='Sigmoid Function')\n",
    "plt.legend(loc='best')\n",
    "plt.xlabel('z')\n",
    "plt.ylabel('S(z)')\n",
    "plt.hlines(y=0.5, xmin=-10, xmax=10)\n",
    "plt.vlines(x=0, ymin=0, ymax=1)"
   ]
  },
  {
   "cell_type": "markdown",
   "metadata": {},
   "source": [
    "#### ReLU activation\n",
    "There are a few other popular activation functions as well. A particularly popular one is the ReLU (Rectified Linear Unit ) activation which looks like:\n",
    "\n",
    "\\begin{equation}\n",
    "R\\left(x\\right) = max(x, 0)\n",
    "\\end{equation}"
   ]
  },
  {
   "cell_type": "code",
   "execution_count": 18,
   "metadata": {},
   "outputs": [],
   "source": [
    "def relu(x):\n",
    "    return max(x,0.0)"
   ]
  },
  {
   "cell_type": "code",
   "execution_count": 19,
   "metadata": {},
   "outputs": [],
   "source": [
    "relu_vec = np.vectorize(relu)"
   ]
  },
  {
   "cell_type": "code",
   "execution_count": 20,
   "metadata": {},
   "outputs": [
    {
     "data": {
      "text/plain": [
       "<matplotlib.collections.LineCollection at 0x1ae90449588>"
      ]
     },
     "execution_count": 20,
     "metadata": {},
     "output_type": "execute_result"
    },
    {
     "data": {
      "image/png": "[encoded data removed]",
      "text/plain": [
       "<Figure size 432x288 with 1 Axes>"
      ]
     },
     "metadata": {
      "needs_background": "light"
     },
     "output_type": "display_data"
    }
   ],
   "source": [
    "z = np.linspace(-10, 10, num=100)\n",
    "plt.plot(z, relu_vec(z), 'r-', label='ReLU Function')\n",
    "plt.legend(loc='best')\n",
    "plt.xlabel('z')\n",
    "plt.ylabel('ReLU(z)')\n",
    "plt.hlines(y=0, xmin=-10, xmax=10)\n",
    "plt.vlines(x=0, ymin=0, ymax=10)"
   ]
  },
  {
   "cell_type": "markdown",
   "metadata": {},
   "source": [
    "In order to enable non-linearity in our models we apply activation function to each node or neuron of a layer.\n",
    "\n",
    "<img src=\"images/linearneuralnetworkplusactivation.PNG\" width=\"500\" height=\"250\">\n",
    "\n",
    "In the above diagram we see the activation function applied to the final layer which has a single neuron in it. In general, activation functions are applied to all the neurons in each layer, with each neuron being applied an activation function. "
   ]
  },
  {
   "cell_type": "markdown",
   "metadata": {},
   "source": [
    "In order to maximize the effectiveness of neural network we need to add more layers of network. This combined with the activation function will allow us to model complex data which has non-trivial relationship between the features and the labels:\n",
    "\n",
    "<img src=\"images/multilayerneuralnet.png\" width=\"500\" height=\"250\">"
   ]
  },
  {
   "cell_type": "markdown",
   "metadata": {},
   "source": [
    "#### Softmax activation\n",
    "The softmax activation function is another highly popular activation function which is usually used in the final layer when doing multiclass-classification using neural networks. Suppose we want to apply softmax to the output of a neural network classfier trying to classify 10 types of images with classes $k=1,2..10$. The output layer would thus have 10 layers. The softmax activated output for the i$^{th}$ neuron of the final layer would be thus given by \n"
   ]
  },
  {
   "cell_type": "markdown",
   "metadata": {},
   "source": [
    "\\begin{equation}\n",
    "P\\left(y=2|x\\right) = \\frac{e^{x^Tw_j}}{\\Sigma_k e^{x^Tw_k}}\n",
    "\\end{equation}"
   ]
  },
  {
   "cell_type": "markdown",
   "metadata": {},
   "source": [
    "#### Backpropagation\n",
    "\n",
    "As we can see that a neural network can very complicated and perform parameter updates (here the weight $w_{ij}$), we will need to compute the gradient at each node. This is known as backpropagation as the error obtained by comparing the output with the actual value using a loss function is then used to compute the gradients of the parameters. "
   ]
  },
  {
   "cell_type": "markdown",
   "metadata": {},
   "source": [
    "#### Basic classfication using Neural Networks\n",
    "\n",
    "Let us try some basic classification using neural networks. For this purposes I will use a very popular dataset, the breast cancer diagnostics dataset origically sourced from the University of Wisconsin."
   ]
  },
  {
   "cell_type": "code",
   "execution_count": 21,
   "metadata": {},
   "outputs": [],
   "source": [
    "from sklearn.datasets import load_breast_cancer"
   ]
  },
  {
   "cell_type": "code",
   "execution_count": 22,
   "metadata": {},
   "outputs": [],
   "source": [
    "data = load_breast_cancer()"
   ]
  },
  {
   "cell_type": "code",
   "execution_count": 23,
   "metadata": {},
   "outputs": [],
   "source": [
    "df = pd.DataFrame(data=data.data, columns=list(data.feature_names))"
   ]
  },
  {
   "cell_type": "code",
   "execution_count": 24,
   "metadata": {},
   "outputs": [
    {
     "data": {
      "text/html": [
       "<div>\n",
       "<style scoped>\n",
       "    .dataframe tbody tr th:only-of-type {\n",
       "        vertical-align: middle;\n",
       "    }\n",
       "\n",
       "    .dataframe tbody tr th {\n",
       "        vertical-align: top;\n",
       "    }\n",
       "\n",
       "    .dataframe thead th {\n",
       "        text-align: right;\n",
       "    }\n",
       "</style>\n",
       "<table border=\"1\" class=\"dataframe\">\n",
       "  <thead>\n",
       "    <tr style=\"text-align: right;\">\n",
       "      <th></th>\n",
       "      <th>mean radius</th>\n",
       "      <th>mean texture</th>\n",
       "      <th>mean perimeter</th>\n",
       "      <th>mean area</th>\n",
       "      <th>mean smoothness</th>\n",
       "      <th>mean compactness</th>\n",
       "      <th>mean concavity</th>\n",
       "      <th>mean concave points</th>\n",
       "      <th>mean symmetry</th>\n",
       "      <th>mean fractal dimension</th>\n",
       "      <th>...</th>\n",
       "      <th>worst radius</th>\n",
       "      <th>worst texture</th>\n",
       "      <th>worst perimeter</th>\n",
       "      <th>worst area</th>\n",
       "      <th>worst smoothness</th>\n",
       "      <th>worst compactness</th>\n",
       "      <th>worst concavity</th>\n",
       "      <th>worst concave points</th>\n",
       "      <th>worst symmetry</th>\n",
       "      <th>worst fractal dimension</th>\n",
       "    </tr>\n",
       "  </thead>\n",
       "  <tbody>\n",
       "    <tr>\n",
       "      <th>0</th>\n",
       "      <td>17.99</td>\n",
       "      <td>10.38</td>\n",
       "      <td>122.80</td>\n",
       "      <td>1001.0</td>\n",
       "      <td>0.11840</td>\n",
       "      <td>0.27760</td>\n",
       "      <td>0.3001</td>\n",
       "      <td>0.14710</td>\n",
       "      <td>0.2419</td>\n",
       "      <td>0.07871</td>\n",
       "      <td>...</td>\n",
       "      <td>25.38</td>\n",
       "      <td>17.33</td>\n",
       "      <td>184.60</td>\n",
       "      <td>2019.0</td>\n",
       "      <td>0.1622</td>\n",
       "      <td>0.6656</td>\n",
       "      <td>0.7119</td>\n",
       "      <td>0.2654</td>\n",
       "      <td>0.4601</td>\n",
       "      <td>0.11890</td>\n",
       "    </tr>\n",
       "    <tr>\n",
       "      <th>1</th>\n",
       "      <td>20.57</td>\n",
       "      <td>17.77</td>\n",
       "      <td>132.90</td>\n",
       "      <td>1326.0</td>\n",
       "      <td>0.08474</td>\n",
       "      <td>0.07864</td>\n",
       "      <td>0.0869</td>\n",
       "      <td>0.07017</td>\n",
       "      <td>0.1812</td>\n",
       "      <td>0.05667</td>\n",
       "      <td>...</td>\n",
       "      <td>24.99</td>\n",
       "      <td>23.41</td>\n",
       "      <td>158.80</td>\n",
       "      <td>1956.0</td>\n",
       "      <td>0.1238</td>\n",
       "      <td>0.1866</td>\n",
       "      <td>0.2416</td>\n",
       "      <td>0.1860</td>\n",
       "      <td>0.2750</td>\n",
       "      <td>0.08902</td>\n",
       "    </tr>\n",
       "    <tr>\n",
       "      <th>2</th>\n",
       "      <td>19.69</td>\n",
       "      <td>21.25</td>\n",
       "      <td>130.00</td>\n",
       "      <td>1203.0</td>\n",
       "      <td>0.10960</td>\n",
       "      <td>0.15990</td>\n",
       "      <td>0.1974</td>\n",
       "      <td>0.12790</td>\n",
       "      <td>0.2069</td>\n",
       "      <td>0.05999</td>\n",
       "      <td>...</td>\n",
       "      <td>23.57</td>\n",
       "      <td>25.53</td>\n",
       "      <td>152.50</td>\n",
       "      <td>1709.0</td>\n",
       "      <td>0.1444</td>\n",
       "      <td>0.4245</td>\n",
       "      <td>0.4504</td>\n",
       "      <td>0.2430</td>\n",
       "      <td>0.3613</td>\n",
       "      <td>0.08758</td>\n",
       "    </tr>\n",
       "    <tr>\n",
       "      <th>3</th>\n",
       "      <td>11.42</td>\n",
       "      <td>20.38</td>\n",
       "      <td>77.58</td>\n",
       "      <td>386.1</td>\n",
       "      <td>0.14250</td>\n",
       "      <td>0.28390</td>\n",
       "      <td>0.2414</td>\n",
       "      <td>0.10520</td>\n",
       "      <td>0.2597</td>\n",
       "      <td>0.09744</td>\n",
       "      <td>...</td>\n",
       "      <td>14.91</td>\n",
       "      <td>26.50</td>\n",
       "      <td>98.87</td>\n",
       "      <td>567.7</td>\n",
       "      <td>0.2098</td>\n",
       "      <td>0.8663</td>\n",
       "      <td>0.6869</td>\n",
       "      <td>0.2575</td>\n",
       "      <td>0.6638</td>\n",
       "      <td>0.17300</td>\n",
       "    </tr>\n",
       "    <tr>\n",
       "      <th>4</th>\n",
       "      <td>20.29</td>\n",
       "      <td>14.34</td>\n",
       "      <td>135.10</td>\n",
       "      <td>1297.0</td>\n",
       "      <td>0.10030</td>\n",
       "      <td>0.13280</td>\n",
       "      <td>0.1980</td>\n",
       "      <td>0.10430</td>\n",
       "      <td>0.1809</td>\n",
       "      <td>0.05883</td>\n",
       "      <td>...</td>\n",
       "      <td>22.54</td>\n",
       "      <td>16.67</td>\n",
       "      <td>152.20</td>\n",
       "      <td>1575.0</td>\n",
       "      <td>0.1374</td>\n",
       "      <td>0.2050</td>\n",
       "      <td>0.4000</td>\n",
       "      <td>0.1625</td>\n",
       "      <td>0.2364</td>\n",
       "      <td>0.07678</td>\n",
       "    </tr>\n",
       "  </tbody>\n",
       "</table>\n",
       "<p>5 rows × 30 columns</p>\n",
       "</div>"
      ],
      "text/plain": [
       "   mean radius  mean texture  mean perimeter  mean area  mean smoothness  \\\n",
       "0        17.99         10.38          122.80     1001.0          0.11840   \n",
       "1        20.57         17.77          132.90     1326.0          0.08474   \n",
       "2        19.69         21.25          130.00     1203.0          0.10960   \n",
       "3        11.42         20.38           77.58      386.1          0.14250   \n",
       "4        20.29         14.34          135.10     1297.0          0.10030   \n",
       "\n",
       "   mean compactness  mean concavity  mean concave points  mean symmetry  \\\n",
       "0           0.27760          0.3001              0.14710         0.2419   \n",
       "1           0.07864          0.0869              0.07017         0.1812   \n",
       "2           0.15990          0.1974              0.12790         0.2069   \n",
       "3           0.28390          0.2414              0.10520         0.2597   \n",
       "4           0.13280          0.1980              0.10430         0.1809   \n",
       "\n",
       "   mean fractal dimension  ...  worst radius  worst texture  worst perimeter  \\\n",
       "0                 0.07871  ...         25.38          17.33           184.60   \n",
       "1                 0.05667  ...         24.99          23.41           158.80   \n",
       "2                 0.05999  ...         23.57          25.53           152.50   \n",
       "3                 0.09744  ...         14.91          26.50            98.87   \n",
       "4                 0.05883  ...         22.54          16.67           152.20   \n",
       "\n",
       "   worst area  worst smoothness  worst compactness  worst concavity  \\\n",
       "0      2019.0            0.1622             0.6656           0.7119   \n",
       "1      1956.0            0.1238             0.1866           0.2416   \n",
       "2      1709.0            0.1444             0.4245           0.4504   \n",
       "3       567.7            0.2098             0.8663           0.6869   \n",
       "4      1575.0            0.1374             0.2050           0.4000   \n",
       "\n",
       "   worst concave points  worst symmetry  worst fractal dimension  \n",
       "0                0.2654          0.4601                  0.11890  \n",
       "1                0.1860          0.2750                  0.08902  \n",
       "2                0.2430          0.3613                  0.08758  \n",
       "3                0.2575          0.6638                  0.17300  \n",
       "4                0.1625          0.2364                  0.07678  \n",
       "\n",
       "[5 rows x 30 columns]"
      ]
     },
     "execution_count": 24,
     "metadata": {},
     "output_type": "execute_result"
    }
   ],
   "source": [
    "df.head()"
   ]
  },
  {
   "cell_type": "markdown",
   "metadata": {},
   "source": [
    "Before we start modeling, we need to split the data into training and test sets in order to have an independent verification of our model. This functionality available in the sklearn package."
   ]
  },
  {
   "cell_type": "code",
   "execution_count": 25,
   "metadata": {},
   "outputs": [],
   "source": [
    "X = np.float32(data.data)\n",
    "y = np.float32(data.target).reshape(-1, 1)\n",
    "from sklearn.model_selection import train_test_split\n",
    "X_train, X_test, y_train, y_test = train_test_split(X, y, test_size=0.2, random_state=42)"
   ]
  },
  {
   "cell_type": "code",
   "execution_count": 26,
   "metadata": {},
   "outputs": [
    {
     "data": {
      "text/plain": [
       "(569, 1)"
      ]
     },
     "execution_count": 26,
     "metadata": {},
     "output_type": "execute_result"
    }
   ],
   "source": [
    "y.shape"
   ]
  },
  {
   "cell_type": "code",
   "execution_count": 27,
   "metadata": {},
   "outputs": [],
   "source": [
    "import torch.nn.functional as F"
   ]
  },
  {
   "cell_type": "code",
   "execution_count": 29,
   "metadata": {},
   "outputs": [],
   "source": [
    "#Create a class for the training\n",
    "class Classification(nn.Module):\n",
    "    def __init__(self):\n",
    "        \"\"\"\n",
    "        Artificial Deep Neural Net:\n",
    "        Input Layer : 30 , as there are 30 features\n",
    "        Hidden Layer 1: 60\n",
    "        Hidden Layer 2: 120\n",
    "        Hidden Layer 3: 60\n",
    "        Hidden Layer 4: 10\n",
    "        Output Layer : 1, since the output is either 0 or 1\n",
    "        \"\"\"\n",
    "        super().__init__()\n",
    "        self.linear1 = nn.Linear(30, 60)\n",
    "        self.dropout1 = nn.Dropout(p=0.1)\n",
    "        self.linear2 = nn.Linear(60, 120)\n",
    "        self.dropout2 = nn.Dropout(p=0.1)\n",
    "        self.linear3 = nn.Linear(120, 60)\n",
    "        self.dropout3 = nn.Dropout(p=0.1)\n",
    "        self.linear4 = nn.Linear(60, 10)\n",
    "        self.dropout4 = nn.Dropout(p=0.1)\n",
    "        self.linear5 = nn.Linear(10, 1)\n",
    "    def forward(self, x):\n",
    "        output = F.relu(self.linear1(x))\n",
    "        output = self.dropout1(output)\n",
    "        output = F.relu(self.linear2(output))\n",
    "        output = self.dropout2(output)\n",
    "        output = F.relu(self.linear3(output))\n",
    "        output = self.dropout3(output)\n",
    "        output = F.relu(self.linear4(output))\n",
    "        output = self.dropout4(output)\n",
    "        output = torch.sigmoid(self.linear5(output))\n",
    "        return output"
   ]
  },
  {
   "cell_type": "code",
   "execution_count": 30,
   "metadata": {},
   "outputs": [],
   "source": [
    "#Initializing the model\n",
    "model = Classification()\n",
    "#Setting the loss \n",
    "criterion = nn.BCELoss()\n",
    "#Define learning rate\n",
    "lr = 0.001\n",
    "#Define the optimizer\n",
    "optimizer = torch.optim.Adam(model.parameters(), lr=lr)"
   ]
  },
  {
   "cell_type": "code",
   "execution_count": 31,
   "metadata": {},
   "outputs": [
    {
     "name": "stdout",
     "output_type": "stream",
     "text": [
      "Epoch 1,  ROC_AUC: 0.4701452393760086, Accuracy: 0.3868131868131868\n",
      "Epoch 2,  ROC_AUC: 0.7366450117929408, Accuracy: 0.3868131868131868\n",
      "Epoch 3,  ROC_AUC: 0.7616584598833119, Accuracy: 0.3758241758241758\n",
      "Epoch 4,  ROC_AUC: 0.7463690155997849, Accuracy: 0.3758241758241758\n",
      "Epoch 5,  ROC_AUC: 0.6887904994413869, Accuracy: 0.41318681318681316\n",
      "Epoch 6,  ROC_AUC: 0.6024330698886913, Accuracy: 0.4065934065934066\n",
      "Epoch 7,  ROC_AUC: 0.5176066537013282, Accuracy: 0.43736263736263736\n",
      "Epoch 8,  ROC_AUC: 0.42874581040261517, Accuracy: 0.4461538461538462\n",
      "Epoch 9,  ROC_AUC: 0.4312699135184342, Accuracy: 0.46813186813186813\n",
      "Epoch 10,  ROC_AUC: 0.46983489882898166, Accuracy: 0.4461538461538462\n",
      "Epoch 11,  ROC_AUC: 0.5691438738776017, Accuracy: 0.4461538461538462\n",
      "Epoch 12,  ROC_AUC: 0.5908573674845865, Accuracy: 0.4021978021978022\n",
      "Epoch 13,  ROC_AUC: 0.6771320395580751, Accuracy: 0.41098901098901097\n",
      "Epoch 14,  ROC_AUC: 0.6873629329250631, Accuracy: 0.3824175824175824\n",
      "Epoch 15,  ROC_AUC: 0.6405532337484999, Accuracy: 0.37142857142857144\n",
      "Epoch 16,  ROC_AUC: 0.6689493938014649, Accuracy: 0.38461538461538464\n",
      "Epoch 17,  ROC_AUC: 0.6880456821285224, Accuracy: 0.3912087912087912\n",
      "Epoch 18,  ROC_AUC: 0.658501262051558, Accuracy: 0.3934065934065934\n",
      "Epoch 19,  ROC_AUC: 0.6336326395497993, Accuracy: 0.4065934065934066\n",
      "Epoch 20,  ROC_AUC: 0.6408532296106261, Accuracy: 0.4175824175824176\n",
      "Epoch 21,  ROC_AUC: 0.6187362932925062, Accuracy: 0.4175824175824176\n",
      "Epoch 22,  ROC_AUC: 0.646625563785327, Accuracy: 0.45274725274725275\n",
      "Epoch 23,  ROC_AUC: 0.6407911615012206, Accuracy: 0.4703296703296703\n",
      "Epoch 24,  ROC_AUC: 0.6673252782720239, Accuracy: 0.48131868131868133\n",
      "Epoch 25,  ROC_AUC: 0.678652708238507, Accuracy: 0.5208791208791209\n",
      "Epoch 26,  ROC_AUC: 0.6477841684942278, Accuracy: 0.5252747252747253\n",
      "Epoch 27,  ROC_AUC: 0.7075350684818141, Accuracy: 0.5560439560439561\n",
      "Epoch 28,  ROC_AUC: 0.7418794223527952, Accuracy: 0.5472527472527473\n",
      "Epoch 29,  ROC_AUC: 0.7754168908015062, Accuracy: 0.5406593406593406\n",
      "Epoch 30,  ROC_AUC: 0.773410021930732, Accuracy: 0.4989010989010989\n",
      "Epoch 31,  ROC_AUC: 0.8343609053668225, Accuracy: 0.578021978021978\n",
      "Epoch 32,  ROC_AUC: 0.8164542558033683, Accuracy: 0.5472527472527473\n",
      "Epoch 33,  ROC_AUC: 0.7733479538213266, Accuracy: 0.5802197802197803\n",
      "Epoch 34,  ROC_AUC: 0.7936442255968883, Accuracy: 0.6461538461538462\n",
      "Epoch 35,  ROC_AUC: 0.7696859353664088, Accuracy: 0.6681318681318681\n",
      "Epoch 36,  ROC_AUC: 0.7721272810030206, Accuracy: 0.6967032967032967\n",
      "Epoch 37,  ROC_AUC: 0.74343112508793, Accuracy: 0.6703296703296703\n",
      "Epoch 38,  ROC_AUC: 0.7918235610543303, Accuracy: 0.6901098901098901\n",
      "Epoch 39,  ROC_AUC: 0.7889787727065833, Accuracy: 0.643956043956044\n",
      "Epoch 40,  ROC_AUC: 0.839895311788803, Accuracy: 0.6901098901098901\n",
      "Epoch 41,  ROC_AUC: 0.8333988496710389, Accuracy: 0.6263736263736264\n",
      "Epoch 42,  ROC_AUC: 0.832581619563868, Accuracy: 0.6615384615384615\n",
      "Epoch 43,  ROC_AUC: 0.8484917449414491, Accuracy: 0.734065934065934\n",
      "Epoch 44,  ROC_AUC: 0.8357884718831464, Accuracy: 0.7428571428571429\n",
      "Epoch 45,  ROC_AUC: 0.8052923407952994, Accuracy: 0.7252747252747253\n",
      "Epoch 46,  ROC_AUC: 0.8551744113874291, Accuracy: 0.7384615384615385\n",
      "Epoch 47,  ROC_AUC: 0.8624053461331569, Accuracy: 0.7274725274725274\n",
      "Epoch 48,  ROC_AUC: 0.8649604833036786, Accuracy: 0.7164835164835165\n",
      "Epoch 49,  ROC_AUC: 0.8485124343112509, Accuracy: 0.7032967032967034\n",
      "Epoch 50,  ROC_AUC: 0.8567881822319693, Accuracy: 0.7076923076923077\n",
      "Epoch 51,  ROC_AUC: 0.8773016923904497, Accuracy: 0.7516483516483516\n",
      "Epoch 52,  ROC_AUC: 0.873743120784541, Accuracy: 0.7626373626373626\n",
      "Epoch 53,  ROC_AUC: 0.8624984482972649, Accuracy: 0.7648351648351648\n",
      "Epoch 54,  ROC_AUC: 0.8659742624239666, Accuracy: 0.7714285714285715\n",
      "Epoch 55,  ROC_AUC: 0.8869946621425912, Accuracy: 0.778021978021978\n",
      "Epoch 56,  ROC_AUC: 0.8902325485165721, Accuracy: 0.7626373626373626\n",
      "Epoch 57,  ROC_AUC: 0.8989013944635247, Accuracy: 0.7956043956043956\n",
      "Epoch 58,  ROC_AUC: 0.8842429759589523, Accuracy: 0.7846153846153846\n",
      "Epoch 59,  ROC_AUC: 0.8977841684942276, Accuracy: 0.7912087912087912\n",
      "Epoch 60,  ROC_AUC: 0.9114391525634128, Accuracy: 0.7802197802197802\n",
      "Epoch 61,  ROC_AUC: 0.8901601357222659, Accuracy: 0.7912087912087912\n",
      "Epoch 62,  ROC_AUC: 0.9075598957255762, Accuracy: 0.810989010989011\n",
      "Epoch 63,  ROC_AUC: 0.8819050771713492, Accuracy: 0.7736263736263737\n",
      "Epoch 64,  ROC_AUC: 0.8953738569123184, Accuracy: 0.7824175824175824\n",
      "Epoch 65,  ROC_AUC: 0.9193838705673025, Accuracy: 0.789010989010989\n",
      "Epoch 66,  ROC_AUC: 0.9030909918483883, Accuracy: 0.8087912087912088\n",
      "Epoch 67,  ROC_AUC: 0.9111805354408904, Accuracy: 0.8505494505494505\n",
      "Epoch 68,  ROC_AUC: 0.8751189638763603, Accuracy: 0.8\n",
      "Epoch 69,  ROC_AUC: 0.9127322381760251, Accuracy: 0.8285714285714286\n",
      "Epoch 70,  ROC_AUC: 0.9031530599577937, Accuracy: 0.8043956043956044\n",
      "Epoch 71,  ROC_AUC: 0.9152977200314478, Accuracy: 0.8065934065934066\n",
      "Epoch 72,  ROC_AUC: 0.9219390077378242, Accuracy: 0.8197802197802198\n",
      "Epoch 73,  ROC_AUC: 0.9296354533040923, Accuracy: 0.8483516483516483\n",
      "Epoch 74,  ROC_AUC: 0.9258906773699672, Accuracy: 0.8593406593406593\n",
      "Epoch 75,  ROC_AUC: 0.9212355691645633, Accuracy: 0.8791208791208791\n",
      "Epoch 76,  ROC_AUC: 0.9221459014358422, Accuracy: 0.8813186813186813\n",
      "Epoch 77,  ROC_AUC: 0.9136632598171059, Accuracy: 0.832967032967033\n",
      "Epoch 78,  ROC_AUC: 0.9318699052426863, Accuracy: 0.832967032967033\n",
      "Epoch 79,  ROC_AUC: 0.9256941283568503, Accuracy: 0.832967032967033\n",
      "Epoch 80,  ROC_AUC: 0.9390491165639094, Accuracy: 0.8527472527472527\n",
      "Epoch 81,  ROC_AUC: 0.9289113253610295, Accuracy: 0.8615384615384616\n",
      "Epoch 82,  ROC_AUC: 0.9335250548268299, Accuracy: 0.8703296703296703\n",
      "Epoch 83,  ROC_AUC: 0.9331319568005959, Accuracy: 0.8725274725274725\n",
      "Epoch 84,  ROC_AUC: 0.9331733355401994, Accuracy: 0.8857142857142857\n",
      "Epoch 85,  ROC_AUC: 0.9237182935407787, Accuracy: 0.8747252747252747\n",
      "Epoch 86,  ROC_AUC: 0.9363594984896761, Accuracy: 0.8703296703296703\n",
      "Epoch 87,  ROC_AUC: 0.9377663756361981, Accuracy: 0.8637362637362638\n",
      "Epoch 88,  ROC_AUC: 0.9293664914966691, Accuracy: 0.8593406593406593\n",
      "Epoch 89,  ROC_AUC: 0.917097695204204, Accuracy: 0.8593406593406593\n",
      "Epoch 90,  ROC_AUC: 0.9515248065543923, Accuracy: 0.8879120879120879\n",
      "Epoch 91,  ROC_AUC: 0.9396491082881615, Accuracy: 0.8769230769230769\n",
      "Epoch 92,  ROC_AUC: 0.933318161128812, Accuracy: 0.865934065934066\n",
      "Epoch 93,  ROC_AUC: 0.9358215748748293, Accuracy: 0.8615384615384616\n",
      "Epoch 94,  ROC_AUC: 0.9311664666694253, Accuracy: 0.8417582417582418\n",
      "Epoch 95,  ROC_AUC: 0.9371353498572433, Accuracy: 0.8637362637362638\n",
      "Epoch 96,  ROC_AUC: 0.9415939090495303, Accuracy: 0.8879120879120879\n",
      "Epoch 97,  ROC_AUC: 0.9457938511192949, Accuracy: 0.8835164835164835\n",
      "Epoch 98,  ROC_AUC: 0.9451111019158356, Accuracy: 0.8923076923076924\n",
      "Epoch 99,  ROC_AUC: 0.9454731658873671, Accuracy: 0.8835164835164835\n",
      "Epoch 100,  ROC_AUC: 0.9320354202011006, Accuracy: 0.8725274725274725\n",
      "Epoch 101,  ROC_AUC: 0.9307319899035876, Accuracy: 0.8835164835164835\n",
      "Epoch 102,  ROC_AUC: 0.9422559688831879, Accuracy: 0.8725274725274725\n",
      "Epoch 103,  ROC_AUC: 0.9443455952331692, Accuracy: 0.8769230769230769\n",
      "Epoch 104,  ROC_AUC: 0.934725038275334, Accuracy: 0.8747252747252747\n",
      "Epoch 105,  ROC_AUC: 0.9349112426035503, Accuracy: 0.8593406593406593\n",
      "Epoch 106,  ROC_AUC: 0.9452352381346465, Accuracy: 0.8791208791208791\n",
      "Epoch 107,  ROC_AUC: 0.9479869243182852, Accuracy: 0.9032967032967033\n",
      "Epoch 108,  ROC_AUC: 0.9397525551371705, Accuracy: 0.8857142857142857\n",
      "Epoch 109,  ROC_AUC: 0.9318699052426863, Accuracy: 0.8813186813186813\n",
      "Epoch 110,  ROC_AUC: 0.9445731783009889, Accuracy: 0.8835164835164835\n",
      "Epoch 111,  ROC_AUC: 0.9433111267430794, Accuracy: 0.8835164835164835\n",
      "Epoch 112,  ROC_AUC: 0.9441180121653494, Accuracy: 0.8637362637362638\n",
      "Epoch 113,  ROC_AUC: 0.9509868829395456, Accuracy: 0.8879120879120879\n",
      "Epoch 114,  ROC_AUC: 0.9472421070054207, Accuracy: 0.8835164835164835\n",
      "Epoch 115,  ROC_AUC: 0.9357388173956221, Accuracy: 0.8879120879120879\n",
      "Epoch 116,  ROC_AUC: 0.938283609881243, Accuracy: 0.9010989010989011\n",
      "Epoch 117,  ROC_AUC: 0.946600736541565, Accuracy: 0.8945054945054945\n",
      "Epoch 118,  ROC_AUC: 0.9493420780403028, Accuracy: 0.8857142857142857\n",
      "Epoch 119,  ROC_AUC: 0.9451111019158356, Accuracy: 0.8747252747252747\n"
     ]
    },
    {
     "name": "stdout",
     "output_type": "stream",
     "text": [
      "Epoch 120,  ROC_AUC: 0.9607315761161914, Accuracy: 0.8857142857142857\n",
      "Epoch 121,  ROC_AUC: 0.9518558364712211, Accuracy: 0.8879120879120879\n",
      "Epoch 122,  ROC_AUC: 0.9607936442255969, Accuracy: 0.9164835164835164\n",
      "Epoch 123,  ROC_AUC: 0.944055944055944, Accuracy: 0.8945054945054945\n",
      "Epoch 124,  ROC_AUC: 0.9398766913559813, Accuracy: 0.8945054945054945\n",
      "Epoch 125,  ROC_AUC: 0.9436007779203046, Accuracy: 0.8945054945054945\n",
      "Epoch 126,  ROC_AUC: 0.9434766417014938, Accuracy: 0.8681318681318682\n",
      "Epoch 127,  ROC_AUC: 0.9553419952828237, Accuracy: 0.8813186813186813\n",
      "Epoch 128,  ROC_AUC: 0.9591384946414532, Accuracy: 0.8923076923076924\n",
      "Epoch 129,  ROC_AUC: 0.9593040095998675, Accuracy: 0.9098901098901099\n",
      "Epoch 130,  ROC_AUC: 0.9305457855753715, Accuracy: 0.8879120879120879\n",
      "Epoch 131,  ROC_AUC: 0.9435387098108992, Accuracy: 0.8923076923076924\n",
      "Epoch 132,  ROC_AUC: 0.9582074730003725, Accuracy: 0.8923076923076924\n",
      "Epoch 133,  ROC_AUC: 0.9522282451276534, Accuracy: 0.8967032967032967\n",
      "Epoch 134,  ROC_AUC: 0.9534696073157611, Accuracy: 0.9054945054945055\n",
      "Epoch 135,  ROC_AUC: 0.9496110398477262, Accuracy: 0.8989010989010989\n",
      "Epoch 136,  ROC_AUC: 0.9516903215128067, Accuracy: 0.8945054945054945\n",
      "Epoch 137,  ROC_AUC: 0.9537592584929863, Accuracy: 0.9120879120879121\n",
      "Epoch 138,  ROC_AUC: 0.9544213183266438, Accuracy: 0.8923076923076924\n",
      "Epoch 139,  ROC_AUC: 0.953283402987545, Accuracy: 0.9010989010989011\n",
      "Epoch 140,  ROC_AUC: 0.9527247900028964, Accuracy: 0.8945054945054945\n",
      "Epoch 141,  ROC_AUC: 0.9502834443662846, Accuracy: 0.8967032967032967\n",
      "Epoch 142,  ROC_AUC: 0.950738610501924, Accuracy: 0.8945054945054945\n",
      "Epoch 143,  ROC_AUC: 0.9505524061737081, Accuracy: 0.9054945054945055\n",
      "Epoch 144,  ROC_AUC: 0.9575661025365168, Accuracy: 0.9010989010989011\n",
      "Epoch 145,  ROC_AUC: 0.9540075309306078, Accuracy: 0.8967032967032967\n",
      "Epoch 146,  ROC_AUC: 0.9563040509786072, Accuracy: 0.9076923076923077\n",
      "Epoch 147,  ROC_AUC: 0.9580005793023545, Accuracy: 0.9120879120879121\n",
      "Epoch 148,  ROC_AUC: 0.9607936442255969, Accuracy: 0.8967032967032967\n",
      "Epoch 149,  ROC_AUC: 0.9577936856043365, Accuracy: 0.8857142857142857\n",
      "Epoch 150,  ROC_AUC: 0.9626763768775602, Accuracy: 0.8967032967032967\n",
      "Epoch 151,  ROC_AUC: 0.9397215210824679, Accuracy: 0.8945054945054945\n",
      "Epoch 152,  ROC_AUC: 0.9511937766375635, Accuracy: 0.8857142857142857\n",
      "Epoch 153,  ROC_AUC: 0.9585178135473994, Accuracy: 0.9164835164835164\n",
      "Epoch 154,  ROC_AUC: 0.9659659866760457, Accuracy: 0.9186813186813186\n",
      "Epoch 155,  ROC_AUC: 0.9601108950221375, Accuracy: 0.9032967032967033\n",
      "Epoch 156,  ROC_AUC: 0.9577316174949311, Accuracy: 0.9032967032967033\n",
      "Epoch 157,  ROC_AUC: 0.9570488682914718, Accuracy: 0.8901098901098901\n",
      "Epoch 158,  ROC_AUC: 0.9648901394463525, Accuracy: 0.8857142857142857\n",
      "Epoch 159,  ROC_AUC: 0.9543075267927339, Accuracy: 0.9054945054945055\n",
      "Epoch 160,  ROC_AUC: 0.9568005958538502, Accuracy: 0.9098901098901099\n",
      "Epoch 161,  ROC_AUC: 0.954504075805851, Accuracy: 0.9032967032967033\n",
      "Epoch 162,  ROC_AUC: 0.9672073488641536, Accuracy: 0.9164835164835164\n",
      "Epoch 163,  ROC_AUC: 0.9536144329043738, Accuracy: 0.8923076923076924\n",
      "Epoch 164,  ROC_AUC: 0.9560350891711838, Accuracy: 0.8923076923076924\n",
      "Epoch 165,  ROC_AUC: 0.9637729134770555, Accuracy: 0.8879120879120879\n",
      "Epoch 166,  ROC_AUC: 0.9671245913849464, Accuracy: 0.8923076923076924\n",
      "Epoch 167,  ROC_AUC: 0.9550626887904994, Accuracy: 0.9032967032967033\n",
      "Epoch 168,  ROC_AUC: 0.954297182107833, Accuracy: 0.9032967032967033\n",
      "Epoch 169,  ROC_AUC: 0.9530971986593287, Accuracy: 0.9098901098901099\n",
      "Epoch 170,  ROC_AUC: 0.9665866677700996, Accuracy: 0.9054945054945055\n",
      "Epoch 171,  ROC_AUC: 0.9640418752844788, Accuracy: 0.8945054945054945\n",
      "Epoch 172,  ROC_AUC: 0.9656970248686225, Accuracy: 0.9010989010989011\n",
      "Epoch 173,  ROC_AUC: 0.9631522323830016, Accuracy: 0.9054945054945055\n",
      "Epoch 174,  ROC_AUC: 0.9586833285058136, Accuracy: 0.9164835164835164\n",
      "Epoch 175,  ROC_AUC: 0.9620143170439028, Accuracy: 0.8989010989010989\n",
      "Epoch 176,  ROC_AUC: 0.9655935780196135, Accuracy: 0.9120879120879121\n",
      "Epoch 177,  ROC_AUC: 0.9641660115032896, Accuracy: 0.9098901098901099\n",
      "Epoch 178,  ROC_AUC: 0.9547523482434724, Accuracy: 0.8967032967032967\n",
      "Epoch 179,  ROC_AUC: 0.9653453055819919, Accuracy: 0.9032967032967033\n",
      "Epoch 180,  ROC_AUC: 0.9655108205404064, Accuracy: 0.8989010989010989\n",
      "Epoch 181,  ROC_AUC: 0.9599040013241197, Accuracy: 0.9054945054945055\n",
      "Epoch 182,  ROC_AUC: 0.9638970496958662, Accuracy: 0.9120879120879121\n",
      "Epoch 183,  ROC_AUC: 0.9628832705755783, Accuracy: 0.9164835164835164\n",
      "Epoch 184,  ROC_AUC: 0.9628625812057765, Accuracy: 0.9142857142857143\n",
      "Epoch 185,  ROC_AUC: 0.9629660280547854, Accuracy: 0.9076923076923077\n",
      "Epoch 186,  ROC_AUC: 0.959366077709273, Accuracy: 0.9142857142857143\n",
      "Epoch 187,  ROC_AUC: 0.9556626805147516, Accuracy: 0.9032967032967033\n",
      "Epoch 188,  ROC_AUC: 0.9577109281251293, Accuracy: 0.8967032967032967\n",
      "Epoch 189,  ROC_AUC: 0.9637315347374519, Accuracy: 0.8989010989010989\n",
      "Epoch 190,  ROC_AUC: 0.9687176728596847, Accuracy: 0.9230769230769231\n",
      "Epoch 191,  ROC_AUC: 0.966048744155253, Accuracy: 0.9076923076923077\n",
      "Epoch 192,  ROC_AUC: 0.9624074150701369, Accuracy: 0.9010989010989011\n",
      "Epoch 193,  ROC_AUC: 0.961807423345885, Accuracy: 0.9098901098901099\n",
      "Epoch 194,  ROC_AUC: 0.9555385442959408, Accuracy: 0.9010989010989011\n",
      "Epoch 195,  ROC_AUC: 0.9607936442255969, Accuracy: 0.9098901098901099\n",
      "Epoch 196,  ROC_AUC: 0.9626970662473622, Accuracy: 0.8945054945054945\n",
      "Epoch 197,  ROC_AUC: 0.9540695990400132, Accuracy: 0.9098901098901099\n",
      "Epoch 198,  ROC_AUC: 0.9648901394463525, Accuracy: 0.9098901098901099\n",
      "Epoch 199,  ROC_AUC: 0.9597384863657052, Accuracy: 0.9054945054945055\n",
      "Epoch 200,  ROC_AUC: 0.962800513096371, Accuracy: 0.9032967032967033\n",
      "Epoch 201,  ROC_AUC: 0.9644763520503166, Accuracy: 0.8967032967032967\n",
      "Epoch 202,  ROC_AUC: 0.9610005379236148, Accuracy: 0.9010989010989011\n",
      "Epoch 203,  ROC_AUC: 0.9662970165928746, Accuracy: 0.9120879120879121\n",
      "Epoch 204,  ROC_AUC: 0.9633177473414161, Accuracy: 0.9186813186813186\n",
      "Epoch 205,  ROC_AUC: 0.9612694997310381, Accuracy: 0.9010989010989011\n",
      "Epoch 206,  ROC_AUC: 0.9552695824885173, Accuracy: 0.9032967032967033\n",
      "Epoch 207,  ROC_AUC: 0.9671452807547483, Accuracy: 0.9076923076923077\n",
      "Epoch 208,  ROC_AUC: 0.9616625977572724, Accuracy: 0.8967032967032967\n",
      "Epoch 209,  ROC_AUC: 0.9572557619894898, Accuracy: 0.8879120879120879\n",
      "Epoch 210,  ROC_AUC: 0.9721003848222782, Accuracy: 0.9142857142857143\n",
      "Epoch 211,  ROC_AUC: 0.9706004055116482, Accuracy: 0.9076923076923077\n",
      "Epoch 212,  ROC_AUC: 0.9629867174245872, Accuracy: 0.9142857142857143\n",
      "Epoch 213,  ROC_AUC: 0.9668970083171267, Accuracy: 0.9186813186813186\n",
      "Epoch 214,  ROC_AUC: 0.963917739065668, Accuracy: 0.9142857142857143\n",
      "Epoch 215,  ROC_AUC: 0.9622625894815244, Accuracy: 0.9098901098901099\n",
      "Epoch 216,  ROC_AUC: 0.969193528365126, Accuracy: 0.9186813186813186\n",
      "Epoch 217,  ROC_AUC: 0.9692349071047296, Accuracy: 0.9120879120879121\n",
      "Epoch 218,  ROC_AUC: 0.9696280051309637, Accuracy: 0.9208791208791208\n",
      "Epoch 219,  ROC_AUC: 0.9691521496255224, Accuracy: 0.9032967032967033\n",
      "Epoch 220,  ROC_AUC: 0.961393635949849, Accuracy: 0.9054945054945055\n",
      "Epoch 221,  ROC_AUC: 0.967765961848802, Accuracy: 0.9142857142857143\n",
      "Epoch 222,  ROC_AUC: 0.9695452476517565, Accuracy: 0.9186813186813186\n",
      "Epoch 223,  ROC_AUC: 0.9678487193280092, Accuracy: 0.9054945054945055\n",
      "Epoch 224,  ROC_AUC: 0.9655935780196135, Accuracy: 0.9076923076923077\n",
      "Epoch 225,  ROC_AUC: 0.961683287127074, Accuracy: 0.9142857142857143\n",
      "Epoch 226,  ROC_AUC: 0.9686969834898829, Accuracy: 0.9142857142857143\n",
      "Epoch 227,  ROC_AUC: 0.9669073530020276, Accuracy: 0.8989010989010989\n",
      "Epoch 228,  ROC_AUC: 0.9644142839409111, Accuracy: 0.9164835164835164\n",
      "Epoch 229,  ROC_AUC: 0.9606591633218853, Accuracy: 0.9098901098901099\n",
      "Epoch 230,  ROC_AUC: 0.9716348740017379, Accuracy: 0.9164835164835164\n",
      "Epoch 231,  ROC_AUC: 0.9651591012537759, Accuracy: 0.9164835164835164\n",
      "Epoch 232,  ROC_AUC: 0.9617453552364794, Accuracy: 0.9164835164835164\n",
      "Epoch 233,  ROC_AUC: 0.9680349236562255, Accuracy: 0.9186813186813186\n",
      "Epoch 234,  ROC_AUC: 0.9629660280547856, Accuracy: 0.9186813186813186\n",
      "Epoch 235,  ROC_AUC: 0.9633591260810196, Accuracy: 0.9120879120879121\n",
      "Epoch 236,  ROC_AUC: 0.9731038192576653, Accuracy: 0.9120879120879121\n",
      "Epoch 237,  ROC_AUC: 0.9670418339057392, Accuracy: 0.9098901098901099\n",
      "Epoch 238,  ROC_AUC: 0.9664418421814871, Accuracy: 0.9164835164835164\n",
      "Epoch 239,  ROC_AUC: 0.9687176728596847, Accuracy: 0.9296703296703297\n",
      "Epoch 240,  ROC_AUC: 0.9653866843215956, Accuracy: 0.9142857142857143\n",
      "Epoch 241,  ROC_AUC: 0.9646832457483345, Accuracy: 0.9054945054945055\n",
      "Epoch 242,  ROC_AUC: 0.9692762858443331, Accuracy: 0.8989010989010989\n",
      "Epoch 243,  ROC_AUC: 0.9594074564488765, Accuracy: 0.9032967032967033\n",
      "Epoch 244,  ROC_AUC: 0.9680142342864237, Accuracy: 0.9142857142857143\n",
      "Epoch 245,  ROC_AUC: 0.9710762610170894, Accuracy: 0.9142857142857143\n",
      "Epoch 246,  ROC_AUC: 0.9716555633715398, Accuracy: 0.9230769230769231\n",
      "Epoch 247,  ROC_AUC: 0.9675176894111805, Accuracy: 0.9274725274725275\n",
      "Epoch 248,  ROC_AUC: 0.9705383374022427, Accuracy: 0.9164835164835164\n",
      "Epoch 249,  ROC_AUC: 0.9637108453676501, Accuracy: 0.9076923076923077\n",
      "Epoch 250,  ROC_AUC: 0.973352091695287, Accuracy: 0.9186813186813186\n",
      "Epoch 251,  ROC_AUC: 0.97142798030372, Accuracy: 0.9076923076923077\n",
      "Epoch 252,  ROC_AUC: 0.9713659121943145, Accuracy: 0.9076923076923077\n",
      "Epoch 253,  ROC_AUC: 0.9688004303388918, Accuracy: 0.9142857142857143\n",
      "Epoch 254,  ROC_AUC: 0.9714693590433235, Accuracy: 0.9120879120879121\n",
      "Epoch 255,  ROC_AUC: 0.963317747341416, Accuracy: 0.9054945054945055\n",
      "Epoch 256,  ROC_AUC: 0.9655108205404064, Accuracy: 0.9142857142857143\n",
      "Epoch 257,  ROC_AUC: 0.9619315595646956, Accuracy: 0.9252747252747253\n",
      "Epoch 258,  ROC_AUC: 0.9743658708155749, Accuracy: 0.9120879120879121\n",
      "Epoch 259,  ROC_AUC: 0.9740348408987463, Accuracy: 0.9208791208791208\n",
      "Epoch 260,  ROC_AUC: 0.971614184631936, Accuracy: 0.9054945054945055\n",
      "Epoch 261,  ROC_AUC: 0.9715521165225307, Accuracy: 0.9362637362637363\n",
      "Epoch 262,  ROC_AUC: 0.966772872098316, Accuracy: 0.9230769230769231\n",
      "Epoch 263,  ROC_AUC: 0.9629867174245872, Accuracy: 0.9142857142857143\n",
      "Epoch 264,  ROC_AUC: 0.9689452559275045, Accuracy: 0.9208791208791208\n",
      "Epoch 265,  ROC_AUC: 0.9668349402077212, Accuracy: 0.9230769230769231\n",
      "Epoch 266,  ROC_AUC: 0.9660694335250548, Accuracy: 0.9120879120879121\n",
      "Epoch 267,  ROC_AUC: 0.9750693093888358, Accuracy: 0.9142857142857143\n",
      "Epoch 268,  ROC_AUC: 0.9691728389953242, Accuracy: 0.9120879120879121\n",
      "Epoch 269,  ROC_AUC: 0.9714900484131253, Accuracy: 0.9208791208791208\n",
      "Epoch 270,  ROC_AUC: 0.9742210452269624, Accuracy: 0.9098901098901099\n",
      "Epoch 271,  ROC_AUC: 0.972948648984152, Accuracy: 0.9208791208791208\n",
      "Epoch 272,  ROC_AUC: 0.9703728224438284, Accuracy: 0.9186813186813186\n",
      "Epoch 273,  ROC_AUC: 0.9738589812554309, Accuracy: 0.9076923076923077\n",
      "Epoch 274,  ROC_AUC: 0.974365870815575, Accuracy: 0.9142857142857143\n",
      "Epoch 275,  ROC_AUC: 0.9709521247982786, Accuracy: 0.9164835164835164\n",
      "Epoch 276,  ROC_AUC: 0.9734762279140978, Accuracy: 0.9120879120879121\n",
      "Epoch 277,  ROC_AUC: 0.9687797409690901, Accuracy: 0.9054945054945055\n",
      "Epoch 278,  ROC_AUC: 0.9723176232051972, Accuracy: 0.9142857142857143\n",
      "Epoch 279,  ROC_AUC: 0.9667314933587123, Accuracy: 0.9164835164835164\n",
      "Epoch 280,  ROC_AUC: 0.9746141432531965, Accuracy: 0.9164835164835164\n",
      "Epoch 281,  ROC_AUC: 0.9716555633715398, Accuracy: 0.9076923076923077\n",
      "Epoch 282,  ROC_AUC: 0.9726486531220259, Accuracy: 0.9098901098901099\n",
      "Epoch 283,  ROC_AUC: 0.9714279803037199, Accuracy: 0.9164835164835164\n",
      "Epoch 284,  ROC_AUC: 0.9710348822774857, Accuracy: 0.9098901098901099\n",
      "Epoch 285,  ROC_AUC: 0.9743451814457731, Accuracy: 0.9120879120879121\n",
      "Epoch 286,  ROC_AUC: 0.9735796747631067, Accuracy: 0.9142857142857143\n",
      "Epoch 287,  ROC_AUC: 0.9731245086274672, Accuracy: 0.9208791208791208\n",
      "Epoch 288,  ROC_AUC: 0.9648901394463525, Accuracy: 0.9142857142857143\n",
      "Epoch 289,  ROC_AUC: 0.9725865850126205, Accuracy: 0.9164835164835164\n",
      "Epoch 290,  ROC_AUC: 0.9717383208507469, Accuracy: 0.9274725274725275\n",
      "Epoch 291,  ROC_AUC: 0.9770761782596102, Accuracy: 0.9098901098901099\n",
      "Epoch 292,  ROC_AUC: 0.9718417676997559, Accuracy: 0.9252747252747253\n",
      "Epoch 293,  ROC_AUC: 0.9768485951917905, Accuracy: 0.9098901098901099\n",
      "Epoch 294,  ROC_AUC: 0.9752348243472504, Accuracy: 0.9142857142857143\n",
      "Epoch 295,  ROC_AUC: 0.9779865105308891, Accuracy: 0.9252747252747253\n",
      "Epoch 296,  ROC_AUC: 0.9749037944304216, Accuracy: 0.9186813186813186\n",
      "Epoch 297,  ROC_AUC: 0.9726072743824222, Accuracy: 0.9186813186813186\n",
      "Epoch 298,  ROC_AUC: 0.9686349153804774, Accuracy: 0.9252747252747253\n",
      "Epoch 299,  ROC_AUC: 0.970517648032441, Accuracy: 0.9340659340659341\n",
      "Epoch 300,  ROC_AUC: 0.9762486034675384, Accuracy: 0.9142857142857143\n",
      "Epoch 301,  ROC_AUC: 0.9662142591136673, Accuracy: 0.9142857142857143\n",
      "Epoch 302,  ROC_AUC: 0.9736417428725122, Accuracy: 0.9142857142857143\n",
      "Epoch 303,  ROC_AUC: 0.9610005379236148, Accuracy: 0.9120879120879121\n",
      "Epoch 304,  ROC_AUC: 0.9720900401373774, Accuracy: 0.9230769230769231\n",
      "Epoch 305,  ROC_AUC: 0.9718831464393594, Accuracy: 0.9208791208791208\n",
      "Epoch 306,  ROC_AUC: 0.9727727893408367, Accuracy: 0.9230769230769231\n",
      "Epoch 307,  ROC_AUC: 0.9752555137170521, Accuracy: 0.9120879120879121\n",
      "Epoch 308,  ROC_AUC: 0.9794140770472131, Accuracy: 0.9230769230769231\n",
      "Epoch 309,  ROC_AUC: 0.9787727065833575, Accuracy: 0.9252747252747253\n",
      "Epoch 310,  ROC_AUC: 0.9757313692224935, Accuracy: 0.9230769230769231\n",
      "Epoch 311,  ROC_AUC: 0.9749658625398271, Accuracy: 0.9208791208791208\n",
      "Epoch 312,  ROC_AUC: 0.9751106881284396, Accuracy: 0.9252747252747253\n",
      "Epoch 313,  ROC_AUC: 0.9715521165225307, Accuracy: 0.9120879120879121\n",
      "Epoch 314,  ROC_AUC: 0.9751727562378449, Accuracy: 0.9186813186813186\n",
      "Epoch 315,  ROC_AUC: 0.9729176149294492, Accuracy: 0.9252747252747253\n",
      "Epoch 316,  ROC_AUC: 0.9754417180452684, Accuracy: 0.9230769230769231\n",
      "Epoch 317,  ROC_AUC: 0.9757624032771963, Accuracy: 0.9340659340659341\n",
      "Epoch 318,  ROC_AUC: 0.9761037778789259, Accuracy: 0.9274725274725275\n",
      "Epoch 319,  ROC_AUC: 0.968283196093847, Accuracy: 0.9230769230769231\n",
      "Epoch 320,  ROC_AUC: 0.9750899987586378, Accuracy: 0.9252747252747253\n",
      "Epoch 321,  ROC_AUC: 0.977096867629412, Accuracy: 0.9230769230769231\n",
      "Epoch 322,  ROC_AUC: 0.976703769603178, Accuracy: 0.9186813186813186\n",
      "Epoch 323,  ROC_AUC: 0.9669176976869285, Accuracy: 0.9208791208791208\n",
      "Epoch 324,  ROC_AUC: 0.9765589440145653, Accuracy: 0.9208791208791208\n",
      "Epoch 325,  ROC_AUC: 0.9740762196383498, Accuracy: 0.9208791208791208\n",
      "Epoch 326,  ROC_AUC: 0.9776554806140605, Accuracy: 0.9252747252747253\n",
      "Epoch 327,  ROC_AUC: 0.9782968510779162, Accuracy: 0.9208791208791208\n",
      "Epoch 328,  ROC_AUC: 0.978627880994745, Accuracy: 0.9252747252747253\n",
      "Epoch 329,  ROC_AUC: 0.9661728803740638, Accuracy: 0.9120879120879121\n",
      "Epoch 330,  ROC_AUC: 0.970703852360657, Accuracy: 0.9098901098901099\n",
      "Epoch 331,  ROC_AUC: 0.9749244838002236, Accuracy: 0.9120879120879121\n",
      "Epoch 332,  ROC_AUC: 0.9781106467497, Accuracy: 0.9296703296703297\n",
      "Epoch 333,  ROC_AUC: 0.9759175735507096, Accuracy: 0.9274725274725275\n",
      "Epoch 334,  ROC_AUC: 0.9751934456076468, Accuracy: 0.9274725274725275\n",
      "Epoch 335,  ROC_AUC: 0.9777382380932675, Accuracy: 0.9164835164835164\n",
      "Epoch 336,  ROC_AUC: 0.9792692514586006, Accuracy: 0.9406593406593406\n",
      "Epoch 337,  ROC_AUC: 0.9781106467497, Accuracy: 0.9252747252747253\n",
      "Epoch 338,  ROC_AUC: 0.9793520089378078, Accuracy: 0.9142857142857143\n",
      "Epoch 339,  ROC_AUC: 0.9797451069640419, Accuracy: 0.9230769230769231\n",
      "Epoch 340,  ROC_AUC: 0.979641660115033, Accuracy: 0.9296703296703297\n",
      "Epoch 341,  ROC_AUC: 0.9782968510779162, Accuracy: 0.9252747252747253\n",
      "Epoch 342,  ROC_AUC: 0.97304175114826, Accuracy: 0.9164835164835164\n",
      "Epoch 343,  ROC_AUC: 0.9774485869160425, Accuracy: 0.9208791208791208\n",
      "Epoch 344,  ROC_AUC: 0.98053130301651, Accuracy: 0.9252747252747253\n",
      "Epoch 345,  ROC_AUC: 0.9766830802333761, Accuracy: 0.9208791208791208\n",
      "Epoch 346,  ROC_AUC: 0.9798071750734472, Accuracy: 0.9120879120879121\n",
      "Epoch 347,  ROC_AUC: 0.9799933794016633, Accuracy: 0.9340659340659341\n",
      "Epoch 348,  ROC_AUC: 0.9803864774278976, Accuracy: 0.9340659340659341\n",
      "Epoch 349,  ROC_AUC: 0.9775520337650515, Accuracy: 0.9318681318681319\n",
      "Epoch 350,  ROC_AUC: 0.97568999048289, Accuracy: 0.9186813186813186\n",
      "Epoch 351,  ROC_AUC: 0.9808623329333388, Accuracy: 0.9384615384615385\n",
      "Epoch 352,  ROC_AUC: 0.9797864857036456, Accuracy: 0.9208791208791208\n",
      "Epoch 353,  ROC_AUC: 0.9757520585922953, Accuracy: 0.9252747252747253\n"
     ]
    },
    {
     "name": "stdout",
     "output_type": "stream",
     "text": [
      "Epoch 354,  ROC_AUC: 0.9780899573798982, Accuracy: 0.9230769230769231\n",
      "Epoch 355,  ROC_AUC: 0.9750693093888361, Accuracy: 0.9274725274725275\n",
      "Epoch 356,  ROC_AUC: 0.9768279058219886, Accuracy: 0.9230769230769231\n",
      "Epoch 357,  ROC_AUC: 0.9755037861546737, Accuracy: 0.9230769230769231\n",
      "Epoch 358,  ROC_AUC: 0.9739934621591426, Accuracy: 0.9142857142857143\n",
      "Epoch 359,  ROC_AUC: 0.976289982207142, Accuracy: 0.9120879120879121\n",
      "Epoch 360,  ROC_AUC: 0.9711383291264949, Accuracy: 0.9230769230769231\n",
      "Epoch 361,  ROC_AUC: 0.973145197997269, Accuracy: 0.9230769230769231\n",
      "Epoch 362,  ROC_AUC: 0.9827036868456986, Accuracy: 0.9208791208791208\n",
      "Epoch 363,  ROC_AUC: 0.9781520254893037, Accuracy: 0.9142857142857143\n",
      "Epoch 364,  ROC_AUC: 0.9787933959531593, Accuracy: 0.9318681318681319\n",
      "Epoch 365,  ROC_AUC: 0.9759382629205114, Accuracy: 0.9230769230769231\n",
      "Epoch 366,  ROC_AUC: 0.9749037944304217, Accuracy: 0.9208791208791208\n",
      "Epoch 367,  ROC_AUC: 0.9793106301982042, Accuracy: 0.9318681318681319\n",
      "Epoch 368,  ROC_AUC: 0.9801588943600776, Accuracy: 0.9230769230769231\n",
      "Epoch 369,  ROC_AUC: 0.982269210079861, Accuracy: 0.9406593406593406\n",
      "Epoch 370,  ROC_AUC: 0.9747693135267099, Accuracy: 0.9120879120879121\n",
      "Epoch 371,  ROC_AUC: 0.9779865105308891, Accuracy: 0.9252747252747253\n",
      "Epoch 372,  ROC_AUC: 0.9794968345264203, Accuracy: 0.9296703296703297\n",
      "Epoch 373,  ROC_AUC: 0.9799106219224563, Accuracy: 0.9318681318681319\n",
      "Epoch 374,  ROC_AUC: 0.9787313278437538, Accuracy: 0.9252747252747253\n",
      "Epoch 375,  ROC_AUC: 0.974469317664584, Accuracy: 0.9208791208791208\n",
      "Epoch 376,  ROC_AUC: 0.9830554061323291, Accuracy: 0.9340659340659341\n",
      "Epoch 377,  ROC_AUC: 0.9741382877477552, Accuracy: 0.9164835164835164\n",
      "Epoch 378,  ROC_AUC: 0.9782968510779162, Accuracy: 0.9208791208791208\n",
      "Epoch 379,  ROC_AUC: 0.9748210369512145, Accuracy: 0.9318681318681319\n",
      "Epoch 380,  ROC_AUC: 0.9793726983076095, Accuracy: 0.9296703296703297\n",
      "Epoch 381,  ROC_AUC: 0.9791658046095916, Accuracy: 0.9120879120879121\n",
      "Epoch 382,  ROC_AUC: 0.976786527082385, Accuracy: 0.9230769230769231\n",
      "Epoch 383,  ROC_AUC: 0.9790002896511772, Accuracy: 0.9230769230769231\n",
      "Epoch 384,  ROC_AUC: 0.9790209790209791, Accuracy: 0.9186813186813186\n",
      "Epoch 385,  ROC_AUC: 0.9809244010427443, Accuracy: 0.9274725274725275\n",
      "Epoch 386,  ROC_AUC: 0.9778416849422767, Accuracy: 0.9296703296703297\n",
      "Epoch 387,  ROC_AUC: 0.9802209624694831, Accuracy: 0.9076923076923077\n",
      "Epoch 388,  ROC_AUC: 0.9790002896511771, Accuracy: 0.9076923076923077\n",
      "Epoch 389,  ROC_AUC: 0.9784416766665287, Accuracy: 0.9142857142857143\n",
      "Epoch 390,  ROC_AUC: 0.9785658128853395, Accuracy: 0.9186813186813186\n",
      "Epoch 391,  ROC_AUC: 0.9783382298175198, Accuracy: 0.9230769230769231\n",
      "Epoch 392,  ROC_AUC: 0.978317540447718, Accuracy: 0.9406593406593406\n",
      "Epoch 393,  ROC_AUC: 0.9772623825878264, Accuracy: 0.9120879120879121\n",
      "Epoch 394,  ROC_AUC: 0.9834071254189598, Accuracy: 0.9406593406593406\n",
      "Epoch 395,  ROC_AUC: 0.9781106467497, Accuracy: 0.9252747252747253\n",
      "Epoch 396,  ROC_AUC: 0.9844622832788514, Accuracy: 0.9274725274725275\n",
      "Epoch 397,  ROC_AUC: 0.9782554723383126, Accuracy: 0.9252747252747253\n",
      "Epoch 398,  ROC_AUC: 0.9768485951917905, Accuracy: 0.9230769230769231\n",
      "Epoch 399,  ROC_AUC: 0.9814830140273927, Accuracy: 0.9296703296703297\n",
      "Epoch 400,  ROC_AUC: 0.9809244010427443, Accuracy: 0.945054945054945\n",
      "Epoch 401,  ROC_AUC: 0.9815864608764017, Accuracy: 0.9296703296703297\n",
      "Epoch 402,  ROC_AUC: 0.9811312947407622, Accuracy: 0.9296703296703297\n",
      "Epoch 403,  ROC_AUC: 0.9821450738610502, Accuracy: 0.9274725274725275\n",
      "Epoch 404,  ROC_AUC: 0.9784209872967269, Accuracy: 0.9274725274725275\n",
      "Epoch 405,  ROC_AUC: 0.9836967765961848, Accuracy: 0.9318681318681319\n",
      "Epoch 406,  ROC_AUC: 0.9809450904125461, Accuracy: 0.9296703296703297\n",
      "Epoch 407,  ROC_AUC: 0.981151984110564, Accuracy: 0.9164835164835164\n",
      "Epoch 408,  ROC_AUC: 0.9779037530516821, Accuracy: 0.9164835164835164\n",
      "Epoch 409,  ROC_AUC: 0.981462324657591, Accuracy: 0.9318681318681319\n",
      "Epoch 410,  ROC_AUC: 0.9827243762155005, Accuracy: 0.9296703296703297\n",
      "Epoch 411,  ROC_AUC: 0.9754003393056647, Accuracy: 0.9252747252747253\n",
      "Epoch 412,  ROC_AUC: 0.9801795837298796, Accuracy: 0.9340659340659341\n",
      "Epoch 413,  ROC_AUC: 0.9842760789506352, Accuracy: 0.9318681318681319\n",
      "Epoch 414,  ROC_AUC: 0.9831174742417346, Accuracy: 0.9252747252747253\n",
      "Epoch 415,  ROC_AUC: 0.9800140687714652, Accuracy: 0.9318681318681319\n",
      "Epoch 416,  ROC_AUC: 0.9763934290561509, Accuracy: 0.9296703296703297\n",
      "Epoch 417,  ROC_AUC: 0.9826829974758968, Accuracy: 0.9340659340659341\n",
      "Epoch 418,  ROC_AUC: 0.9801795837298795, Accuracy: 0.9252747252747253\n",
      "Epoch 419,  ROC_AUC: 0.9846277982372657, Accuracy: 0.9362637362637363\n",
      "Epoch 420,  ROC_AUC: 0.9825588612570861, Accuracy: 0.9340659340659341\n",
      "Epoch 421,  ROC_AUC: 0.9822692100798609, Accuracy: 0.9296703296703297\n",
      "Epoch 422,  ROC_AUC: 0.9856208879877518, Accuracy: 0.9296703296703297\n",
      "Epoch 423,  ROC_AUC: 0.9783589191873215, Accuracy: 0.9252747252747253\n",
      "Epoch 424,  ROC_AUC: 0.9770141101502049, Accuracy: 0.9340659340659341\n",
      "Epoch 425,  ROC_AUC: 0.9807795754541316, Accuracy: 0.9296703296703297\n",
      "Epoch 426,  ROC_AUC: 0.9821864526006538, Accuracy: 0.9252747252747253\n",
      "Epoch 427,  ROC_AUC: 0.9773244506972318, Accuracy: 0.9208791208791208\n",
      "Epoch 428,  ROC_AUC: 0.9842347002110317, Accuracy: 0.9406593406593406\n",
      "Epoch 429,  ROC_AUC: 0.984089874622419, Accuracy: 0.9406593406593406\n",
      "Epoch 430,  ROC_AUC: 0.9842760789506352, Accuracy: 0.9208791208791208\n",
      "Epoch 431,  ROC_AUC: 0.9819795589026359, Accuracy: 0.9296703296703297\n",
      "Epoch 432,  ROC_AUC: 0.9817933545744197, Accuracy: 0.9384615384615385\n",
      "Epoch 433,  ROC_AUC: 0.9781934042289071, Accuracy: 0.9362637362637363\n",
      "Epoch 434,  ROC_AUC: 0.9812761203293748, Accuracy: 0.9186813186813186\n",
      "Epoch 435,  ROC_AUC: 0.9775106550254479, Accuracy: 0.9384615384615385\n",
      "Epoch 436,  ROC_AUC: 0.9802416518392849, Accuracy: 0.9340659340659341\n",
      "Epoch 437,  ROC_AUC: 0.9850415856333017, Accuracy: 0.9318681318681319\n",
      "Epoch 438,  ROC_AUC: 0.9801588943600777, Accuracy: 0.9318681318681319\n",
      "Epoch 439,  ROC_AUC: 0.9853519261803285, Accuracy: 0.9252747252747253\n",
      "Epoch 440,  ROC_AUC: 0.9799520006620597, Accuracy: 0.9340659340659341\n",
      "Epoch 441,  ROC_AUC: 0.9834485041585634, Accuracy: 0.9296703296703297\n",
      "Epoch 442,  ROC_AUC: 0.980427856167501, Accuracy: 0.9340659340659341\n",
      "Epoch 443,  ROC_AUC: 0.9786899491041503, Accuracy: 0.9340659340659341\n",
      "Epoch 444,  ROC_AUC: 0.980427856167501, Accuracy: 0.9318681318681319\n",
      "Epoch 445,  ROC_AUC: 0.9818347333140232, Accuracy: 0.9186813186813186\n",
      "Epoch 446,  ROC_AUC: 0.9815864608764017, Accuracy: 0.9252747252747253\n",
      "Epoch 447,  ROC_AUC: 0.9834691935283651, Accuracy: 0.9230769230769231\n",
      "Epoch 448,  ROC_AUC: 0.9841519427318244, Accuracy: 0.9384615384615385\n",
      "Epoch 449,  ROC_AUC: 0.9774072081764389, Accuracy: 0.9296703296703297\n",
      "Epoch 450,  ROC_AUC: 0.9812968096991765, Accuracy: 0.9406593406593406\n",
      "Epoch 451,  ROC_AUC: 0.9779451317912856, Accuracy: 0.9252747252747253\n",
      "Epoch 452,  ROC_AUC: 0.9854553730293376, Accuracy: 0.9230769230769231\n",
      "Epoch 453,  ROC_AUC: 0.9842347002110317, Accuracy: 0.9296703296703297\n",
      "Epoch 454,  ROC_AUC: 0.9812968096991765, Accuracy: 0.9340659340659341\n",
      "Epoch 455,  ROC_AUC: 0.9842140108412298, Accuracy: 0.9318681318681319\n",
      "Epoch 456,  ROC_AUC: 0.9799106219224561, Accuracy: 0.9318681318681319\n",
      "Epoch 457,  ROC_AUC: 0.9820209376422395, Accuracy: 0.9384615384615385\n",
      "Epoch 458,  ROC_AUC: 0.9812140522199694, Accuracy: 0.9274725274725275\n",
      "Epoch 459,  ROC_AUC: 0.9853519261803285, Accuracy: 0.9318681318681319\n",
      "Epoch 460,  ROC_AUC: 0.9815450821367981, Accuracy: 0.9296703296703297\n",
      "Epoch 461,  ROC_AUC: 0.9837795340753921, Accuracy: 0.9318681318681319\n",
      "Epoch 462,  ROC_AUC: 0.9826623081060951, Accuracy: 0.9362637362637363\n",
      "Epoch 463,  ROC_AUC: 0.9813174990689784, Accuracy: 0.9406593406593406\n",
      "Epoch 464,  ROC_AUC: 0.9832002317209417, Accuracy: 0.9318681318681319\n",
      "Epoch 465,  ROC_AUC: 0.9827657549551041, Accuracy: 0.9274725274725275\n",
      "Epoch 466,  ROC_AUC: 0.981151984110564, Accuracy: 0.9384615384615385\n",
      "Epoch 467,  ROC_AUC: 0.9844209045392477, Accuracy: 0.9384615384615385\n",
      "Epoch 468,  ROC_AUC: 0.9861484669176976, Accuracy: 0.9318681318681319\n",
      "Epoch 469,  ROC_AUC: 0.9780485786402946, Accuracy: 0.9274725274725275\n",
      "Epoch 470,  ROC_AUC: 0.9848140025654819, Accuracy: 0.9318681318681319\n",
      "Epoch 471,  ROC_AUC: 0.9829312699135184, Accuracy: 0.9340659340659341\n",
      "Epoch 472,  ROC_AUC: 0.9839450490338064, Accuracy: 0.9318681318681319\n",
      "Epoch 473,  ROC_AUC: 0.9827036868456986, Accuracy: 0.9340659340659341\n",
      "Epoch 474,  ROC_AUC: 0.9803037199486904, Accuracy: 0.9318681318681319\n",
      "Epoch 475,  ROC_AUC: 0.9858691604253735, Accuracy: 0.945054945054945\n",
      "Epoch 476,  ROC_AUC: 0.9823312781892664, Accuracy: 0.9318681318681319\n",
      "Epoch 477,  ROC_AUC: 0.9846484876070675, Accuracy: 0.9296703296703297\n",
      "Epoch 478,  ROC_AUC: 0.9800761368808706, Accuracy: 0.9230769230769231\n",
      "Epoch 479,  ROC_AUC: 0.9856415773575538, Accuracy: 0.9362637362637363\n",
      "Epoch 480,  ROC_AUC: 0.976993420780403, Accuracy: 0.9340659340659341\n",
      "Epoch 481,  ROC_AUC: 0.9792071833491952, Accuracy: 0.9230769230769231\n",
      "Epoch 482,  ROC_AUC: 0.9837174659659866, Accuracy: 0.9406593406593406\n",
      "Epoch 483,  ROC_AUC: 0.9860760541233914, Accuracy: 0.9296703296703297\n",
      "Epoch 484,  ROC_AUC: 0.9875863781189225, Accuracy: 0.9340659340659341\n",
      "Epoch 485,  ROC_AUC: 0.9859519179045806, Accuracy: 0.9340659340659341\n",
      "Epoch 486,  ROC_AUC: 0.9792071833491951, Accuracy: 0.9296703296703297\n",
      "Epoch 487,  ROC_AUC: 0.9787727065833575, Accuracy: 0.9384615384615385\n",
      "Epoch 488,  ROC_AUC: 0.9836553978565814, Accuracy: 0.9406593406593406\n",
      "Epoch 489,  ROC_AUC: 0.9838209128149956, Accuracy: 0.9384615384615385\n",
      "Epoch 490,  ROC_AUC: 0.9768692845615923, Accuracy: 0.9142857142857143\n",
      "Epoch 491,  ROC_AUC: 0.981855422683825, Accuracy: 0.9230769230769231\n",
      "Epoch 492,  ROC_AUC: 0.9828485124343113, Accuracy: 0.9274725274725275\n",
      "Epoch 493,  ROC_AUC: 0.9820623163818429, Accuracy: 0.9362637362637363\n",
      "Epoch 494,  ROC_AUC: 0.983469193528365, Accuracy: 0.9274725274725275\n",
      "Epoch 495,  ROC_AUC: 0.9837795340753921, Accuracy: 0.9296703296703297\n",
      "Epoch 496,  ROC_AUC: 0.98237265692887, Accuracy: 0.9340659340659341\n",
      "Epoch 497,  ROC_AUC: 0.9850415856333016, Accuracy: 0.9362637362637363\n",
      "Epoch 498,  ROC_AUC: 0.9826829974758968, Accuracy: 0.9208791208791208\n",
      "Epoch 499,  ROC_AUC: 0.9828071336947076, Accuracy: 0.9340659340659341\n",
      "Epoch 500,  ROC_AUC: 0.9812761203293747, Accuracy: 0.9296703296703297\n",
      "Epoch 501,  ROC_AUC: 0.986013986013986, Accuracy: 0.9472527472527472\n",
      "Epoch 502,  ROC_AUC: 0.9849795175238962, Accuracy: 0.9384615384615385\n",
      "Epoch 503,  ROC_AUC: 0.9836760872263831, Accuracy: 0.9274725274725275\n",
      "Epoch 504,  ROC_AUC: 0.9824140356684735, Accuracy: 0.9340659340659341\n",
      "Epoch 505,  ROC_AUC: 0.985103653742707, Accuracy: 0.9252747252747253\n",
      "Epoch 506,  ROC_AUC: 0.9870898332436794, Accuracy: 0.9296703296703297\n",
      "Epoch 507,  ROC_AUC: 0.9842967683204369, Accuracy: 0.9274725274725275\n",
      "Epoch 508,  ROC_AUC: 0.9847105557164729, Accuracy: 0.9428571428571428\n",
      "Epoch 509,  ROC_AUC: 0.9824761037778789, Accuracy: 0.9494505494505494\n",
      "Epoch 510,  ROC_AUC: 0.9822071419704556, Accuracy: 0.9428571428571428\n",
      "Epoch 511,  ROC_AUC: 0.9818140439442214, Accuracy: 0.9296703296703297\n",
      "Epoch 512,  ROC_AUC: 0.9815037033971945, Accuracy: 0.9318681318681319\n",
      "Epoch 513,  ROC_AUC: 0.9817933545744196, Accuracy: 0.9230769230769231\n",
      "Epoch 514,  ROC_AUC: 0.9835519510075722, Accuracy: 0.9340659340659341\n",
      "Epoch 515,  ROC_AUC: 0.9861484669176976, Accuracy: 0.9340659340659341\n",
      "Epoch 516,  ROC_AUC: 0.9827657549551041, Accuracy: 0.9318681318681319\n",
      "Epoch 517,  ROC_AUC: 0.9859105391649771, Accuracy: 0.945054945054945\n",
      "Epoch 518,  ROC_AUC: 0.9823933462986718, Accuracy: 0.9274725274725275\n",
      "Epoch 519,  ROC_AUC: 0.9856208879877519, Accuracy: 0.9274725274725275\n",
      "Epoch 520,  ROC_AUC: 0.984193321471428, Accuracy: 0.9186813186813186\n",
      "Epoch 521,  ROC_AUC: 0.9873174163114993, Accuracy: 0.9428571428571428\n",
      "Epoch 522,  ROC_AUC: 0.9823933462986718, Accuracy: 0.9252747252747253\n",
      "Epoch 523,  ROC_AUC: 0.9844829726486531, Accuracy: 0.9318681318681319\n",
      "Epoch 524,  ROC_AUC: 0.9888898084164357, Accuracy: 0.9494505494505494\n",
      "Epoch 525,  ROC_AUC: 0.9843174576902387, Accuracy: 0.9274725274725275\n",
      "Epoch 526,  ROC_AUC: 0.9843795257996442, Accuracy: 0.9340659340659341\n",
      "Epoch 527,  ROC_AUC: 0.9851139984276079, Accuracy: 0.9274725274725275\n",
      "Epoch 528,  ROC_AUC: 0.9843588364298423, Accuracy: 0.9340659340659341\n",
      "Epoch 529,  ROC_AUC: 0.9843588364298422, Accuracy: 0.9384615384615385\n",
      "Epoch 530,  ROC_AUC: 0.9837381553357885, Accuracy: 0.9340659340659341\n",
      "Epoch 531,  ROC_AUC: 0.9829105805437166, Accuracy: 0.9406593406593406\n",
      "Epoch 532,  ROC_AUC: 0.9854553730293375, Accuracy: 0.9472527472527472\n",
      "Epoch 533,  ROC_AUC: 0.9857864029461663, Accuracy: 0.9406593406593406\n",
      "Epoch 534,  ROC_AUC: 0.9822485207100592, Accuracy: 0.9296703296703297\n",
      "Epoch 535,  ROC_AUC: 0.9812968096991765, Accuracy: 0.9428571428571428\n",
      "Epoch 536,  ROC_AUC: 0.9841726321016262, Accuracy: 0.9340659340659341\n",
      "Epoch 537,  ROC_AUC: 0.9877105143377334, Accuracy: 0.9384615384615385\n",
      "Epoch 538,  ROC_AUC: 0.9873587950511027, Accuracy: 0.945054945054945\n",
      "Epoch 539,  ROC_AUC: 0.9845450407580585, Accuracy: 0.9406593406593406\n",
      "Epoch 540,  ROC_AUC: 0.987938097405553, Accuracy: 0.9362637362637363\n",
      "Epoch 541,  ROC_AUC: 0.987338105681301, Accuracy: 0.9428571428571428\n",
      "Epoch 542,  ROC_AUC: 0.9843795257996442, Accuracy: 0.9142857142857143\n",
      "Epoch 543,  ROC_AUC: 0.9833243679397525, Accuracy: 0.9318681318681319\n",
      "Epoch 544,  ROC_AUC: 0.9875449993793188, Accuracy: 0.9406593406593406\n",
      "Epoch 545,  ROC_AUC: 0.9862001903422022, Accuracy: 0.9428571428571428\n",
      "Epoch 546,  ROC_AUC: 0.9836553978565812, Accuracy: 0.9252747252747253\n",
      "Epoch 547,  ROC_AUC: 0.9860967434931932, Accuracy: 0.9406593406593406\n",
      "Epoch 548,  ROC_AUC: 0.9855795092481483, Accuracy: 0.9208791208791208\n",
      "Epoch 549,  ROC_AUC: 0.9862829478214094, Accuracy: 0.9362637362637363\n",
      "Epoch 550,  ROC_AUC: 0.9875967228038234, Accuracy: 0.9362637362637363\n",
      "Epoch 551,  ROC_AUC: 0.9874622419001117, Accuracy: 0.9428571428571428\n",
      "Epoch 552,  ROC_AUC: 0.9836967765961848, Accuracy: 0.9384615384615385\n",
      "Epoch 553,  ROC_AUC: 0.987234658832292, Accuracy: 0.9428571428571428\n",
      "Epoch 554,  ROC_AUC: 0.9876070674887243, Accuracy: 0.9406593406593406\n",
      "Epoch 555,  ROC_AUC: 0.9851657218521124, Accuracy: 0.9384615384615385\n",
      "Epoch 556,  ROC_AUC: 0.9873587950511027, Accuracy: 0.9384615384615385\n",
      "Epoch 557,  ROC_AUC: 0.9840484958828155, Accuracy: 0.9230769230769231\n",
      "Epoch 558,  ROC_AUC: 0.9836967765961848, Accuracy: 0.9318681318681319\n",
      "Epoch 559,  ROC_AUC: 0.9814209459179873, Accuracy: 0.9340659340659341\n",
      "Epoch 560,  ROC_AUC: 0.9856829560971572, Accuracy: 0.9406593406593406\n",
      "Epoch 561,  ROC_AUC: 0.9858484710555717, Accuracy: 0.9406593406593406\n",
      "Epoch 562,  ROC_AUC: 0.9801795837298796, Accuracy: 0.9362637362637363\n",
      "Epoch 563,  ROC_AUC: 0.9797864857036453, Accuracy: 0.9340659340659341\n",
      "Epoch 564,  ROC_AUC: 0.9809657797823479, Accuracy: 0.9230769230769231\n",
      "Epoch 565,  ROC_AUC: 0.9844622832788514, Accuracy: 0.9384615384615385\n",
      "Epoch 566,  ROC_AUC: 0.9865519096288327, Accuracy: 0.9362637362637363\n",
      "Epoch 567,  ROC_AUC: 0.9849795175238962, Accuracy: 0.9428571428571428\n",
      "Epoch 568,  ROC_AUC: 0.9854760623991393, Accuracy: 0.9428571428571428\n",
      "Epoch 569,  ROC_AUC: 0.9857036454669591, Accuracy: 0.9472527472527472\n",
      "Epoch 570,  ROC_AUC: 0.9886829147184176, Accuracy: 0.9318681318681319\n",
      "Epoch 571,  ROC_AUC: 0.9861381222327968, Accuracy: 0.9362637362637363\n",
      "Epoch 572,  ROC_AUC: 0.9828485124343112, Accuracy: 0.9406593406593406\n",
      "Epoch 573,  ROC_AUC: 0.9877105143377333, Accuracy: 0.9428571428571428\n",
      "Epoch 574,  ROC_AUC: 0.9845657301278602, Accuracy: 0.9318681318681319\n",
      "Epoch 575,  ROC_AUC: 0.9867794926966524, Accuracy: 0.9384615384615385\n",
      "Epoch 576,  ROC_AUC: 0.9852898580709232, Accuracy: 0.9362637362637363\n",
      "Epoch 577,  ROC_AUC: 0.9880622336243639, Accuracy: 0.9384615384615385\n",
      "Epoch 578,  ROC_AUC: 0.9846277982372658, Accuracy: 0.9406593406593406\n",
      "Epoch 579,  ROC_AUC: 0.9880208548847602, Accuracy: 0.945054945054945\n",
      "Epoch 580,  ROC_AUC: 0.9856622667273555, Accuracy: 0.9296703296703297\n",
      "Epoch 581,  ROC_AUC: 0.9851036537427069, Accuracy: 0.9340659340659341\n",
      "Epoch 582,  ROC_AUC: 0.9871725907228867, Accuracy: 0.9384615384615385\n",
      "Epoch 583,  ROC_AUC: 0.984296768320437, Accuracy: 0.9472527472527472\n",
      "Epoch 584,  ROC_AUC: 0.988144991103571, Accuracy: 0.9406593406593406\n",
      "Epoch 585,  ROC_AUC: 0.9835519510075724, Accuracy: 0.9384615384615385\n",
      "Epoch 586,  ROC_AUC: 0.9829933380229238, Accuracy: 0.9384615384615385\n",
      "Epoch 587,  ROC_AUC: 0.9850829643729053, Accuracy: 0.9384615384615385\n"
     ]
    },
    {
     "name": "stdout",
     "output_type": "stream",
     "text": [
      "Epoch 588,  ROC_AUC: 0.9828278230645094, Accuracy: 0.9406593406593406\n",
      "Epoch 589,  ROC_AUC: 0.9862622584516075, Accuracy: 0.9274725274725275\n",
      "Epoch 590,  ROC_AUC: 0.9867794926966524, Accuracy: 0.9362637362637363\n",
      "Epoch 591,  ROC_AUC: 0.9879794761451566, Accuracy: 0.9560439560439561\n",
      "Epoch 592,  ROC_AUC: 0.9854967517689411, Accuracy: 0.9494505494505494\n",
      "Epoch 593,  ROC_AUC: 0.9877105143377333, Accuracy: 0.9494505494505494\n",
      "Epoch 594,  ROC_AUC: 0.9878346505565441, Accuracy: 0.9318681318681319\n",
      "Epoch 595,  ROC_AUC: 0.9884967103902015, Accuracy: 0.9362637362637363\n",
      "Epoch 596,  ROC_AUC: 0.9882691273223818, Accuracy: 0.9428571428571428\n",
      "Epoch 597,  ROC_AUC: 0.9837174659659866, Accuracy: 0.9318681318681319\n",
      "Epoch 598,  ROC_AUC: 0.989365663921877, Accuracy: 0.9494505494505494\n",
      "Epoch 599,  ROC_AUC: 0.9868415608060579, Accuracy: 0.9516483516483516\n",
      "Epoch 600,  ROC_AUC: 0.9854553730293375, Accuracy: 0.9428571428571428\n",
      "Epoch 601,  ROC_AUC: 0.9826002399966898, Accuracy: 0.9274725274725275\n",
      "Epoch 602,  ROC_AUC: 0.9892829064426698, Accuracy: 0.9472527472527472\n",
      "Epoch 603,  ROC_AUC: 0.9877312037075351, Accuracy: 0.9472527472527472\n",
      "Epoch 604,  ROC_AUC: 0.9853312368105268, Accuracy: 0.9384615384615385\n",
      "Epoch 605,  ROC_AUC: 0.9866553564778416, Accuracy: 0.9428571428571428\n",
      "Epoch 606,  ROC_AUC: 0.9869036289154631, Accuracy: 0.9406593406593406\n",
      "Epoch 607,  ROC_AUC: 0.9901104812347417, Accuracy: 0.9318681318681319\n",
      "Epoch 608,  ROC_AUC: 0.9864277734100219, Accuracy: 0.9340659340659341\n",
      "Epoch 609,  ROC_AUC: 0.9885380891298051, Accuracy: 0.945054945054945\n",
      "Epoch 610,  ROC_AUC: 0.9857036454669591, Accuracy: 0.945054945054945\n",
      "Epoch 611,  ROC_AUC: 0.9887656721976248, Accuracy: 0.945054945054945\n",
      "Epoch 612,  ROC_AUC: 0.9901725493441469, Accuracy: 0.9472527472527472\n",
      "Epoch 613,  ROC_AUC: 0.9872139694624901, Accuracy: 0.9318681318681319\n",
      "Epoch 614,  ROC_AUC: 0.9849588281540944, Accuracy: 0.9230769230769231\n",
      "Epoch 615,  ROC_AUC: 0.9847726238258783, Accuracy: 0.9362637362637363\n",
      "Epoch 616,  ROC_AUC: 0.9862622584516075, Accuracy: 0.9516483516483516\n",
      "Epoch 617,  ROC_AUC: 0.9852277899615178, Accuracy: 0.9428571428571428\n",
      "Epoch 618,  ROC_AUC: 0.9849381387842926, Accuracy: 0.945054945054945\n",
      "Epoch 619,  ROC_AUC: 0.9863243265610129, Accuracy: 0.9340659340659341\n",
      "Epoch 620,  ROC_AUC: 0.9881863698431745, Accuracy: 0.9428571428571428\n",
      "Epoch 621,  ROC_AUC: 0.9879587867753548, Accuracy: 0.9472527472527472\n",
      "Epoch 622,  ROC_AUC: 0.986427773410022, Accuracy: 0.9406593406593406\n",
      "Epoch 623,  ROC_AUC: 0.9817312864650143, Accuracy: 0.945054945054945\n",
      "Epoch 624,  ROC_AUC: 0.9895725576198948, Accuracy: 0.9340659340659341\n",
      "Epoch 625,  ROC_AUC: 0.9863863946704182, Accuracy: 0.9362637362637363\n",
      "Epoch 626,  ROC_AUC: 0.9828898911739148, Accuracy: 0.9340659340659341\n",
      "Epoch 627,  ROC_AUC: 0.985910539164977, Accuracy: 0.9340659340659341\n",
      "Epoch 628,  ROC_AUC: 0.9883725741713907, Accuracy: 0.9362637362637363\n",
      "Epoch 629,  ROC_AUC: 0.9872553482020938, Accuracy: 0.9318681318681319\n",
      "Epoch 630,  ROC_AUC: 0.9873898291058054, Accuracy: 0.9494505494505494\n",
      "Epoch 631,  ROC_AUC: 0.9857243348367608, Accuracy: 0.9428571428571428\n",
      "Epoch 632,  ROC_AUC: 0.9888277403070302, Accuracy: 0.9428571428571428\n",
      "Epoch 633,  ROC_AUC: 0.9894898001406878, Accuracy: 0.9472527472527472\n",
      "Epoch 634,  ROC_AUC: 0.9866139777382381, Accuracy: 0.9406593406593406\n",
      "Epoch 635,  ROC_AUC: 0.986220879712004, Accuracy: 0.9340659340659341\n",
      "Epoch 636,  ROC_AUC: 0.9890346340050482, Accuracy: 0.9362637362637363\n",
      "Epoch 637,  ROC_AUC: 0.9886829147184177, Accuracy: 0.945054945054945\n",
      "Epoch 638,  ROC_AUC: 0.9829933380229239, Accuracy: 0.9384615384615385\n",
      "Epoch 639,  ROC_AUC: 0.9823933462986718, Accuracy: 0.9516483516483516\n",
      "Epoch 640,  ROC_AUC: 0.9858691604253734, Accuracy: 0.9384615384615385\n",
      "Epoch 641,  ROC_AUC: 0.9888898084164356, Accuracy: 0.9406593406593406\n",
      "Epoch 642,  ROC_AUC: 0.989469110770886, Accuracy: 0.9406593406593406\n",
      "Epoch 643,  ROC_AUC: 0.9876898249679316, Accuracy: 0.9362637362637363\n",
      "Epoch 644,  ROC_AUC: 0.989758761948111, Accuracy: 0.9472527472527472\n",
      "Epoch 645,  ROC_AUC: 0.9882898166921836, Accuracy: 0.945054945054945\n",
      "Epoch 646,  ROC_AUC: 0.9864691521496255, Accuracy: 0.9318681318681319\n",
      "Epoch 647,  ROC_AUC: 0.9857450242065627, Accuracy: 0.9362637362637363\n",
      "Epoch 648,  ROC_AUC: 0.9895932469896968, Accuracy: 0.9406593406593406\n",
      "Epoch 649,  ROC_AUC: 0.9871932800926884, Accuracy: 0.9340659340659341\n",
      "Epoch 650,  ROC_AUC: 0.983882980924401, Accuracy: 0.9384615384615385\n",
      "Epoch 651,  ROC_AUC: 0.983676087226383, Accuracy: 0.9472527472527472\n",
      "Epoch 652,  ROC_AUC: 0.9876277568585261, Accuracy: 0.945054945054945\n",
      "Epoch 653,  ROC_AUC: 0.9859726072743825, Accuracy: 0.9494505494505494\n",
      "Epoch 654,  ROC_AUC: 0.9859519179045806, Accuracy: 0.9428571428571428\n",
      "Epoch 655,  ROC_AUC: 0.9892622170728679, Accuracy: 0.9472527472527472\n",
      "Epoch 656,  ROC_AUC: 0.9874208631605081, Accuracy: 0.9362637362637363\n",
      "Epoch 657,  ROC_AUC: 0.9898415194273182, Accuracy: 0.9472527472527472\n",
      "Epoch 658,  ROC_AUC: 0.9908346091778044, Accuracy: 0.9406593406593406\n",
      "Epoch 659,  ROC_AUC: 0.9869450076550668, Accuracy: 0.9142857142857143\n",
      "Epoch 660,  ROC_AUC: 0.9894898001406878, Accuracy: 0.9472527472527472\n",
      "Epoch 661,  ROC_AUC: 0.9906897835891919, Accuracy: 0.945054945054945\n",
      "Epoch 662,  ROC_AUC: 0.9895518682500931, Accuracy: 0.9428571428571428\n",
      "Epoch 663,  ROC_AUC: 0.9861795009724004, Accuracy: 0.9384615384615385\n",
      "Epoch 664,  ROC_AUC: 0.9898208300575164, Accuracy: 0.945054945054945\n",
      "Epoch 665,  ROC_AUC: 0.9889311871560391, Accuracy: 0.9362637362637363\n",
      "Epoch 666,  ROC_AUC: 0.9893242851822733, Accuracy: 0.9494505494505494\n",
      "Epoch 667,  ROC_AUC: 0.9907311623287955, Accuracy: 0.9538461538461539\n",
      "Epoch 668,  ROC_AUC: 0.9901311706045434, Accuracy: 0.9538461538461539\n",
      "Epoch 669,  ROC_AUC: 0.9898622087971201, Accuracy: 0.9472527472527472\n",
      "Epoch 670,  ROC_AUC: 0.9882070592129764, Accuracy: 0.9516483516483516\n",
      "Epoch 671,  ROC_AUC: 0.9900070343857326, Accuracy: 0.9296703296703297\n",
      "Epoch 672,  ROC_AUC: 0.9895415235651923, Accuracy: 0.945054945054945\n",
      "Epoch 673,  ROC_AUC: 0.9898208300575164, Accuracy: 0.945054945054945\n",
      "Epoch 674,  ROC_AUC: 0.989344974552075, Accuracy: 0.945054945054945\n",
      "Epoch 675,  ROC_AUC: 0.9889311871560393, Accuracy: 0.945054945054945\n",
      "Epoch 676,  ROC_AUC: 0.9894070426614805, Accuracy: 0.9428571428571428\n",
      "Epoch 677,  ROC_AUC: 0.9868208714362561, Accuracy: 0.9428571428571428\n",
      "Epoch 678,  ROC_AUC: 0.9875656887491207, Accuracy: 0.9318681318681319\n",
      "Epoch 679,  ROC_AUC: 0.9883725741713907, Accuracy: 0.9516483516483516\n",
      "Epoch 680,  ROC_AUC: 0.9907932304382008, Accuracy: 0.9516483516483516\n",
      "Epoch 681,  ROC_AUC: 0.9916208052302726, Accuracy: 0.9560439560439561\n",
      "Epoch 682,  ROC_AUC: 0.991289775313444, Accuracy: 0.945054945054945\n",
      "Epoch 683,  ROC_AUC: 0.9911656390946333, Accuracy: 0.9340659340659341\n",
      "Epoch 684,  ROC_AUC: 0.9900277237555345, Accuracy: 0.9406593406593406\n",
      "Epoch 685,  ROC_AUC: 0.9887656721976248, Accuracy: 0.9516483516483516\n",
      "Epoch 686,  ROC_AUC: 0.9882277485827782, Accuracy: 0.9428571428571428\n",
      "Epoch 687,  ROC_AUC: 0.9894484214010841, Accuracy: 0.945054945054945\n",
      "Epoch 688,  ROC_AUC: 0.9908552985476062, Accuracy: 0.9406593406593406\n",
      "Epoch 689,  ROC_AUC: 0.9870070757644722, Accuracy: 0.9296703296703297\n",
      "Epoch 690,  ROC_AUC: 0.9915380477510656, Accuracy: 0.9472527472527472\n",
      "Epoch 691,  ROC_AUC: 0.9900070343857326, Accuracy: 0.9428571428571428\n",
      "Epoch 692,  ROC_AUC: 0.9893242851822734, Accuracy: 0.9428571428571428\n",
      "Epoch 693,  ROC_AUC: 0.9911035709852277, Accuracy: 0.9582417582417583\n",
      "Epoch 694,  ROC_AUC: 0.9906070261099846, Accuracy: 0.9494505494505494\n",
      "Epoch 695,  ROC_AUC: 0.9898001406877147, Accuracy: 0.9406593406593406\n",
      "Epoch 696,  ROC_AUC: 0.9878760292961476, Accuracy: 0.9428571428571428\n",
      "Epoch 697,  ROC_AUC: 0.9849795175238962, Accuracy: 0.9428571428571428\n",
      "Epoch 698,  ROC_AUC: 0.9910828816154259, Accuracy: 0.9538461538461539\n",
      "Epoch 699,  ROC_AUC: 0.9915794264906691, Accuracy: 0.9516483516483516\n",
      "Epoch 700,  ROC_AUC: 0.9916621839698763, Accuracy: 0.9604395604395605\n",
      "Epoch 701,  ROC_AUC: 0.9833036785699508, Accuracy: 0.9274725274725275\n",
      "Epoch 702,  ROC_AUC: 0.9899449662763271, Accuracy: 0.9516483516483516\n",
      "Epoch 703,  ROC_AUC: 0.9885173997600033, Accuracy: 0.9318681318681319\n",
      "Epoch 704,  ROC_AUC: 0.989262217072868, Accuracy: 0.9428571428571428\n",
      "Epoch 705,  ROC_AUC: 0.9913518434228494, Accuracy: 0.9538461538461539\n",
      "Epoch 706,  ROC_AUC: 0.9887656721976249, Accuracy: 0.9428571428571428\n",
      "Epoch 707,  ROC_AUC: 0.9892415277030662, Accuracy: 0.9362637362637363\n",
      "Epoch 708,  ROC_AUC: 0.9905863367401829, Accuracy: 0.9494505494505494\n",
      "Epoch 709,  ROC_AUC: 0.9908139198080026, Accuracy: 0.9516483516483516\n",
      "Epoch 710,  ROC_AUC: 0.9864484627798237, Accuracy: 0.9516483516483516\n",
      "Epoch 711,  ROC_AUC: 0.9883311954317873, Accuracy: 0.9362637362637363\n",
      "Epoch 712,  ROC_AUC: 0.9902966855629578, Accuracy: 0.9428571428571428\n",
      "Epoch 713,  ROC_AUC: 0.9878553399263458, Accuracy: 0.9384615384615385\n",
      "Epoch 714,  ROC_AUC: 0.9895311788802914, Accuracy: 0.9406593406593406\n",
      "Epoch 715,  ROC_AUC: 0.9937311209500559, Accuracy: 0.945054945054945\n",
      "Epoch 716,  ROC_AUC: 0.9909173666570117, Accuracy: 0.9494505494505494\n",
      "Epoch 717,  ROC_AUC: 0.992096660735714, Accuracy: 0.9604395604395605\n",
      "Epoch 718,  ROC_AUC: 0.9910621922456242, Accuracy: 0.9494505494505494\n",
      "Epoch 719,  ROC_AUC: 0.9915173583812638, Accuracy: 0.9516483516483516\n",
      "Epoch 720,  ROC_AUC: 0.990275996193156, Accuracy: 0.945054945054945\n",
      "Epoch 721,  ROC_AUC: 0.9928621674183805, Accuracy: 0.9538461538461539\n",
      "Epoch 722,  ROC_AUC: 0.9926035502958579, Accuracy: 0.9516483516483516\n",
      "Epoch 723,  ROC_AUC: 0.9919104564074979, Accuracy: 0.9494505494505494\n",
      "Epoch 724,  ROC_AUC: 0.9879794761451566, Accuracy: 0.9428571428571428\n",
      "Epoch 725,  ROC_AUC: 0.9914759796416601, Accuracy: 0.9560439560439561\n",
      "Epoch 726,  ROC_AUC: 0.9899863450159309, Accuracy: 0.9494505494505494\n",
      "Epoch 727,  ROC_AUC: 0.9898001406877147, Accuracy: 0.9384615384615385\n",
      "Epoch 728,  ROC_AUC: 0.9908139198080026, Accuracy: 0.9516483516483516\n",
      "Epoch 729,  ROC_AUC: 0.9924690693921463, Accuracy: 0.9582417582417583\n",
      "Epoch 730,  ROC_AUC: 0.9910621922456242, Accuracy: 0.945054945054945\n",
      "Epoch 731,  ROC_AUC: 0.9916621839698762, Accuracy: 0.9626373626373627\n",
      "Epoch 732,  ROC_AUC: 0.990875987917408, Accuracy: 0.9472527472527472\n",
      "Epoch 733,  ROC_AUC: 0.991186328464435, Accuracy: 0.9428571428571428\n",
      "Epoch 734,  ROC_AUC: 0.9911242603550295, Accuracy: 0.9516483516483516\n",
      "Epoch 735,  ROC_AUC: 0.9916208052302726, Accuracy: 0.9494505494505494\n",
      "Epoch 736,  ROC_AUC: 0.9918483882980924, Accuracy: 0.9560439560439561\n",
      "Epoch 737,  ROC_AUC: 0.9894898001406878, Accuracy: 0.9428571428571428\n",
      "Epoch 738,  ROC_AUC: 0.9931725079654073, Accuracy: 0.9538461538461539\n",
      "Epoch 739,  ROC_AUC: 0.9907104729589936, Accuracy: 0.945054945054945\n",
      "Epoch 740,  ROC_AUC: 0.9899242769065255, Accuracy: 0.9406593406593406\n",
      "Epoch 741,  ROC_AUC: 0.991082881615426, Accuracy: 0.9494505494505494\n",
      "Epoch 742,  ROC_AUC: 0.9924483800223445, Accuracy: 0.9538461538461539\n",
      "Epoch 743,  ROC_AUC: 0.9915587371208673, Accuracy: 0.9494505494505494\n",
      "Epoch 744,  ROC_AUC: 0.9928414780485786, Accuracy: 0.9494505494505494\n",
      "Epoch 745,  ROC_AUC: 0.992407001282741, Accuracy: 0.9516483516483516\n",
      "Epoch 746,  ROC_AUC: 0.9881863698431745, Accuracy: 0.9428571428571428\n",
      "Epoch 747,  ROC_AUC: 0.9927794099391731, Accuracy: 0.9494505494505494\n",
      "Epoch 748,  ROC_AUC: 0.9910208135060206, Accuracy: 0.9428571428571428\n",
      "Epoch 749,  ROC_AUC: 0.9919104564074979, Accuracy: 0.9428571428571428\n",
      "Epoch 750,  ROC_AUC: 0.9929242355277859, Accuracy: 0.945054945054945\n",
      "Epoch 751,  ROC_AUC: 0.9915380477510656, Accuracy: 0.9494505494505494\n",
      "Epoch 752,  ROC_AUC: 0.9898001406877146, Accuracy: 0.9538461538461539\n",
      "Epoch 753,  ROC_AUC: 0.9889932552654446, Accuracy: 0.9362637362637363\n",
      "Epoch 754,  ROC_AUC: 0.9901932387139487, Accuracy: 0.9384615384615385\n",
      "Epoch 755,  ROC_AUC: 0.9922828650639302, Accuracy: 0.9516483516483516\n",
      "Epoch 756,  ROC_AUC: 0.9926966524599661, Accuracy: 0.9560439560439561\n",
      "Epoch 757,  ROC_AUC: 0.9943518020441097, Accuracy: 0.9582417582417583\n",
      "Epoch 758,  ROC_AUC: 0.9923449331733355, Accuracy: 0.9516483516483516\n",
      "Epoch 759,  ROC_AUC: 0.9925311375015516, Accuracy: 0.9472527472527472\n",
      "Epoch 760,  ROC_AUC: 0.9935035378822361, Accuracy: 0.9494505494505494\n",
      "Epoch 761,  ROC_AUC: 0.9918690776678942, Accuracy: 0.9494505494505494\n",
      "Epoch 762,  ROC_AUC: 0.9913518434228493, Accuracy: 0.9648351648351648\n",
      "Epoch 763,  ROC_AUC: 0.9915587371208673, Accuracy: 0.9406593406593406\n",
      "Epoch 764,  ROC_AUC: 0.9936690528406504, Accuracy: 0.9560439560439561\n",
      "Epoch 765,  ROC_AUC: 0.9925932056109571, Accuracy: 0.945054945054945\n",
      "Epoch 766,  ROC_AUC: 0.9921587288451194, Accuracy: 0.9428571428571428\n",
      "Epoch 767,  ROC_AUC: 0.9921587288451195, Accuracy: 0.9516483516483516\n",
      "Epoch 768,  ROC_AUC: 0.992903546157984, Accuracy: 0.9516483516483516\n",
      "Epoch 769,  ROC_AUC: 0.9927587205693714, Accuracy: 0.9560439560439561\n",
      "Epoch 770,  ROC_AUC: 0.9915173583812638, Accuracy: 0.9516483516483516\n",
      "Epoch 771,  ROC_AUC: 0.9933380229238218, Accuracy: 0.9384615384615385\n",
      "Epoch 772,  ROC_AUC: 0.9898415194273182, Accuracy: 0.945054945054945\n",
      "Epoch 773,  ROC_AUC: 0.9930897504862002, Accuracy: 0.9582417582417583\n",
      "Epoch 774,  ROC_AUC: 0.9938966359084702, Accuracy: 0.9516483516483516\n",
      "Epoch 775,  ROC_AUC: 0.9909173666570116, Accuracy: 0.9560439560439561\n",
      "Epoch 776,  ROC_AUC: 0.9930690611163984, Accuracy: 0.9560439560439561\n",
      "Epoch 777,  ROC_AUC: 0.9921380394753176, Accuracy: 0.9494505494505494\n",
      "Epoch 778,  ROC_AUC: 0.9888070509372284, Accuracy: 0.9472527472527472\n",
      "Epoch 779,  ROC_AUC: 0.9911863284644349, Accuracy: 0.9538461538461539\n",
      "Epoch 780,  ROC_AUC: 0.9924276906525427, Accuracy: 0.9538461538461539\n",
      "Epoch 781,  ROC_AUC: 0.9914346009020565, Accuracy: 0.9472527472527472\n",
      "Epoch 782,  ROC_AUC: 0.9921587288451194, Accuracy: 0.9472527472527472\n",
      "Epoch 783,  ROC_AUC: 0.992096660735714, Accuracy: 0.9472527472527472\n",
      "Epoch 784,  ROC_AUC: 0.993813878429263, Accuracy: 0.9626373626373627\n",
      "Epoch 785,  ROC_AUC: 0.9931311292258038, Accuracy: 0.9648351648351648\n",
      "Epoch 786,  ROC_AUC: 0.9947242107005421, Accuracy: 0.9560439560439561\n",
      "Epoch 787,  ROC_AUC: 0.9936276741010469, Accuracy: 0.9538461538461539\n",
      "Epoch 788,  ROC_AUC: 0.9929242355277859, Accuracy: 0.9516483516483516\n",
      "Epoch 789,  ROC_AUC: 0.9921173501055157, Accuracy: 0.9384615384615385\n",
      "Epoch 790,  ROC_AUC: 0.992303554433732, Accuracy: 0.9582417582417583\n",
      "Epoch 791,  ROC_AUC: 0.9942069764554972, Accuracy: 0.9560439560439561\n",
      "Epoch 792,  ROC_AUC: 0.9930276823767948, Accuracy: 0.9516483516483516\n",
      "Epoch 793,  ROC_AUC: 0.9927794099391732, Accuracy: 0.9560439560439561\n",
      "Epoch 794,  ROC_AUC: 0.9928000993089751, Accuracy: 0.9604395604395605\n",
      "Epoch 795,  ROC_AUC: 0.9926138949807588, Accuracy: 0.9626373626373627\n",
      "Epoch 796,  ROC_AUC: 0.9960276409980553, Accuracy: 0.9604395604395605\n",
      "Epoch 797,  ROC_AUC: 0.9939793933876774, Accuracy: 0.9604395604395605\n",
      "Epoch 798,  ROC_AUC: 0.9913104646832457, Accuracy: 0.9472527472527472\n",
      "Epoch 799,  ROC_AUC: 0.9925518268713535, Accuracy: 0.9494505494505494\n",
      "Epoch 800,  ROC_AUC: 0.993110439856002, Accuracy: 0.9604395604395605\n",
      "Epoch 801,  ROC_AUC: 0.9910415028758225, Accuracy: 0.9604395604395605\n",
      "Epoch 802,  ROC_AUC: 0.9949104150287582, Accuracy: 0.9626373626373627\n",
      "Epoch 803,  ROC_AUC: 0.9915587371208673, Accuracy: 0.9472527472527472\n",
      "Epoch 804,  ROC_AUC: 0.9932552654446145, Accuracy: 0.9494505494505494\n",
      "Epoch 805,  ROC_AUC: 0.9935449166218396, Accuracy: 0.9494505494505494\n",
      "Epoch 806,  ROC_AUC: 0.9942069764554972, Accuracy: 0.9648351648351648\n",
      "Epoch 807,  ROC_AUC: 0.9934828485124344, Accuracy: 0.9604395604395605\n",
      "Epoch 808,  ROC_AUC: 0.9927587205693714, Accuracy: 0.9604395604395605\n",
      "Epoch 809,  ROC_AUC: 0.9917863201886871, Accuracy: 0.945054945054945\n",
      "Epoch 810,  ROC_AUC: 0.991682873339678, Accuracy: 0.9472527472527472\n",
      "Epoch 811,  ROC_AUC: 0.9962138453262714, Accuracy: 0.9582417582417583\n",
      "Epoch 812,  ROC_AUC: 0.9931104398560022, Accuracy: 0.9648351648351648\n",
      "Epoch 813,  ROC_AUC: 0.9941655977158936, Accuracy: 0.9626373626373627\n",
      "Epoch 814,  ROC_AUC: 0.9925311375015518, Accuracy: 0.9472527472527472\n",
      "Epoch 815,  ROC_AUC: 0.9939380146480737, Accuracy: 0.9494505494505494\n",
      "Epoch 816,  ROC_AUC: 0.9935862953614434, Accuracy: 0.9516483516483516\n",
      "Epoch 817,  ROC_AUC: 0.9937518103198576, Accuracy: 0.9560439560439561\n",
      "Epoch 818,  ROC_AUC: 0.9941655977158935, Accuracy: 0.9604395604395605\n",
      "Epoch 819,  ROC_AUC: 0.9957379898208301, Accuracy: 0.9582417582417583\n",
      "Epoch 820,  ROC_AUC: 0.9937724996896593, Accuracy: 0.9538461538461539\n",
      "Epoch 821,  ROC_AUC: 0.9923242438035338, Accuracy: 0.9472527472527472\n"
     ]
    },
    {
     "name": "stdout",
     "output_type": "stream",
     "text": [
      "Epoch 822,  ROC_AUC: 0.9911242603550295, Accuracy: 0.945054945054945\n",
      "Epoch 823,  ROC_AUC: 0.9940207721272809, Accuracy: 0.9516483516483516\n",
      "Epoch 824,  ROC_AUC: 0.9955931642322174, Accuracy: 0.9626373626373627\n",
      "Epoch 825,  ROC_AUC: 0.9934414697728307, Accuracy: 0.9494505494505494\n",
      "Epoch 826,  ROC_AUC: 0.9942897339347043, Accuracy: 0.9560439560439561\n",
      "Epoch 827,  ROC_AUC: 0.9955104067530103, Accuracy: 0.9714285714285714\n",
      "Epoch 828,  ROC_AUC: 0.9954483386436048, Accuracy: 0.9604395604395605\n",
      "Epoch 829,  ROC_AUC: 0.9927380311995696, Accuracy: 0.9560439560439561\n",
      "Epoch 830,  ROC_AUC: 0.9948690362891546, Accuracy: 0.9582417582417583\n",
      "Epoch 831,  ROC_AUC: 0.9935242272520379, Accuracy: 0.9582417582417583\n",
      "Epoch 832,  ROC_AUC: 0.9932345760748127, Accuracy: 0.9538461538461539\n",
      "Epoch 833,  ROC_AUC: 0.99493110439856, Accuracy: 0.9648351648351648\n",
      "Epoch 834,  ROC_AUC: 0.9927587205693715, Accuracy: 0.9538461538461539\n",
      "Epoch 835,  ROC_AUC: 0.9937931890594612, Accuracy: 0.9472527472527472\n",
      "Epoch 836,  ROC_AUC: 0.9930690611163984, Accuracy: 0.9538461538461539\n",
      "Epoch 837,  ROC_AUC: 0.994827657549551, Accuracy: 0.9582417582417583\n",
      "Epoch 838,  ROC_AUC: 0.9948690362891547, Accuracy: 0.9516483516483516\n",
      "Epoch 839,  ROC_AUC: 0.9954690280134066, Accuracy: 0.9626373626373627\n",
      "Epoch 840,  ROC_AUC: 0.9949931725079654, Accuracy: 0.9582417582417583\n",
      "Epoch 841,  ROC_AUC: 0.9938759465386685, Accuracy: 0.9604395604395605\n",
      "Epoch 842,  ROC_AUC: 0.9935242272520379, Accuracy: 0.9560439560439561\n",
      "Epoch 843,  ROC_AUC: 0.9957173004510282, Accuracy: 0.9626373626373627\n",
      "Epoch 844,  ROC_AUC: 0.9969379732693342, Accuracy: 0.967032967032967\n",
      "Epoch 845,  ROC_AUC: 0.9958828154094427, Accuracy: 0.9692307692307692\n",
      "Epoch 846,  ROC_AUC: 0.9914139115322547, Accuracy: 0.9494505494505494\n",
      "Epoch 847,  ROC_AUC: 0.9933380229238217, Accuracy: 0.9626373626373627\n",
      "Epoch 848,  ROC_AUC: 0.9940828402366865, Accuracy: 0.967032967032967\n",
      "Epoch 849,  ROC_AUC: 0.9945380063723259, Accuracy: 0.9648351648351648\n",
      "Epoch 850,  ROC_AUC: 0.9950138618777672, Accuracy: 0.9560439560439561\n",
      "Epoch 851,  ROC_AUC: 0.9937724996896593, Accuracy: 0.9560439560439561\n",
      "Epoch 852,  ROC_AUC: 0.9934621591426325, Accuracy: 0.9560439560439561\n",
      "Epoch 853,  ROC_AUC: 0.9957173004510282, Accuracy: 0.9582417582417583\n",
      "Epoch 854,  ROC_AUC: 0.9938552571688667, Accuracy: 0.9538461538461539\n",
      "Epoch 855,  ROC_AUC: 0.9949517937683618, Accuracy: 0.9626373626373627\n",
      "Epoch 856,  ROC_AUC: 0.9959862622584517, Accuracy: 0.9648351648351648\n",
      "Epoch 857,  ROC_AUC: 0.9943931807837133, Accuracy: 0.967032967032967\n",
      "Epoch 858,  ROC_AUC: 0.9956759217114246, Accuracy: 0.9648351648351648\n",
      "Epoch 859,  ROC_AUC: 0.9929449248975877, Accuracy: 0.9560439560439561\n",
      "Epoch 860,  ROC_AUC: 0.994413870153515, Accuracy: 0.945054945054945\n",
      "Epoch 861,  ROC_AUC: 0.995137998096578, Accuracy: 0.9560439560439561\n",
      "Epoch 862,  ROC_AUC: 0.9929656142673894, Accuracy: 0.9494505494505494\n",
      "Epoch 863,  ROC_AUC: 0.9928414780485787, Accuracy: 0.9560439560439561\n",
      "Epoch 864,  ROC_AUC: 0.9941035296064882, Accuracy: 0.967032967032967\n",
      "Epoch 865,  ROC_AUC: 0.9934828485124344, Accuracy: 0.9648351648351648\n",
      "Epoch 866,  ROC_AUC: 0.9956966110812264, Accuracy: 0.9604395604395605\n",
      "Epoch 867,  ROC_AUC: 0.9959655728886498, Accuracy: 0.9538461538461539\n",
      "Epoch 868,  ROC_AUC: 0.9942276658252989, Accuracy: 0.9494505494505494\n",
      "Epoch 869,  ROC_AUC: 0.9936690528406504, Accuracy: 0.9538461538461539\n",
      "Epoch 870,  ROC_AUC: 0.993420780403029, Accuracy: 0.9494505494505494\n",
      "Epoch 871,  ROC_AUC: 0.9950966193569744, Accuracy: 0.9626373626373627\n",
      "Epoch 872,  ROC_AUC: 0.995634542971821, Accuracy: 0.9582417582417583\n",
      "Epoch 873,  ROC_AUC: 0.9948897256589565, Accuracy: 0.9604395604395605\n",
      "Epoch 874,  ROC_AUC: 0.994331112674308, Accuracy: 0.9516483516483516\n",
      "Epoch 875,  ROC_AUC: 0.9941655977158935, Accuracy: 0.9560439560439561\n",
      "Epoch 876,  ROC_AUC: 0.9968759051599289, Accuracy: 0.9692307692307692\n",
      "Epoch 877,  ROC_AUC: 0.9947449000703439, Accuracy: 0.9582417582417583\n",
      "Epoch 878,  ROC_AUC: 0.9961931559564696, Accuracy: 0.9692307692307692\n",
      "Epoch 879,  ROC_AUC: 0.9949724831381634, Accuracy: 0.9604395604395605\n",
      "Epoch 880,  ROC_AUC: 0.9924897587619481, Accuracy: 0.9560439560439561\n",
      "Epoch 881,  ROC_AUC: 0.9941449083460918, Accuracy: 0.9494505494505494\n",
      "Epoch 882,  ROC_AUC: 0.9950759299871725, Accuracy: 0.9692307692307692\n",
      "Epoch 883,  ROC_AUC: 0.9968965945297307, Accuracy: 0.9692307692307692\n",
      "Epoch 884,  ROC_AUC: 0.9956138536020193, Accuracy: 0.9692307692307692\n",
      "Epoch 885,  ROC_AUC: 0.9964828071336947, Accuracy: 0.967032967032967\n",
      "Epoch 886,  ROC_AUC: 0.9923656225431373, Accuracy: 0.967032967032967\n",
      "Epoch 887,  ROC_AUC: 0.9952621343153888, Accuracy: 0.967032967032967\n",
      "Epoch 888,  ROC_AUC: 0.9935656059916415, Accuracy: 0.9626373626373627\n",
      "Epoch 889,  ROC_AUC: 0.9961931559564695, Accuracy: 0.9648351648351648\n",
      "Epoch 890,  ROC_AUC: 0.9946828319609384, Accuracy: 0.9516483516483516\n",
      "Epoch 891,  ROC_AUC: 0.9948690362891546, Accuracy: 0.9582417582417583\n",
      "Epoch 892,  ROC_AUC: 0.9958414366698392, Accuracy: 0.9648351648351648\n",
      "Epoch 893,  ROC_AUC: 0.9958207473000372, Accuracy: 0.9714285714285714\n",
      "Epoch 894,  ROC_AUC: 0.996048330367857, Accuracy: 0.9736263736263736\n",
      "Epoch 895,  ROC_AUC: 0.995241444945587, Accuracy: 0.9582417582417583\n",
      "Epoch 896,  ROC_AUC: 0.9935862953614433, Accuracy: 0.9516483516483516\n",
      "Epoch 897,  ROC_AUC: 0.99493110439856, Accuracy: 0.9560439560439561\n",
      "Epoch 898,  ROC_AUC: 0.9967103902015144, Accuracy: 0.9648351648351648\n",
      "Epoch 899,  ROC_AUC: 0.9949517937683618, Accuracy: 0.9604395604395605\n",
      "Epoch 900,  ROC_AUC: 0.9958000579302354, Accuracy: 0.9626373626373627\n",
      "Epoch 901,  ROC_AUC: 0.9964621177638929, Accuracy: 0.9604395604395605\n",
      "Epoch 902,  ROC_AUC: 0.9961103984772623, Accuracy: 0.9604395604395605\n",
      "Epoch 903,  ROC_AUC: 0.9978689949104151, Accuracy: 0.9714285714285714\n",
      "Epoch 904,  ROC_AUC: 0.9957793685604336, Accuracy: 0.9626373626373627\n",
      "Epoch 905,  ROC_AUC: 0.9969172838995325, Accuracy: 0.9692307692307692\n",
      "Epoch 906,  ROC_AUC: 0.9952828236851906, Accuracy: 0.9582417582417583\n",
      "Epoch 907,  ROC_AUC: 0.9945173170025241, Accuracy: 0.9648351648351648\n",
      "Epoch 908,  ROC_AUC: 0.9945793851119296, Accuracy: 0.9538461538461539\n",
      "Epoch 909,  ROC_AUC: 0.9963793602846857, Accuracy: 0.9714285714285714\n",
      "Epoch 910,  ROC_AUC: 0.9954897173832085, Accuracy: 0.9692307692307692\n",
      "Epoch 911,  ROC_AUC: 0.9952000662059834, Accuracy: 0.9582417582417583\n",
      "Epoch 912,  ROC_AUC: 0.9944345595233169, Accuracy: 0.9582417582417583\n",
      "Epoch 913,  ROC_AUC: 0.9968345264203253, Accuracy: 0.9758241758241758\n",
      "Epoch 914,  ROC_AUC: 0.9979931311292258, Accuracy: 0.9714285714285714\n",
      "Epoch 915,  ROC_AUC: 0.9955517854926139, Accuracy: 0.9560439560439561\n",
      "Epoch 916,  ROC_AUC: 0.9958000579302354, Accuracy: 0.9582417582417583\n",
      "Epoch 917,  ROC_AUC: 0.9948069681797492, Accuracy: 0.9538461538461539\n",
      "Epoch 918,  ROC_AUC: 0.9957586791906319, Accuracy: 0.9604395604395605\n",
      "Epoch 919,  ROC_AUC: 0.9958000579302355, Accuracy: 0.9582417582417583\n",
      "Epoch 920,  ROC_AUC: 0.9958828154094426, Accuracy: 0.9648351648351648\n",
      "Epoch 921,  ROC_AUC: 0.996255224065875, Accuracy: 0.9692307692307692\n",
      "Epoch 922,  ROC_AUC: 0.9959345388339471, Accuracy: 0.9582417582417583\n",
      "Epoch 923,  ROC_AUC: 0.9953242024247941, Accuracy: 0.967032967032967\n",
      "Epoch 924,  ROC_AUC: 0.9962552240658749, Accuracy: 0.9648351648351648\n",
      "Epoch 925,  ROC_AUC: 0.9973310712955683, Accuracy: 0.978021978021978\n",
      "Epoch 926,  ROC_AUC: 0.9958828154094426, Accuracy: 0.9714285714285714\n",
      "Epoch 927,  ROC_AUC: 0.9957379898208301, Accuracy: 0.9582417582417583\n",
      "Epoch 928,  ROC_AUC: 0.9963172921752803, Accuracy: 0.9648351648351648\n",
      "Epoch 929,  ROC_AUC: 0.9968345264203253, Accuracy: 0.9692307692307692\n",
      "Epoch 930,  ROC_AUC: 0.9940828402366864, Accuracy: 0.9494505494505494\n",
      "Epoch 931,  ROC_AUC: 0.9972483138163611, Accuracy: 0.9714285714285714\n",
      "Epoch 932,  ROC_AUC: 0.9953242024247941, Accuracy: 0.967032967032967\n",
      "Epoch 933,  ROC_AUC: 0.9970827988579469, Accuracy: 0.9692307692307692\n",
      "Epoch 934,  ROC_AUC: 0.998075888608433, Accuracy: 0.9736263736263736\n",
      "Epoch 935,  ROC_AUC: 0.9960276409980553, Accuracy: 0.967032967032967\n",
      "Epoch 936,  ROC_AUC: 0.9970000413787395, Accuracy: 0.9692307692307692\n",
      "Epoch 937,  ROC_AUC: 0.9959862622584517, Accuracy: 0.9648351648351648\n",
      "Epoch 938,  ROC_AUC: 0.9954690280134068, Accuracy: 0.9604395604395605\n",
      "Epoch 939,  ROC_AUC: 0.9950759299871726, Accuracy: 0.967032967032967\n",
      "Epoch 940,  ROC_AUC: 0.9954276492738031, Accuracy: 0.9560439560439561\n",
      "Epoch 941,  ROC_AUC: 0.996151777216866, Accuracy: 0.9692307692307692\n",
      "Epoch 942,  ROC_AUC: 0.9962966028054785, Accuracy: 0.9692307692307692\n",
      "Epoch 943,  ROC_AUC: 0.9965862539827037, Accuracy: 0.9736263736263736\n",
      "Epoch 944,  ROC_AUC: 0.9957586791906319, Accuracy: 0.9714285714285714\n",
      "Epoch 945,  ROC_AUC: 0.9949517937683618, Accuracy: 0.9714285714285714\n",
      "Epoch 946,  ROC_AUC: 0.9955310961228121, Accuracy: 0.9648351648351648\n",
      "Epoch 947,  ROC_AUC: 0.9973931394049738, Accuracy: 0.9758241758241758\n",
      "Epoch 948,  ROC_AUC: 0.9969379732693342, Accuracy: 0.9692307692307692\n",
      "Epoch 949,  ROC_AUC: 0.9978276161708114, Accuracy: 0.9692307692307692\n",
      "Epoch 950,  ROC_AUC: 0.9969379732693343, Accuracy: 0.9714285714285714\n",
      "Epoch 951,  ROC_AUC: 0.9973931394049736, Accuracy: 0.9692307692307692\n",
      "Epoch 952,  ROC_AUC: 0.9966483220921092, Accuracy: 0.9648351648351648\n",
      "Epoch 953,  ROC_AUC: 0.9956138536020191, Accuracy: 0.9582417582417583\n",
      "Epoch 954,  ROC_AUC: 0.9970414201183432, Accuracy: 0.967032967032967\n",
      "Epoch 955,  ROC_AUC: 0.9973103819257665, Accuracy: 0.9802197802197802\n",
      "Epoch 956,  ROC_AUC: 0.9972896925559648, Accuracy: 0.978021978021978\n",
      "Epoch 957,  ROC_AUC: 0.9948483469193529, Accuracy: 0.9626373626373627\n",
      "Epoch 958,  ROC_AUC: 0.9947655894401456, Accuracy: 0.967032967032967\n",
      "Epoch 959,  ROC_AUC: 0.9966690114619109, Accuracy: 0.9648351648351648\n",
      "Epoch 960,  ROC_AUC: 0.9939380146480739, Accuracy: 0.9736263736263736\n",
      "Epoch 961,  ROC_AUC: 0.9964621177638929, Accuracy: 0.978021978021978\n",
      "Epoch 962,  ROC_AUC: 0.9977448586916042, Accuracy: 0.9758241758241758\n",
      "Epoch 963,  ROC_AUC: 0.9967931476807217, Accuracy: 0.9758241758241758\n",
      "Epoch 964,  ROC_AUC: 0.9935862953614434, Accuracy: 0.9692307692307692\n",
      "Epoch 965,  ROC_AUC: 0.9974345181445774, Accuracy: 0.9736263736263736\n",
      "Epoch 966,  ROC_AUC: 0.9965034965034965, Accuracy: 0.967032967032967\n",
      "Epoch 967,  ROC_AUC: 0.9983655397856582, Accuracy: 0.9758241758241758\n",
      "Epoch 968,  ROC_AUC: 0.9979931311292257, Accuracy: 0.978021978021978\n",
      "Epoch 969,  ROC_AUC: 0.9967724583109199, Accuracy: 0.967032967032967\n",
      "Epoch 970,  ROC_AUC: 0.9964621177638929, Accuracy: 0.9604395604395605\n",
      "Epoch 971,  ROC_AUC: 0.9974138287747756, Accuracy: 0.9736263736263736\n",
      "Epoch 972,  ROC_AUC: 0.9958621260396407, Accuracy: 0.9648351648351648\n",
      "Epoch 973,  ROC_AUC: 0.9925518268713535, Accuracy: 0.9560439560439561\n",
      "Epoch 974,  ROC_AUC: 0.9945380063723259, Accuracy: 0.9494505494505494\n",
      "Epoch 975,  ROC_AUC: 0.996751768941118, Accuracy: 0.9692307692307692\n",
      "Epoch 976,  ROC_AUC: 0.9973931394049738, Accuracy: 0.9714285714285714\n",
      "Epoch 977,  ROC_AUC: 0.9963793602846858, Accuracy: 0.9582417582417583\n",
      "Epoch 978,  ROC_AUC: 0.9977448586916043, Accuracy: 0.967032967032967\n",
      "Epoch 979,  ROC_AUC: 0.9965241858732983, Accuracy: 0.9604395604395605\n",
      "Epoch 980,  ROC_AUC: 0.996358670914884, Accuracy: 0.967032967032967\n",
      "Epoch 981,  ROC_AUC: 0.9970827988579467, Accuracy: 0.978021978021978\n",
      "Epoch 982,  ROC_AUC: 0.9958000579302355, Accuracy: 0.9538461538461539\n",
      "Epoch 983,  ROC_AUC: 0.9969793520089378, Accuracy: 0.9516483516483516\n",
      "Epoch 984,  ROC_AUC: 0.9962966028054786, Accuracy: 0.9560439560439561\n",
      "Epoch 985,  ROC_AUC: 0.9984276078950636, Accuracy: 0.978021978021978\n",
      "Epoch 986,  ROC_AUC: 0.9957586791906318, Accuracy: 0.967032967032967\n",
      "Epoch 987,  ROC_AUC: 0.997558654363388, Accuracy: 0.9736263736263736\n",
      "Epoch 988,  ROC_AUC: 0.9973310712955683, Accuracy: 0.967032967032967\n",
      "Epoch 989,  ROC_AUC: 0.9959655728886498, Accuracy: 0.967032967032967\n",
      "Epoch 990,  ROC_AUC: 0.9978276161708114, Accuracy: 0.9692307692307692\n",
      "Epoch 991,  ROC_AUC: 0.9965655646129018, Accuracy: 0.9648351648351648\n",
      "Epoch 992,  ROC_AUC: 0.9985517441138743, Accuracy: 0.9824175824175824\n",
      "Epoch 993,  ROC_AUC: 0.9975379649935863, Accuracy: 0.9736263736263736\n",
      "Epoch 994,  ROC_AUC: 0.9971862457069558, Accuracy: 0.9758241758241758\n",
      "Epoch 995,  ROC_AUC: 0.9970000413787397, Accuracy: 0.9736263736263736\n",
      "Epoch 996,  ROC_AUC: 0.9966690114619109, Accuracy: 0.9714285714285714\n",
      "Epoch 997,  ROC_AUC: 0.9983448504158563, Accuracy: 0.978021978021978\n",
      "Epoch 998,  ROC_AUC: 0.9981586460876403, Accuracy: 0.978021978021978\n",
      "Epoch 999,  ROC_AUC: 0.9968138370505235, Accuracy: 0.9714285714285714\n",
      "Epoch 1000,  ROC_AUC: 0.9983241610460545, Accuracy: 0.978021978021978\n"
     ]
    }
   ],
   "source": [
    "from sklearn.metrics import roc_auc_score, accuracy_score\n",
    "nb_epoch = 1000\n",
    "for epoch in range(nb_epoch):\n",
    "    epoch+=1\n",
    "    #Convert the numpy array to torch tensor\n",
    "    inputs = Variable(torch.from_numpy(X_train))\n",
    "    labels = Variable(torch.from_numpy(y_train))\n",
    "    \n",
    "    #Clear the gradients\n",
    "    optimizer.zero_grad()\n",
    "    \n",
    "    #Compute the output using forward pass\n",
    "    outputs = model.forward(inputs)\n",
    "#     print(outputs)\n",
    "    \n",
    "    #Compute the loss\n",
    "    loss = criterion(outputs, labels)\n",
    "    \n",
    "    #get the Gradient\n",
    "    loss.backward()\n",
    "    \n",
    "    #Update the parameters\n",
    "    optimizer.step()\n",
    "    \n",
    "    with torch.no_grad():\n",
    "        prob = model.forward(inputs)\n",
    "        y_pred = prob.numpy()\n",
    "        y_pred = (y_pred>0.6)\n",
    "        score = roc_auc_score(labels, prob)\n",
    "        accuracy = accuracy_score(y_train, y_pred)\n",
    "    \n",
    "    print('Epoch {},  ROC_AUC: {}, Accuracy: {}'.format(epoch, score, accuracy))"
   ]
  },
  {
   "cell_type": "code",
   "execution_count": 32,
   "metadata": {},
   "outputs": [],
   "source": [
    "from sklearn.metrics import roc_curve"
   ]
  },
  {
   "cell_type": "markdown",
   "metadata": {},
   "source": [
    "Let us look at the roc curve of the model especially over the test data"
   ]
  },
  {
   "cell_type": "code",
   "execution_count": 33,
   "metadata": {},
   "outputs": [],
   "source": [
    "#computing the ROC curve and accuracy\n",
    "with torch.no_grad():\n",
    "    probs = model.forward(torch.from_numpy(X_test))\n",
    "    fpr, tpr, thresholds = roc_curve(y_test, probs.numpy())\n",
    "    roc_score = roc_auc_score(y_test, probs.numpy())\n",
    "    "
   ]
  },
  {
   "cell_type": "code",
   "execution_count": 34,
   "metadata": {},
   "outputs": [
    {
     "data": {
      "text/plain": [
       "Text(0, 0.5, 'TPR')"
      ]
     },
     "execution_count": 34,
     "metadata": {},
     "output_type": "execute_result"
    },
    {
     "data": {
      "image/png": "[encoded data removed]",
      "text/plain": [
       "<Figure size 432x288 with 1 Axes>"
      ]
     },
     "metadata": {
      "needs_background": "light"
     },
     "output_type": "display_data"
    }
   ],
   "source": [
    "plt.plot(fpr, tpr, 'r-', label='ROC_test')\n",
    "plt.plot([0,1], [0, 1], 'b--')\n",
    "plt.legend(loc='best')\n",
    "plt.xlabel('FPR')\n",
    "plt.ylabel('TPR')"
   ]
  },
  {
   "cell_type": "code",
   "execution_count": 35,
   "metadata": {},
   "outputs": [
    {
     "name": "stdout",
     "output_type": "stream",
     "text": [
      "The ROC_AUC score is : 0.9898460530625613\n"
     ]
    }
   ],
   "source": [
    "print('The ROC_AUC score is : {}'.format(roc_score))"
   ]
  },
  {
   "cell_type": "code",
   "execution_count": 36,
   "metadata": {},
   "outputs": [],
   "source": [
    "#computing the ROC curve\n",
    "with torch.no_grad():\n",
    "    probs = model.forward(torch.from_numpy(X_train))\n",
    "    fpr, tpr, thresholds = roc_curve(y_train, probs.numpy())\n",
    "    roc_score = roc_auc_score(y_train, probs.numpy())"
   ]
  },
  {
   "cell_type": "code",
   "execution_count": 37,
   "metadata": {},
   "outputs": [
    {
     "data": {
      "text/plain": [
       "Text(0, 0.5, 'TPR')"
      ]
     },
     "execution_count": 37,
     "metadata": {},
     "output_type": "execute_result"
    },
    {
     "data": {
      "image/png": "[encoded data removed]",
      "text/plain": [
       "<Figure size 432x288 with 1 Axes>"
      ]
     },
     "metadata": {
      "needs_background": "light"
     },
     "output_type": "display_data"
    }
   ],
   "source": [
    "plt.plot(fpr, tpr, 'r-', label='ROC_train')\n",
    "plt.plot([0,1], [0, 1], 'b--')\n",
    "plt.legend(loc='best')\n",
    "plt.xlabel('FPR')\n",
    "plt.ylabel('TPR')"
   ]
  },
  {
   "cell_type": "code",
   "execution_count": 38,
   "metadata": {},
   "outputs": [
    {
     "name": "stdout",
     "output_type": "stream",
     "text": [
      "The ROC_AUC score is : 0.997062109488145\n"
     ]
    }
   ],
   "source": [
    "print('The ROC_AUC score is : {}'.format(roc_score))"
   ]
  },
  {
   "cell_type": "code",
   "execution_count": 39,
   "metadata": {},
   "outputs": [
    {
     "data": {
      "text/plain": [
       "array([2.0000000e+00, 1.0000000e+00, 9.9999988e-01, 9.9999976e-01,\n",
       "       9.9999964e-01, 9.9999940e-01, 9.9999917e-01, 9.9999905e-01,\n",
       "       9.9999893e-01, 9.9999881e-01, 9.9999869e-01, 9.9999797e-01,\n",
       "       9.9999785e-01, 9.9999690e-01, 9.9999678e-01, 9.9999642e-01,\n",
       "       9.9999356e-01, 9.9999344e-01, 9.9998987e-01, 9.9998951e-01,\n",
       "       9.9998939e-01, 9.9998689e-01, 9.9996972e-01, 9.9996960e-01,\n",
       "       9.9996471e-01, 9.9996376e-01, 9.9995196e-01, 9.9994981e-01,\n",
       "       9.9733990e-01, 9.9714416e-01, 9.0912259e-01, 9.0818745e-01,\n",
       "       8.3406520e-01, 8.1970048e-01, 6.9274253e-01, 6.8885088e-01,\n",
       "       6.5174794e-01, 5.6159890e-01, 5.2611643e-01, 4.8496565e-01,\n",
       "       4.8128450e-01, 4.2618266e-01, 3.7291053e-01, 3.2470033e-01,\n",
       "       3.1906191e-01, 2.3774420e-01, 2.3359565e-01, 2.2152987e-01,\n",
       "       1.7749391e-01, 5.4858587e-33], dtype=float32)"
      ]
     },
     "execution_count": 39,
     "metadata": {},
     "output_type": "execute_result"
    }
   ],
   "source": [
    "thresholds"
   ]
  },
  {
   "cell_type": "markdown",
   "metadata": {},
   "source": [
    "### Regularization using Dropouts\n",
    "\n",
    "In a neural network, no particular neuron or perceptron should get a special preference. In order to make it possible, a regularization mechanism is introduced known as the dropout regularization. In dropout regularization, we deactivate a number of randomly selected neurons in each layer in each epoch. Thus it makes sure that no one neuron is particularly more overused. This decreases the chances of overfitting.  "
   ]
  },
  {
   "cell_type": "markdown",
   "metadata": {},
   "source": [
    "#### Convolutional Neural Networks\n",
    "\n",
    "Convolutional Neural Network (CNN) is a variety of neural network that is used to classify images. This type of network utilizes convolutional layers to extract features from the images. "
   ]
  },
  {
   "cell_type": "markdown",
   "metadata": {},
   "source": [
    "Let us get the data which we will use to train a CNN for classification purposes. One of the most standard datasets used for image classfication is the MNIST dataset which is collection of labeled handwritten digits. The dataset can be downloaded using torchvision datasets. "
   ]
  },
  {
   "cell_type": "code",
   "execution_count": 40,
   "metadata": {},
   "outputs": [
    {
     "name": "stdout",
     "output_type": "stream",
     "text": [
      "Downloading http://yann.lecun.com/exdb/mnist/train-images-idx3-ubyte.gz to ./data/MNIST\\raw\\train-images-idx3-ubyte.gz\n"
     ]
    },
    {
     "name": "stderr",
     "output_type": "stream",
     "text": [
      "9920512it [00:02, 3683568.66it/s]                                                                                      \n"
     ]
    },
    {
     "name": "stdout",
     "output_type": "stream",
     "text": [
      "Extracting ./data/MNIST\\raw\\train-images-idx3-ubyte.gz\n",
      "Downloading http://yann.lecun.com/exdb/mnist/train-labels-idx1-ubyte.gz to ./data/MNIST\\raw\\train-labels-idx1-ubyte.gz\n"
     ]
    },
    {
     "name": "stderr",
     "output_type": "stream",
     "text": [
      "32768it [00:00, 89276.45it/s]                                                                                          \n"
     ]
    },
    {
     "name": "stdout",
     "output_type": "stream",
     "text": [
      "Extracting ./data/MNIST\\raw\\train-labels-idx1-ubyte.gz\n",
      "Downloading http://yann.lecun.com/exdb/mnist/t10k-images-idx3-ubyte.gz to ./data/MNIST\\raw\\t10k-images-idx3-ubyte.gz\n"
     ]
    },
    {
     "name": "stderr",
     "output_type": "stream",
     "text": [
      "1654784it [00:01, 1237114.42it/s]                                                                                      \n"
     ]
    },
    {
     "name": "stdout",
     "output_type": "stream",
     "text": [
      "Extracting ./data/MNIST\\raw\\t10k-images-idx3-ubyte.gz\n",
      "Downloading http://yann.lecun.com/exdb/mnist/t10k-labels-idx1-ubyte.gz to ./data/MNIST\\raw\\t10k-labels-idx1-ubyte.gz\n"
     ]
    },
    {
     "name": "stderr",
     "output_type": "stream",
     "text": [
      "8192it [00:00, 34540.42it/s]                                                                                           \n"
     ]
    },
    {
     "name": "stdout",
     "output_type": "stream",
     "text": [
      "Extracting ./data/MNIST\\raw\\t10k-labels-idx1-ubyte.gz\n",
      "Processing...\n",
      "Done!\n"
     ]
    }
   ],
   "source": [
    "import torchvision\n",
    "import torchvision.transforms as transforms\n",
    "\n",
    "# Device configuration\n",
    "device = torch.device('cuda:0' if torch.cuda.is_available() else 'cpu')\n",
    "\n",
    "batch_size = 64\n",
    "nb_epoch = 5\n",
    "num_classes = 10\n",
    "# MNIST dataset\n",
    "train_dataset = torchvision.datasets.MNIST(root='./data/',\n",
    "                                           train=True, \n",
    "                                           transform=transforms.ToTensor(),\n",
    "                                           download=True)\n",
    "\n",
    "test_dataset = torchvision.datasets.MNIST(root='./data/',\n",
    "                                          train=False, \n",
    "                                          transform=transforms.ToTensor())\n",
    "\n",
    "# Data loader\n",
    "train_loader = torch.utils.data.DataLoader(dataset=train_dataset,\n",
    "                                           batch_size=batch_size, \n",
    "                                           shuffle=True)\n",
    "\n",
    "test_loader = torch.utils.data.DataLoader(dataset=test_dataset,\n",
    "                                          batch_size=batch_size, \n",
    "                                          shuffle=False)"
   ]
  },
  {
   "cell_type": "code",
   "execution_count": 41,
   "metadata": {},
   "outputs": [
    {
     "data": {
      "image/png": "[encoded data removed]",
      "text/plain": [
       "<Figure size 864x864 with 1 Axes>"
      ]
     },
     "metadata": {
      "needs_background": "light"
     },
     "output_type": "display_data"
    },
    {
     "name": "stdout",
     "output_type": "stream",
     "text": [
      "The labels are : [3 6 7 4 5 2 8 2 6 4 7 1 2 6 0 2 4 3 2 2 5 0 4 4 1 1 1 1 8 1 6 5 2 6 0 7 6\n",
      " 0 8 1 6 7 3 1 6 0 6 5 7 0 2 3 4 0 6 0 5 4 7 2 8 4 3 5]\n"
     ]
    }
   ],
   "source": [
    "def imshow(img):\n",
    "    img = img / 2 + 0.5     # unnormalize\n",
    "    npimg = img.numpy()\n",
    "    plt.figure(figsize=(12, 12))\n",
    "    plt.imshow(np.transpose(npimg, (1, 2, 0)))\n",
    "    plt.show()\n",
    "\n",
    "\n",
    "# get some random training images\n",
    "dataiter = iter(train_loader)\n",
    "images, labels = dataiter.next()\n",
    "\n",
    "# show images\n",
    "imshow(torchvision.utils.make_grid(images))\n",
    "print('The labels are : {}'.format(labels.numpy()))"
   ]
  },
  {
   "cell_type": "code",
   "execution_count": 42,
   "metadata": {},
   "outputs": [
    {
     "data": {
      "text/plain": [
       "torch.Size([64, 1, 28, 28])"
      ]
     },
     "execution_count": 42,
     "metadata": {},
     "output_type": "execute_result"
    }
   ],
   "source": [
    "images.size()"
   ]
  },
  {
   "cell_type": "markdown",
   "metadata": {},
   "source": [
    "The CNN we will be implementing has the following structure:\n",
    "<img src=\"images/cnn.png\" width=\"1000\" height=\"500\">"
   ]
  },
  {
   "cell_type": "code",
   "execution_count": 93,
   "metadata": {},
   "outputs": [],
   "source": [
    "class CNN(nn.Module):\n",
    "    \"\"\"\n",
    "    Convolutional neural network\n",
    "    LeNet-5 consist of the following layers:\n",
    "    Input size images: 28x28\n",
    "    Convolution layer 1:\n",
    "    Padding: Same, (input_size = output_size)\n",
    "    Kernel Size = 5\n",
    "    output_channels = 16\n",
    "    MaxPool size = 2\n",
    "    \n",
    "    Conv layer 2:\n",
    "    Input channels = 16\n",
    "    Output channels = 32\n",
    "    Kernel Size = 5\n",
    "    padding = same\n",
    "    MaxPool size = 2\n",
    "    \n",
    "    this is followed by a fully connecte layer and the last layer with 10 neurons (num_classes)\n",
    "    \"\"\"\n",
    "    def __init__(self):\n",
    "        super(CNN, self).__init__()\n",
    "        #Convolutional Layer 1\n",
    "        self.conv1 = nn.Sequential(\n",
    "                    nn.Conv2d(in_channels=1, out_channels=16, kernel_size=5, stride=1, padding=2),\n",
    "                    nn.ReLU(),\n",
    "                    nn.Dropout2d(p=0.2),\n",
    "                    nn.MaxPool2d(kernel_size=2))\n",
    "        #Convolutional layer 2\n",
    "        self.conv2 = nn.Sequential(\n",
    "                    nn.Conv2d(in_channels=16, out_channels=32, kernel_size=5, stride=1, padding=2),\n",
    "                    nn.ReLU(),\n",
    "                    nn.Dropout2d(p=0.2),\n",
    "                    nn.MaxPool2d(kernel_size=2))\n",
    "        #Fully connected layer \n",
    "        self.fc = nn.Linear(32*7*7, 10)\n",
    "    def forward(self, x):\n",
    "        out1 = self.conv1(x)\n",
    "        out2 = self.conv2(out1)\n",
    "        #now flatten the output of the second convolution layer so that we can feed into the fully connected layer\n",
    "        out3 = out2.view(out2.size(0), -1)\n",
    "        out = self.fc(out3)\n",
    "        out_soft = F.softmax(out, dim=1)\n",
    "        return out1, out2, out, out_soft"
   ]
  },
  {
   "cell_type": "code",
   "execution_count": 94,
   "metadata": {},
   "outputs": [],
   "source": [
    "lr = .001\n",
    "model = CNN().to(device)\n",
    "criterion = nn.CrossEntropyLoss()\n",
    "optimizer = torch.optim.Adam(model.parameters(), lr=lr)"
   ]
  },
  {
   "cell_type": "code",
   "execution_count": 95,
   "metadata": {
    "scrolled": false
   },
   "outputs": [
    {
     "name": "stdout",
     "output_type": "stream",
     "text": [
      "Epoch [1/5], Step [100/938], Loss: 0.2407, Test Accuracy: 89.6200%\n",
      "Epoch [1/5], Step [200/938], Loss: 0.1965, Test Accuracy: 93.7400%\n",
      "Epoch [1/5], Step [300/938], Loss: 0.1239, Test Accuracy: 94.9600%\n",
      "Epoch [1/5], Step [400/938], Loss: 0.0779, Test Accuracy: 96.0300%\n",
      "Epoch [1/5], Step [500/938], Loss: 0.0734, Test Accuracy: 96.6500%\n",
      "Epoch [1/5], Step [600/938], Loss: 0.1451, Test Accuracy: 96.9600%\n",
      "Epoch [1/5], Step [700/938], Loss: 0.0939, Test Accuracy: 97.1200%\n",
      "Epoch [1/5], Step [800/938], Loss: 0.1434, Test Accuracy: 97.2100%\n",
      "Epoch [1/5], Step [900/938], Loss: 0.0373, Test Accuracy: 97.5800%\n",
      "Epoch [2/5], Step [100/938], Loss: 0.0678, Test Accuracy: 97.6700%\n",
      "Epoch [2/5], Step [200/938], Loss: 0.2347, Test Accuracy: 97.0600%\n",
      "Epoch [2/5], Step [300/938], Loss: 0.1503, Test Accuracy: 97.8400%\n",
      "Epoch [2/5], Step [400/938], Loss: 0.1963, Test Accuracy: 98.0000%\n",
      "Epoch [2/5], Step [500/938], Loss: 0.0653, Test Accuracy: 97.9000%\n",
      "Epoch [2/5], Step [600/938], Loss: 0.0298, Test Accuracy: 98.1100%\n",
      "Epoch [2/5], Step [700/938], Loss: 0.0839, Test Accuracy: 98.0600%\n",
      "Epoch [2/5], Step [800/938], Loss: 0.1431, Test Accuracy: 98.3400%\n",
      "Epoch [2/5], Step [900/938], Loss: 0.0605, Test Accuracy: 98.0800%\n",
      "Epoch [3/5], Step [100/938], Loss: 0.0652, Test Accuracy: 97.9400%\n",
      "Epoch [3/5], Step [200/938], Loss: 0.0970, Test Accuracy: 97.9800%\n",
      "Epoch [3/5], Step [300/938], Loss: 0.0085, Test Accuracy: 98.3000%\n",
      "Epoch [3/5], Step [400/938], Loss: 0.0212, Test Accuracy: 98.3400%\n",
      "Epoch [3/5], Step [500/938], Loss: 0.0728, Test Accuracy: 98.0700%\n",
      "Epoch [3/5], Step [600/938], Loss: 0.0347, Test Accuracy: 98.4300%\n",
      "Epoch [3/5], Step [700/938], Loss: 0.2331, Test Accuracy: 98.3500%\n",
      "Epoch [3/5], Step [800/938], Loss: 0.0957, Test Accuracy: 98.0800%\n",
      "Epoch [3/5], Step [900/938], Loss: 0.0146, Test Accuracy: 98.3500%\n",
      "Epoch [4/5], Step [100/938], Loss: 0.0351, Test Accuracy: 98.5400%\n",
      "Epoch [4/5], Step [200/938], Loss: 0.0348, Test Accuracy: 98.4600%\n",
      "Epoch [4/5], Step [300/938], Loss: 0.0189, Test Accuracy: 98.4300%\n",
      "Epoch [4/5], Step [400/938], Loss: 0.0270, Test Accuracy: 98.4200%\n",
      "Epoch [4/5], Step [500/938], Loss: 0.1716, Test Accuracy: 98.1300%\n",
      "Epoch [4/5], Step [600/938], Loss: 0.0205, Test Accuracy: 98.4200%\n",
      "Epoch [4/5], Step [700/938], Loss: 0.0236, Test Accuracy: 98.5300%\n",
      "Epoch [4/5], Step [800/938], Loss: 0.1386, Test Accuracy: 98.5700%\n",
      "Epoch [4/5], Step [900/938], Loss: 0.0098, Test Accuracy: 98.3700%\n",
      "Epoch [5/5], Step [100/938], Loss: 0.0175, Test Accuracy: 98.4500%\n",
      "Epoch [5/5], Step [200/938], Loss: 0.0099, Test Accuracy: 98.4400%\n",
      "Epoch [5/5], Step [300/938], Loss: 0.0294, Test Accuracy: 98.7000%\n",
      "Epoch [5/5], Step [400/938], Loss: 0.0415, Test Accuracy: 98.6300%\n",
      "Epoch [5/5], Step [500/938], Loss: 0.0255, Test Accuracy: 98.4200%\n",
      "Epoch [5/5], Step [600/938], Loss: 0.0044, Test Accuracy: 98.6200%\n",
      "Epoch [5/5], Step [700/938], Loss: 0.0127, Test Accuracy: 98.5800%\n",
      "Epoch [5/5], Step [800/938], Loss: 0.0520, Test Accuracy: 98.6500%\n",
      "Epoch [5/5], Step [900/938], Loss: 0.0622, Test Accuracy: 98.7200%\n"
     ]
    }
   ],
   "source": [
    "#Training\n",
    "total_step = len(train_loader)\n",
    "for epoch in range(nb_epoch):\n",
    "    for i, (images, labels) in enumerate(train_loader):\n",
    "        images = images.to(device)\n",
    "        labels = labels.to(device)\n",
    "        \n",
    "        # Forward pass\n",
    "        _,_,outputs, _ = model.forward(images)\n",
    "        loss = criterion(outputs, labels)\n",
    "        \n",
    "        # Backward and optimize\n",
    "        optimizer.zero_grad()\n",
    "        loss.backward()\n",
    "        optimizer.step()\n",
    "        \n",
    "        if (i+1) % 100 == 0:\n",
    "            correct = 0\n",
    "            total = 0\n",
    "            for images1, labels1 in test_loader:\n",
    "                #Load images, labels\n",
    "                images1 = images1.to(device)\n",
    "                labels1 = labels1.to(device)\n",
    "                \n",
    "                with torch.no_grad():\n",
    "                    _, _, _, output  = model.forward(images1)\n",
    "                    #get predictions from maxvalues\n",
    "                    prediction = torch.max(output, 1)[1]\n",
    "                    total+=labels1.size(0)\n",
    "                    correct+=(prediction==labels1).sum()\n",
    "                    accuracy = 100.0*correct.cpu().numpy()/total\n",
    "            print ('Epoch [{}/{}], Step [{}/{}], Loss: {:.4f}, Test Accuracy: {:.4f}%' \n",
    "                   .format(epoch+1, nb_epoch, i+1, total_step, loss.item(), accuracy))"
   ]
  },
  {
   "cell_type": "code",
   "execution_count": 79,
   "metadata": {},
   "outputs": [],
   "source": [
    "with torch.no_grad():\n",
    "    conv1, _, _, _ = model.forward(images)\n",
    "    _, conv2, _, _ = model.forward(images)"
   ]
  },
  {
   "cell_type": "code",
   "execution_count": 80,
   "metadata": {},
   "outputs": [
    {
     "data": {
      "text/plain": [
       "torch.Size([32, 32, 7, 7])"
      ]
     },
     "execution_count": 80,
     "metadata": {},
     "output_type": "execute_result"
    }
   ],
   "source": [
    "conv2.size()"
   ]
  },
  {
   "cell_type": "code",
   "execution_count": 74,
   "metadata": {},
   "outputs": [
    {
     "data": {
      "image/png": "[encoded data removed]",
      "text/plain": [
       "<Figure size 864x864 with 1 Axes>"
      ]
     },
     "metadata": {
      "needs_background": "light"
     },
     "output_type": "display_data"
    },
    {
     "name": "stdout",
     "output_type": "stream",
     "text": [
      "The labels are : [0 1 4 0 1 9 5 7 9 2 2 6 5 9 6 6 9 0 1 2 7 4 3 4 0 2 8 8 0 9 5 0]\n"
     ]
    }
   ],
   "source": [
    "# show images\n",
    "imshow(torchvision.utils.make_grid(images.cpu()))\n",
    "print('The labels are : {}'.format(labels.cpu().numpy()))"
   ]
  },
  {
   "cell_type": "markdown",
   "metadata": {},
   "source": [
    "### Output of First convolutional layer"
   ]
  },
  {
   "cell_type": "code",
   "execution_count": 86,
   "metadata": {},
   "outputs": [
    {
     "name": "stderr",
     "output_type": "stream",
     "text": [
      "Clipping input data to the valid range for imshow with RGB data ([0..1] for floats or [0..255] for integers).\n"
     ]
    },
    {
     "data": {
      "image/png": "[encoded data removed]",
      "text/plain": [
       "<Figure size 864x864 with 1 Axes>"
      ]
     },
     "metadata": {
      "needs_background": "light"
     },
     "output_type": "display_data"
    }
   ],
   "source": [
    "# show images\n",
    "imshow(torchvision.utils.make_grid(conv1.cpu()[:,1,:,:].view(32, -1, 14, 14)))"
   ]
  },
  {
   "cell_type": "markdown",
   "metadata": {},
   "source": [
    "### Output of Second Convolutional Network"
   ]
  },
  {
   "cell_type": "code",
   "execution_count": 84,
   "metadata": {},
   "outputs": [
    {
     "name": "stderr",
     "output_type": "stream",
     "text": [
      "Clipping input data to the valid range for imshow with RGB data ([0..1] for floats or [0..255] for integers).\n"
     ]
    },
    {
     "data": {
      "image/png": "[encoded data removed]",
      "text/plain": [
       "<Figure size 864x864 with 1 Axes>"
      ]
     },
     "metadata": {
      "needs_background": "light"
     },
     "output_type": "display_data"
    }
   ],
   "source": [
    "# show images\n",
    "imshow(torchvision.utils.make_grid(conv2.cpu()[:,10,:,:].view(32, -1, 7, 7)))"
   ]
  },
  {
   "cell_type": "markdown",
   "metadata": {},
   "source": [
    "Reading material:\n",
    "\n",
    " - https://towardsdatascience.com/a-comprehensive-guide-to-convolutional-neural-networks-the-eli5-way-3bd2b1164a53\n",
    " - http://vision.stanford.edu/cs598_spring07/papers/Lecun98.pdf"
   ]
  }
 ],
 "metadata": {
  "kernelspec": {
   "display_name": "Python 3",
   "language": "python",
   "name": "python3"
  },
  "language_info": {
   "codemirror_mode": {
    "name": "ipython",
    "version": 3
   },
   "file_extension": ".py",
   "mimetype": "text/x-python",
   "name": "python",
   "nbconvert_exporter": "python",
   "pygments_lexer": "ipython3",
   "version": "3.7.3"
  }
 },
 "nbformat": 4,
 "nbformat_minor": 2
}
