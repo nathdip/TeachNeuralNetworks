{
 "cells": [
  {
   "cell_type": "markdown",
   "metadata": {},
   "source": [
    "### Neural Networks"
   ]
  },
  {
   "cell_type": "markdown",
   "metadata": {},
   "source": [
    " - Basically a set of inter-connected nodes or neurons or perceptrons.\n",
    "     - Typically consists of layers of such neurons.\n",
    "     - Each neuron in a given layer is connected to all the neurons of the previous layers through a weight and an activatio function.\n",
    "     - Activation function is used to generate the non-linearity in the model that is to be trained with the data in hand.\n",
    " Let us first consider how a single layer neural network would look like. For our purposes let's consider our input to be a three dimensional vector. For example let's say we are monitoring the Pressure, temperature and humidity at a weather station. the vector is $\\vec{V}=\\left(P, T, H\\right)$. We would also need the label or the output. In this case this can be the chances of rain, $R$.\n",
    "\n",
    "<img src=\"images/linearneuralnetwork.PNG\" width=\"500\" height=\"250\">\n"
   ]
  },
  {
   "cell_type": "markdown",
   "metadata": {},
   "source": [
    "$R'$ is the output of the untrained linear neural net and is given by:\n",
    "\n",
    "\\begin{equation}\n",
    "R'=1\\times w_0+P\\times w_1+T\\times w_2+H\\times w_3\n",
    "\\end{equation}\n",
    "\n",
    "The difference between the output of the untrained model, $R'$ and the actual value $R$, a function of the difference $\\Delta=f\\left(R-R'\\right)$, known as the loss or the cost function is used to optimize the weights $w_i$ using optimization methods such as Gradient Descent. Note that we have a node to denote the offset whose input is always $1$ (weight given by $w_0$). As a rule of thumb, in the final representation and as well counting the number of neurons in each layer the node denoting the offset is mostly omitted. In the above example the neural network has single layer with three neurons. "
   ]
  },
  {
   "cell_type": "markdown",
   "metadata": {},
   "source": [
    "### Training a linear model using a  neural network"
   ]
  },
  {
   "cell_type": "markdown",
   "metadata": {},
   "source": [
    "- We will try to first model a simple linear equation using a single layer neural network.\n",
    "    - $y=3x+5$\n",
    "    - The neural net model would look like $y'= w_0+w_1x$\n",
    "    \n",
    "We will first simulate some of the data:"
   ]
  },
  {
   "cell_type": "code",
   "execution_count": 1,
   "metadata": {},
   "outputs": [],
   "source": [
    "import numpy as np\n",
    "import pandas as pd\n",
    "import matplotlib.pyplot as plt"
   ]
  },
  {
   "cell_type": "code",
   "execution_count": 2,
   "metadata": {},
   "outputs": [],
   "source": [
    "x = np.arange(0, 5, 0.5)"
   ]
  },
  {
   "cell_type": "code",
   "execution_count": 3,
   "metadata": {},
   "outputs": [],
   "source": [
    "y = 3*x+5 #+ .001*np.random.randn(len(x))"
   ]
  },
  {
   "cell_type": "code",
   "execution_count": 4,
   "metadata": {},
   "outputs": [
    {
     "data": {
      "text/plain": [
       "Text(0, 0.5, 'y')"
      ]
     },
     "execution_count": 4,
     "metadata": {},
     "output_type": "execute_result"
    },
    {
     "data": {
      "image/png": "[encoded data removed]",
      "text/plain": [
       "<Figure size 432x288 with 1 Axes>"
      ]
     },
     "metadata": {
      "needs_background": "light"
     },
     "output_type": "display_data"
    }
   ],
   "source": [
    "plt.plot(x, y, 'b*')\n",
    "plt.xlabel('x')\n",
    "plt.ylabel('y')"
   ]
  },
  {
   "cell_type": "code",
   "execution_count": 5,
   "metadata": {},
   "outputs": [],
   "source": [
    "x = np.float32(x.reshape(-1, 1))\n",
    "y = np.float32(y.reshape(-1, 1))"
   ]
  },
  {
   "cell_type": "code",
   "execution_count": 6,
   "metadata": {},
   "outputs": [],
   "source": [
    "#Importing torch\n",
    "import torch\n",
    "import torch.nn as nn\n",
    "from torch.autograd import Variable"
   ]
  },
  {
   "cell_type": "code",
   "execution_count": 7,
   "metadata": {},
   "outputs": [],
   "source": [
    "#Create a class for the training\n",
    "class LinearRegression(nn.Module):\n",
    "    def __init__(self, input_size, output_size):\n",
    "        super().__init__()\n",
    "        self.input_dim = input_size\n",
    "        self.output_dim = output_size\n",
    "        self.linear = nn.Linear(self.input_dim, self.output_dim)\n",
    "    def forward(self, x):\n",
    "        output = self.linear(x)\n",
    "        return output"
   ]
  },
  {
   "cell_type": "code",
   "execution_count": 8,
   "metadata": {},
   "outputs": [],
   "source": [
    "#Instantiate the model\n",
    "input_dim = 1\n",
    "output_dim = 1\n",
    "\n",
    "model = LinearRegression(input_dim, output_dim)"
   ]
  },
  {
   "cell_type": "markdown",
   "metadata": {},
   "source": [
    "What else is required?\n",
    "\n",
    "- A loss function, in order to compare the output of the neural network to the real life value (in our case simulated y)\n",
    "- A simple loss function would be the mean squared error:\n",
    "    - $MSE = \\frac{1}{n}\\Sigma_i\\left(\\hat{y}_i-y_i\\right)^2$\n",
    "        - $\\hat{y}_i$: predicted value\n",
    "        - $y_i$: true value"
   ]
  },
  {
   "cell_type": "code",
   "execution_count": 9,
   "metadata": {},
   "outputs": [],
   "source": [
    "#Define the loss function\n",
    "criterion = nn.MSELoss(reduction='mean')"
   ]
  },
  {
   "cell_type": "markdown",
   "metadata": {},
   "source": [
    "However learning still needs to takes place. The learning takes place by feeding back the loss function to the parameters in such a way that the loss function is minimized. \n",
    "\n",
    "- $\\theta := \\theta - \\eta.\\nabla_{\\theta}$, where \n",
    "    - $\\theta$ represents the parameters, \n",
    "    - $\\eta$ is the learning rate\n",
    "    - $\\nabla_{\\theta}$ is the gradient of the loss function w.r.t. $\\theta$\n",
    "- What are the parameters in this case?\n",
    "    - $\\alpha$ and $\\beta$ in $y=\\alpha x + \\beta$\n",
    "    - After successful learning we should obtain: $\\alpha=3$, $\\beta=5$"
   ]
  },
  {
   "cell_type": "code",
   "execution_count": 10,
   "metadata": {},
   "outputs": [],
   "source": [
    "#Define learning rate\n",
    "lr = 0.1\n",
    "#Define the optimizer\n",
    "optimizer = torch.optim.SGD(model.parameters(), lr=lr)"
   ]
  },
  {
   "cell_type": "markdown",
   "metadata": {},
   "source": [
    "Now it is time to train. A few points before training:\n",
    "\n",
    "- Generally once has to go through the dataset several time in order to properly optimize the weights, we fix the number of 'epochs' initially\n",
    "- Since the inputs will generally be numpy array we have to convert them into torch tensors first.\n",
    "- While going through each epoch, we compute the outputs and obtain the loss.\n",
    "- The loss is then used to compute the gradients which will be used to update the parameters"
   ]
  },
  {
   "cell_type": "code",
   "execution_count": 11,
   "metadata": {},
   "outputs": [],
   "source": [
    "nb_epoch = 100"
   ]
  },
  {
   "cell_type": "code",
   "execution_count": 12,
   "metadata": {
    "scrolled": true
   },
   "outputs": [
    {
     "name": "stdout",
     "output_type": "stream",
     "text": [
      "Epoch 1,  Loss: 188.68670654296875\n",
      "Epoch 2,  Loss: 63.560482025146484\n",
      "Epoch 3,  Loss: 22.36962127685547\n",
      "Epoch 4,  Loss: 8.710518836975098\n",
      "Epoch 5,  Loss: 4.092309474945068\n",
      "Epoch 6,  Loss: 2.4520766735076904\n",
      "Epoch 7,  Loss: 1.8009326457977295\n",
      "Epoch 8,  Loss: 1.4856059551239014\n",
      "Epoch 9,  Loss: 1.2907707691192627\n",
      "Epoch 10,  Loss: 1.1447780132293701\n",
      "Epoch 11,  Loss: 1.0231863260269165\n",
      "Epoch 12,  Loss: 0.917127251625061\n",
      "Epoch 13,  Loss: 0.8229238986968994\n",
      "Epoch 14,  Loss: 0.7386798858642578\n",
      "Epoch 15,  Loss: 0.6631527543067932\n",
      "Epoch 16,  Loss: 0.5953789949417114\n",
      "Epoch 17,  Loss: 0.5345410704612732\n",
      "Epoch 18,  Loss: 0.479922890663147\n",
      "Epoch 19,  Loss: 0.4308871328830719\n",
      "Epoch 20,  Loss: 0.3868613541126251\n",
      "Epoch 21,  Loss: 0.3473344147205353\n",
      "Epoch 22,  Loss: 0.311845988035202\n",
      "Epoch 23,  Loss: 0.27998316287994385\n",
      "Epoch 24,  Loss: 0.25137656927108765\n",
      "Epoch 25,  Loss: 0.22569242119789124\n",
      "Epoch 26,  Loss: 0.20263256132602692\n",
      "Epoch 27,  Loss: 0.181928813457489\n",
      "Epoch 28,  Loss: 0.16334056854248047\n",
      "Epoch 29,  Loss: 0.14665140211582184\n",
      "Epoch 30,  Loss: 0.13166749477386475\n",
      "Epoch 31,  Loss: 0.11821464449167252\n",
      "Epoch 32,  Loss: 0.10613620281219482\n",
      "Epoch 33,  Loss: 0.09529184550046921\n",
      "Epoch 34,  Loss: 0.08555549383163452\n",
      "Epoch 35,  Loss: 0.07681398838758469\n",
      "Epoch 36,  Loss: 0.06896571069955826\n",
      "Epoch 37,  Loss: 0.06191915273666382\n",
      "Epoch 38,  Loss: 0.055592652410268784\n",
      "Epoch 39,  Loss: 0.049912601709365845\n",
      "Epoch 40,  Loss: 0.044812824577093124\n",
      "Epoch 41,  Loss: 0.04023415595293045\n",
      "Epoch 42,  Loss: 0.03612331673502922\n",
      "Epoch 43,  Loss: 0.03243251517415047\n",
      "Epoch 44,  Loss: 0.029118796810507774\n",
      "Epoch 45,  Loss: 0.026143619790673256\n",
      "Epoch 46,  Loss: 0.023472364991903305\n",
      "Epoch 47,  Loss: 0.021074173972010612\n",
      "Epoch 48,  Loss: 0.018920937553048134\n",
      "Epoch 49,  Loss: 0.016987744718790054\n",
      "Epoch 50,  Loss: 0.01525196898728609\n",
      "Epoch 51,  Loss: 0.013693670742213726\n",
      "Epoch 52,  Loss: 0.012294551357626915\n",
      "Epoch 53,  Loss: 0.01103836577385664\n",
      "Epoch 54,  Loss: 0.009910551831126213\n",
      "Epoch 55,  Loss: 0.008897955529391766\n",
      "Epoch 56,  Loss: 0.007988840341567993\n",
      "Epoch 57,  Loss: 0.007172581274062395\n",
      "Epoch 58,  Loss: 0.006439731922000647\n",
      "Epoch 59,  Loss: 0.005781746003776789\n",
      "Epoch 60,  Loss: 0.005191028118133545\n",
      "Epoch 61,  Loss: 0.004660652484744787\n",
      "Epoch 62,  Loss: 0.004184427671134472\n",
      "Epoch 63,  Loss: 0.0037568833213299513\n",
      "Epoch 64,  Loss: 0.0033730342984199524\n",
      "Epoch 65,  Loss: 0.0030284090898931026\n",
      "Epoch 66,  Loss: 0.0027189943939447403\n",
      "Epoch 67,  Loss: 0.0024411820340901613\n",
      "Epoch 68,  Loss: 0.002191746374592185\n",
      "Epoch 69,  Loss: 0.0019678149838000536\n",
      "Epoch 70,  Loss: 0.0017667646752670407\n",
      "Epoch 71,  Loss: 0.0015862685395404696\n",
      "Epoch 72,  Loss: 0.0014241717290133238\n",
      "Epoch 73,  Loss: 0.0012786536244675517\n",
      "Epoch 74,  Loss: 0.0011480184039101005\n",
      "Epoch 75,  Loss: 0.001030723680742085\n",
      "Epoch 76,  Loss: 0.0009254097822122276\n",
      "Epoch 77,  Loss: 0.000830858654808253\n",
      "Epoch 78,  Loss: 0.0007459669723175466\n",
      "Epoch 79,  Loss: 0.0006697414210066199\n",
      "Epoch 80,  Loss: 0.0006013113306835294\n",
      "Epoch 81,  Loss: 0.0005398787325248122\n",
      "Epoch 82,  Loss: 0.0004847196105401963\n",
      "Epoch 83,  Loss: 0.0004351952811703086\n",
      "Epoch 84,  Loss: 0.0003907339705619961\n",
      "Epoch 85,  Loss: 0.0003508063673507422\n",
      "Epoch 86,  Loss: 0.00031496735755354166\n",
      "Epoch 87,  Loss: 0.00028278681566007435\n",
      "Epoch 88,  Loss: 0.0002538986154831946\n",
      "Epoch 89,  Loss: 0.00022795413678977638\n",
      "Epoch 90,  Loss: 0.00020466309797484428\n",
      "Epoch 91,  Loss: 0.0001837519375840202\n",
      "Epoch 92,  Loss: 0.00016497824981343\n",
      "Epoch 93,  Loss: 0.00014812253357376903\n",
      "Epoch 94,  Loss: 0.00013298814883455634\n",
      "Epoch 95,  Loss: 0.00011940029071411118\n",
      "Epoch 96,  Loss: 0.00010720464342739433\n",
      "Epoch 97,  Loss: 9.624796075513586e-05\n",
      "Epoch 98,  Loss: 8.641609747428447e-05\n",
      "Epoch 99,  Loss: 7.758508581900969e-05\n",
      "Epoch 100,  Loss: 6.96591887390241e-05\n"
     ]
    }
   ],
   "source": [
    "epoch=0\n",
    "for epoch in range(nb_epoch):\n",
    "    epoch+=1\n",
    "    #Convert the numpy array to torch tensor\n",
    "    inputs = Variable(torch.from_numpy(x))\n",
    "    labels = Variable(torch.from_numpy(y))\n",
    "    \n",
    "    #Clear the gradients\n",
    "    optimizer.zero_grad()\n",
    "    \n",
    "    #Compute the output using forward pass\n",
    "    outputs = model.forward(inputs)\n",
    "    \n",
    "    #Compute the loss\n",
    "    loss = criterion(outputs, labels)\n",
    "    \n",
    "    #get the Gradient\n",
    "    loss.backward()\n",
    "    \n",
    "    #Update the parameters\n",
    "    optimizer.step()\n",
    "    \n",
    "    print('Epoch {},  Loss: {}'.format(epoch, loss.data))"
   ]
  },
  {
   "cell_type": "code",
   "execution_count": 13,
   "metadata": {},
   "outputs": [
    {
     "data": {
      "text/plain": [
       "[Parameter containing:\n",
       " tensor([[3.0048]], requires_grad=True), Parameter containing:\n",
       " tensor([4.9853], requires_grad=True)]"
      ]
     },
     "execution_count": 13,
     "metadata": {},
     "output_type": "execute_result"
    }
   ],
   "source": [
    "list(model.parameters())"
   ]
  },
  {
   "cell_type": "code",
   "execution_count": 14,
   "metadata": {},
   "outputs": [],
   "source": [
    "with torch.no_grad():\n",
    "    predicted = model.forward(inputs).data.numpy()"
   ]
  },
  {
   "cell_type": "code",
   "execution_count": 15,
   "metadata": {},
   "outputs": [
    {
     "data": {
      "text/plain": [
       "<matplotlib.legend.Legend at 0x1ae903526a0>"
      ]
     },
     "execution_count": 15,
     "metadata": {},
     "output_type": "execute_result"
    },
    {
     "data": {
      "image/png": "[encoded data removed]",
      "text/plain": [
       "<Figure size 432x288 with 1 Axes>"
      ]
     },
     "metadata": {
      "needs_background": "light"
     },
     "output_type": "display_data"
    }
   ],
   "source": [
    "plt.plot(x, y, 'b*', label='True Data', alpha=0.5)\n",
    "plt.plot(x, predicted, 'g--', label = 'predicted data', alpha=0.5)\n",
    "plt.legend(loc='best')"
   ]
  },
  {
   "cell_type": "markdown",
   "metadata": {},
   "source": [
    "### Loss \n",
    "\n",
    "Loss is way to estimate how much the predicted output is different from the actual value (in case of regression) and label (in case of classification). The loss is also often called cost function. \n",
    "\n",
    "In case of regression a common cost function would be the Mean Square Loss. Suppose we define our model as $h_{\\theta}\\left(x\\right)$ then we define the loss function as :\n",
    "\n",
    "\\begin{equation}\n",
    "J\\left(\\theta\\right) = \\sum_{i=1}^{n} \\left(h_{\\theta}\\left(x^i\\right)-y^i\\right)^2\n",
    "\\end{equation}\n",
    "where $x^i$ are the risen incidents.\n",
    "\n"
   ]
  },
  {
   "cell_type": "markdown",
   "metadata": {},
   "source": [
    "### What about non-linearity?\n",
    "\n",
    "The above example was about linear regression and hence a linear model could easily model the sample data. However we want to be able to data that is non-linear as well. Non-linearity is introduced in Neural networks through what are known as activation function. A well known activation function is the Sigmoid function which is given by :\n",
    "\n",
    "\\begin{equation}\n",
    "S(z)=\\frac{1}{1+e^{-z}}=\\frac{e^z}{e^z+1}\n",
    "\\end{equation}\n",
    "\n",
    "If you plot the sigmoid function this is what it looks like:"
   ]
  },
  {
   "cell_type": "markdown",
   "metadata": {},
   "source": [
    "In case of a classification problem, this loss function described above for the problem of regression will not give us much information. Consider the case when we consider the output of a binary classifier. The loss function used in this case is of the form:\n",
    "\n",
    "\\begin{equation}\n",
    "J\\left(\\theta\\right) = \\sum_{i=1}^n\\left[y^ilogh\\left(x^i\\right)+\\left(1-y^i\\right)log\\left(i-h\\left(x^i\\right)\\right)\\right]\n",
    "\\end{equation}\n"
   ]
  },
  {
   "cell_type": "code",
   "execution_count": 16,
   "metadata": {},
   "outputs": [],
   "source": [
    "def sigmoid(x):\n",
    "    return 1/(1+np.exp(-x))"
   ]
  },
  {
   "cell_type": "code",
   "execution_count": 17,
   "metadata": {},
   "outputs": [
    {
     "data": {
      "text/plain": [
       "<matplotlib.collections.LineCollection at 0x1ae903a5940>"
      ]
     },
     "execution_count": 17,
     "metadata": {},
     "output_type": "execute_result"
    },
    {
     "data": {
      "image/png": "[encoded data removed]",
      "text/plain": [
       "<Figure size 432x288 with 1 Axes>"
      ]
     },
     "metadata": {
      "needs_background": "light"
     },
     "output_type": "display_data"
    }
   ],
   "source": [
    "z = np.linspace(-10, 10, num=100 )\n",
    "plt.plot(z, sigmoid(z), 'r-', label='Sigmoid Function')\n",
    "plt.legend(loc='best')\n",
    "plt.xlabel('z')\n",
    "plt.ylabel('S(z)')\n",
    "plt.hlines(y=0.5, xmin=-10, xmax=10)\n",
    "plt.vlines(x=0, ymin=0, ymax=1)"
   ]
  },
  {
   "cell_type": "markdown",
   "metadata": {},
   "source": [
    "#### ReLU activation\n",
    "There are a few other popular activation functions as well. A particularly popular one is the ReLU (Rectified Linear Unit ) activation which looks like:\n",
    "\n",
    "\\begin{equation}\n",
    "R\\left(x\\right) = max(x, 0)\n",
    "\\end{equation}"
   ]
  },
  {
   "cell_type": "code",
   "execution_count": 18,
   "metadata": {},
   "outputs": [],
   "source": [
    "def relu(x):\n",
    "    return max(x,0.0)"
   ]
  },
  {
   "cell_type": "code",
   "execution_count": 19,
   "metadata": {},
   "outputs": [],
   "source": [
    "relu_vec = np.vectorize(relu)"
   ]
  },
  {
   "cell_type": "code",
   "execution_count": 20,
   "metadata": {},
   "outputs": [
    {
     "data": {
      "text/plain": [
       "<matplotlib.collections.LineCollection at 0x1ae90449588>"
      ]
     },
     "execution_count": 20,
     "metadata": {},
     "output_type": "execute_result"
    },
    {
     "data": {
      "image/png": "[encoded data removed]",
      "text/plain": [
       "<Figure size 432x288 with 1 Axes>"
      ]
     },
     "metadata": {
      "needs_background": "light"
     },
     "output_type": "display_data"
    }
   ],
   "source": [
    "z = np.linspace(-10, 10, num=100)\n",
    "plt.plot(z, relu_vec(z), 'r-', label='ReLU Function')\n",
    "plt.legend(loc='best')\n",
    "plt.xlabel('z')\n",
    "plt.ylabel('ReLU(z)')\n",
    "plt.hlines(y=0, xmin=-10, xmax=10)\n",
    "plt.vlines(x=0, ymin=0, ymax=10)"
   ]
  },
  {
   "cell_type": "markdown",
   "metadata": {},
   "source": [
    "In order to enable non-linearity in our models we apply activation function to each node or neuron of a layer.\n",
    "\n",
    "<img src=\"images/linearneuralnetworkplusactivation.PNG\" width=\"500\" height=\"250\">\n",
    "\n",
    "In the above diagram we see the activation function applied to the final layer which has a single neuron in it. In general, activation functions are applied to all the neurons in each layer, with each neuron being applied an activation function. "
   ]
  },
  {
   "cell_type": "markdown",
   "metadata": {},
   "source": [
    "In order to maximize the effectiveness of neural network we need to add more layers of network. This combined with the activation function will allow us to model complex data which has non-trivial relationship between the features and the labels:\n",
    "\n",
    "<img src=\"images/multilayerneuralnet.png\" width=\"500\" height=\"250\">"
   ]
  },
  {
   "cell_type": "markdown",
   "metadata": {},
   "source": [
    "#### Softmax activation\n",
    "The softmax activation function is another highly popular activation function which is usually used in the final layer when doing multiclass-classification using neural networks. Suppose we want to apply softmax to the output of a neural network classfier trying to classify 10 types of images with classes $k=1,2..10$. The output layer would thus have 10 layers. The softmax activated output for the i$^{th}$ neuron of the final layer would be thus given by \n"
   ]
  },
  {
   "cell_type": "markdown",
   "metadata": {},
   "source": [
    "\\begin{equation}\n",
    "P\\left(y=2|x\\right) = \\frac{e^{x^Tw_j}}{\\Sigma_k e^{x^Tw_k}}\n",
    "\\end{equation}"
   ]
  },
  {
   "cell_type": "markdown",
   "metadata": {},
   "source": [
    "#### Backpropagation\n",
    "\n",
    "As we can see that a neural network can very complicated and perform parameter updates (here the weight $w_{ij}$), we will need to compute the gradient at each node. This is known as backpropagation as the error obtained by comparing the output with the actual value using a loss function is then used to compute the gradients of the parameters. "
   ]
  },
  {
   "cell_type": "markdown",
   "metadata": {},
   "source": [
    "#### Basic classfication using Neural Networks\n",
    "\n",
    "Let us try some basic classification using neural networks. For this purposes I will use a very popular dataset, the breast cancer diagnostics dataset origically sourced from the University of Wisconsin."
   ]
  },
  {
   "cell_type": "code",
   "execution_count": 21,
   "metadata": {},
   "outputs": [],
   "source": [
    "from sklearn.datasets import load_breast_cancer"
   ]
  },
  {
   "cell_type": "code",
   "execution_count": 22,
   "metadata": {},
   "outputs": [],
   "source": [
    "data = load_breast_cancer()"
   ]
  },
  {
   "cell_type": "code",
   "execution_count": 23,
   "metadata": {},
   "outputs": [],
   "source": [
    "df = pd.DataFrame(data=data.data, columns=list(data.feature_names))"
   ]
  },
  {
   "cell_type": "code",
   "execution_count": 24,
   "metadata": {},
   "outputs": [
    {
     "data": {
      "text/html": [
       "<div>\n",
       "<style scoped>\n",
       "    .dataframe tbody tr th:only-of-type {\n",
       "        vertical-align: middle;\n",
       "    }\n",
       "\n",
       "    .dataframe tbody tr th {\n",
       "        vertical-align: top;\n",
       "    }\n",
       "\n",
       "    .dataframe thead th {\n",
       "        text-align: right;\n",
       "    }\n",
       "</style>\n",
       "<table border=\"1\" class=\"dataframe\">\n",
       "  <thead>\n",
       "    <tr style=\"text-align: right;\">\n",
       "      <th></th>\n",
       "      <th>mean radius</th>\n",
       "      <th>mean texture</th>\n",
       "      <th>mean perimeter</th>\n",
       "      <th>mean area</th>\n",
       "      <th>mean smoothness</th>\n",
       "      <th>mean compactness</th>\n",
       "      <th>mean concavity</th>\n",
       "      <th>mean concave points</th>\n",
       "      <th>mean symmetry</th>\n",
       "      <th>mean fractal dimension</th>\n",
       "      <th>...</th>\n",
       "      <th>worst radius</th>\n",
       "      <th>worst texture</th>\n",
       "      <th>worst perimeter</th>\n",
       "      <th>worst area</th>\n",
       "      <th>worst smoothness</th>\n",
       "      <th>worst compactness</th>\n",
       "      <th>worst concavity</th>\n",
       "      <th>worst concave points</th>\n",
       "      <th>worst symmetry</th>\n",
       "      <th>worst fractal dimension</th>\n",
       "    </tr>\n",
       "  </thead>\n",
       "  <tbody>\n",
       "    <tr>\n",
       "      <th>0</th>\n",
       "      <td>17.99</td>\n",
       "      <td>10.38</td>\n",
       "      <td>122.80</td>\n",
       "      <td>1001.0</td>\n",
       "      <td>0.11840</td>\n",
       "      <td>0.27760</td>\n",
       "      <td>0.3001</td>\n",
       "      <td>0.14710</td>\n",
       "      <td>0.2419</td>\n",
       "      <td>0.07871</td>\n",
       "      <td>...</td>\n",
       "      <td>25.38</td>\n",
       "      <td>17.33</td>\n",
       "      <td>184.60</td>\n",
       "      <td>2019.0</td>\n",
       "      <td>0.1622</td>\n",
       "      <td>0.6656</td>\n",
       "      <td>0.7119</td>\n",
       "      <td>0.2654</td>\n",
       "      <td>0.4601</td>\n",
       "      <td>0.11890</td>\n",
       "    </tr>\n",
       "    <tr>\n",
       "      <th>1</th>\n",
       "      <td>20.57</td>\n",
       "      <td>17.77</td>\n",
       "      <td>132.90</td>\n",
       "      <td>1326.0</td>\n",
       "      <td>0.08474</td>\n",
       "      <td>0.07864</td>\n",
       "      <td>0.0869</td>\n",
       "      <td>0.07017</td>\n",
       "      <td>0.1812</td>\n",
       "      <td>0.05667</td>\n",
       "      <td>...</td>\n",
       "      <td>24.99</td>\n",
       "      <td>23.41</td>\n",
       "      <td>158.80</td>\n",
       "      <td>1956.0</td>\n",
       "      <td>0.1238</td>\n",
       "      <td>0.1866</td>\n",
       "      <td>0.2416</td>\n",
       "      <td>0.1860</td>\n",
       "      <td>0.2750</td>\n",
       "      <td>0.08902</td>\n",
       "    </tr>\n",
       "    <tr>\n",
       "      <th>2</th>\n",
       "      <td>19.69</td>\n",
       "      <td>21.25</td>\n",
       "      <td>130.00</td>\n",
       "      <td>1203.0</td>\n",
       "      <td>0.10960</td>\n",
       "      <td>0.15990</td>\n",
       "      <td>0.1974</td>\n",
       "      <td>0.12790</td>\n",
       "      <td>0.2069</td>\n",
       "      <td>0.05999</td>\n",
       "      <td>...</td>\n",
       "      <td>23.57</td>\n",
       "      <td>25.53</td>\n",
       "      <td>152.50</td>\n",
       "      <td>1709.0</td>\n",
       "      <td>0.1444</td>\n",
       "      <td>0.4245</td>\n",
       "      <td>0.4504</td>\n",
       "      <td>0.2430</td>\n",
       "      <td>0.3613</td>\n",
       "      <td>0.08758</td>\n",
       "    </tr>\n",
       "    <tr>\n",
       "      <th>3</th>\n",
       "      <td>11.42</td>\n",
       "      <td>20.38</td>\n",
       "      <td>77.58</td>\n",
       "      <td>386.1</td>\n",
       "      <td>0.14250</td>\n",
       "      <td>0.28390</td>\n",
       "      <td>0.2414</td>\n",
       "      <td>0.10520</td>\n",
       "      <td>0.2597</td>\n",
       "      <td>0.09744</td>\n",
       "      <td>...</td>\n",
       "      <td>14.91</td>\n",
       "      <td>26.50</td>\n",
       "      <td>98.87</td>\n",
       "      <td>567.7</td>\n",
       "      <td>0.2098</td>\n",
       "      <td>0.8663</td>\n",
       "      <td>0.6869</td>\n",
       "      <td>0.2575</td>\n",
       "      <td>0.6638</td>\n",
       "      <td>0.17300</td>\n",
       "    </tr>\n",
       "    <tr>\n",
       "      <th>4</th>\n",
       "      <td>20.29</td>\n",
       "      <td>14.34</td>\n",
       "      <td>135.10</td>\n",
       "      <td>1297.0</td>\n",
       "      <td>0.10030</td>\n",
       "      <td>0.13280</td>\n",
       "      <td>0.1980</td>\n",
       "      <td>0.10430</td>\n",
       "      <td>0.1809</td>\n",
       "      <td>0.05883</td>\n",
       "      <td>...</td>\n",
       "      <td>22.54</td>\n",
       "      <td>16.67</td>\n",
       "      <td>152.20</td>\n",
       "      <td>1575.0</td>\n",
       "      <td>0.1374</td>\n",
       "      <td>0.2050</td>\n",
       "      <td>0.4000</td>\n",
       "      <td>0.1625</td>\n",
       "      <td>0.2364</td>\n",
       "      <td>0.07678</td>\n",
       "    </tr>\n",
       "  </tbody>\n",
       "</table>\n",
       "<p>5 rows × 30 columns</p>\n",
       "</div>"
      ],
      "text/plain": [
       "   mean radius  mean texture  mean perimeter  mean area  mean smoothness  \\\n",
       "0        17.99         10.38          122.80     1001.0          0.11840   \n",
       "1        20.57         17.77          132.90     1326.0          0.08474   \n",
       "2        19.69         21.25          130.00     1203.0          0.10960   \n",
       "3        11.42         20.38           77.58      386.1          0.14250   \n",
       "4        20.29         14.34          135.10     1297.0          0.10030   \n",
       "\n",
       "   mean compactness  mean concavity  mean concave points  mean symmetry  \\\n",
       "0           0.27760          0.3001              0.14710         0.2419   \n",
       "1           0.07864          0.0869              0.07017         0.1812   \n",
       "2           0.15990          0.1974              0.12790         0.2069   \n",
       "3           0.28390          0.2414              0.10520         0.2597   \n",
       "4           0.13280          0.1980              0.10430         0.1809   \n",
       "\n",
       "   mean fractal dimension  ...  worst radius  worst texture  worst perimeter  \\\n",
       "0                 0.07871  ...         25.38          17.33           184.60   \n",
       "1                 0.05667  ...         24.99          23.41           158.80   \n",
       "2                 0.05999  ...         23.57          25.53           152.50   \n",
       "3                 0.09744  ...         14.91          26.50            98.87   \n",
       "4                 0.05883  ...         22.54          16.67           152.20   \n",
       "\n",
       "   worst area  worst smoothness  worst compactness  worst concavity  \\\n",
       "0      2019.0            0.1622             0.6656           0.7119   \n",
       "1      1956.0            0.1238             0.1866           0.2416   \n",
       "2      1709.0            0.1444             0.4245           0.4504   \n",
       "3       567.7            0.2098             0.8663           0.6869   \n",
       "4      1575.0            0.1374             0.2050           0.4000   \n",
       "\n",
       "   worst concave points  worst symmetry  worst fractal dimension  \n",
       "0                0.2654          0.4601                  0.11890  \n",
       "1                0.1860          0.2750                  0.08902  \n",
       "2                0.2430          0.3613                  0.08758  \n",
       "3                0.2575          0.6638                  0.17300  \n",
       "4                0.1625          0.2364                  0.07678  \n",
       "\n",
       "[5 rows x 30 columns]"
      ]
     },
     "execution_count": 24,
     "metadata": {},
     "output_type": "execute_result"
    }
   ],
   "source": [
    "df.head()"
   ]
  },
  {
   "cell_type": "markdown",
   "metadata": {},
   "source": [
    "Before we start modeling, we need to split the data into training and test sets in order to have an independent verification of our model. This functionality available in the sklearn package."
   ]
  },
  {
   "cell_type": "code",
   "execution_count": 25,
   "metadata": {},
   "outputs": [],
   "source": [
    "X = np.float32(data.data)\n",
    "y = np.float32(data.target).reshape(-1, 1)\n",
    "from sklearn.model_selection import train_test_split\n",
    "X_train, X_test, y_train, y_test = train_test_split(X, y, test_size=0.2, random_state=42)"
   ]
  },
  {
   "cell_type": "code",
   "execution_count": 26,
   "metadata": {},
   "outputs": [
    {
     "data": {
      "text/plain": [
       "(569, 1)"
      ]
     },
     "execution_count": 26,
     "metadata": {},
     "output_type": "execute_result"
    }
   ],
   "source": [
    "y.shape"
   ]
  },
  {
   "cell_type": "code",
   "execution_count": 27,
   "metadata": {},
   "outputs": [],
   "source": [
    "import torch.nn.functional as F"
   ]
  },
  {
   "cell_type": "code",
   "execution_count": 109,
   "metadata": {},
   "outputs": [],
   "source": [
    "#Create a class for the training\n",
    "class Classification(nn.Module):\n",
    "    def __init__(self):\n",
    "        \"\"\"\n",
    "        Artificial Deep Neural Net:\n",
    "        Input Layer : 30 , as there are 30 features\n",
    "        Hidden Layer 1: 60\n",
    "        Hidden Layer 2: 120\n",
    "        Hidden Layer 3: 60\n",
    "        Hidden Layer 4: 10\n",
    "        Output Layer : 1, since the output is either 0 or 1\n",
    "        \"\"\"\n",
    "        super().__init__()\n",
    "        self.linear1 = nn.Linear(30, 60)\n",
    "        self.dropout1 = nn.Dropout(p=0.1)\n",
    "        self.linear2 = nn.Linear(60, 120)\n",
    "        self.dropout2 = nn.Dropout(p=0.1)\n",
    "        self.linear3 = nn.Linear(120, 60)\n",
    "        self.dropout3 = nn.Dropout(p=0.1)\n",
    "        self.linear4 = nn.Linear(60, 10)\n",
    "        self.dropout4 = nn.Dropout(p=0.1)\n",
    "        self.linear5 = nn.Linear(10, 1)\n",
    "    def forward(self, x):\n",
    "        output = F.relu(self.linear1(x))\n",
    "#         output = self.dropout1(output)\n",
    "        output = F.relu(self.linear2(output))\n",
    "#         output = self.dropout2(output)\n",
    "        output = F.relu(self.linear3(output))\n",
    "#         output = self.dropout3(output)\n",
    "        output = F.relu(self.linear4(output))\n",
    "#         output = self.dropout4(output)\n",
    "        output = torch.sigmoid(self.linear5(output))\n",
    "        return output"
   ]
  },
  {
   "cell_type": "code",
   "execution_count": 110,
   "metadata": {},
   "outputs": [],
   "source": [
    "#Initializing the model\n",
    "model = Classification()\n",
    "#Setting the loss \n",
    "criterion = nn.BCELoss()\n",
    "#Define learning rate\n",
    "lr = 0.001\n",
    "#Define the optimizer\n",
    "optimizer = torch.optim.Adam(model.parameters(), lr=lr)"
   ]
  },
  {
   "cell_type": "code",
   "execution_count": 111,
   "metadata": {},
   "outputs": [
    {
     "name": "stdout",
     "output_type": "stream",
     "text": [
      "Epoch 1,  ROC_AUC: 0.935635370546613, Accuracy: 0.37142857142857144\n",
      "Epoch 2,  ROC_AUC: 0.9442214590143585, Accuracy: 0.37142857142857144\n",
      "Epoch 3,  ROC_AUC: 0.9572764513592915, Accuracy: 0.37142857142857144\n",
      "Epoch 4,  ROC_AUC: 0.7743410435718128, Accuracy: 0.37142857142857144\n",
      "Epoch 5,  ROC_AUC: 0.341209086771217, Accuracy: 0.6813186813186813\n",
      "Epoch 6,  ROC_AUC: 0.6562254313733604, Accuracy: 0.7626373626373626\n",
      "Epoch 7,  ROC_AUC: 0.9149666901146191, Accuracy: 0.367032967032967\n",
      "Epoch 8,  ROC_AUC: 0.9579592005627509, Accuracy: 0.37142857142857144\n",
      "Epoch 9,  ROC_AUC: 0.9552488931187156, Accuracy: 0.37142857142857144\n",
      "Epoch 10,  ROC_AUC: 0.9240493234576075, Accuracy: 0.37362637362637363\n",
      "Epoch 11,  ROC_AUC: 0.8588571192121488, Accuracy: 0.8131868131868132\n",
      "Epoch 12,  ROC_AUC: 0.7892787685687094, Accuracy: 0.8461538461538461\n",
      "Epoch 13,  ROC_AUC: 0.8133198162783961, Accuracy: 0.865934065934066\n",
      "Epoch 14,  ROC_AUC: 0.8835395373856912, Accuracy: 0.8241758241758241\n",
      "Epoch 15,  ROC_AUC: 0.9225389994620764, Accuracy: 0.5824175824175825\n",
      "Epoch 16,  ROC_AUC: 0.9361732941614598, Accuracy: 0.46593406593406594\n",
      "Epoch 17,  ROC_AUC: 0.9281665080481649, Accuracy: 0.6175824175824176\n",
      "Epoch 18,  ROC_AUC: 0.9043530434062979, Accuracy: 0.810989010989011\n",
      "Epoch 19,  ROC_AUC: 0.8717672859684694, Accuracy: 0.8813186813186813\n",
      "Epoch 20,  ROC_AUC: 0.8568709397111764, Accuracy: 0.8923076923076924\n",
      "Epoch 21,  ROC_AUC: 0.875243100095171, Accuracy: 0.8835164835164835\n",
      "Epoch 22,  ROC_AUC: 0.9025323788637397, Accuracy: 0.8703296703296703\n",
      "Epoch 23,  ROC_AUC: 0.920035585716059, Accuracy: 0.7846153846153846\n",
      "Epoch 24,  ROC_AUC: 0.9264079116150122, Accuracy: 0.7648351648351648\n",
      "Epoch 25,  ROC_AUC: 0.9190424959655729, Accuracy: 0.8219780219780219\n",
      "Epoch 26,  ROC_AUC: 0.9053875118963876, Accuracy: 0.8901098901098901\n",
      "Epoch 27,  ROC_AUC: 0.8944842140108413, Accuracy: 0.8901098901098901\n",
      "Epoch 28,  ROC_AUC: 0.8945255927504449, Accuracy: 0.8923076923076924\n",
      "Epoch 29,  ROC_AUC: 0.9038564985310545, Accuracy: 0.8945054945054945\n",
      "Epoch 30,  ROC_AUC: 0.9120081102329622, Accuracy: 0.8967032967032967\n",
      "Epoch 31,  ROC_AUC: 0.9138080854057186, Accuracy: 0.8967032967032967\n",
      "Epoch 32,  ROC_AUC: 0.9105391649770348, Accuracy: 0.8967032967032967\n",
      "Epoch 33,  ROC_AUC: 0.9107253693052509, Accuracy: 0.8989010989010989\n",
      "Epoch 34,  ROC_AUC: 0.9169735589853932, Accuracy: 0.9010989010989011\n",
      "Epoch 35,  ROC_AUC: 0.9236769148011753, Accuracy: 0.9032967032967033\n",
      "Epoch 36,  ROC_AUC: 0.9247320726610668, Accuracy: 0.9032967032967033\n",
      "Epoch 37,  ROC_AUC: 0.9217941821492117, Accuracy: 0.9076923076923077\n",
      "Epoch 38,  ROC_AUC: 0.9224148632432656, Accuracy: 0.9054945054945055\n",
      "Epoch 39,  ROC_AUC: 0.9283320230065792, Accuracy: 0.9076923076923077\n",
      "Epoch 40,  ROC_AUC: 0.9325319650763437, Accuracy: 0.9032967032967033\n",
      "Epoch 41,  ROC_AUC: 0.9329664418421815, Accuracy: 0.9076923076923077\n",
      "Epoch 42,  ROC_AUC: 0.9320767989407043, Accuracy: 0.9076923076923077\n",
      "Epoch 43,  ROC_AUC: 0.933111267430794, Accuracy: 0.9076923076923077\n",
      "Epoch 44,  ROC_AUC: 0.9370629370629371, Accuracy: 0.9076923076923077\n",
      "Epoch 45,  ROC_AUC: 0.9402284106426119, Accuracy: 0.9076923076923077\n",
      "Epoch 46,  ROC_AUC: 0.9407456448876567, Accuracy: 0.9076923076923077\n",
      "Epoch 47,  ROC_AUC: 0.9403939256010262, Accuracy: 0.9054945054945055\n",
      "Epoch 48,  ROC_AUC: 0.9414077047213142, Accuracy: 0.9054945054945055\n",
      "Epoch 49,  ROC_AUC: 0.9439938759465387, Accuracy: 0.9098901098901099\n",
      "Epoch 50,  ROC_AUC: 0.946186949145529, Accuracy: 0.9098901098901099\n",
      "Epoch 51,  ROC_AUC: 0.9469938345677991, Accuracy: 0.9098901098901099\n",
      "Epoch 52,  ROC_AUC: 0.9479869243182852, Accuracy: 0.9076923076923077\n",
      "Epoch 53,  ROC_AUC: 0.9499937931890594, Accuracy: 0.9076923076923077\n",
      "Epoch 54,  ROC_AUC: 0.9507799892415276, Accuracy: 0.9076923076923077\n",
      "Epoch 55,  ROC_AUC: 0.9507799892415276, Accuracy: 0.9076923076923077\n",
      "Epoch 56,  ROC_AUC: 0.9518765258410229, Accuracy: 0.9120879120879121\n",
      "Epoch 57,  ROC_AUC: 0.9526420325236893, Accuracy: 0.9098901098901099\n",
      "Epoch 58,  ROC_AUC: 0.9526420325236893, Accuracy: 0.9098901098901099\n",
      "Epoch 59,  ROC_AUC: 0.9534282285761575, Accuracy: 0.9098901098901099\n",
      "Epoch 60,  ROC_AUC: 0.9542764927380312, Accuracy: 0.9076923076923077\n",
      "Epoch 61,  ROC_AUC: 0.9544833864360491, Accuracy: 0.9054945054945055\n",
      "Epoch 62,  ROC_AUC: 0.9548764844622832, Accuracy: 0.9076923076923077\n",
      "Epoch 63,  ROC_AUC: 0.9557868167335623, Accuracy: 0.9054945054945055\n",
      "Epoch 64,  ROC_AUC: 0.9560350891711838, Accuracy: 0.9076923076923077\n",
      "Epoch 65,  ROC_AUC: 0.9562833616088053, Accuracy: 0.9076923076923077\n",
      "Epoch 66,  ROC_AUC: 0.957131625770679, Accuracy: 0.9076923076923077\n",
      "Epoch 67,  ROC_AUC: 0.9572971407290933, Accuracy: 0.9076923076923077\n",
      "Epoch 68,  ROC_AUC: 0.9575661025365168, Accuracy: 0.9076923076923077\n",
      "Epoch 69,  ROC_AUC: 0.958248851739976, Accuracy: 0.9076923076923077\n",
      "Epoch 70,  ROC_AUC: 0.9586212603964084, Accuracy: 0.9076923076923077\n",
      "Epoch 71,  ROC_AUC: 0.9589109115736334, Accuracy: 0.9076923076923077\n",
      "Epoch 72,  ROC_AUC: 0.9596971076261018, Accuracy: 0.9076923076923077\n",
      "Epoch 73,  ROC_AUC: 0.9598419332147143, Accuracy: 0.9076923076923077\n",
      "Epoch 74,  ROC_AUC: 0.9601315843919394, Accuracy: 0.9076923076923077\n",
      "Epoch 75,  ROC_AUC: 0.9605246824181735, Accuracy: 0.9076923076923077\n",
      "Epoch 76,  ROC_AUC: 0.9610005379236148, Accuracy: 0.9076923076923077\n",
      "Epoch 77,  ROC_AUC: 0.9611660528820292, Accuracy: 0.9076923076923077\n",
      "Epoch 78,  ROC_AUC: 0.961393635949849, Accuracy: 0.9076923076923077\n",
      "Epoch 79,  ROC_AUC: 0.9616832871270741, Accuracy: 0.9098901098901099\n",
      "Epoch 80,  ROC_AUC: 0.9619315595646957, Accuracy: 0.9076923076923077\n",
      "Epoch 81,  ROC_AUC: 0.9622832788513261, Accuracy: 0.9098901098901099\n",
      "Epoch 82,  ROC_AUC: 0.962510861919146, Accuracy: 0.9120879120879121\n",
      "Epoch 83,  ROC_AUC: 0.9629039599453801, Accuracy: 0.9098901098901099\n",
      "Epoch 84,  ROC_AUC: 0.9635453304092357, Accuracy: 0.9120879120879121\n",
      "Epoch 85,  ROC_AUC: 0.9639798071750735, Accuracy: 0.9142857142857143\n",
      "Epoch 86,  ROC_AUC: 0.9643729052013076, Accuracy: 0.9142857142857143\n",
      "Epoch 87,  ROC_AUC: 0.9646625563785326, Accuracy: 0.9142857142857143\n",
      "Epoch 88,  ROC_AUC: 0.9647866925973434, Accuracy: 0.9164835164835164\n",
      "Epoch 89,  ROC_AUC: 0.9658004717176315, Accuracy: 0.9098901098901099\n",
      "Epoch 90,  ROC_AUC: 0.9664832209210908, Accuracy: 0.9164835164835164\n",
      "Epoch 91,  ROC_AUC: 0.9667314933587123, Accuracy: 0.9164835164835164\n",
      "Epoch 92,  ROC_AUC: 0.9671866594943517, Accuracy: 0.9120879120879121\n",
      "Epoch 93,  ROC_AUC: 0.9670211445359373, Accuracy: 0.9120879120879121\n",
      "Epoch 94,  ROC_AUC: 0.9674970000413787, Accuracy: 0.9120879120879121\n",
      "Epoch 95,  ROC_AUC: 0.9680349236562253, Accuracy: 0.9120879120879121\n",
      "Epoch 96,  ROC_AUC: 0.9684900897918649, Accuracy: 0.9164835164835164\n",
      "Epoch 97,  ROC_AUC: 0.9693797326933421, Accuracy: 0.9098901098901099\n",
      "Epoch 98,  ROC_AUC: 0.9692969752141349, Accuracy: 0.9164835164835164\n",
      "Epoch 99,  ROC_AUC: 0.9697107626101709, Accuracy: 0.9098901098901099\n",
      "Epoch 100,  ROC_AUC: 0.9699176563081888, Accuracy: 0.9098901098901099\n",
      "Epoch 101,  ROC_AUC: 0.9703107543344229, Accuracy: 0.9098901098901099\n",
      "Epoch 102,  ROC_AUC: 0.9707452311002607, Accuracy: 0.9098901098901099\n",
      "Epoch 103,  ROC_AUC: 0.9709728141680805, Accuracy: 0.9120879120879121\n",
      "Epoch 104,  ROC_AUC: 0.9714693590433237, Accuracy: 0.9098901098901099\n",
      "Epoch 105,  ROC_AUC: 0.9714693590433235, Accuracy: 0.9120879120879121\n",
      "Epoch 106,  ROC_AUC: 0.9720486613977739, Accuracy: 0.9164835164835164\n",
      "Epoch 107,  ROC_AUC: 0.971738320850747, Accuracy: 0.9164835164835164\n",
      "Epoch 108,  ROC_AUC: 0.9728555468200438, Accuracy: 0.9142857142857143\n",
      "Epoch 109,  ROC_AUC: 0.9714900484131253, Accuracy: 0.9142857142857143\n",
      "Epoch 110,  ROC_AUC: 0.973662432242314, Accuracy: 0.9120879120879121\n",
      "Epoch 111,  ROC_AUC: 0.9730624405180618, Accuracy: 0.9164835164835164\n",
      "Epoch 112,  ROC_AUC: 0.973248644846278, Accuracy: 0.9186813186813186\n",
      "Epoch 113,  ROC_AUC: 0.9743244920759713, Accuracy: 0.9142857142857143\n",
      "Epoch 114,  ROC_AUC: 0.9732693342160799, Accuracy: 0.9142857142857143\n",
      "Epoch 115,  ROC_AUC: 0.9743451814457731, Accuracy: 0.9186813186813186\n",
      "Epoch 116,  ROC_AUC: 0.9743658708155749, Accuracy: 0.9186813186813186\n",
      "Epoch 117,  ROC_AUC: 0.9739107046799355, Accuracy: 0.9164835164835164\n",
      "Epoch 118,  ROC_AUC: 0.9751520668680431, Accuracy: 0.9164835164835164\n",
      "Epoch 119,  ROC_AUC: 0.9745313857739893, Accuracy: 0.9208791208791208\n",
      "Epoch 120,  ROC_AUC: 0.9752141349774486, Accuracy: 0.9164835164835164\n",
      "Epoch 121,  ROC_AUC: 0.9755865436338809, Accuracy: 0.9208791208791208\n",
      "Epoch 122,  ROC_AUC: 0.9750072412794306, Accuracy: 0.9186813186813186\n",
      "Epoch 123,  ROC_AUC: 0.9761658459883311, Accuracy: 0.9186813186813186\n",
      "Epoch 124,  ROC_AUC: 0.9757313692224935, Accuracy: 0.9186813186813186\n",
      "Epoch 125,  ROC_AUC: 0.9762279140977365, Accuracy: 0.9186813186813186\n",
      "Epoch 126,  ROC_AUC: 0.9767244589729795, Accuracy: 0.9208791208791208\n",
      "Epoch 127,  ROC_AUC: 0.9764761865353582, Accuracy: 0.9208791208791208\n",
      "Epoch 128,  ROC_AUC: 0.9773865188066371, Accuracy: 0.9208791208791208\n",
      "Epoch 129,  ROC_AUC: 0.9766623908635743, Accuracy: 0.9230769230769231\n",
      "Epoch 130,  ROC_AUC: 0.9776347912442586, Accuracy: 0.9230769230769231\n",
      "Epoch 131,  ROC_AUC: 0.9773658294368354, Accuracy: 0.9208791208791208\n",
      "Epoch 132,  ROC_AUC: 0.9776761699838623, Accuracy: 0.9208791208791208\n",
      "Epoch 133,  ROC_AUC: 0.9781106467496999, Accuracy: 0.9208791208791208\n",
      "Epoch 134,  ROC_AUC: 0.9778830636818803, Accuracy: 0.9296703296703297\n",
      "Epoch 135,  ROC_AUC: 0.9786485703645467, Accuracy: 0.9252747252747253\n",
      "Epoch 136,  ROC_AUC: 0.9782554723383126, Accuracy: 0.9274725274725275\n",
      "Epoch 137,  ROC_AUC: 0.9791864939793933, Accuracy: 0.9208791208791208\n",
      "Epoch 138,  ROC_AUC: 0.9783589191873217, Accuracy: 0.9318681318681319\n",
      "Epoch 139,  ROC_AUC: 0.9794968345264203, Accuracy: 0.9230769230769231\n",
      "Epoch 140,  ROC_AUC: 0.9788140853229611, Accuracy: 0.9340659340659341\n",
      "Epoch 141,  ROC_AUC: 0.9798485538130508, Accuracy: 0.9252747252747253\n",
      "Epoch 142,  ROC_AUC: 0.9797864857036455, Accuracy: 0.9252747252747253\n",
      "Epoch 143,  ROC_AUC: 0.9799933794016634, Accuracy: 0.9274725274725275\n",
      "Epoch 144,  ROC_AUC: 0.9804485455373029, Accuracy: 0.9252747252747253\n",
      "Epoch 145,  ROC_AUC: 0.9799106219224563, Accuracy: 0.9318681318681319\n",
      "Epoch 146,  ROC_AUC: 0.9809450904125461, Accuracy: 0.9252747252747253\n",
      "Epoch 147,  ROC_AUC: 0.9803244093184922, Accuracy: 0.9362637362637363\n",
      "Epoch 148,  ROC_AUC: 0.9816278396160053, Accuracy: 0.9186813186813186\n",
      "Epoch 149,  ROC_AUC: 0.9802002730996814, Accuracy: 0.9296703296703297\n",
      "Epoch 150,  ROC_AUC: 0.9820209376422394, Accuracy: 0.9120879120879121\n",
      "Epoch 151,  ROC_AUC: 0.9802002730996813, Accuracy: 0.9296703296703297\n",
      "Epoch 152,  ROC_AUC: 0.9819174907932304, Accuracy: 0.9186813186813186\n",
      "Epoch 153,  ROC_AUC: 0.9817726652046179, Accuracy: 0.9340659340659341\n",
      "Epoch 154,  ROC_AUC: 0.9813174990689784, Accuracy: 0.9384615384615385\n",
      "Epoch 155,  ROC_AUC: 0.982579550626888, Accuracy: 0.9142857142857143\n",
      "Epoch 156,  ROC_AUC: 0.9814830140273927, Accuracy: 0.9362637362637363\n",
      "Epoch 157,  ROC_AUC: 0.9824554144080772, Accuracy: 0.9252747252747253\n",
      "Epoch 158,  ROC_AUC: 0.9825174825174825, Accuracy: 0.9274725274725275\n",
      "Epoch 159,  ROC_AUC: 0.9816899077254106, Accuracy: 0.9362637362637363\n",
      "Epoch 160,  ROC_AUC: 0.9827864443249059, Accuracy: 0.9230769230769231\n",
      "Epoch 161,  ROC_AUC: 0.9823933462986717, Accuracy: 0.9384615384615385\n",
      "Epoch 162,  ROC_AUC: 0.9829312699135184, Accuracy: 0.9384615384615385\n",
      "Epoch 163,  ROC_AUC: 0.9832416104605454, Accuracy: 0.9252747252747253\n",
      "Epoch 164,  ROC_AUC: 0.9826829974758969, Accuracy: 0.9384615384615385\n",
      "Epoch 165,  ROC_AUC: 0.983469193528365, Accuracy: 0.9252747252747253\n",
      "Epoch 166,  ROC_AUC: 0.9832209210907435, Accuracy: 0.9406593406593406\n",
      "Epoch 167,  ROC_AUC: 0.9833036785699508, Accuracy: 0.9362637362637363\n",
      "Epoch 168,  ROC_AUC: 0.9835105722679688, Accuracy: 0.9296703296703297\n",
      "Epoch 169,  ROC_AUC: 0.9835312616377705, Accuracy: 0.9406593406593406\n",
      "Epoch 170,  ROC_AUC: 0.9838416021847974, Accuracy: 0.9296703296703297\n",
      "Epoch 171,  ROC_AUC: 0.9838209128149957, Accuracy: 0.9428571428571428\n",
      "Epoch 172,  ROC_AUC: 0.9840071171432119, Accuracy: 0.9340659340659341\n",
      "Epoch 173,  ROC_AUC: 0.9840691852526172, Accuracy: 0.9340659340659341\n",
      "Epoch 174,  ROC_AUC: 0.9840071171432119, Accuracy: 0.9384615384615385\n",
      "Epoch 175,  ROC_AUC: 0.9843174576902387, Accuracy: 0.9318681318681319\n",
      "Epoch 176,  ROC_AUC: 0.9844209045392478, Accuracy: 0.9406593406593406\n",
      "Epoch 177,  ROC_AUC: 0.9846071088674639, Accuracy: 0.9296703296703297\n",
      "Epoch 178,  ROC_AUC: 0.9845657301278603, Accuracy: 0.9406593406593406\n",
      "Epoch 179,  ROC_AUC: 0.9850415856333017, Accuracy: 0.9296703296703297\n",
      "Epoch 180,  ROC_AUC: 0.9846898663466712, Accuracy: 0.9428571428571428\n",
      "Epoch 181,  ROC_AUC: 0.9848553813050854, Accuracy: 0.9362637362637363\n",
      "Epoch 182,  ROC_AUC: 0.9843795257996442, Accuracy: 0.9406593406593406\n",
      "Epoch 183,  ROC_AUC: 0.9851657218521124, Accuracy: 0.9340659340659341\n",
      "Epoch 184,  ROC_AUC: 0.9849795175238962, Accuracy: 0.9428571428571428\n",
      "Epoch 185,  ROC_AUC: 0.9855174411387428, Accuracy: 0.9384615384615385\n",
      "Epoch 186,  ROC_AUC: 0.9849795175238962, Accuracy: 0.9406593406593406\n",
      "Epoch 187,  ROC_AUC: 0.9856415773575538, Accuracy: 0.9362637362637363\n",
      "Epoch 188,  ROC_AUC: 0.9846277982372657, Accuracy: 0.9406593406593406\n",
      "Epoch 189,  ROC_AUC: 0.9857243348367608, Accuracy: 0.9274725274725275\n",
      "Epoch 190,  ROC_AUC: 0.9847312450862746, Accuracy: 0.9406593406593406\n",
      "Epoch 191,  ROC_AUC: 0.9859312285347788, Accuracy: 0.9384615384615385\n",
      "Epoch 192,  ROC_AUC: 0.9853519261803285, Accuracy: 0.945054945054945\n",
      "Epoch 193,  ROC_AUC: 0.9858691604253734, Accuracy: 0.9362637362637363\n",
      "Epoch 194,  ROC_AUC: 0.9857243348367608, Accuracy: 0.9362637362637363\n",
      "Epoch 195,  ROC_AUC: 0.9856829560971574, Accuracy: 0.9406593406593406\n",
      "Epoch 196,  ROC_AUC: 0.9860346753837879, Accuracy: 0.9384615384615385\n",
      "Epoch 197,  ROC_AUC: 0.9855588198783465, Accuracy: 0.9428571428571428\n",
      "Epoch 198,  ROC_AUC: 0.986117432862995, Accuracy: 0.9428571428571428\n",
      "Epoch 199,  ROC_AUC: 0.9856829560971574, Accuracy: 0.9384615384615385\n",
      "Epoch 200,  ROC_AUC: 0.9863243265610129, Accuracy: 0.9362637362637363\n",
      "Epoch 201,  ROC_AUC: 0.9858070923159681, Accuracy: 0.9384615384615385\n",
      "Epoch 202,  ROC_AUC: 0.986427773410022, Accuracy: 0.9318681318681319\n",
      "Epoch 203,  ROC_AUC: 0.9859726072743824, Accuracy: 0.9384615384615385\n",
      "Epoch 204,  ROC_AUC: 0.9863657053006165, Accuracy: 0.9428571428571428\n",
      "Epoch 205,  ROC_AUC: 0.9861795009724004, Accuracy: 0.945054945054945\n",
      "Epoch 206,  ROC_AUC: 0.9864070840402202, Accuracy: 0.9428571428571428\n",
      "Epoch 207,  ROC_AUC: 0.9863243265610129, Accuracy: 0.9406593406593406\n",
      "Epoch 208,  ROC_AUC: 0.9864484627798237, Accuracy: 0.9428571428571428\n",
      "Epoch 209,  ROC_AUC: 0.9866553564778417, Accuracy: 0.9428571428571428\n",
      "Epoch 210,  ROC_AUC: 0.9863450159308148, Accuracy: 0.945054945054945\n",
      "Epoch 211,  ROC_AUC: 0.9867794926966524, Accuracy: 0.945054945054945\n",
      "Epoch 212,  ROC_AUC: 0.9864070840402202, Accuracy: 0.945054945054945\n",
      "Epoch 213,  ROC_AUC: 0.9867794926966524, Accuracy: 0.9428571428571428\n",
      "Epoch 214,  ROC_AUC: 0.9865312202590308, Accuracy: 0.9428571428571428\n",
      "Epoch 215,  ROC_AUC: 0.9868829395456614, Accuracy: 0.945054945054945\n",
      "Epoch 216,  ROC_AUC: 0.9868415608060579, Accuracy: 0.9428571428571428\n",
      "Epoch 217,  ROC_AUC: 0.9870070757644722, Accuracy: 0.945054945054945\n",
      "Epoch 218,  ROC_AUC: 0.9869036289154632, Accuracy: 0.9428571428571428\n",
      "Epoch 219,  ROC_AUC: 0.987027765134274, Accuracy: 0.945054945054945\n",
      "Epoch 220,  ROC_AUC: 0.9869863863946704, Accuracy: 0.945054945054945\n",
      "Epoch 221,  ROC_AUC: 0.9871519013530847, Accuracy: 0.9428571428571428\n",
      "Epoch 222,  ROC_AUC: 0.9869656970248686, Accuracy: 0.945054945054945\n",
      "Epoch 223,  ROC_AUC: 0.9871105226134812, Accuracy: 0.945054945054945\n",
      "Epoch 224,  ROC_AUC: 0.9872967269416973, Accuracy: 0.9428571428571428\n",
      "Epoch 225,  ROC_AUC: 0.987131211983283, Accuracy: 0.9428571428571428\n",
      "Epoch 226,  ROC_AUC: 0.9875449993793188, Accuracy: 0.9428571428571428\n",
      "Epoch 227,  ROC_AUC: 0.987027765134274, Accuracy: 0.9384615384615385\n",
      "Epoch 228,  ROC_AUC: 0.9875036206397153, Accuracy: 0.9296703296703297\n",
      "Epoch 229,  ROC_AUC: 0.9862415690818058, Accuracy: 0.9318681318681319\n",
      "Epoch 230,  ROC_AUC: 0.9876277568585261, Accuracy: 0.9164835164835164\n",
      "Epoch 231,  ROC_AUC: 0.9870691438738776, Accuracy: 0.9406593406593406\n",
      "Epoch 232,  ROC_AUC: 0.9874001737907063, Accuracy: 0.945054945054945\n",
      "Epoch 233,  ROC_AUC: 0.9877105143377333, Accuracy: 0.9428571428571428\n",
      "Epoch 234,  ROC_AUC: 0.9872139694624902, Accuracy: 0.9362637362637363\n",
      "Epoch 235,  ROC_AUC: 0.9877725824471387, Accuracy: 0.9340659340659341\n"
     ]
    },
    {
     "name": "stdout",
     "output_type": "stream",
     "text": [
      "Epoch 236,  ROC_AUC: 0.9876070674887243, Accuracy: 0.9428571428571428\n",
      "Epoch 237,  ROC_AUC: 0.9876070674887243, Accuracy: 0.945054945054945\n",
      "Epoch 238,  ROC_AUC: 0.987938097405553, Accuracy: 0.9362637362637363\n",
      "Epoch 239,  ROC_AUC: 0.9874622419001118, Accuracy: 0.9406593406593406\n",
      "Epoch 240,  ROC_AUC: 0.9879174080357512, Accuracy: 0.945054945054945\n",
      "Epoch 241,  ROC_AUC: 0.9879587867753548, Accuracy: 0.9494505494505494\n",
      "Epoch 242,  ROC_AUC: 0.9877518930773369, Accuracy: 0.9406593406593406\n",
      "Epoch 243,  ROC_AUC: 0.9882898166921835, Accuracy: 0.9406593406593406\n",
      "Epoch 244,  ROC_AUC: 0.9877932718169404, Accuracy: 0.945054945054945\n",
      "Epoch 245,  ROC_AUC: 0.9879380974055529, Accuracy: 0.9472527472527472\n",
      "Epoch 246,  ROC_AUC: 0.9882898166921836, Accuracy: 0.9406593406593406\n",
      "Epoch 247,  ROC_AUC: 0.9877312037075351, Accuracy: 0.945054945054945\n",
      "Epoch 248,  ROC_AUC: 0.9883311954317873, Accuracy: 0.945054945054945\n",
      "Epoch 249,  ROC_AUC: 0.9881243017337693, Accuracy: 0.9472527472527472\n",
      "Epoch 250,  ROC_AUC: 0.988041544254562, Accuracy: 0.9494505494505494\n",
      "Epoch 251,  ROC_AUC: 0.9883725741713908, Accuracy: 0.945054945054945\n",
      "Epoch 252,  ROC_AUC: 0.988144991103571, Accuracy: 0.9472527472527472\n",
      "Epoch 253,  ROC_AUC: 0.9884346422807961, Accuracy: 0.945054945054945\n",
      "Epoch 254,  ROC_AUC: 0.9885173997600034, Accuracy: 0.945054945054945\n",
      "Epoch 255,  ROC_AUC: 0.9883311954317872, Accuracy: 0.9472527472527472\n",
      "Epoch 256,  ROC_AUC: 0.9884967103902016, Accuracy: 0.9472527472527472\n",
      "Epoch 257,  ROC_AUC: 0.9884346422807961, Accuracy: 0.9494505494505494\n",
      "Epoch 258,  ROC_AUC: 0.9886622253486159, Accuracy: 0.945054945054945\n",
      "Epoch 259,  ROC_AUC: 0.9887863615674267, Accuracy: 0.9472527472527472\n",
      "Epoch 260,  ROC_AUC: 0.9885380891298052, Accuracy: 0.9494505494505494\n",
      "Epoch 261,  ROC_AUC: 0.9888484296768321, Accuracy: 0.9472527472527472\n",
      "Epoch 262,  ROC_AUC: 0.9886622253486159, Accuracy: 0.9516483516483516\n",
      "Epoch 263,  ROC_AUC: 0.9888070509372285, Accuracy: 0.945054945054945\n",
      "Epoch 264,  ROC_AUC: 0.9888070509372285, Accuracy: 0.945054945054945\n",
      "Epoch 265,  ROC_AUC: 0.9886829147184177, Accuracy: 0.9494505494505494\n",
      "Epoch 266,  ROC_AUC: 0.9889311871560393, Accuracy: 0.945054945054945\n",
      "Epoch 267,  ROC_AUC: 0.9888070509372285, Accuracy: 0.9494505494505494\n",
      "Epoch 268,  ROC_AUC: 0.988951876525841, Accuracy: 0.9472527472527472\n",
      "Epoch 269,  ROC_AUC: 0.9889725658956429, Accuracy: 0.9494505494505494\n",
      "Epoch 270,  ROC_AUC: 0.9889932552654447, Accuracy: 0.9494505494505494\n",
      "Epoch 271,  ROC_AUC: 0.98905532337485, Accuracy: 0.9472527472527472\n",
      "Epoch 272,  ROC_AUC: 0.9889104977862375, Accuracy: 0.9494505494505494\n",
      "Epoch 273,  ROC_AUC: 0.9891380808540571, Accuracy: 0.945054945054945\n",
      "Epoch 274,  ROC_AUC: 0.9889311871560393, Accuracy: 0.9494505494505494\n",
      "Epoch 275,  ROC_AUC: 0.9890967021144536, Accuracy: 0.9472527472527472\n",
      "Epoch 276,  ROC_AUC: 0.9890139446352464, Accuracy: 0.9494505494505494\n",
      "Epoch 277,  ROC_AUC: 0.9892415277030662, Accuracy: 0.9494505494505494\n",
      "Epoch 278,  ROC_AUC: 0.9891380808540572, Accuracy: 0.9494505494505494\n",
      "Epoch 279,  ROC_AUC: 0.9890967021144536, Accuracy: 0.9494505494505494\n",
      "Epoch 280,  ROC_AUC: 0.9892622170728679, Accuracy: 0.9472527472527472\n",
      "Epoch 281,  ROC_AUC: 0.9891587702238589, Accuracy: 0.9494505494505494\n",
      "Epoch 282,  ROC_AUC: 0.9894484214010841, Accuracy: 0.9428571428571428\n",
      "Epoch 283,  ROC_AUC: 0.9891794595936607, Accuracy: 0.9494505494505494\n",
      "Epoch 284,  ROC_AUC: 0.9894070426614805, Accuracy: 0.945054945054945\n",
      "Epoch 285,  ROC_AUC: 0.9892208383332645, Accuracy: 0.9538461538461539\n",
      "Epoch 286,  ROC_AUC: 0.9896553150991021, Accuracy: 0.9538461538461539\n",
      "Epoch 287,  ROC_AUC: 0.9892001489634626, Accuracy: 0.9516483516483516\n",
      "Epoch 288,  ROC_AUC: 0.9896346257293003, Accuracy: 0.9472527472527472\n",
      "Epoch 289,  ROC_AUC: 0.9890346340050482, Accuracy: 0.9472527472527472\n",
      "Epoch 290,  ROC_AUC: 0.9896139363594985, Accuracy: 0.9340659340659341\n",
      "Epoch 291,  ROC_AUC: 0.9888484296768321, Accuracy: 0.9384615384615385\n",
      "Epoch 292,  ROC_AUC: 0.9896346257293003, Accuracy: 0.9340659340659341\n",
      "Epoch 293,  ROC_AUC: 0.9891794595936607, Accuracy: 0.9494505494505494\n",
      "Epoch 294,  ROC_AUC: 0.9898208300575164, Accuracy: 0.9516483516483516\n",
      "Epoch 295,  ROC_AUC: 0.9899035875367237, Accuracy: 0.945054945054945\n",
      "Epoch 296,  ROC_AUC: 0.9897173832085074, Accuracy: 0.9516483516483516\n",
      "Epoch 297,  ROC_AUC: 0.9899035875367236, Accuracy: 0.9406593406593406\n",
      "Epoch 298,  ROC_AUC: 0.9897587619481111, Accuracy: 0.9384615384615385\n",
      "Epoch 299,  ROC_AUC: 0.9899242769065254, Accuracy: 0.9428571428571428\n",
      "Epoch 300,  ROC_AUC: 0.9899863450159309, Accuracy: 0.9516483516483516\n",
      "Epoch 301,  ROC_AUC: 0.9900897918649398, Accuracy: 0.9428571428571428\n",
      "Epoch 302,  ROC_AUC: 0.9900484131253361, Accuracy: 0.9494505494505494\n",
      "Epoch 303,  ROC_AUC: 0.9898622087971201, Accuracy: 0.9516483516483516\n",
      "Epoch 304,  ROC_AUC: 0.9899449662763271, Accuracy: 0.9494505494505494\n",
      "Epoch 305,  ROC_AUC: 0.9899656556461289, Accuracy: 0.9516483516483516\n",
      "Epoch 306,  ROC_AUC: 0.9900070343857326, Accuracy: 0.9538461538461539\n",
      "Epoch 307,  ROC_AUC: 0.9900897918649397, Accuracy: 0.9494505494505494\n",
      "Epoch 308,  ROC_AUC: 0.9901932387139487, Accuracy: 0.9472527472527472\n",
      "Epoch 309,  ROC_AUC: 0.9901932387139487, Accuracy: 0.9472527472527472\n",
      "Epoch 310,  ROC_AUC: 0.9900897918649397, Accuracy: 0.9538461538461539\n",
      "Epoch 311,  ROC_AUC: 0.9902553068233542, Accuracy: 0.9516483516483516\n",
      "Epoch 312,  ROC_AUC: 0.9902966855629577, Accuracy: 0.9538461538461539\n",
      "Epoch 313,  ROC_AUC: 0.9904001324119667, Accuracy: 0.9538461538461539\n",
      "Epoch 314,  ROC_AUC: 0.9904208217817685, Accuracy: 0.9538461538461539\n",
      "Epoch 315,  ROC_AUC: 0.9904208217817685, Accuracy: 0.9516483516483516\n",
      "Epoch 316,  ROC_AUC: 0.9906484048495883, Accuracy: 0.9494505494505494\n",
      "Epoch 317,  ROC_AUC: 0.9905656473703811, Accuracy: 0.9494505494505494\n",
      "Epoch 318,  ROC_AUC: 0.9906484048495883, Accuracy: 0.945054945054945\n",
      "Epoch 319,  ROC_AUC: 0.9907311623287953, Accuracy: 0.9516483516483516\n",
      "Epoch 320,  ROC_AUC: 0.9906690942193901, Accuracy: 0.9516483516483516\n",
      "Epoch 321,  ROC_AUC: 0.9908346091778044, Accuracy: 0.9538461538461539\n",
      "Epoch 322,  ROC_AUC: 0.9908346091778044, Accuracy: 0.9516483516483516\n",
      "Epoch 323,  ROC_AUC: 0.9908552985476062, Accuracy: 0.9538461538461539\n",
      "Epoch 324,  ROC_AUC: 0.990979434766417, Accuracy: 0.9516483516483516\n",
      "Epoch 325,  ROC_AUC: 0.9908346091778044, Accuracy: 0.9516483516483516\n",
      "Epoch 326,  ROC_AUC: 0.9910001241362187, Accuracy: 0.9516483516483516\n",
      "Epoch 327,  ROC_AUC: 0.9909587453966151, Accuracy: 0.9516483516483516\n",
      "Epoch 328,  ROC_AUC: 0.9911242603550295, Accuracy: 0.9516483516483516\n",
      "Epoch 329,  ROC_AUC: 0.991082881615426, Accuracy: 0.9516483516483516\n",
      "Epoch 330,  ROC_AUC: 0.9911242603550295, Accuracy: 0.9516483516483516\n",
      "Epoch 331,  ROC_AUC: 0.9911449497248314, Accuracy: 0.9516483516483516\n",
      "Epoch 332,  ROC_AUC: 0.991186328464435, Accuracy: 0.9516483516483516\n",
      "Epoch 333,  ROC_AUC: 0.9911863284644349, Accuracy: 0.9538461538461539\n",
      "Epoch 334,  ROC_AUC: 0.9913518434228493, Accuracy: 0.9538461538461539\n",
      "Epoch 335,  ROC_AUC: 0.991289775313444, Accuracy: 0.9516483516483516\n",
      "Epoch 336,  ROC_AUC: 0.991393222162453, Accuracy: 0.945054945054945\n",
      "Epoch 337,  ROC_AUC: 0.9910415028758224, Accuracy: 0.9494505494505494\n",
      "Epoch 338,  ROC_AUC: 0.9911242603550297, Accuracy: 0.9252747252747253\n",
      "Epoch 339,  ROC_AUC: 0.990069102495138, Accuracy: 0.9340659340659341\n",
      "Epoch 340,  ROC_AUC: 0.9908346091778045, Accuracy: 0.8989010989010989\n",
      "Epoch 341,  ROC_AUC: 0.9907311623287954, Accuracy: 0.9428571428571428\n",
      "Epoch 342,  ROC_AUC: 0.9910001241362187, Accuracy: 0.945054945054945\n",
      "Epoch 343,  ROC_AUC: 0.9907932304382009, Accuracy: 0.9384615384615385\n",
      "Epoch 344,  ROC_AUC: 0.9907518516985973, Accuracy: 0.9406593406593406\n",
      "Epoch 345,  ROC_AUC: 0.991082881615426, Accuracy: 0.9516483516483516\n",
      "Epoch 346,  ROC_AUC: 0.9912070178342368, Accuracy: 0.9516483516483516\n",
      "Epoch 347,  ROC_AUC: 0.9914552902718583, Accuracy: 0.945054945054945\n",
      "Epoch 348,  ROC_AUC: 0.9912277072040385, Accuracy: 0.9472527472527472\n",
      "Epoch 349,  ROC_AUC: 0.9917656308188852, Accuracy: 0.9516483516483516\n",
      "Epoch 350,  ROC_AUC: 0.9916208052302726, Accuracy: 0.9516483516483516\n",
      "Epoch 351,  ROC_AUC: 0.9916621839698763, Accuracy: 0.9406593406593406\n",
      "Epoch 352,  ROC_AUC: 0.9916208052302726, Accuracy: 0.9538461538461539\n",
      "Epoch 353,  ROC_AUC: 0.9915587371208673, Accuracy: 0.9560439560439561\n",
      "Epoch 354,  ROC_AUC: 0.9915173583812638, Accuracy: 0.9428571428571428\n",
      "Epoch 355,  ROC_AUC: 0.9912483965738403, Accuracy: 0.9494505494505494\n",
      "Epoch 356,  ROC_AUC: 0.9916208052302727, Accuracy: 0.9494505494505494\n",
      "Epoch 357,  ROC_AUC: 0.9916828733396781, Accuracy: 0.9538461538461539\n",
      "Epoch 358,  ROC_AUC: 0.9916621839698763, Accuracy: 0.9494505494505494\n",
      "Epoch 359,  ROC_AUC: 0.9917449414490835, Accuracy: 0.9538461538461539\n",
      "Epoch 360,  ROC_AUC: 0.9918483882980924, Accuracy: 0.9516483516483516\n",
      "Epoch 361,  ROC_AUC: 0.9919725245169032, Accuracy: 0.9516483516483516\n",
      "Epoch 362,  ROC_AUC: 0.9918483882980924, Accuracy: 0.9516483516483516\n",
      "Epoch 363,  ROC_AUC: 0.9921380394753176, Accuracy: 0.9494505494505494\n",
      "Epoch 364,  ROC_AUC: 0.9920759713659122, Accuracy: 0.9516483516483516\n",
      "Epoch 365,  ROC_AUC: 0.9919725245169032, Accuracy: 0.9516483516483516\n",
      "Epoch 366,  ROC_AUC: 0.9922207969545248, Accuracy: 0.9516483516483516\n",
      "Epoch 367,  ROC_AUC: 0.9920345926263087, Accuracy: 0.9472527472527472\n",
      "Epoch 368,  ROC_AUC: 0.9919311457772997, Accuracy: 0.9560439560439561\n",
      "Epoch 369,  ROC_AUC: 0.991993213886705, Accuracy: 0.9538461538461539\n",
      "Epoch 370,  ROC_AUC: 0.991889767037696, Accuracy: 0.9560439560439561\n",
      "Epoch 371,  ROC_AUC: 0.9921173501055158, Accuracy: 0.9472527472527472\n",
      "Epoch 372,  ROC_AUC: 0.9921380394753176, Accuracy: 0.9516483516483516\n",
      "Epoch 373,  ROC_AUC: 0.9920552819961104, Accuracy: 0.9560439560439561\n",
      "Epoch 374,  ROC_AUC: 0.992200107584723, Accuracy: 0.9516483516483516\n",
      "Epoch 375,  ROC_AUC: 0.9922414863243266, Accuracy: 0.9472527472527472\n",
      "Epoch 376,  ROC_AUC: 0.992200107584723, Accuracy: 0.9538461538461539\n",
      "Epoch 377,  ROC_AUC: 0.9923863119129391, Accuracy: 0.9516483516483516\n",
      "Epoch 378,  ROC_AUC: 0.9922621756941283, Accuracy: 0.9560439560439561\n",
      "Epoch 379,  ROC_AUC: 0.9925104481317499, Accuracy: 0.9494505494505494\n",
      "Epoch 380,  ROC_AUC: 0.9925725162411553, Accuracy: 0.9516483516483516\n",
      "Epoch 381,  ROC_AUC: 0.992407001282741, Accuracy: 0.9538461538461539\n",
      "Epoch 382,  ROC_AUC: 0.9924690693921463, Accuracy: 0.9494505494505494\n",
      "Epoch 383,  ROC_AUC: 0.9926138949807589, Accuracy: 0.9538461538461539\n",
      "Epoch 384,  ROC_AUC: 0.9926759630901643, Accuracy: 0.9538461538461539\n",
      "Epoch 385,  ROC_AUC: 0.9925932056109571, Accuracy: 0.9516483516483516\n",
      "Epoch 386,  ROC_AUC: 0.9927173418297679, Accuracy: 0.9538461538461539\n",
      "Epoch 387,  ROC_AUC: 0.9926138949807589, Accuracy: 0.9516483516483516\n",
      "Epoch 388,  ROC_AUC: 0.9928000993089751, Accuracy: 0.9538461538461539\n",
      "Epoch 389,  ROC_AUC: 0.9928414780485787, Accuracy: 0.9538461538461539\n",
      "Epoch 390,  ROC_AUC: 0.9927587205693715, Accuracy: 0.9494505494505494\n",
      "Epoch 391,  ROC_AUC: 0.9928414780485787, Accuracy: 0.9560439560439561\n",
      "Epoch 392,  ROC_AUC: 0.9928414780485787, Accuracy: 0.9494505494505494\n",
      "Epoch 393,  ROC_AUC: 0.9928414780485787, Accuracy: 0.9560439560439561\n",
      "Epoch 394,  ROC_AUC: 0.9929449248975877, Accuracy: 0.9494505494505494\n",
      "Epoch 395,  ROC_AUC: 0.9929656142673895, Accuracy: 0.9516483516483516\n",
      "Epoch 396,  ROC_AUC: 0.9929242355277859, Accuracy: 0.9560439560439561\n",
      "Epoch 397,  ROC_AUC: 0.9929449248975877, Accuracy: 0.9494505494505494\n",
      "Epoch 398,  ROC_AUC: 0.9929863036371912, Accuracy: 0.9560439560439561\n",
      "Epoch 399,  ROC_AUC: 0.9929242355277859, Accuracy: 0.9516483516483516\n",
      "Epoch 400,  ROC_AUC: 0.9929242355277859, Accuracy: 0.9560439560439561\n",
      "Epoch 401,  ROC_AUC: 0.9929863036371912, Accuracy: 0.9538461538461539\n",
      "Epoch 402,  ROC_AUC: 0.9929863036371912, Accuracy: 0.9538461538461539\n",
      "Epoch 403,  ROC_AUC: 0.993006993006993, Accuracy: 0.9582417582417583\n",
      "Epoch 404,  ROC_AUC: 0.9930276823767948, Accuracy: 0.9538461538461539\n",
      "Epoch 405,  ROC_AUC: 0.993110439856002, Accuracy: 0.9560439560439561\n",
      "Epoch 406,  ROC_AUC: 0.993006993006993, Accuracy: 0.9516483516483516\n",
      "Epoch 407,  ROC_AUC: 0.9931931973352093, Accuracy: 0.9560439560439561\n",
      "Epoch 408,  ROC_AUC: 0.9930690611163984, Accuracy: 0.9538461538461539\n",
      "Epoch 409,  ROC_AUC: 0.9931931973352093, Accuracy: 0.9582417582417583\n",
      "Epoch 410,  ROC_AUC: 0.993110439856002, Accuracy: 0.9516483516483516\n",
      "Epoch 411,  ROC_AUC: 0.9931518185956056, Accuracy: 0.9560439560439561\n",
      "Epoch 412,  ROC_AUC: 0.9931311292258038, Accuracy: 0.9516483516483516\n",
      "Epoch 413,  ROC_AUC: 0.9932552654446146, Accuracy: 0.9560439560439561\n",
      "Epoch 414,  ROC_AUC: 0.993110439856002, Accuracy: 0.9538461538461539\n",
      "Epoch 415,  ROC_AUC: 0.9931931973352093, Accuracy: 0.9582417582417583\n",
      "Epoch 416,  ROC_AUC: 0.993213886705011, Accuracy: 0.9560439560439561\n",
      "Epoch 417,  ROC_AUC: 0.9931931973352093, Accuracy: 0.9560439560439561\n",
      "Epoch 418,  ROC_AUC: 0.9931725079654075, Accuracy: 0.9560439560439561\n",
      "Epoch 419,  ROC_AUC: 0.9930897504862003, Accuracy: 0.9516483516483516\n",
      "Epoch 420,  ROC_AUC: 0.9929656142673895, Accuracy: 0.9582417582417583\n",
      "Epoch 421,  ROC_AUC: 0.9930276823767948, Accuracy: 0.9472527472527472\n",
      "Epoch 422,  ROC_AUC: 0.9930690611163985, Accuracy: 0.9538461538461539\n",
      "Epoch 423,  ROC_AUC: 0.9930276823767947, Accuracy: 0.9472527472527472\n",
      "Epoch 424,  ROC_AUC: 0.993193197335209, Accuracy: 0.9538461538461539\n",
      "Epoch 425,  ROC_AUC: 0.9931725079654075, Accuracy: 0.9560439560439561\n",
      "Epoch 426,  ROC_AUC: 0.9933587122936236, Accuracy: 0.9582417582417583\n",
      "Epoch 427,  ROC_AUC: 0.9933794016634253, Accuracy: 0.9582417582417583\n",
      "Epoch 428,  ROC_AUC: 0.9931518185956056, Accuracy: 0.9538461538461539\n",
      "Epoch 429,  ROC_AUC: 0.993420780403029, Accuracy: 0.9538461538461539\n",
      "Epoch 430,  ROC_AUC: 0.9930069930069929, Accuracy: 0.945054945054945\n",
      "Epoch 431,  ROC_AUC: 0.9930690611163984, Accuracy: 0.9516483516483516\n",
      "Epoch 432,  ROC_AUC: 0.993110439856002, Accuracy: 0.9494505494505494\n",
      "Epoch 433,  ROC_AUC: 0.9931518185956055, Accuracy: 0.9560439560439561\n",
      "Epoch 434,  ROC_AUC: 0.9933587122936235, Accuracy: 0.9538461538461539\n",
      "Epoch 435,  ROC_AUC: 0.9933794016634254, Accuracy: 0.9516483516483516\n",
      "Epoch 436,  ROC_AUC: 0.9934207804030291, Accuracy: 0.9560439560439561\n",
      "Epoch 437,  ROC_AUC: 0.9932759548144163, Accuracy: 0.945054945054945\n",
      "Epoch 438,  ROC_AUC: 0.9935656059916416, Accuracy: 0.9560439560439561\n",
      "Epoch 439,  ROC_AUC: 0.9935656059916415, Accuracy: 0.9604395604395605\n",
      "Epoch 440,  ROC_AUC: 0.9935656059916415, Accuracy: 0.9604395604395605\n",
      "Epoch 441,  ROC_AUC: 0.9936276741010469, Accuracy: 0.9582417582417583\n",
      "Epoch 442,  ROC_AUC: 0.9934000910332271, Accuracy: 0.9516483516483516\n",
      "Epoch 443,  ROC_AUC: 0.9935449166218397, Accuracy: 0.9582417582417583\n",
      "Epoch 444,  ROC_AUC: 0.9933587122936235, Accuracy: 0.9538461538461539\n",
      "Epoch 445,  ROC_AUC: 0.9934621591426325, Accuracy: 0.9560439560439561\n",
      "Epoch 446,  ROC_AUC: 0.9934621591426325, Accuracy: 0.9538461538461539\n",
      "Epoch 447,  ROC_AUC: 0.9935656059916415, Accuracy: 0.9538461538461539\n",
      "Epoch 448,  ROC_AUC: 0.9934621591426325, Accuracy: 0.9560439560439561\n",
      "Epoch 449,  ROC_AUC: 0.9935035378822361, Accuracy: 0.9582417582417583\n",
      "Epoch 450,  ROC_AUC: 0.9936276741010468, Accuracy: 0.9582417582417583\n",
      "Epoch 451,  ROC_AUC: 0.9936690528406504, Accuracy: 0.9582417582417583\n",
      "Epoch 452,  ROC_AUC: 0.9937311209500559, Accuracy: 0.9604395604395605\n",
      "Epoch 453,  ROC_AUC: 0.9938345677990648, Accuracy: 0.9604395604395605\n",
      "Epoch 454,  ROC_AUC: 0.9937311209500559, Accuracy: 0.9604395604395605\n",
      "Epoch 455,  ROC_AUC: 0.9937931890594612, Accuracy: 0.9582417582417583\n",
      "Epoch 456,  ROC_AUC: 0.9937724996896594, Accuracy: 0.9604395604395605\n",
      "Epoch 457,  ROC_AUC: 0.9937724996896594, Accuracy: 0.9582417582417583\n",
      "Epoch 458,  ROC_AUC: 0.9937931890594612, Accuracy: 0.9604395604395605\n",
      "Epoch 459,  ROC_AUC: 0.9936690528406504, Accuracy: 0.9582417582417583\n",
      "Epoch 460,  ROC_AUC: 0.9936483634708486, Accuracy: 0.9626373626373627\n",
      "Epoch 461,  ROC_AUC: 0.9936483634708486, Accuracy: 0.9604395604395605\n",
      "Epoch 462,  ROC_AUC: 0.9938966359084702, Accuracy: 0.9626373626373627\n",
      "Epoch 463,  ROC_AUC: 0.9938552571688666, Accuracy: 0.9604395604395605\n",
      "Epoch 464,  ROC_AUC: 0.9938759465386684, Accuracy: 0.9604395604395605\n",
      "Epoch 465,  ROC_AUC: 0.9940000827574793, Accuracy: 0.9604395604395605\n",
      "Epoch 466,  ROC_AUC: 0.9939793933876775, Accuracy: 0.9604395604395605\n",
      "Epoch 467,  ROC_AUC: 0.994020772127281, Accuracy: 0.9582417582417583\n",
      "Epoch 468,  ROC_AUC: 0.9939587040178757, Accuracy: 0.9626373626373627\n",
      "Epoch 469,  ROC_AUC: 0.9939793933876774, Accuracy: 0.9604395604395605\n"
     ]
    },
    {
     "name": "stdout",
     "output_type": "stream",
     "text": [
      "Epoch 470,  ROC_AUC: 0.994020772127281, Accuracy: 0.9626373626373627\n",
      "Epoch 471,  ROC_AUC: 0.9940000827574792, Accuracy: 0.9626373626373627\n",
      "Epoch 472,  ROC_AUC: 0.9940000827574793, Accuracy: 0.9626373626373627\n",
      "Epoch 473,  ROC_AUC: 0.9940414614970827, Accuracy: 0.9604395604395605\n",
      "Epoch 474,  ROC_AUC: 0.9939587040178757, Accuracy: 0.9626373626373627\n",
      "Epoch 475,  ROC_AUC: 0.9940000827574792, Accuracy: 0.9604395604395605\n",
      "Epoch 476,  ROC_AUC: 0.9939793933876775, Accuracy: 0.9604395604395605\n",
      "Epoch 477,  ROC_AUC: 0.9940828402366864, Accuracy: 0.9626373626373627\n",
      "Epoch 478,  ROC_AUC: 0.9940621508668845, Accuracy: 0.9560439560439561\n",
      "Epoch 479,  ROC_AUC: 0.9942690445649025, Accuracy: 0.9626373626373627\n",
      "Epoch 480,  ROC_AUC: 0.9941035296064882, Accuracy: 0.9560439560439561\n",
      "Epoch 481,  ROC_AUC: 0.9942690445649025, Accuracy: 0.9582417582417583\n",
      "Epoch 482,  ROC_AUC: 0.9941449083460917, Accuracy: 0.9560439560439561\n",
      "Epoch 483,  ROC_AUC: 0.9943518020441098, Accuracy: 0.9560439560439561\n",
      "Epoch 484,  ROC_AUC: 0.9941862870856953, Accuracy: 0.9560439560439561\n",
      "Epoch 485,  ROC_AUC: 0.9942483551951008, Accuracy: 0.9582417582417583\n",
      "Epoch 486,  ROC_AUC: 0.9943311126743078, Accuracy: 0.9604395604395605\n",
      "Epoch 487,  ROC_AUC: 0.9942483551951008, Accuracy: 0.9604395604395605\n",
      "Epoch 488,  ROC_AUC: 0.994227665825299, Accuracy: 0.9626373626373627\n",
      "Epoch 489,  ROC_AUC: 0.9943518020441098, Accuracy: 0.9648351648351648\n",
      "Epoch 490,  ROC_AUC: 0.9942690445649025, Accuracy: 0.9626373626373627\n",
      "Epoch 491,  ROC_AUC: 0.9942690445649025, Accuracy: 0.9560439560439561\n",
      "Epoch 492,  ROC_AUC: 0.9942690445649025, Accuracy: 0.9538461538461539\n",
      "Epoch 493,  ROC_AUC: 0.9941449083460918, Accuracy: 0.945054945054945\n",
      "Epoch 494,  ROC_AUC: 0.994020772127281, Accuracy: 0.9494505494505494\n",
      "Epoch 495,  ROC_AUC: 0.9936897422104524, Accuracy: 0.9340659340659341\n",
      "Epoch 496,  ROC_AUC: 0.994331112674308, Accuracy: 0.9538461538461539\n",
      "Epoch 497,  ROC_AUC: 0.9939793933876774, Accuracy: 0.9516483516483516\n",
      "Epoch 498,  ROC_AUC: 0.9941449083460917, Accuracy: 0.9560439560439561\n",
      "Epoch 499,  ROC_AUC: 0.9944345595233169, Accuracy: 0.9560439560439561\n",
      "Epoch 500,  ROC_AUC: 0.99412421897629, Accuracy: 0.9472527472527472\n",
      "Epoch 501,  ROC_AUC: 0.9944138701535152, Accuracy: 0.9538461538461539\n",
      "Epoch 502,  ROC_AUC: 0.994331112674308, Accuracy: 0.967032967032967\n",
      "Epoch 503,  ROC_AUC: 0.9944138701535152, Accuracy: 0.9648351648351648\n",
      "Epoch 504,  ROC_AUC: 0.9944138701535151, Accuracy: 0.9648351648351648\n",
      "Epoch 505,  ROC_AUC: 0.9942069764554973, Accuracy: 0.9516483516483516\n",
      "Epoch 506,  ROC_AUC: 0.9944138701535151, Accuracy: 0.9538461538461539\n",
      "Epoch 507,  ROC_AUC: 0.9943931807837133, Accuracy: 0.9560439560439561\n",
      "Epoch 508,  ROC_AUC: 0.9945586957421277, Accuracy: 0.9582417582417583\n",
      "Epoch 509,  ROC_AUC: 0.9943724914139115, Accuracy: 0.9626373626373627\n",
      "Epoch 510,  ROC_AUC: 0.9943104233045061, Accuracy: 0.9560439560439561\n",
      "Epoch 511,  ROC_AUC: 0.9944552488931188, Accuracy: 0.9626373626373627\n",
      "Epoch 512,  ROC_AUC: 0.9943311126743078, Accuracy: 0.9560439560439561\n",
      "Epoch 513,  ROC_AUC: 0.9945586957421277, Accuracy: 0.9626373626373627\n",
      "Epoch 514,  ROC_AUC: 0.9945586957421277, Accuracy: 0.9648351648351648\n",
      "Epoch 515,  ROC_AUC: 0.9943104233045061, Accuracy: 0.9604395604395605\n",
      "Epoch 516,  ROC_AUC: 0.9944759382629206, Accuracy: 0.9604395604395605\n",
      "Epoch 517,  ROC_AUC: 0.9942897339347044, Accuracy: 0.9582417582417583\n",
      "Epoch 518,  ROC_AUC: 0.9945173170025241, Accuracy: 0.9626373626373627\n",
      "Epoch 519,  ROC_AUC: 0.9945793851119296, Accuracy: 0.9648351648351648\n",
      "Epoch 520,  ROC_AUC: 0.9946207638515332, Accuracy: 0.9648351648351648\n",
      "Epoch 521,  ROC_AUC: 0.9947035213307404, Accuracy: 0.9626373626373627\n",
      "Epoch 522,  ROC_AUC: 0.9945173170025241, Accuracy: 0.9626373626373627\n",
      "Epoch 523,  ROC_AUC: 0.9947449000703439, Accuracy: 0.9604395604395605\n",
      "Epoch 524,  ROC_AUC: 0.9945586957421277, Accuracy: 0.9626373626373627\n",
      "Epoch 525,  ROC_AUC: 0.9946414532213349, Accuracy: 0.9648351648351648\n",
      "Epoch 526,  ROC_AUC: 0.9946621425911366, Accuracy: 0.9626373626373627\n",
      "Epoch 527,  ROC_AUC: 0.9946828319609384, Accuracy: 0.967032967032967\n",
      "Epoch 528,  ROC_AUC: 0.9946828319609384, Accuracy: 0.9626373626373627\n",
      "Epoch 529,  ROC_AUC: 0.9946000744817314, Accuracy: 0.9692307692307692\n",
      "Epoch 530,  ROC_AUC: 0.9947242107005421, Accuracy: 0.967032967032967\n",
      "Epoch 531,  ROC_AUC: 0.9947655894401457, Accuracy: 0.9648351648351648\n",
      "Epoch 532,  ROC_AUC: 0.9947242107005421, Accuracy: 0.967032967032967\n",
      "Epoch 533,  ROC_AUC: 0.9947862788099475, Accuracy: 0.9648351648351648\n",
      "Epoch 534,  ROC_AUC: 0.9948069681797492, Accuracy: 0.9692307692307692\n",
      "Epoch 535,  ROC_AUC: 0.9948690362891547, Accuracy: 0.9626373626373627\n",
      "Epoch 536,  ROC_AUC: 0.9948276575495509, Accuracy: 0.967032967032967\n",
      "Epoch 537,  ROC_AUC: 0.9948483469193529, Accuracy: 0.9648351648351648\n",
      "Epoch 538,  ROC_AUC: 0.9948897256589564, Accuracy: 0.9692307692307692\n",
      "Epoch 539,  ROC_AUC: 0.9948690362891546, Accuracy: 0.9692307692307692\n",
      "Epoch 540,  ROC_AUC: 0.9947862788099474, Accuracy: 0.9626373626373627\n",
      "Epoch 541,  ROC_AUC: 0.9948276575495509, Accuracy: 0.9692307692307692\n",
      "Epoch 542,  ROC_AUC: 0.9948483469193528, Accuracy: 0.9648351648351648\n",
      "Epoch 543,  ROC_AUC: 0.9947242107005421, Accuracy: 0.9692307692307692\n",
      "Epoch 544,  ROC_AUC: 0.9949104150287582, Accuracy: 0.9648351648351648\n",
      "Epoch 545,  ROC_AUC: 0.9948276575495509, Accuracy: 0.9692307692307692\n",
      "Epoch 546,  ROC_AUC: 0.9948897256589564, Accuracy: 0.9626373626373627\n",
      "Epoch 547,  ROC_AUC: 0.9949104150287582, Accuracy: 0.967032967032967\n",
      "Epoch 548,  ROC_AUC: 0.9948690362891546, Accuracy: 0.967032967032967\n",
      "Epoch 549,  ROC_AUC: 0.9948897256589564, Accuracy: 0.9626373626373627\n",
      "Epoch 550,  ROC_AUC: 0.9948276575495509, Accuracy: 0.9714285714285714\n",
      "Epoch 551,  ROC_AUC: 0.9949517937683618, Accuracy: 0.9626373626373627\n",
      "Epoch 552,  ROC_AUC: 0.9948483469193528, Accuracy: 0.967032967032967\n",
      "Epoch 553,  ROC_AUC: 0.99493110439856, Accuracy: 0.9648351648351648\n",
      "Epoch 554,  ROC_AUC: 0.9947862788099474, Accuracy: 0.9604395604395605\n",
      "Epoch 555,  ROC_AUC: 0.9950552406173707, Accuracy: 0.9604395604395605\n",
      "Epoch 556,  ROC_AUC: 0.9947862788099474, Accuracy: 0.9626373626373627\n",
      "Epoch 557,  ROC_AUC: 0.9950552406173707, Accuracy: 0.9648351648351648\n",
      "Epoch 558,  ROC_AUC: 0.9948483469193528, Accuracy: 0.9692307692307692\n",
      "Epoch 559,  ROC_AUC: 0.99493110439856, Accuracy: 0.9692307692307692\n",
      "Epoch 560,  ROC_AUC: 0.9950759299871725, Accuracy: 0.967032967032967\n",
      "Epoch 561,  ROC_AUC: 0.9949517937683618, Accuracy: 0.9714285714285714\n",
      "Epoch 562,  ROC_AUC: 0.9951173087267762, Accuracy: 0.967032967032967\n",
      "Epoch 563,  ROC_AUC: 0.9948897256589564, Accuracy: 0.9560439560439561\n",
      "Epoch 564,  ROC_AUC: 0.9949931725079655, Accuracy: 0.9604395604395605\n",
      "Epoch 565,  ROC_AUC: 0.994827657549551, Accuracy: 0.9560439560439561\n",
      "Epoch 566,  ROC_AUC: 0.9950138618777672, Accuracy: 0.9560439560439561\n",
      "Epoch 567,  ROC_AUC: 0.9948483469193529, Accuracy: 0.9516483516483516\n",
      "Epoch 568,  ROC_AUC: 0.9950552406173707, Accuracy: 0.9626373626373627\n",
      "Epoch 569,  ROC_AUC: 0.9949517937683618, Accuracy: 0.9648351648351648\n",
      "Epoch 570,  ROC_AUC: 0.9949931725079654, Accuracy: 0.9648351648351648\n",
      "Epoch 571,  ROC_AUC: 0.9951173087267762, Accuracy: 0.9626373626373627\n",
      "Epoch 572,  ROC_AUC: 0.9948069681797492, Accuracy: 0.9560439560439561\n",
      "Epoch 573,  ROC_AUC: 0.995034551247569, Accuracy: 0.9604395604395605\n",
      "Epoch 574,  ROC_AUC: 0.9948069681797492, Accuracy: 0.9560439560439561\n",
      "Epoch 575,  ROC_AUC: 0.9950759299871725, Accuracy: 0.9648351648351648\n",
      "Epoch 576,  ROC_AUC: 0.9949724831381637, Accuracy: 0.9714285714285714\n",
      "Epoch 577,  ROC_AUC: 0.9950966193569744, Accuracy: 0.9692307692307692\n",
      "Epoch 578,  ROC_AUC: 0.9952000662059833, Accuracy: 0.967032967032967\n",
      "Epoch 579,  ROC_AUC: 0.99493110439856, Accuracy: 0.967032967032967\n",
      "Epoch 580,  ROC_AUC: 0.9952207555757852, Accuracy: 0.967032967032967\n",
      "Epoch 581,  ROC_AUC: 0.9949724831381637, Accuracy: 0.967032967032967\n",
      "Epoch 582,  ROC_AUC: 0.9951793768361816, Accuracy: 0.9648351648351648\n",
      "Epoch 583,  ROC_AUC: 0.995034551247569, Accuracy: 0.9714285714285714\n",
      "Epoch 584,  ROC_AUC: 0.9951586874663798, Accuracy: 0.9648351648351648\n",
      "Epoch 585,  ROC_AUC: 0.9951173087267762, Accuracy: 0.9692307692307692\n",
      "Epoch 586,  ROC_AUC: 0.995137998096578, Accuracy: 0.9714285714285714\n",
      "Epoch 587,  ROC_AUC: 0.9952621343153888, Accuracy: 0.9648351648351648\n",
      "Epoch 588,  ROC_AUC: 0.995034551247569, Accuracy: 0.9692307692307692\n",
      "Epoch 589,  ROC_AUC: 0.9952621343153888, Accuracy: 0.9692307692307692\n",
      "Epoch 590,  ROC_AUC: 0.9950138618777673, Accuracy: 0.967032967032967\n",
      "Epoch 591,  ROC_AUC: 0.9952621343153888, Accuracy: 0.9648351648351648\n",
      "Epoch 592,  ROC_AUC: 0.9952000662059834, Accuracy: 0.9714285714285714\n",
      "Epoch 593,  ROC_AUC: 0.9952621343153888, Accuracy: 0.9692307692307692\n",
      "Epoch 594,  ROC_AUC: 0.9952828236851906, Accuracy: 0.9692307692307692\n",
      "Epoch 595,  ROC_AUC: 0.995241444945587, Accuracy: 0.9714285714285714\n",
      "Epoch 596,  ROC_AUC: 0.995344891794596, Accuracy: 0.967032967032967\n",
      "Epoch 597,  ROC_AUC: 0.9952207555757852, Accuracy: 0.9714285714285714\n",
      "Epoch 598,  ROC_AUC: 0.9953035130549923, Accuracy: 0.9648351648351648\n",
      "Epoch 599,  ROC_AUC: 0.9952207555757852, Accuracy: 0.9714285714285714\n",
      "Epoch 600,  ROC_AUC: 0.9952828236851906, Accuracy: 0.9648351648351648\n",
      "Epoch 601,  ROC_AUC: 0.995241444945587, Accuracy: 0.9714285714285714\n",
      "Epoch 602,  ROC_AUC: 0.9953035130549924, Accuracy: 0.967032967032967\n",
      "Epoch 603,  ROC_AUC: 0.9953035130549923, Accuracy: 0.9714285714285714\n",
      "Epoch 604,  ROC_AUC: 0.9953242024247941, Accuracy: 0.9714285714285714\n",
      "Epoch 605,  ROC_AUC: 0.9953655811643978, Accuracy: 0.9714285714285714\n",
      "Epoch 606,  ROC_AUC: 0.995344891794596, Accuracy: 0.9714285714285714\n",
      "Epoch 607,  ROC_AUC: 0.9953862705341996, Accuracy: 0.9714285714285714\n",
      "Epoch 608,  ROC_AUC: 0.9952828236851905, Accuracy: 0.9714285714285714\n",
      "Epoch 609,  ROC_AUC: 0.995344891794596, Accuracy: 0.9648351648351648\n",
      "Epoch 610,  ROC_AUC: 0.995241444945587, Accuracy: 0.9692307692307692\n",
      "Epoch 611,  ROC_AUC: 0.9954069599040014, Accuracy: 0.9692307692307692\n",
      "Epoch 612,  ROC_AUC: 0.9950966193569744, Accuracy: 0.9604395604395605\n",
      "Epoch 613,  ROC_AUC: 0.9954483386436049, Accuracy: 0.9604395604395605\n",
      "Epoch 614,  ROC_AUC: 0.9951173087267762, Accuracy: 0.9582417582417583\n",
      "Epoch 615,  ROC_AUC: 0.9954069599040014, Accuracy: 0.9626373626373627\n",
      "Epoch 616,  ROC_AUC: 0.9952621343153888, Accuracy: 0.9604395604395605\n",
      "Epoch 617,  ROC_AUC: 0.9954069599040014, Accuracy: 0.967032967032967\n",
      "Epoch 618,  ROC_AUC: 0.995344891794596, Accuracy: 0.9692307692307692\n",
      "Epoch 619,  ROC_AUC: 0.9953862705341996, Accuracy: 0.9692307692307692\n",
      "Epoch 620,  ROC_AUC: 0.9954690280134068, Accuracy: 0.9714285714285714\n",
      "Epoch 621,  ROC_AUC: 0.9953655811643978, Accuracy: 0.9736263736263736\n",
      "Epoch 622,  ROC_AUC: 0.9954690280134068, Accuracy: 0.9714285714285714\n",
      "Epoch 623,  ROC_AUC: 0.9952207555757852, Accuracy: 0.967032967032967\n",
      "Epoch 624,  ROC_AUC: 0.9955104067530103, Accuracy: 0.967032967032967\n",
      "Epoch 625,  ROC_AUC: 0.9952621343153887, Accuracy: 0.9560439560439561\n",
      "Epoch 626,  ROC_AUC: 0.9953655811643978, Accuracy: 0.9604395604395605\n",
      "Epoch 627,  ROC_AUC: 0.995137998096578, Accuracy: 0.9538461538461539\n",
      "Epoch 628,  ROC_AUC: 0.9955310961228121, Accuracy: 0.9626373626373627\n",
      "Epoch 629,  ROC_AUC: 0.9952621343153888, Accuracy: 0.9648351648351648\n",
      "Epoch 630,  ROC_AUC: 0.9954690280134066, Accuracy: 0.967032967032967\n",
      "Epoch 631,  ROC_AUC: 0.9954897173832085, Accuracy: 0.9692307692307692\n",
      "Epoch 632,  ROC_AUC: 0.9953035130549923, Accuracy: 0.9560439560439561\n",
      "Epoch 633,  ROC_AUC: 0.9955931642322174, Accuracy: 0.9604395604395605\n",
      "Epoch 634,  ROC_AUC: 0.9952828236851905, Accuracy: 0.9560439560439561\n",
      "Epoch 635,  ROC_AUC: 0.9955724748624157, Accuracy: 0.9560439560439561\n",
      "Epoch 636,  ROC_AUC: 0.995344891794596, Accuracy: 0.9582417582417583\n",
      "Epoch 637,  ROC_AUC: 0.9955517854926139, Accuracy: 0.9648351648351648\n",
      "Epoch 638,  ROC_AUC: 0.9954483386436049, Accuracy: 0.967032967032967\n",
      "Epoch 639,  ROC_AUC: 0.9954690280134068, Accuracy: 0.9714285714285714\n",
      "Epoch 640,  ROC_AUC: 0.9954483386436049, Accuracy: 0.9648351648351648\n",
      "Epoch 641,  ROC_AUC: 0.9954069599040013, Accuracy: 0.9648351648351648\n",
      "Epoch 642,  ROC_AUC: 0.9955104067530103, Accuracy: 0.967032967032967\n",
      "Epoch 643,  ROC_AUC: 0.9954690280134068, Accuracy: 0.9714285714285714\n",
      "Epoch 644,  ROC_AUC: 0.9954276492738031, Accuracy: 0.9736263736263736\n",
      "Epoch 645,  ROC_AUC: 0.9954897173832085, Accuracy: 0.9736263736263736\n",
      "Epoch 646,  ROC_AUC: 0.995241444945587, Accuracy: 0.9626373626373627\n",
      "Epoch 647,  ROC_AUC: 0.9955517854926139, Accuracy: 0.9714285714285714\n",
      "Epoch 648,  ROC_AUC: 0.9953862705341996, Accuracy: 0.9692307692307692\n",
      "Epoch 649,  ROC_AUC: 0.9955517854926139, Accuracy: 0.967032967032967\n",
      "Epoch 650,  ROC_AUC: 0.9954897173832085, Accuracy: 0.9714285714285714\n",
      "Epoch 651,  ROC_AUC: 0.9955104067530103, Accuracy: 0.9714285714285714\n",
      "Epoch 652,  ROC_AUC: 0.9955931642322176, Accuracy: 0.967032967032967\n",
      "Epoch 653,  ROC_AUC: 0.9954897173832085, Accuracy: 0.9692307692307692\n",
      "Epoch 654,  ROC_AUC: 0.9955310961228121, Accuracy: 0.9714285714285714\n",
      "Epoch 655,  ROC_AUC: 0.9955104067530104, Accuracy: 0.9736263736263736\n",
      "Epoch 656,  ROC_AUC: 0.9955310961228121, Accuracy: 0.9714285714285714\n",
      "Epoch 657,  ROC_AUC: 0.9956552323416229, Accuracy: 0.9714285714285714\n",
      "Epoch 658,  ROC_AUC: 0.9955104067530104, Accuracy: 0.9714285714285714\n",
      "Epoch 659,  ROC_AUC: 0.9956345429718211, Accuracy: 0.9692307692307692\n",
      "Epoch 660,  ROC_AUC: 0.9955931642322174, Accuracy: 0.9714285714285714\n",
      "Epoch 661,  ROC_AUC: 0.9956138536020194, Accuracy: 0.9714285714285714\n",
      "Epoch 662,  ROC_AUC: 0.9956138536020193, Accuracy: 0.9714285714285714\n",
      "Epoch 663,  ROC_AUC: 0.9955517854926139, Accuracy: 0.9714285714285714\n",
      "Epoch 664,  ROC_AUC: 0.9956759217114247, Accuracy: 0.9714285714285714\n",
      "Epoch 665,  ROC_AUC: 0.9955517854926139, Accuracy: 0.9714285714285714\n",
      "Epoch 666,  ROC_AUC: 0.9956345429718211, Accuracy: 0.9714285714285714\n",
      "Epoch 667,  ROC_AUC: 0.9955310961228121, Accuracy: 0.9736263736263736\n",
      "Epoch 668,  ROC_AUC: 0.9956345429718211, Accuracy: 0.9714285714285714\n",
      "Epoch 669,  ROC_AUC: 0.9955724748624157, Accuracy: 0.9714285714285714\n",
      "Epoch 670,  ROC_AUC: 0.9955724748624157, Accuracy: 0.9714285714285714\n",
      "Epoch 671,  ROC_AUC: 0.9955724748624157, Accuracy: 0.9736263736263736\n",
      "Epoch 672,  ROC_AUC: 0.9955517854926139, Accuracy: 0.9736263736263736\n",
      "Epoch 673,  ROC_AUC: 0.9956138536020194, Accuracy: 0.9714285714285714\n",
      "Epoch 674,  ROC_AUC: 0.9955931642322176, Accuracy: 0.9736263736263736\n",
      "Epoch 675,  ROC_AUC: 0.9956345429718211, Accuracy: 0.9736263736263736\n",
      "Epoch 676,  ROC_AUC: 0.9956552323416229, Accuracy: 0.9736263736263736\n",
      "Epoch 677,  ROC_AUC: 0.9956345429718211, Accuracy: 0.9736263736263736\n",
      "Epoch 678,  ROC_AUC: 0.9956345429718211, Accuracy: 0.9714285714285714\n",
      "Epoch 679,  ROC_AUC: 0.9956345429718211, Accuracy: 0.9736263736263736\n",
      "Epoch 680,  ROC_AUC: 0.9956552323416229, Accuracy: 0.9736263736263736\n",
      "Epoch 681,  ROC_AUC: 0.9957379898208301, Accuracy: 0.9736263736263736\n",
      "Epoch 682,  ROC_AUC: 0.9956552323416229, Accuracy: 0.9736263736263736\n",
      "Epoch 683,  ROC_AUC: 0.9957586791906319, Accuracy: 0.9736263736263736\n",
      "Epoch 684,  ROC_AUC: 0.9956759217114247, Accuracy: 0.9736263736263736\n",
      "Epoch 685,  ROC_AUC: 0.9957793685604337, Accuracy: 0.9736263736263736\n",
      "Epoch 686,  ROC_AUC: 0.9956966110812265, Accuracy: 0.9736263736263736\n",
      "Epoch 687,  ROC_AUC: 0.9956759217114247, Accuracy: 0.9714285714285714\n",
      "Epoch 688,  ROC_AUC: 0.9956759217114247, Accuracy: 0.9736263736263736\n",
      "Epoch 689,  ROC_AUC: 0.9957586791906319, Accuracy: 0.9714285714285714\n",
      "Epoch 690,  ROC_AUC: 0.9956966110812265, Accuracy: 0.9736263736263736\n",
      "Epoch 691,  ROC_AUC: 0.9958000579302354, Accuracy: 0.9714285714285714\n",
      "Epoch 692,  ROC_AUC: 0.9957586791906319, Accuracy: 0.9736263736263736\n",
      "Epoch 693,  ROC_AUC: 0.9958000579302354, Accuracy: 0.9714285714285714\n",
      "Epoch 694,  ROC_AUC: 0.9957586791906319, Accuracy: 0.9714285714285714\n",
      "Epoch 695,  ROC_AUC: 0.9958621260396409, Accuracy: 0.9736263736263736\n",
      "Epoch 696,  ROC_AUC: 0.9957586791906318, Accuracy: 0.9692307692307692\n",
      "Epoch 697,  ROC_AUC: 0.995841436669839, Accuracy: 0.9736263736263736\n",
      "Epoch 698,  ROC_AUC: 0.9957586791906319, Accuracy: 0.967032967032967\n",
      "Epoch 699,  ROC_AUC: 0.9958828154094426, Accuracy: 0.9736263736263736\n",
      "Epoch 700,  ROC_AUC: 0.9957173004510282, Accuracy: 0.9648351648351648\n",
      "Epoch 701,  ROC_AUC: 0.9958621260396409, Accuracy: 0.9692307692307692\n",
      "Epoch 702,  ROC_AUC: 0.9956966110812264, Accuracy: 0.9626373626373627\n",
      "Epoch 703,  ROC_AUC: 0.9959035047792444, Accuracy: 0.9648351648351648\n"
     ]
    },
    {
     "name": "stdout",
     "output_type": "stream",
     "text": [
      "Epoch 704,  ROC_AUC: 0.9956966110812264, Accuracy: 0.9604395604395605\n",
      "Epoch 705,  ROC_AUC: 0.9958621260396409, Accuracy: 0.967032967032967\n",
      "Epoch 706,  ROC_AUC: 0.9957793685604336, Accuracy: 0.9648351648351648\n",
      "Epoch 707,  ROC_AUC: 0.995841436669839, Accuracy: 0.9736263736263736\n",
      "Epoch 708,  ROC_AUC: 0.9958207473000372, Accuracy: 0.9736263736263736\n",
      "Epoch 709,  ROC_AUC: 0.9958207473000373, Accuracy: 0.9714285714285714\n",
      "Epoch 710,  ROC_AUC: 0.9958621260396409, Accuracy: 0.9714285714285714\n",
      "Epoch 711,  ROC_AUC: 0.9957586791906319, Accuracy: 0.967032967032967\n",
      "Epoch 712,  ROC_AUC: 0.995841436669839, Accuracy: 0.9692307692307692\n",
      "Epoch 713,  ROC_AUC: 0.9957379898208301, Accuracy: 0.9582417582417583\n",
      "Epoch 714,  ROC_AUC: 0.9957793685604336, Accuracy: 0.9626373626373627\n",
      "Epoch 715,  ROC_AUC: 0.9957173004510282, Accuracy: 0.9604395604395605\n",
      "Epoch 716,  ROC_AUC: 0.9959241941490462, Accuracy: 0.9626373626373627\n",
      "Epoch 717,  ROC_AUC: 0.9957793685604337, Accuracy: 0.9604395604395605\n",
      "Epoch 718,  ROC_AUC: 0.9958828154094426, Accuracy: 0.9714285714285714\n",
      "Epoch 719,  ROC_AUC: 0.9958828154094426, Accuracy: 0.9736263736263736\n",
      "Epoch 720,  ROC_AUC: 0.995841436669839, Accuracy: 0.9736263736263736\n",
      "Epoch 721,  ROC_AUC: 0.9959241941490462, Accuracy: 0.9736263736263736\n",
      "Epoch 722,  ROC_AUC: 0.9956759217114247, Accuracy: 0.9604395604395605\n",
      "Epoch 723,  ROC_AUC: 0.9959035047792444, Accuracy: 0.9648351648351648\n",
      "Epoch 724,  ROC_AUC: 0.9957379898208301, Accuracy: 0.9582417582417583\n",
      "Epoch 725,  ROC_AUC: 0.995841436669839, Accuracy: 0.9714285714285714\n",
      "Epoch 726,  ROC_AUC: 0.9958000579302355, Accuracy: 0.9714285714285714\n",
      "Epoch 727,  ROC_AUC: 0.995841436669839, Accuracy: 0.9736263736263736\n",
      "Epoch 728,  ROC_AUC: 0.995841436669839, Accuracy: 0.9736263736263736\n",
      "Epoch 729,  ROC_AUC: 0.9957793685604337, Accuracy: 0.9714285714285714\n",
      "Epoch 730,  ROC_AUC: 0.9959862622584517, Accuracy: 0.9758241758241758\n",
      "Epoch 731,  ROC_AUC: 0.9957173004510282, Accuracy: 0.967032967032967\n",
      "Epoch 732,  ROC_AUC: 0.9958828154094427, Accuracy: 0.9758241758241758\n",
      "Epoch 733,  ROC_AUC: 0.9958207473000373, Accuracy: 0.9758241758241758\n",
      "Epoch 734,  ROC_AUC: 0.9958621260396409, Accuracy: 0.9714285714285714\n",
      "Epoch 735,  ROC_AUC: 0.995841436669839, Accuracy: 0.9736263736263736\n",
      "Epoch 736,  ROC_AUC: 0.9958621260396409, Accuracy: 0.9758241758241758\n",
      "Epoch 737,  ROC_AUC: 0.9958828154094427, Accuracy: 0.978021978021978\n",
      "Epoch 738,  ROC_AUC: 0.9958828154094427, Accuracy: 0.9692307692307692\n",
      "Epoch 739,  ROC_AUC: 0.9959035047792445, Accuracy: 0.978021978021978\n",
      "Epoch 740,  ROC_AUC: 0.9959035047792445, Accuracy: 0.9736263736263736\n",
      "Epoch 741,  ROC_AUC: 0.9960069516282535, Accuracy: 0.9714285714285714\n",
      "Epoch 742,  ROC_AUC: 0.9959241941490462, Accuracy: 0.9714285714285714\n",
      "Epoch 743,  ROC_AUC: 0.9959241941490462, Accuracy: 0.9714285714285714\n",
      "Epoch 744,  ROC_AUC: 0.995944883518848, Accuracy: 0.9714285714285714\n",
      "Epoch 745,  ROC_AUC: 0.9959035047792445, Accuracy: 0.9758241758241758\n",
      "Epoch 746,  ROC_AUC: 0.995944883518848, Accuracy: 0.9736263736263736\n",
      "Epoch 747,  ROC_AUC: 0.9959241941490462, Accuracy: 0.9736263736263736\n",
      "Epoch 748,  ROC_AUC: 0.9959655728886498, Accuracy: 0.978021978021978\n",
      "Epoch 749,  ROC_AUC: 0.995944883518848, Accuracy: 0.9736263736263736\n",
      "Epoch 750,  ROC_AUC: 0.9959862622584515, Accuracy: 0.9714285714285714\n",
      "Epoch 751,  ROC_AUC: 0.9959862622584517, Accuracy: 0.9714285714285714\n",
      "Epoch 752,  ROC_AUC: 0.9959862622584515, Accuracy: 0.9736263736263736\n",
      "Epoch 753,  ROC_AUC: 0.9959862622584515, Accuracy: 0.9714285714285714\n",
      "Epoch 754,  ROC_AUC: 0.9959035047792444, Accuracy: 0.9758241758241758\n",
      "Epoch 755,  ROC_AUC: 0.9960690197376588, Accuracy: 0.9758241758241758\n",
      "Epoch 756,  ROC_AUC: 0.996048330367857, Accuracy: 0.9692307692307692\n",
      "Epoch 757,  ROC_AUC: 0.9960483303678571, Accuracy: 0.978021978021978\n",
      "Epoch 758,  ROC_AUC: 0.9959241941490462, Accuracy: 0.967032967032967\n",
      "Epoch 759,  ROC_AUC: 0.9960690197376588, Accuracy: 0.9758241758241758\n",
      "Epoch 760,  ROC_AUC: 0.9960069516282534, Accuracy: 0.9714285714285714\n",
      "Epoch 761,  ROC_AUC: 0.996048330367857, Accuracy: 0.9736263736263736\n",
      "Epoch 762,  ROC_AUC: 0.9960069516282535, Accuracy: 0.9736263736263736\n",
      "Epoch 763,  ROC_AUC: 0.9960069516282534, Accuracy: 0.9758241758241758\n",
      "Epoch 764,  ROC_AUC: 0.9960276409980552, Accuracy: 0.9736263736263736\n",
      "Epoch 765,  ROC_AUC: 0.9960897091074606, Accuracy: 0.9758241758241758\n",
      "Epoch 766,  ROC_AUC: 0.996048330367857, Accuracy: 0.978021978021978\n",
      "Epoch 767,  ROC_AUC: 0.9961103984772623, Accuracy: 0.967032967032967\n",
      "Epoch 768,  ROC_AUC: 0.9960897091074606, Accuracy: 0.9758241758241758\n",
      "Epoch 769,  ROC_AUC: 0.9959241941490462, Accuracy: 0.9648351648351648\n",
      "Epoch 770,  ROC_AUC: 0.9959862622584517, Accuracy: 0.9692307692307692\n",
      "Epoch 771,  ROC_AUC: 0.9959862622584515, Accuracy: 0.9648351648351648\n",
      "Epoch 772,  ROC_AUC: 0.9960690197376588, Accuracy: 0.9736263736263736\n",
      "Epoch 773,  ROC_AUC: 0.9960897091074606, Accuracy: 0.967032967032967\n",
      "Epoch 774,  ROC_AUC: 0.9961310878470643, Accuracy: 0.9758241758241758\n",
      "Epoch 775,  ROC_AUC: 0.9961103984772623, Accuracy: 0.9736263736263736\n",
      "Epoch 776,  ROC_AUC: 0.9960897091074606, Accuracy: 0.9736263736263736\n",
      "Epoch 777,  ROC_AUC: 0.9961103984772623, Accuracy: 0.9736263736263736\n",
      "Epoch 778,  ROC_AUC: 0.9961103984772625, Accuracy: 0.9758241758241758\n",
      "Epoch 779,  ROC_AUC: 0.9960690197376588, Accuracy: 0.9758241758241758\n",
      "Epoch 780,  ROC_AUC: 0.9961310878470642, Accuracy: 0.967032967032967\n",
      "Epoch 781,  ROC_AUC: 0.996151777216866, Accuracy: 0.9758241758241758\n",
      "Epoch 782,  ROC_AUC: 0.996151777216866, Accuracy: 0.9648351648351648\n",
      "Epoch 783,  ROC_AUC: 0.9961310878470643, Accuracy: 0.9714285714285714\n",
      "Epoch 784,  ROC_AUC: 0.9961103984772625, Accuracy: 0.9648351648351648\n",
      "Epoch 785,  ROC_AUC: 0.9961310878470643, Accuracy: 0.9714285714285714\n",
      "Epoch 786,  ROC_AUC: 0.9961724665866678, Accuracy: 0.967032967032967\n",
      "Epoch 787,  ROC_AUC: 0.9960690197376587, Accuracy: 0.9736263736263736\n",
      "Epoch 788,  ROC_AUC: 0.9960069516282535, Accuracy: 0.9736263736263736\n",
      "Epoch 789,  ROC_AUC: 0.9960690197376588, Accuracy: 0.978021978021978\n",
      "Epoch 790,  ROC_AUC: 0.9961310878470643, Accuracy: 0.978021978021978\n",
      "Epoch 791,  ROC_AUC: 0.9961724665866678, Accuracy: 0.9692307692307692\n",
      "Epoch 792,  ROC_AUC: 0.9962138453262714, Accuracy: 0.9758241758241758\n",
      "Epoch 793,  ROC_AUC: 0.9961103984772623, Accuracy: 0.9626373626373627\n",
      "Epoch 794,  ROC_AUC: 0.9962345346960733, Accuracy: 0.9648351648351648\n",
      "Epoch 795,  ROC_AUC: 0.996151777216866, Accuracy: 0.9582417582417583\n",
      "Epoch 796,  ROC_AUC: 0.9962345346960733, Accuracy: 0.9648351648351648\n",
      "Epoch 797,  ROC_AUC: 0.9961103984772625, Accuracy: 0.9604395604395605\n",
      "Epoch 798,  ROC_AUC: 0.9962138453262713, Accuracy: 0.9692307692307692\n",
      "Epoch 799,  ROC_AUC: 0.9962966028054786, Accuracy: 0.9736263736263736\n",
      "Epoch 800,  ROC_AUC: 0.9961931559564696, Accuracy: 0.9714285714285714\n",
      "Epoch 801,  ROC_AUC: 0.9961931559564696, Accuracy: 0.9736263736263736\n",
      "Epoch 802,  ROC_AUC: 0.9960069516282535, Accuracy: 0.9626373626373627\n",
      "Epoch 803,  ROC_AUC: 0.9961931559564695, Accuracy: 0.967032967032967\n",
      "Epoch 804,  ROC_AUC: 0.9961103984772625, Accuracy: 0.9648351648351648\n",
      "Epoch 805,  ROC_AUC: 0.9962345346960731, Accuracy: 0.978021978021978\n",
      "Epoch 806,  ROC_AUC: 0.996151777216866, Accuracy: 0.9736263736263736\n",
      "Epoch 807,  ROC_AUC: 0.9961724665866678, Accuracy: 0.9736263736263736\n",
      "Epoch 808,  ROC_AUC: 0.9962966028054786, Accuracy: 0.9758241758241758\n",
      "Epoch 809,  ROC_AUC: 0.9961310878470642, Accuracy: 0.9648351648351648\n",
      "Epoch 810,  ROC_AUC: 0.9963172921752804, Accuracy: 0.9758241758241758\n",
      "Epoch 811,  ROC_AUC: 0.9962138453262714, Accuracy: 0.9714285714285714\n",
      "Epoch 812,  ROC_AUC: 0.9962138453262714, Accuracy: 0.9736263736263736\n",
      "Epoch 813,  ROC_AUC: 0.9961931559564696, Accuracy: 0.9736263736263736\n",
      "Epoch 814,  ROC_AUC: 0.996151777216866, Accuracy: 0.9736263736263736\n",
      "Epoch 815,  ROC_AUC: 0.9961931559564695, Accuracy: 0.9758241758241758\n",
      "Epoch 816,  ROC_AUC: 0.9961724665866677, Accuracy: 0.967032967032967\n",
      "Epoch 817,  ROC_AUC: 0.9962345346960731, Accuracy: 0.9758241758241758\n",
      "Epoch 818,  ROC_AUC: 0.996255224065875, Accuracy: 0.9736263736263736\n",
      "Epoch 819,  ROC_AUC: 0.9961931559564696, Accuracy: 0.9758241758241758\n",
      "Epoch 820,  ROC_AUC: 0.9962345346960731, Accuracy: 0.9736263736263736\n",
      "Epoch 821,  ROC_AUC: 0.9962759134356767, Accuracy: 0.9714285714285714\n",
      "Epoch 822,  ROC_AUC: 0.9962759134356768, Accuracy: 0.978021978021978\n",
      "Epoch 823,  ROC_AUC: 0.9962345346960733, Accuracy: 0.9714285714285714\n",
      "Epoch 824,  ROC_AUC: 0.9962138453262714, Accuracy: 0.9736263736263736\n",
      "Epoch 825,  ROC_AUC: 0.996255224065875, Accuracy: 0.9758241758241758\n",
      "Epoch 826,  ROC_AUC: 0.996255224065875, Accuracy: 0.9736263736263736\n",
      "Epoch 827,  ROC_AUC: 0.9962345346960733, Accuracy: 0.9736263736263736\n",
      "Epoch 828,  ROC_AUC: 0.9962345346960731, Accuracy: 0.9758241758241758\n",
      "Epoch 829,  ROC_AUC: 0.9962759134356768, Accuracy: 0.9736263736263736\n",
      "Epoch 830,  ROC_AUC: 0.9962138453262713, Accuracy: 0.9758241758241758\n",
      "Epoch 831,  ROC_AUC: 0.9963172921752804, Accuracy: 0.9736263736263736\n",
      "Epoch 832,  ROC_AUC: 0.996255224065875, Accuracy: 0.9758241758241758\n",
      "Epoch 833,  ROC_AUC: 0.9963172921752804, Accuracy: 0.9758241758241758\n",
      "Epoch 834,  ROC_AUC: 0.9963172921752803, Accuracy: 0.9758241758241758\n",
      "Epoch 835,  ROC_AUC: 0.9963172921752804, Accuracy: 0.9736263736263736\n",
      "Epoch 836,  ROC_AUC: 0.9963379815450821, Accuracy: 0.9736263736263736\n",
      "Epoch 837,  ROC_AUC: 0.9963172921752804, Accuracy: 0.9736263736263736\n",
      "Epoch 838,  ROC_AUC: 0.9964207390242894, Accuracy: 0.9758241758241758\n",
      "Epoch 839,  ROC_AUC: 0.9963793602846858, Accuracy: 0.9758241758241758\n",
      "Epoch 840,  ROC_AUC: 0.9964414283940912, Accuracy: 0.9758241758241758\n",
      "Epoch 841,  ROC_AUC: 0.9964000496544876, Accuracy: 0.9758241758241758\n",
      "Epoch 842,  ROC_AUC: 0.9963379815450821, Accuracy: 0.9758241758241758\n",
      "Epoch 843,  ROC_AUC: 0.9963172921752803, Accuracy: 0.9758241758241758\n",
      "Epoch 844,  ROC_AUC: 0.9964000496544875, Accuracy: 0.9758241758241758\n",
      "Epoch 845,  ROC_AUC: 0.996358670914884, Accuracy: 0.9758241758241758\n",
      "Epoch 846,  ROC_AUC: 0.9963793602846858, Accuracy: 0.9758241758241758\n",
      "Epoch 847,  ROC_AUC: 0.9964000496544876, Accuracy: 0.9758241758241758\n",
      "Epoch 848,  ROC_AUC: 0.9963379815450821, Accuracy: 0.9758241758241758\n",
      "Epoch 849,  ROC_AUC: 0.9964000496544876, Accuracy: 0.978021978021978\n",
      "Epoch 850,  ROC_AUC: 0.9964000496544876, Accuracy: 0.9736263736263736\n",
      "Epoch 851,  ROC_AUC: 0.9964207390242894, Accuracy: 0.9736263736263736\n",
      "Epoch 852,  ROC_AUC: 0.9964621177638928, Accuracy: 0.9736263736263736\n",
      "Epoch 853,  ROC_AUC: 0.9964828071336947, Accuracy: 0.9736263736263736\n",
      "Epoch 854,  ROC_AUC: 0.9965241858732983, Accuracy: 0.9736263736263736\n",
      "Epoch 855,  ROC_AUC: 0.9964828071336947, Accuracy: 0.9758241758241758\n",
      "Epoch 856,  ROC_AUC: 0.9965034965034965, Accuracy: 0.9758241758241758\n",
      "Epoch 857,  ROC_AUC: 0.9964621177638929, Accuracy: 0.9758241758241758\n",
      "Epoch 858,  ROC_AUC: 0.9964621177638929, Accuracy: 0.9758241758241758\n",
      "Epoch 859,  ROC_AUC: 0.9964414283940912, Accuracy: 0.9758241758241758\n",
      "Epoch 860,  ROC_AUC: 0.996462117763893, Accuracy: 0.9758241758241758\n",
      "Epoch 861,  ROC_AUC: 0.9964828071336946, Accuracy: 0.9758241758241758\n",
      "Epoch 862,  ROC_AUC: 0.9965034965034966, Accuracy: 0.9758241758241758\n",
      "Epoch 863,  ROC_AUC: 0.9965034965034966, Accuracy: 0.9736263736263736\n",
      "Epoch 864,  ROC_AUC: 0.9965034965034966, Accuracy: 0.978021978021978\n",
      "Epoch 865,  ROC_AUC: 0.9965448752431001, Accuracy: 0.9692307692307692\n",
      "Epoch 866,  ROC_AUC: 0.9965448752431002, Accuracy: 0.978021978021978\n",
      "Epoch 867,  ROC_AUC: 0.9965862539827037, Accuracy: 0.9648351648351648\n",
      "Epoch 868,  ROC_AUC: 0.9966069433525055, Accuracy: 0.978021978021978\n",
      "Epoch 869,  ROC_AUC: 0.9964828071336947, Accuracy: 0.967032967032967\n",
      "Epoch 870,  ROC_AUC: 0.9966483220921092, Accuracy: 0.9692307692307692\n",
      "Epoch 871,  ROC_AUC: 0.9964828071336947, Accuracy: 0.9626373626373627\n",
      "Epoch 872,  ROC_AUC: 0.9966483220921092, Accuracy: 0.9648351648351648\n",
      "Epoch 873,  ROC_AUC: 0.9964621177638929, Accuracy: 0.9626373626373627\n",
      "Epoch 874,  ROC_AUC: 0.9966276327223074, Accuracy: 0.967032967032967\n",
      "Epoch 875,  ROC_AUC: 0.9964414283940912, Accuracy: 0.9648351648351648\n",
      "Epoch 876,  ROC_AUC: 0.9966897008317127, Accuracy: 0.9758241758241758\n",
      "Epoch 877,  ROC_AUC: 0.9966690114619109, Accuracy: 0.9714285714285714\n",
      "Epoch 878,  ROC_AUC: 0.9966069433525055, Accuracy: 0.978021978021978\n",
      "Epoch 879,  ROC_AUC: 0.9965241858732984, Accuracy: 0.9758241758241758\n",
      "Epoch 880,  ROC_AUC: 0.9965862539827037, Accuracy: 0.967032967032967\n",
      "Epoch 881,  ROC_AUC: 0.9965862539827037, Accuracy: 0.978021978021978\n",
      "Epoch 882,  ROC_AUC: 0.9964828071336947, Accuracy: 0.967032967032967\n",
      "Epoch 883,  ROC_AUC: 0.9966690114619109, Accuracy: 0.9714285714285714\n",
      "Epoch 884,  ROC_AUC: 0.9966069433525054, Accuracy: 0.9648351648351648\n",
      "Epoch 885,  ROC_AUC: 0.9966897008317127, Accuracy: 0.9758241758241758\n",
      "Epoch 886,  ROC_AUC: 0.9965655646129019, Accuracy: 0.9736263736263736\n",
      "Epoch 887,  ROC_AUC: 0.9966483220921091, Accuracy: 0.9736263736263736\n",
      "Epoch 888,  ROC_AUC: 0.9966276327223074, Accuracy: 0.978021978021978\n",
      "Epoch 889,  ROC_AUC: 0.9966069433525055, Accuracy: 0.9692307692307692\n",
      "Epoch 890,  ROC_AUC: 0.9965862539827037, Accuracy: 0.9802197802197802\n",
      "Epoch 891,  ROC_AUC: 0.9964414283940911, Accuracy: 0.9692307692307692\n",
      "Epoch 892,  ROC_AUC: 0.9965241858732983, Accuracy: 0.978021978021978\n",
      "Epoch 893,  ROC_AUC: 0.9966069433525054, Accuracy: 0.9758241758241758\n",
      "Epoch 894,  ROC_AUC: 0.9966483220921091, Accuracy: 0.978021978021978\n",
      "Epoch 895,  ROC_AUC: 0.9966276327223073, Accuracy: 0.9758241758241758\n",
      "Epoch 896,  ROC_AUC: 0.9967310795713162, Accuracy: 0.9714285714285714\n",
      "Epoch 897,  ROC_AUC: 0.9967103902015145, Accuracy: 0.9758241758241758\n",
      "Epoch 898,  ROC_AUC: 0.9966069433525055, Accuracy: 0.9736263736263736\n",
      "Epoch 899,  ROC_AUC: 0.9966483220921092, Accuracy: 0.978021978021978\n",
      "Epoch 900,  ROC_AUC: 0.9965448752431001, Accuracy: 0.9758241758241758\n",
      "Epoch 901,  ROC_AUC: 0.9965448752431001, Accuracy: 0.9758241758241758\n",
      "Epoch 902,  ROC_AUC: 0.9965448752431001, Accuracy: 0.978021978021978\n",
      "Epoch 903,  ROC_AUC: 0.9965241858732984, Accuracy: 0.9736263736263736\n",
      "Epoch 904,  ROC_AUC: 0.9966069433525054, Accuracy: 0.9736263736263736\n",
      "Epoch 905,  ROC_AUC: 0.9965862539827037, Accuracy: 0.9736263736263736\n",
      "Epoch 906,  ROC_AUC: 0.9966690114619109, Accuracy: 0.9736263736263736\n",
      "Epoch 907,  ROC_AUC: 0.9967103902015144, Accuracy: 0.9736263736263736\n",
      "Epoch 908,  ROC_AUC: 0.9967103902015144, Accuracy: 0.978021978021978\n",
      "Epoch 909,  ROC_AUC: 0.9966690114619109, Accuracy: 0.978021978021978\n",
      "Epoch 910,  ROC_AUC: 0.9966483220921091, Accuracy: 0.9758241758241758\n",
      "Epoch 911,  ROC_AUC: 0.9967103902015145, Accuracy: 0.978021978021978\n",
      "Epoch 912,  ROC_AUC: 0.9966069433525054, Accuracy: 0.9736263736263736\n",
      "Epoch 913,  ROC_AUC: 0.9966690114619109, Accuracy: 0.9736263736263736\n",
      "Epoch 914,  ROC_AUC: 0.996751768941118, Accuracy: 0.9736263736263736\n",
      "Epoch 915,  ROC_AUC: 0.9967310795713163, Accuracy: 0.9758241758241758\n",
      "Epoch 916,  ROC_AUC: 0.9967931476807217, Accuracy: 0.9714285714285714\n",
      "Epoch 917,  ROC_AUC: 0.9966897008317127, Accuracy: 0.9758241758241758\n",
      "Epoch 918,  ROC_AUC: 0.996751768941118, Accuracy: 0.9736263736263736\n",
      "Epoch 919,  ROC_AUC: 0.996751768941118, Accuracy: 0.9758241758241758\n",
      "Epoch 920,  ROC_AUC: 0.9967931476807217, Accuracy: 0.978021978021978\n",
      "Epoch 921,  ROC_AUC: 0.996751768941118, Accuracy: 0.978021978021978\n",
      "Epoch 922,  ROC_AUC: 0.9967724583109199, Accuracy: 0.978021978021978\n",
      "Epoch 923,  ROC_AUC: 0.9966897008317126, Accuracy: 0.9736263736263736\n",
      "Epoch 924,  ROC_AUC: 0.996751768941118, Accuracy: 0.978021978021978\n",
      "Epoch 925,  ROC_AUC: 0.996751768941118, Accuracy: 0.9736263736263736\n",
      "Epoch 926,  ROC_AUC: 0.9967931476807217, Accuracy: 0.9802197802197802\n",
      "Epoch 927,  ROC_AUC: 0.996751768941118, Accuracy: 0.9692307692307692\n",
      "Epoch 928,  ROC_AUC: 0.9967724583109199, Accuracy: 0.978021978021978\n",
      "Epoch 929,  ROC_AUC: 0.996751768941118, Accuracy: 0.967032967032967\n",
      "Epoch 930,  ROC_AUC: 0.9967724583109199, Accuracy: 0.978021978021978\n",
      "Epoch 931,  ROC_AUC: 0.9967310795713162, Accuracy: 0.9692307692307692\n",
      "Epoch 932,  ROC_AUC: 0.9968138370505234, Accuracy: 0.978021978021978\n",
      "Epoch 933,  ROC_AUC: 0.9967931476807216, Accuracy: 0.9736263736263736\n",
      "Epoch 934,  ROC_AUC: 0.9968138370505234, Accuracy: 0.9758241758241758\n",
      "Epoch 935,  ROC_AUC: 0.9967310795713162, Accuracy: 0.9758241758241758\n",
      "Epoch 936,  ROC_AUC: 0.996751768941118, Accuracy: 0.9758241758241758\n",
      "Epoch 937,  ROC_AUC: 0.9968138370505235, Accuracy: 0.978021978021978\n"
     ]
    },
    {
     "name": "stdout",
     "output_type": "stream",
     "text": [
      "Epoch 938,  ROC_AUC: 0.9967103902015144, Accuracy: 0.9736263736263736\n",
      "Epoch 939,  ROC_AUC: 0.9968138370505235, Accuracy: 0.9802197802197802\n",
      "Epoch 940,  ROC_AUC: 0.9967724583109199, Accuracy: 0.967032967032967\n",
      "Epoch 941,  ROC_AUC: 0.9968138370505235, Accuracy: 0.978021978021978\n",
      "Epoch 942,  ROC_AUC: 0.9966069433525055, Accuracy: 0.967032967032967\n",
      "Epoch 943,  ROC_AUC: 0.9968965945297307, Accuracy: 0.967032967032967\n",
      "Epoch 944,  ROC_AUC: 0.9964000496544875, Accuracy: 0.9582417582417583\n",
      "Epoch 945,  ROC_AUC: 0.996958662639136, Accuracy: 0.9626373626373627\n",
      "Epoch 946,  ROC_AUC: 0.9963379815450821, Accuracy: 0.9516483516483516\n",
      "Epoch 947,  ROC_AUC: 0.9969793520089378, Accuracy: 0.9648351648351648\n",
      "Epoch 948,  ROC_AUC: 0.9965862539827037, Accuracy: 0.9648351648351648\n",
      "Epoch 949,  ROC_AUC: 0.9968759051599289, Accuracy: 0.978021978021978\n",
      "Epoch 950,  ROC_AUC: 0.9968345264203252, Accuracy: 0.978021978021978\n",
      "Epoch 951,  ROC_AUC: 0.996855215790127, Accuracy: 0.9714285714285714\n",
      "Epoch 952,  ROC_AUC: 0.9968345264203253, Accuracy: 0.9802197802197802\n",
      "Epoch 953,  ROC_AUC: 0.9966276327223073, Accuracy: 0.967032967032967\n",
      "Epoch 954,  ROC_AUC: 0.9967931476807217, Accuracy: 0.9736263736263736\n",
      "Epoch 955,  ROC_AUC: 0.9967931476807217, Accuracy: 0.967032967032967\n",
      "Epoch 956,  ROC_AUC: 0.9968345264203253, Accuracy: 0.978021978021978\n",
      "Epoch 957,  ROC_AUC: 0.9968138370505234, Accuracy: 0.978021978021978\n",
      "Epoch 958,  ROC_AUC: 0.9967931476807217, Accuracy: 0.9758241758241758\n",
      "Epoch 959,  ROC_AUC: 0.9969379732693343, Accuracy: 0.978021978021978\n",
      "Epoch 960,  ROC_AUC: 0.9967931476807217, Accuracy: 0.9692307692307692\n",
      "Epoch 961,  ROC_AUC: 0.9967931476807217, Accuracy: 0.978021978021978\n",
      "Epoch 962,  ROC_AUC: 0.9967310795713162, Accuracy: 0.9736263736263736\n",
      "Epoch 963,  ROC_AUC: 0.9967931476807217, Accuracy: 0.978021978021978\n",
      "Epoch 964,  ROC_AUC: 0.996855215790127, Accuracy: 0.978021978021978\n",
      "Epoch 965,  ROC_AUC: 0.9966897008317127, Accuracy: 0.9714285714285714\n",
      "Epoch 966,  ROC_AUC: 0.9968759051599289, Accuracy: 0.9802197802197802\n",
      "Epoch 967,  ROC_AUC: 0.9968345264203252, Accuracy: 0.9714285714285714\n",
      "Epoch 968,  ROC_AUC: 0.9968345264203253, Accuracy: 0.9758241758241758\n",
      "Epoch 969,  ROC_AUC: 0.9967724583109199, Accuracy: 0.978021978021978\n",
      "Epoch 970,  ROC_AUC: 0.9967931476807217, Accuracy: 0.978021978021978\n",
      "Epoch 971,  ROC_AUC: 0.9968965945297307, Accuracy: 0.978021978021978\n",
      "Epoch 972,  ROC_AUC: 0.9967103902015144, Accuracy: 0.9736263736263736\n",
      "Epoch 973,  ROC_AUC: 0.9968965945297306, Accuracy: 0.978021978021978\n",
      "Epoch 974,  ROC_AUC: 0.9967103902015144, Accuracy: 0.9736263736263736\n",
      "Epoch 975,  ROC_AUC: 0.9968759051599289, Accuracy: 0.9758241758241758\n",
      "Epoch 976,  ROC_AUC: 0.9967931476807216, Accuracy: 0.978021978021978\n",
      "Epoch 977,  ROC_AUC: 0.9968345264203252, Accuracy: 0.9802197802197802\n",
      "Epoch 978,  ROC_AUC: 0.9968345264203252, Accuracy: 0.978021978021978\n",
      "Epoch 979,  ROC_AUC: 0.9967724583109198, Accuracy: 0.9736263736263736\n",
      "Epoch 980,  ROC_AUC: 0.9969379732693342, Accuracy: 0.978021978021978\n",
      "Epoch 981,  ROC_AUC: 0.9967724583109199, Accuracy: 0.9736263736263736\n",
      "Epoch 982,  ROC_AUC: 0.9968759051599289, Accuracy: 0.978021978021978\n",
      "Epoch 983,  ROC_AUC: 0.9968345264203252, Accuracy: 0.978021978021978\n",
      "Epoch 984,  ROC_AUC: 0.9968759051599289, Accuracy: 0.978021978021978\n",
      "Epoch 985,  ROC_AUC: 0.9969172838995324, Accuracy: 0.978021978021978\n",
      "Epoch 986,  ROC_AUC: 0.996855215790127, Accuracy: 0.9736263736263736\n",
      "Epoch 987,  ROC_AUC: 0.996958662639136, Accuracy: 0.978021978021978\n",
      "Epoch 988,  ROC_AUC: 0.9969172838995324, Accuracy: 0.9736263736263736\n",
      "Epoch 989,  ROC_AUC: 0.996958662639136, Accuracy: 0.978021978021978\n",
      "Epoch 990,  ROC_AUC: 0.9969172838995324, Accuracy: 0.9758241758241758\n",
      "Epoch 991,  ROC_AUC: 0.9969172838995325, Accuracy: 0.978021978021978\n",
      "Epoch 992,  ROC_AUC: 0.9969172838995324, Accuracy: 0.9802197802197802\n",
      "Epoch 993,  ROC_AUC: 0.9968965945297307, Accuracy: 0.978021978021978\n",
      "Epoch 994,  ROC_AUC: 0.9969172838995325, Accuracy: 0.978021978021978\n",
      "Epoch 995,  ROC_AUC: 0.9969172838995324, Accuracy: 0.978021978021978\n",
      "Epoch 996,  ROC_AUC: 0.9969793520089378, Accuracy: 0.978021978021978\n",
      "Epoch 997,  ROC_AUC: 0.9969379732693342, Accuracy: 0.9758241758241758\n",
      "Epoch 998,  ROC_AUC: 0.9969793520089378, Accuracy: 0.978021978021978\n",
      "Epoch 999,  ROC_AUC: 0.9969379732693342, Accuracy: 0.9736263736263736\n",
      "Epoch 1000,  ROC_AUC: 0.9969793520089378, Accuracy: 0.9802197802197802\n"
     ]
    }
   ],
   "source": [
    "from sklearn.metrics import roc_auc_score, accuracy_score\n",
    "nb_epoch = 1000\n",
    "for epoch in range(nb_epoch):\n",
    "    epoch+=1\n",
    "    #Convert the numpy array to torch tensor\n",
    "    inputs = Variable(torch.from_numpy(X_train))\n",
    "    labels = Variable(torch.from_numpy(y_train))\n",
    "    \n",
    "    #Clear the gradients\n",
    "    optimizer.zero_grad()\n",
    "    \n",
    "    #Compute the output using forward pass\n",
    "    outputs = model.forward(inputs)\n",
    "#     print(outputs)\n",
    "    \n",
    "    #Compute the loss\n",
    "    loss = criterion(outputs, labels)\n",
    "    \n",
    "    #get the Gradient\n",
    "    loss.backward()\n",
    "    \n",
    "    #Update the parameters\n",
    "    optimizer.step()\n",
    "    \n",
    "    with torch.no_grad():\n",
    "        prob = model.forward(inputs)\n",
    "        y_pred = prob.numpy()\n",
    "        y_pred = (y_pred>0.6)\n",
    "        score = roc_auc_score(labels, prob)\n",
    "        accuracy = accuracy_score(y_train, y_pred)\n",
    "    \n",
    "    print('Epoch {},  ROC_AUC: {}, Accuracy: {}'.format(epoch, score, accuracy))"
   ]
  },
  {
   "cell_type": "code",
   "execution_count": 112,
   "metadata": {},
   "outputs": [],
   "source": [
    "from sklearn.metrics import roc_curve"
   ]
  },
  {
   "cell_type": "markdown",
   "metadata": {},
   "source": [
    "Let us look at the roc curve of the model especially over the test data"
   ]
  },
  {
   "cell_type": "code",
   "execution_count": 113,
   "metadata": {},
   "outputs": [],
   "source": [
    "#computing the ROC curve and accuracy\n",
    "with torch.no_grad():\n",
    "    probs = model.forward(torch.from_numpy(X_test))\n",
    "    fpr, tpr, thresholds = roc_curve(y_test, probs.numpy())\n",
    "    roc_score = roc_auc_score(y_test, probs.numpy())\n",
    "    "
   ]
  },
  {
   "cell_type": "code",
   "execution_count": 114,
   "metadata": {},
   "outputs": [
    {
     "data": {
      "text/plain": [
       "Text(0, 0.5, 'TPR')"
      ]
     },
     "execution_count": 114,
     "metadata": {},
     "output_type": "execute_result"
    },
    {
     "data": {
      "image/png": "[encoded data removed]",
      "text/plain": [
       "<Figure size 432x288 with 1 Axes>"
      ]
     },
     "metadata": {
      "needs_background": "light"
     },
     "output_type": "display_data"
    }
   ],
   "source": [
    "plt.plot(fpr, tpr, 'r-', label='ROC_test')\n",
    "plt.plot([0,1], [0, 1], 'b--')\n",
    "plt.legend(loc='best')\n",
    "plt.xlabel('FPR')\n",
    "plt.ylabel('TPR')"
   ]
  },
  {
   "cell_type": "code",
   "execution_count": 115,
   "metadata": {},
   "outputs": [
    {
     "name": "stdout",
     "output_type": "stream",
     "text": [
      "The ROC_AUC score is : 0.9970520799213888\n"
     ]
    }
   ],
   "source": [
    "print('The ROC_AUC score is : {}'.format(roc_score))"
   ]
  },
  {
   "cell_type": "code",
   "execution_count": 116,
   "metadata": {},
   "outputs": [],
   "source": [
    "#computing the ROC curve\n",
    "with torch.no_grad():\n",
    "    probs = model.forward(torch.from_numpy(X_train))\n",
    "    fpr, tpr, thresholds = roc_curve(y_train, probs.numpy())\n",
    "    roc_score = roc_auc_score(y_train, probs.numpy())"
   ]
  },
  {
   "cell_type": "code",
   "execution_count": 117,
   "metadata": {},
   "outputs": [
    {
     "data": {
      "text/plain": [
       "Text(0, 0.5, 'TPR')"
      ]
     },
     "execution_count": 117,
     "metadata": {},
     "output_type": "execute_result"
    },
    {
     "data": {
      "image/png": "[encoded data removed]",
      "text/plain": [
       "<Figure size 432x288 with 1 Axes>"
      ]
     },
     "metadata": {
      "needs_background": "light"
     },
     "output_type": "display_data"
    }
   ],
   "source": [
    "plt.plot(fpr, tpr, 'r-', label='ROC_train')\n",
    "plt.plot([0,1], [0, 1], 'b--')\n",
    "plt.legend(loc='best')\n",
    "plt.xlabel('FPR')\n",
    "plt.ylabel('TPR')"
   ]
  },
  {
   "cell_type": "code",
   "execution_count": 118,
   "metadata": {},
   "outputs": [
    {
     "name": "stdout",
     "output_type": "stream",
     "text": [
      "The ROC_AUC score is : 0.9969793520089378\n"
     ]
    }
   ],
   "source": [
    "print('The ROC_AUC score is : {}'.format(roc_score))"
   ]
  },
  {
   "cell_type": "code",
   "execution_count": 119,
   "metadata": {},
   "outputs": [
    {
     "data": {
      "text/plain": [
       "array([1.9999812e+00, 9.9998116e-01, 9.9701869e-01, 9.9698263e-01,\n",
       "       8.5412776e-01, 8.4511888e-01, 6.9498646e-01, 6.8811023e-01,\n",
       "       6.0246861e-01, 5.6688082e-01, 5.6644130e-01, 5.4954588e-01,\n",
       "       4.4965369e-01, 4.0612867e-01, 3.8072291e-01, 2.0694487e-01,\n",
       "       1.9351605e-01, 1.5869861e-32], dtype=float32)"
      ]
     },
     "execution_count": 119,
     "metadata": {},
     "output_type": "execute_result"
    }
   ],
   "source": [
    "thresholds"
   ]
  },
  {
   "cell_type": "markdown",
   "metadata": {},
   "source": [
    "### Regularization using Dropouts\n",
    "\n",
    "In a neural network, no particular neuron or perceptron should get a special preference. In order to make it possible, a regularization mechanism is introduced known as the dropout regularization. In dropout regularization, we deactivate a number of randomly selected neurons in each layer in each epoch. Thus it makes sure that no one neuron is particularly more overused. This decreases the chances of overfitting.  "
   ]
  },
  {
   "cell_type": "markdown",
   "metadata": {},
   "source": [
    "#### Convolutional Neural Networks\n",
    "\n",
    "Convolutional Neural Network (CNN) is a variety of neural network that is used to classify images. This type of network utilizes convolutional layers to extract features from the images. "
   ]
  },
  {
   "cell_type": "markdown",
   "metadata": {},
   "source": [
    "Let us get the data which we will use to train a CNN for classification purposes. One of the most standard datasets used for image classfication is the MNIST dataset which is collection of labeled handwritten digits. The dataset can be downloaded using torchvision datasets. "
   ]
  },
  {
   "cell_type": "code",
   "execution_count": 125,
   "metadata": {},
   "outputs": [],
   "source": [
    "import torchvision\n",
    "import torchvision.transforms as transforms\n",
    "\n",
    "# Device configuration\n",
    "device = torch.device('cuda:0' if torch.cuda.is_available() else 'cpu')\n",
    "\n",
    "batch_size = 64\n",
    "nb_epoch = 5\n",
    "num_classes = 10\n",
    "# MNIST dataset\n",
    "train_dataset = torchvision.datasets.MNIST(root='./data/',\n",
    "                                           train=True, \n",
    "                                           transform=transforms.ToTensor(),\n",
    "                                           download=True)\n",
    "\n",
    "test_dataset = torchvision.datasets.MNIST(root='./data/',\n",
    "                                          train=False, \n",
    "                                          transform=transforms.ToTensor())\n",
    "\n",
    "# Data loader\n",
    "train_loader = torch.utils.data.DataLoader(dataset=train_dataset,\n",
    "                                           batch_size=batch_size, \n",
    "                                           shuffle=True)\n",
    "\n",
    "test_loader = torch.utils.data.DataLoader(dataset=test_dataset,\n",
    "                                          batch_size=batch_size, \n",
    "                                          shuffle=False)"
   ]
  },
  {
   "cell_type": "code",
   "execution_count": 126,
   "metadata": {},
   "outputs": [
    {
     "data": {
      "image/png": "[encoded data removed]",
      "text/plain": [
       "<Figure size 864x864 with 1 Axes>"
      ]
     },
     "metadata": {
      "needs_background": "light"
     },
     "output_type": "display_data"
    },
    {
     "name": "stdout",
     "output_type": "stream",
     "text": [
      "The labels are : [0 7 5 1 2 2 2 7 8 0 9 8 8 6 3 3 1 5 4 0 5 7 4 5 4 5 7 9 2 6 8 8 7 8 2 4 0\n",
      " 9 8 8 1 4 9 6 9 8 7 9 3 6 5 7 8 2 7 0 7 4 9 0 1 6 6 8]\n"
     ]
    }
   ],
   "source": [
    "def imshow(img):\n",
    "    img = img / 2 + 0.5     # unnormalize\n",
    "    npimg = img.numpy()\n",
    "    plt.figure(figsize=(12, 12))\n",
    "    plt.imshow(np.transpose(npimg, (1, 2, 0)))\n",
    "    plt.show()\n",
    "\n",
    "\n",
    "# get some random training images\n",
    "dataiter = iter(train_loader)\n",
    "images, labels = dataiter.next()\n",
    "\n",
    "# show images\n",
    "imshow(torchvision.utils.make_grid(images))\n",
    "print('The labels are : {}'.format(labels.numpy()))"
   ]
  },
  {
   "cell_type": "code",
   "execution_count": 127,
   "metadata": {},
   "outputs": [
    {
     "data": {
      "text/plain": [
       "torch.Size([64, 1, 28, 28])"
      ]
     },
     "execution_count": 127,
     "metadata": {},
     "output_type": "execute_result"
    }
   ],
   "source": [
    "images.size()"
   ]
  },
  {
   "cell_type": "markdown",
   "metadata": {},
   "source": [
    "The CNN we will be implementing has the following structure:\n",
    "<img src=\"images/cnn.png\" width=\"1000\" height=\"500\">"
   ]
  },
  {
   "cell_type": "code",
   "execution_count": 128,
   "metadata": {},
   "outputs": [],
   "source": [
    "class CNN(nn.Module):\n",
    "    \"\"\"\n",
    "    Convolutional neural network\n",
    "    LeNet-5 consist of the following layers:\n",
    "    Input size images: 28x28\n",
    "    Convolution layer 1:\n",
    "    Padding: Same, (input_size = output_size)\n",
    "    Kernel Size = 5\n",
    "    output_channels = 16\n",
    "    MaxPool size = 2\n",
    "    \n",
    "    Conv layer 2:\n",
    "    Input channels = 16\n",
    "    Output channels = 32\n",
    "    Kernel Size = 5\n",
    "    padding = same\n",
    "    MaxPool size = 2\n",
    "    \n",
    "    this is followed by a fully connecte layer and the last layer with 10 neurons (num_classes)\n",
    "    \"\"\"\n",
    "    def __init__(self):\n",
    "        super(CNN, self).__init__()\n",
    "        #Convolutional Layer 1\n",
    "        self.conv1 = nn.Sequential(\n",
    "                    nn.Conv2d(in_channels=1, out_channels=16, kernel_size=5, stride=1, padding=2),\n",
    "                    nn.ReLU(),\n",
    "                    nn.Dropout2d(p=0.2),\n",
    "                    nn.MaxPool2d(kernel_size=2))\n",
    "        #Convolutional layer 2\n",
    "        self.conv2 = nn.Sequential(\n",
    "                    nn.Conv2d(in_channels=16, out_channels=32, kernel_size=5, stride=1, padding=2),\n",
    "                    nn.ReLU(),\n",
    "                    nn.Dropout2d(p=0.2),\n",
    "                    nn.MaxPool2d(kernel_size=2))\n",
    "        #Fully connected layer \n",
    "        self.fc = nn.Linear(32*7*7, 10)\n",
    "    def forward(self, x):\n",
    "        out1 = self.conv1(x)\n",
    "        out2 = self.conv2(out1)\n",
    "        #now flatten the output of the second convolution layer so that we can feed into the fully connected layer\n",
    "        out3 = out2.view(out2.size(0), -1)\n",
    "        out = self.fc(out3)\n",
    "        out_soft = F.softmax(out, dim=1)\n",
    "        return out1, out2, out, out_soft"
   ]
  },
  {
   "cell_type": "code",
   "execution_count": 129,
   "metadata": {},
   "outputs": [],
   "source": [
    "lr = .001\n",
    "model = CNN().to(device)\n",
    "criterion = nn.CrossEntropyLoss()\n",
    "optimizer = torch.optim.Adam(model.parameters(), lr=lr)"
   ]
  },
  {
   "cell_type": "code",
   "execution_count": 130,
   "metadata": {
    "scrolled": false
   },
   "outputs": [
    {
     "name": "stdout",
     "output_type": "stream",
     "text": [
      "Epoch [1/5], Step [100/938], Loss: 0.8071, Test Accuracy: 91.1000%\n",
      "Epoch [1/5], Step [200/938], Loss: 0.2328, Test Accuracy: 94.2600%\n",
      "Epoch [1/5], Step [300/938], Loss: 0.3835, Test Accuracy: 95.6000%\n",
      "Epoch [1/5], Step [400/938], Loss: 0.0902, Test Accuracy: 96.3300%\n",
      "Epoch [1/5], Step [500/938], Loss: 0.1279, Test Accuracy: 96.7700%\n",
      "Epoch [1/5], Step [600/938], Loss: 0.1265, Test Accuracy: 96.6100%\n",
      "Epoch [1/5], Step [700/938], Loss: 0.1061, Test Accuracy: 97.0300%\n",
      "Epoch [1/5], Step [800/938], Loss: 0.1202, Test Accuracy: 97.2800%\n",
      "Epoch [1/5], Step [900/938], Loss: 0.1310, Test Accuracy: 97.4300%\n",
      "Epoch [2/5], Step [100/938], Loss: 0.0252, Test Accuracy: 97.6900%\n",
      "Epoch [2/5], Step [200/938], Loss: 0.0944, Test Accuracy: 97.9400%\n",
      "Epoch [2/5], Step [300/938], Loss: 0.0920, Test Accuracy: 97.7600%\n",
      "Epoch [2/5], Step [400/938], Loss: 0.1513, Test Accuracy: 97.7300%\n",
      "Epoch [2/5], Step [500/938], Loss: 0.0776, Test Accuracy: 98.0800%\n",
      "Epoch [2/5], Step [600/938], Loss: 0.0650, Test Accuracy: 97.7600%\n",
      "Epoch [2/5], Step [700/938], Loss: 0.1139, Test Accuracy: 98.0300%\n",
      "Epoch [2/5], Step [800/938], Loss: 0.1160, Test Accuracy: 98.1800%\n",
      "Epoch [2/5], Step [900/938], Loss: 0.1082, Test Accuracy: 98.0200%\n",
      "Epoch [3/5], Step [100/938], Loss: 0.1243, Test Accuracy: 98.1200%\n",
      "Epoch [3/5], Step [200/938], Loss: 0.0548, Test Accuracy: 98.5700%\n",
      "Epoch [3/5], Step [300/938], Loss: 0.0674, Test Accuracy: 98.2200%\n",
      "Epoch [3/5], Step [400/938], Loss: 0.0591, Test Accuracy: 98.2200%\n",
      "Epoch [3/5], Step [500/938], Loss: 0.0762, Test Accuracy: 98.5100%\n",
      "Epoch [3/5], Step [600/938], Loss: 0.0134, Test Accuracy: 98.4000%\n",
      "Epoch [3/5], Step [700/938], Loss: 0.0059, Test Accuracy: 98.5100%\n",
      "Epoch [3/5], Step [800/938], Loss: 0.0237, Test Accuracy: 98.0600%\n",
      "Epoch [3/5], Step [900/938], Loss: 0.0765, Test Accuracy: 98.5600%\n",
      "Epoch [4/5], Step [100/938], Loss: 0.0840, Test Accuracy: 98.5700%\n",
      "Epoch [4/5], Step [200/938], Loss: 0.0703, Test Accuracy: 98.6200%\n",
      "Epoch [4/5], Step [300/938], Loss: 0.1451, Test Accuracy: 98.5300%\n",
      "Epoch [4/5], Step [400/938], Loss: 0.0083, Test Accuracy: 98.6300%\n",
      "Epoch [4/5], Step [500/938], Loss: 0.0136, Test Accuracy: 98.5100%\n",
      "Epoch [4/5], Step [600/938], Loss: 0.0269, Test Accuracy: 98.4900%\n",
      "Epoch [4/5], Step [700/938], Loss: 0.0105, Test Accuracy: 98.4900%\n",
      "Epoch [4/5], Step [800/938], Loss: 0.0504, Test Accuracy: 98.4700%\n",
      "Epoch [4/5], Step [900/938], Loss: 0.0286, Test Accuracy: 98.8000%\n",
      "Epoch [5/5], Step [100/938], Loss: 0.0032, Test Accuracy: 98.5000%\n",
      "Epoch [5/5], Step [200/938], Loss: 0.0127, Test Accuracy: 98.6900%\n",
      "Epoch [5/5], Step [300/938], Loss: 0.0057, Test Accuracy: 98.7200%\n",
      "Epoch [5/5], Step [400/938], Loss: 0.0173, Test Accuracy: 98.6300%\n",
      "Epoch [5/5], Step [500/938], Loss: 0.0123, Test Accuracy: 98.4900%\n",
      "Epoch [5/5], Step [600/938], Loss: 0.0616, Test Accuracy: 98.4900%\n",
      "Epoch [5/5], Step [700/938], Loss: 0.0558, Test Accuracy: 98.6500%\n",
      "Epoch [5/5], Step [800/938], Loss: 0.0318, Test Accuracy: 98.5400%\n",
      "Epoch [5/5], Step [900/938], Loss: 0.0259, Test Accuracy: 98.7100%\n"
     ]
    }
   ],
   "source": [
    "#Training\n",
    "total_step = len(train_loader)\n",
    "for epoch in range(nb_epoch):\n",
    "    for i, (images, labels) in enumerate(train_loader):\n",
    "        images = images.to(device)\n",
    "        labels = labels.to(device)\n",
    "        \n",
    "        # Forward pass\n",
    "        _,_,outputs, _ = model.forward(images)\n",
    "        loss = criterion(outputs, labels)\n",
    "        \n",
    "        # Backward and optimize\n",
    "        optimizer.zero_grad()\n",
    "        loss.backward()\n",
    "        optimizer.step()\n",
    "        \n",
    "        if (i+1) % 100 == 0:\n",
    "            correct = 0\n",
    "            total = 0\n",
    "            for images1, labels1 in test_loader:\n",
    "                #Load images, labels\n",
    "                images1 = images1.to(device)\n",
    "                labels1 = labels1.to(device)\n",
    "                \n",
    "                with torch.no_grad():\n",
    "                    _, _, _, output  = model.forward(images1)\n",
    "                    #get predictions from maxvalues\n",
    "                    prediction = torch.max(output, 1)[1]\n",
    "                    total+=labels1.size(0)\n",
    "                    correct+=(prediction==labels1).sum()\n",
    "                    accuracy = 100.0*correct.cpu().numpy()/total\n",
    "            print ('Epoch [{}/{}], Step [{}/{}], Loss: {:.4f}, Test Accuracy: {:.4f}%' \n",
    "                   .format(epoch+1, nb_epoch, i+1, total_step, loss.item(), accuracy))"
   ]
  },
  {
   "cell_type": "code",
   "execution_count": 131,
   "metadata": {},
   "outputs": [],
   "source": [
    "with torch.no_grad():\n",
    "    conv1, _, _, _ = model.forward(images)\n",
    "    _, conv2, _, _ = model.forward(images)"
   ]
  },
  {
   "cell_type": "code",
   "execution_count": 132,
   "metadata": {},
   "outputs": [
    {
     "data": {
      "text/plain": [
       "torch.Size([32, 32, 7, 7])"
      ]
     },
     "execution_count": 132,
     "metadata": {},
     "output_type": "execute_result"
    }
   ],
   "source": [
    "conv2.size()"
   ]
  },
  {
   "cell_type": "code",
   "execution_count": 133,
   "metadata": {},
   "outputs": [
    {
     "data": {
      "image/png": "[encoded data removed]",
      "text/plain": [
       "<Figure size 864x864 with 1 Axes>"
      ]
     },
     "metadata": {
      "needs_background": "light"
     },
     "output_type": "display_data"
    },
    {
     "name": "stdout",
     "output_type": "stream",
     "text": [
      "The labels are : [4 2 7 4 7 1 5 2 3 2 9 5 8 8 8 1 0 7 9 1 4 7 7 9 8 6 0 3 6 4 8 5]\n"
     ]
    }
   ],
   "source": [
    "# show images\n",
    "imshow(torchvision.utils.make_grid(images.cpu()))\n",
    "print('The labels are : {}'.format(labels.cpu().numpy()))"
   ]
  },
  {
   "cell_type": "markdown",
   "metadata": {},
   "source": [
    "### Output of First convolutional layer"
   ]
  },
  {
   "cell_type": "code",
   "execution_count": 135,
   "metadata": {},
   "outputs": [
    {
     "name": "stderr",
     "output_type": "stream",
     "text": [
      "Clipping input data to the valid range for imshow with RGB data ([0..1] for floats or [0..255] for integers).\n"
     ]
    },
    {
     "data": {
      "image/png": "[encoded data removed]",
      "text/plain": [
       "<Figure size 864x864 with 1 Axes>"
      ]
     },
     "metadata": {
      "needs_background": "light"
     },
     "output_type": "display_data"
    }
   ],
   "source": [
    "# show images\n",
    "imshow(torchvision.utils.make_grid(conv1.cpu()[:,10,:,:].view(32, -1, 14, 14)))"
   ]
  },
  {
   "cell_type": "markdown",
   "metadata": {},
   "source": [
    "### Output of Second Convolutional Network"
   ]
  },
  {
   "cell_type": "code",
   "execution_count": 136,
   "metadata": {},
   "outputs": [
    {
     "name": "stderr",
     "output_type": "stream",
     "text": [
      "Clipping input data to the valid range for imshow with RGB data ([0..1] for floats or [0..255] for integers).\n"
     ]
    },
    {
     "data": {
      "image/png": "[encoded data removed]",
      "text/plain": [
       "<Figure size 864x864 with 1 Axes>"
      ]
     },
     "metadata": {
      "needs_background": "light"
     },
     "output_type": "display_data"
    }
   ],
   "source": [
    "# show images\n",
    "imshow(torchvision.utils.make_grid(conv2.cpu()[:,10,:,:].view(32, -1, 7, 7)))"
   ]
  },
  {
   "cell_type": "markdown",
   "metadata": {},
   "source": [
    "Reading material:\n",
    "\n",
    " - https://towardsdatascience.com/a-comprehensive-guide-to-convolutional-neural-networks-the-eli5-way-3bd2b1164a53\n",
    " - http://vision.stanford.edu/cs598_spring07/papers/Lecun98.pdf"
   ]
  }
 ],
 "metadata": {
  "kernelspec": {
   "display_name": "Python 3",
   "language": "python",
   "name": "python3"
  },
  "language_info": {
   "codemirror_mode": {
    "name": "ipython",
    "version": 3
   },
   "file_extension": ".py",
   "mimetype": "text/x-python",
   "name": "python",
   "nbconvert_exporter": "python",
   "pygments_lexer": "ipython3",
   "version": "3.7.3"
  }
 },
 "nbformat": 4,
 "nbformat_minor": 2
}
