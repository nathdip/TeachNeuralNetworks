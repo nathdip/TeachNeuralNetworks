{
 "cells": [
  {
   "cell_type": "markdown",
   "metadata": {},
   "source": [
    "### Neural Networks"
   ]
  },
  {
   "cell_type": "markdown",
   "metadata": {},
   "source": [
    " - Basically a set of inter-connected nodes or neurons or perceptrons.\n",
    "     - Typically consists of layers of such neurons.\n",
    "     - Each neuron in a given layer is connected to all the neurons of the previous layers through a weight and an activatio function.\n",
    "     - Activation function is used to generate the non-linearity in the model that is to be trained with the data in hand.\n",
    " Let us first consider how a single layer neural network would look like. For our purposes let's consider our input to be a three dimensional vector. For example let's say we are monitoring the Pressure, temperature and humidity at a weather station. the vector is $\\vec{V}=\\left(P, T, H\\right)$. We would also need the label or the output. In this case this can be the chances of rain, $R$.\n",
    "\n",
    "<img src=\"images/linearneuralnetwork.PNG\" width=\"500\" height=\"250\">\n"
   ]
  },
  {
   "cell_type": "markdown",
   "metadata": {},
   "source": [
    "$R'$ is the output of the untrained linear neural net and is given by:\n",
    "\n",
    "\\begin{equation}\n",
    "R'=1\\times w_0+P\\times w_1+T\\times w_2+H\\times w_3\n",
    "\\end{equation}\n",
    "\n",
    "The difference between the output of the untrained model, $R'$ and the actual value $R$, a function of the difference $\\Delta=f\\left(R-R'\\right)$, known as the loss or the cost function is used to optimize the weights $w_i$ using optimization methods such as Gradient Descent. Note that we have a node to denote the offset whose input is always $1$ (weight given by $w_0$). As a rule of thumb, in the final representation and as well counting the number of neurons in each layer the node denoting the offset is mostly omitted. In the above example the neural network has single layer with three neurons. "
   ]
  },
  {
   "cell_type": "markdown",
   "metadata": {},
   "source": [
    "### Training a linear model using a  neural network"
   ]
  },
  {
   "cell_type": "markdown",
   "metadata": {},
   "source": [
    "- We will try to first model a simple linear equation using a single layer neural network.\n",
    "    - $y=3x+5$\n",
    "    - The neural net model would look like $y'= w_0+w_1x$\n",
    "    \n",
    "We will first simulate some of the data:"
   ]
  },
  {
   "cell_type": "code",
   "execution_count": 1,
   "metadata": {},
   "outputs": [],
   "source": [
    "import numpy as np\n",
    "import pandas as pd\n",
    "import matplotlib.pyplot as plt"
   ]
  },
  {
   "cell_type": "code",
   "execution_count": 2,
   "metadata": {},
   "outputs": [],
   "source": [
    "x = np.arange(0, 5, 0.5)"
   ]
  },
  {
   "cell_type": "code",
   "execution_count": 3,
   "metadata": {},
   "outputs": [],
   "source": [
    "y = 3*x+5 #+ .001*np.random.randn(len(x))"
   ]
  },
  {
   "cell_type": "code",
   "execution_count": 4,
   "metadata": {},
   "outputs": [
    {
     "data": {
      "text/plain": [
       "Text(0,0.5,'y')"
      ]
     },
     "execution_count": 4,
     "metadata": {},
     "output_type": "execute_result"
    },
    {
     "data": {
      "image/png": "[encoded data removed]",
      "text/plain": [
       "<Figure size 432x288 with 1 Axes>"
      ]
     },
     "metadata": {},
     "output_type": "display_data"
    }
   ],
   "source": [
    "plt.plot(x, y, 'b*')\n",
    "plt.xlabel('x')\n",
    "plt.ylabel('y')"
   ]
  },
  {
   "cell_type": "code",
   "execution_count": 5,
   "metadata": {},
   "outputs": [],
   "source": [
    "x = np.float32(x.reshape(-1, 1))\n",
    "y = np.float32(y.reshape(-1, 1))"
   ]
  },
  {
   "cell_type": "code",
   "execution_count": 6,
   "metadata": {},
   "outputs": [],
   "source": [
    "#Importing torch\n",
    "import torch\n",
    "import torch.nn as nn\n",
    "from torch.autograd import Variable"
   ]
  },
  {
   "cell_type": "code",
   "execution_count": 7,
   "metadata": {},
   "outputs": [],
   "source": [
    "#Create a class for the training\n",
    "class LinearRegression(nn.Module):\n",
    "    def __init__(self, input_size, output_size):\n",
    "        super().__init__()\n",
    "        self.input_dim = input_size\n",
    "        self.output_dim = output_size\n",
    "        self.linear = nn.Linear(self.input_dim, self.output_dim)\n",
    "    def forward(self, x):\n",
    "        output = self.linear(x)\n",
    "        return output"
   ]
  },
  {
   "cell_type": "code",
   "execution_count": 8,
   "metadata": {},
   "outputs": [],
   "source": [
    "#Instantiate the model\n",
    "input_dim = 1\n",
    "output_dim = 1\n",
    "\n",
    "model = LinearRegression(input_dim, output_dim)"
   ]
  },
  {
   "cell_type": "markdown",
   "metadata": {},
   "source": [
    "What else is required?\n",
    "\n",
    "- A loss function, in order to compare the output of the neural network to the real life value (in our case simulated y)\n",
    "- A simple loss function would be the mean squared error:\n",
    "    - $MSE = \\frac{1}{n}\\Sigma_i\\left(\\hat{y}_i-y_i\\right)^2$\n",
    "        - $\\hat{y}_i$: predicted value\n",
    "        - $y_i$: true value"
   ]
  },
  {
   "cell_type": "code",
   "execution_count": 9,
   "metadata": {},
   "outputs": [],
   "source": [
    "#Define the loss function\n",
    "criterion = nn.MSELoss(reduction='mean')"
   ]
  },
  {
   "cell_type": "markdown",
   "metadata": {},
   "source": [
    "However learning still needs to takes place. The learning takes place by feeding back the loss function to the parameters in such a way that the loss function is minimized. \n",
    "\n",
    "- $\\theta := \\theta - \\eta.\\nabla_{\\theta}$, where \n",
    "    - $\\theta$ represents the parameters, \n",
    "    - $\\eta$ is the learning rate\n",
    "    - $\\nabla_{\\theta}$ is the gradient of the loss function w.r.t. $\\theta$\n",
    "- What are the parameters in this case?\n",
    "    - $\\alpha$ and $\\beta$ in $y=\\alpha x + \\beta$\n",
    "    - After successful learning we should obtain: $\\alpha=3$, $\\beta=5$"
   ]
  },
  {
   "cell_type": "code",
   "execution_count": 10,
   "metadata": {},
   "outputs": [],
   "source": [
    "#Define learning rate\n",
    "lr = 0.1\n",
    "#Define the optimizer\n",
    "optimizer = torch.optim.SGD(model.parameters(), lr=lr)"
   ]
  },
  {
   "cell_type": "markdown",
   "metadata": {},
   "source": [
    "Now it is time to train. A few points before training:\n",
    "\n",
    "- Generally once has to go through the dataset several time in order to properly optimize the weights, we fix the number of 'epochs' initially\n",
    "- Since the inputs will generally be numpy array we have to convert them into torch tensors first.\n",
    "- While going through each epoch, we compute the outputs and obtain the loss.\n",
    "- The loss is then used to compute the gradients which will be used to update the parameters"
   ]
  },
  {
   "cell_type": "code",
   "execution_count": 11,
   "metadata": {},
   "outputs": [],
   "source": [
    "nb_epoch = 100"
   ]
  },
  {
   "cell_type": "code",
   "execution_count": 12,
   "metadata": {
    "scrolled": true
   },
   "outputs": [
    {
     "name": "stdout",
     "output_type": "stream",
     "text": [
      "Epoch 1,  Loss: 175.7396697998047\n",
      "Epoch 2,  Loss: 60.50433349609375\n",
      "Epoch 3,  Loss: 22.434345245361328\n",
      "Epoch 4,  Loss: 9.68929386138916\n",
      "Epoch 5,  Loss: 5.272868633270264\n",
      "Epoch 6,  Loss: 3.6109399795532227\n",
      "Epoch 7,  Loss: 2.873818874359131\n",
      "Epoch 8,  Loss: 2.4595019817352295\n",
      "Epoch 9,  Loss: 2.168644666671753\n",
      "Epoch 10,  Loss: 1.9340981245040894\n",
      "Epoch 11,  Loss: 1.7322335243225098\n",
      "Epoch 12,  Loss: 1.5538513660430908\n",
      "Epoch 13,  Loss: 1.3946318626403809\n",
      "Epoch 14,  Loss: 1.2519878149032593\n",
      "Epoch 15,  Loss: 1.1240185499191284\n",
      "Epoch 16,  Loss: 1.0091575384140015\n",
      "Epoch 17,  Loss: 0.9060431718826294\n",
      "Epoch 18,  Loss: 0.8134674429893494\n",
      "Epoch 19,  Loss: 0.730351984500885\n",
      "Epoch 20,  Loss: 0.6557291150093079\n",
      "Epoch 21,  Loss: 0.5887308120727539\n",
      "Epoch 22,  Loss: 0.5285782814025879\n",
      "Epoch 23,  Loss: 0.4745709300041199\n",
      "Epoch 24,  Loss: 0.42608240246772766\n",
      "Epoch 25,  Loss: 0.3825482130050659\n",
      "Epoch 26,  Loss: 0.3434617519378662\n",
      "Epoch 27,  Loss: 0.30836907029151917\n",
      "Epoch 28,  Loss: 0.27686166763305664\n",
      "Epoch 29,  Loss: 0.24857376515865326\n",
      "Epoch 30,  Loss: 0.2231760174036026\n",
      "Epoch 31,  Loss: 0.2003733366727829\n",
      "Epoch 32,  Loss: 0.17990060150623322\n",
      "Epoch 33,  Loss: 0.1615195870399475\n",
      "Epoch 34,  Loss: 0.14501649141311646\n",
      "Epoch 35,  Loss: 0.13019970059394836\n",
      "Epoch 36,  Loss: 0.1168966218829155\n",
      "Epoch 37,  Loss: 0.10495289415121078\n",
      "Epoch 38,  Loss: 0.09422948211431503\n",
      "Epoch 39,  Loss: 0.08460168540477753\n",
      "Epoch 40,  Loss: 0.07595755904912949\n",
      "Epoch 41,  Loss: 0.06819672882556915\n",
      "Epoch 42,  Loss: 0.06122884154319763\n",
      "Epoch 43,  Loss: 0.05497297644615173\n",
      "Epoch 44,  Loss: 0.049356140196323395\n",
      "Epoch 45,  Loss: 0.04431324824690819\n",
      "Epoch 46,  Loss: 0.03978559002280235\n",
      "Epoch 47,  Loss: 0.0357205756008625\n",
      "Epoch 48,  Loss: 0.03207080438733101\n",
      "Epoch 49,  Loss: 0.028794024139642715\n",
      "Epoch 50,  Loss: 0.025852074846625328\n",
      "Epoch 51,  Loss: 0.023210616782307625\n",
      "Epoch 52,  Loss: 0.020839104428887367\n",
      "Epoch 53,  Loss: 0.018709903582930565\n",
      "Epoch 54,  Loss: 0.01679825782775879\n",
      "Epoch 55,  Loss: 0.015081895515322685\n",
      "Epoch 56,  Loss: 0.013540897518396378\n",
      "Epoch 57,  Loss: 0.012157425284385681\n",
      "Epoch 58,  Loss: 0.010915257968008518\n",
      "Epoch 59,  Loss: 0.009799973107874393\n",
      "Epoch 60,  Loss: 0.008798708207905293\n",
      "Epoch 61,  Loss: 0.00789965782314539\n",
      "Epoch 62,  Loss: 0.007092491257935762\n",
      "Epoch 63,  Loss: 0.006367851514369249\n",
      "Epoch 64,  Loss: 0.0057172393426299095\n",
      "Epoch 65,  Loss: 0.0051330882124602795\n",
      "Epoch 66,  Loss: 0.0046086059883236885\n",
      "Epoch 67,  Loss: 0.004137739539146423\n",
      "Epoch 68,  Loss: 0.0037149658892303705\n",
      "Epoch 69,  Loss: 0.0033353997860103846\n",
      "Epoch 70,  Loss: 0.002994604641571641\n",
      "Epoch 71,  Loss: 0.002688647247850895\n",
      "Epoch 72,  Loss: 0.0024139301385730505\n",
      "Epoch 73,  Loss: 0.0021673007868230343\n",
      "Epoch 74,  Loss: 0.001945868250913918\n",
      "Epoch 75,  Loss: 0.0017470521852374077\n",
      "Epoch 76,  Loss: 0.001568546169437468\n",
      "Epoch 77,  Loss: 0.0014082813868299127\n",
      "Epoch 78,  Loss: 0.001264400314539671\n",
      "Epoch 79,  Loss: 0.00113523262552917\n",
      "Epoch 80,  Loss: 0.0010192294139415026\n",
      "Epoch 81,  Loss: 0.000915090786293149\n",
      "Epoch 82,  Loss: 0.0008215958951041102\n",
      "Epoch 83,  Loss: 0.0007376494468189776\n",
      "Epoch 84,  Loss: 0.0006622788496315479\n",
      "Epoch 85,  Loss: 0.0005946186720393598\n",
      "Epoch 86,  Loss: 0.0005338613991625607\n",
      "Epoch 87,  Loss: 0.0004793124389834702\n",
      "Epoch 88,  Loss: 0.00043034605914726853\n",
      "Epoch 89,  Loss: 0.00038637511897832155\n",
      "Epoch 90,  Loss: 0.0003468843351583928\n",
      "Epoch 91,  Loss: 0.0003114450955763459\n",
      "Epoch 92,  Loss: 0.000279628555290401\n",
      "Epoch 93,  Loss: 0.0002510638441890478\n",
      "Epoch 94,  Loss: 0.0002254113496746868\n",
      "Epoch 95,  Loss: 0.00020237962598912418\n",
      "Epoch 96,  Loss: 0.0001817040756577626\n",
      "Epoch 97,  Loss: 0.0001631342456676066\n",
      "Epoch 98,  Loss: 0.0001464665838284418\n",
      "Epoch 99,  Loss: 0.00013150559971109033\n",
      "Epoch 100,  Loss: 0.00011806905968114734\n"
     ]
    }
   ],
   "source": [
    "epoch=0\n",
    "for epoch in range(nb_epoch):\n",
    "    epoch+=1\n",
    "    #Convert the numpy array to torch tensor\n",
    "    inputs = Variable(torch.from_numpy(x))\n",
    "    labels = Variable(torch.from_numpy(y))\n",
    "    \n",
    "    #Clear the gradients\n",
    "    optimizer.zero_grad()\n",
    "    \n",
    "    #Compute the output using forward pass\n",
    "    outputs = model.forward(inputs)\n",
    "    \n",
    "    #Compute the loss\n",
    "    loss = criterion(outputs, labels)\n",
    "    \n",
    "    #get the Gradient\n",
    "    loss.backward()\n",
    "    \n",
    "    #Update the parameters\n",
    "    optimizer.step()\n",
    "    \n",
    "    print('Epoch {},  Loss: {}'.format(epoch, loss.data))"
   ]
  },
  {
   "cell_type": "code",
   "execution_count": 13,
   "metadata": {},
   "outputs": [
    {
     "data": {
      "text/plain": [
       "[Parameter containing:\n",
       " tensor([[3.0063]], requires_grad=True), Parameter containing:\n",
       " tensor([4.9809], requires_grad=True)]"
      ]
     },
     "execution_count": 13,
     "metadata": {},
     "output_type": "execute_result"
    }
   ],
   "source": [
    "list(model.parameters())"
   ]
  },
  {
   "cell_type": "code",
   "execution_count": 14,
   "metadata": {},
   "outputs": [],
   "source": [
    "with torch.no_grad():\n",
    "    predicted = model.forward(inputs).data.numpy()"
   ]
  },
  {
   "cell_type": "code",
   "execution_count": 15,
   "metadata": {},
   "outputs": [
    {
     "data": {
      "text/plain": [
       "<matplotlib.legend.Legend at 0x2748e454358>"
      ]
     },
     "execution_count": 15,
     "metadata": {},
     "output_type": "execute_result"
    },
    {
     "data": {
      "image/png": "[encoded data removed]",
      "text/plain": [
       "<Figure size 432x288 with 1 Axes>"
      ]
     },
     "metadata": {},
     "output_type": "display_data"
    }
   ],
   "source": [
    "plt.plot(x, y, 'b*', label='True Data', alpha=0.5)\n",
    "plt.plot(x, predicted, 'g--', label = 'predicted data', alpha=0.5)\n",
    "plt.legend(loc='best')"
   ]
  },
  {
   "cell_type": "markdown",
   "metadata": {},
   "source": [
    "### Loss \n",
    "\n",
    "Loss is way to estimate how much the predicted output is different from the actual value (in case of regression) and label (in case of classification). The loss is also often called cost function. \n",
    "\n",
    "In case of regression a common cost function would be the Mean Square Loss. Suppose we define our model as $h_{\\theta}\\left(x\\right)$ then we define the loss function as :\n",
    "\n",
    "\\begin{equation}\n",
    "J\\left(\\theta\\right) = \\sum_{i=1}^{n} \\left(h_{\\theta}\\left(x^i\\right)-y^i\\right)^2\n",
    "\\end{equation}\n",
    "where $x^i$ are the risen incidents.\n",
    "\n"
   ]
  },
  {
   "cell_type": "markdown",
   "metadata": {},
   "source": [
    "### What about non-linearity?\n",
    "\n",
    "The above example was about linear regression and hence a linear model could easily model the sample data. However we want to be able to data that is non-linear as well. Non-linearity is introduced in Neural networks through what are known as activation function. A well known activation function is the Sigmoid function which is given by :\n",
    "\n",
    "\\begin{equation}\n",
    "S(z)=\\frac{1}{1+e^{-z}}=\\frac{e^z}{e^z+1}\n",
    "\\end{equation}\n",
    "\n",
    "If you plot the sigmoid function this is what it looks like:"
   ]
  },
  {
   "cell_type": "markdown",
   "metadata": {},
   "source": [
    "In case of a classification problem, this loss function described above for the problem of regression will not give us much information. Consider the case when we consider the output of a binary classifier. The loss function used in this case is of the form:\n",
    "\n",
    "\\begin{equation}\n",
    "J\\left(\\theta\\right) = \\sum_{i=1}^n\\left[y^ilogh\\left(x^i\\right)+\\left(1-y^i\\right)log\\left(i-h\\left(x^i\\right)\\right)\\right]\n",
    "\\end{equation}\n"
   ]
  },
  {
   "cell_type": "code",
   "execution_count": 16,
   "metadata": {},
   "outputs": [],
   "source": [
    "def sigmoid(x):\n",
    "    return 1/(1+np.exp(-x))"
   ]
  },
  {
   "cell_type": "code",
   "execution_count": 17,
   "metadata": {},
   "outputs": [
    {
     "data": {
      "text/plain": [
       "<matplotlib.collections.LineCollection at 0x2bc3d87ef28>"
      ]
     },
     "execution_count": 17,
     "metadata": {},
     "output_type": "execute_result"
    },
    {
     "data": {
      "image/png": "[encoded data removed]",
      "text/plain": [
       "<Figure size 432x288 with 1 Axes>"
      ]
     },
     "metadata": {
      "needs_background": "light"
     },
     "output_type": "display_data"
    }
   ],
   "source": [
    "z = np.linspace(-10, 10, num=100 )\n",
    "plt.plot(z, sigmoid(z), 'r-', label='Sigmoid Function')\n",
    "plt.legend(loc='best')\n",
    "plt.xlabel('z')\n",
    "plt.ylabel('S(z)')\n",
    "plt.hlines(y=0.5, xmin=-10, xmax=10)\n",
    "plt.vlines(x=0, ymin=0, ymax=1)"
   ]
  },
  {
   "cell_type": "markdown",
   "metadata": {},
   "source": [
    "#### ReLU activation\n",
    "There are a few other popular activation functions as well. A particularly popular one is the ReLU (Rectified Linear Unit ) activation which looks like:\n",
    "\n",
    "\\begin{equation}\n",
    "R\\left(x\\right) = max(x, 0)\n",
    "\\end{equation}"
   ]
  },
  {
   "cell_type": "code",
   "execution_count": 19,
   "metadata": {},
   "outputs": [],
   "source": [
    "def relu(x):\n",
    "    return max(x,0.0)"
   ]
  },
  {
   "cell_type": "code",
   "execution_count": 20,
   "metadata": {},
   "outputs": [],
   "source": [
    "relu_vec = np.vectorize(relu)"
   ]
  },
  {
   "cell_type": "code",
   "execution_count": 21,
   "metadata": {},
   "outputs": [
    {
     "data": {
      "text/plain": [
       "<matplotlib.collections.LineCollection at 0x2748e55d7f0>"
      ]
     },
     "execution_count": 21,
     "metadata": {},
     "output_type": "execute_result"
    },
    {
     "data": {
      "image/png": "[encoded data removed]",
      "text/plain": [
       "<Figure size 432x288 with 1 Axes>"
      ]
     },
     "metadata": {},
     "output_type": "display_data"
    }
   ],
   "source": [
    "z = np.linspace(-10, 10, num=100)\n",
    "plt.plot(z, relu_vec(z), 'r-', label='ReLU Function')\n",
    "plt.legend(loc='best')\n",
    "plt.xlabel('z')\n",
    "plt.ylabel('ReLU(z)')\n",
    "plt.hlines(y=0, xmin=-10, xmax=10)\n",
    "plt.vlines(x=0, ymin=0, ymax=10)"
   ]
  },
  {
   "cell_type": "markdown",
   "metadata": {},
   "source": [
    "In order to enable non-linearity in our models we apply activation function to each node or neuron of a layer.\n",
    "\n",
    "<img src=\"images/linearneuralnetworkplusactivation.PNG\" width=\"500\" height=\"250\">\n",
    "\n",
    "In the above diagram we see the activation function applied to the final layer which has a single neuron in it. In general, activation functions are applied to all the neurons in each layer, with each neuron being applied an activation function. "
   ]
  },
  {
   "cell_type": "markdown",
   "metadata": {},
   "source": [
    "In order to maximize the effectiveness of neural network we need to add more layers of network. This combined with the activation function will allow us to model complex data which has non-trivial relationship between the features and the labels:\n",
    "\n",
    "<img src=\"images/multilayerneuralnet.png\" width=\"500\" height=\"250\">"
   ]
  },
  {
   "cell_type": "markdown",
   "metadata": {},
   "source": [
    "#### Softmax activation\n",
    "The softmax activation function is another highly popular activation function which is usually used in the final layer when doing multiclass-classification using neural networks. Suppose we want to apply softmax to the output of a neural network classfier trying to classify 10 types of images with classes $k=1,2..10$. The output layer would thus have 10 layers. The softmax activated output for the i$^{th}$ neuron of the final layer would be thus given by \n"
   ]
  },
  {
   "cell_type": "markdown",
   "metadata": {},
   "source": [
    "\\begin{equation}\n",
    "P\\left(y=2|x\\right) = \\frac{e^{x^Tw_j}}{\\Sigma_k e^{x^Tw_k}}\n",
    "\\end{equation}"
   ]
  },
  {
   "cell_type": "markdown",
   "metadata": {},
   "source": [
    "#### Backpropagation\n",
    "\n",
    "As we can see that a neural network can very complicated and perform parameter updates (here the weight $w_{ij}$), we will need to compute the gradient at each node. This is known as backpropagation as the error obtained by comparing the output with the actual value using a loss function is then used to compute the gradients of the parameters. "
   ]
  },
  {
   "cell_type": "markdown",
   "metadata": {},
   "source": [
    "Let us try to use a classification al"
   ]
  }
 ],
 "metadata": {
  "kernelspec": {
   "display_name": "Python 3",
   "language": "python",
   "name": "python3"
  },
  "language_info": {
   "codemirror_mode": {
    "name": "ipython",
    "version": 3
   },
   "file_extension": ".py",
   "mimetype": "text/x-python",
   "name": "python",
   "nbconvert_exporter": "python",
   "pygments_lexer": "ipython3",
   "version": "3.6.5"
  }
 },
 "nbformat": 4,
 "nbformat_minor": 2
}
