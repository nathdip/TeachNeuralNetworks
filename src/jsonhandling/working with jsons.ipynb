{
 "cells": [
  {
   "cell_type": "code",
   "execution_count": 1,
   "metadata": {},
   "outputs": [],
   "source": [
    "import numpy as np\n",
    "import json"
   ]
  },
  {
   "cell_type": "markdown",
   "metadata": {},
   "source": [
    "### What is JSON?\n",
    "\n",
    "According to Wikipedia:\n",
    "\"\n",
    "JavaScript Object Notation  is an open-standard file format or data interchange format that uses human-readable text to transmit data objects consisting of attribute–value pairs and array data types (or any other serializable value). It is a very common data format, with a diverse range of applications, such as serving as replacement for XML in AJAX systems.\n",
    "\"\n",
    "Mostly used for information exchange, especially when you want to obtain from or sent information to API end points, the data format is mostly used is JSON.\n",
    "\n",
    "Python has the 'json' package to deal with JSONs."
   ]
  },
  {
   "cell_type": "code",
   "execution_count": 5,
   "metadata": {},
   "outputs": [],
   "source": [
    "test = '{\"item\":\"Chair\", \"price\":\"10000 HUF\"}'"
   ]
  },
  {
   "cell_type": "code",
   "execution_count": 6,
   "metadata": {},
   "outputs": [],
   "source": [
    "test_json = json.loads(test)"
   ]
  },
  {
   "cell_type": "code",
   "execution_count": 7,
   "metadata": {},
   "outputs": [
    {
     "data": {
      "text/plain": [
       "{'item': 'Chair', 'price': '10000 HUF'}"
      ]
     },
     "execution_count": 7,
     "metadata": {},
     "output_type": "execute_result"
    }
   ],
   "source": [
    "test_json"
   ]
  },
  {
   "cell_type": "markdown",
   "metadata": {},
   "source": [
    "The jsons can be made pretty complicated as well:"
   ]
  },
  {
   "cell_type": "markdown",
   "metadata": {},
   "source": [
    "We will now load a JSON which has anonymized data on it:"
   ]
  },
  {
   "cell_type": "code",
   "execution_count": 12,
   "metadata": {},
   "outputs": [],
   "source": [
    "with open('../../data/jsons/test.json', 'r') as f:\n",
    "    test_load = json.load(f)    "
   ]
  },
  {
   "cell_type": "code",
   "execution_count": 13,
   "metadata": {},
   "outputs": [
    {
     "data": {
      "text/plain": [
       "{'SOURCE_SYSTEM_NAME': 'XXX',\n",
       " 'TRANSACTION_DATE': '27/01/2010 01:30:39',\n",
       " 'MESSAGE_ID': 'bjd76rjbd87rb',\n",
       " 'OPERATION': 'a',\n",
       " 'INCIDENT': [{'ELEMENT_ID': 836487634,\n",
       "   'CUSTOMER_ID': 7623876832,\n",
       "   'COUNTRY_NAME': 'TIMBAKTU',\n",
       "   'INCIDENT_START_TIME': '27/01/2010 01:18:03',\n",
       "   'PROACTIVITY': 'DBGIUDBIE',\n",
       "   'ORIGINAL_SEVERITY': 'ND',\n",
       "   'REPORTED_CHANNEL': 'Email',\n",
       "   'SERVICE_TYPE': 'XXXX',\n",
       "   'SITE_ID': 6546498,\n",
       "   'ELEMENT_TYPE': 'iuwdeib',\n",
       "   'PRODUCT_NAME': 'audiubed',\n",
       "   'PRODUCT_TYPE': 'uwbvfuybwf',\n",
       "   'PRODUCT_TYPE_NAME': 'oiwhedoiwed',\n",
       "   'INCIDENT_ID': 'IUDGIUGDIUBEI',\n",
       "   'DESCRIPTION': 'OHDOIENDOINED'}]}"
      ]
     },
     "execution_count": 13,
     "metadata": {},
     "output_type": "execute_result"
    }
   ],
   "source": [
    "test_load"
   ]
  },
  {
   "cell_type": "markdown",
   "metadata": {},
   "source": [
    "We can also write to a JSON"
   ]
  },
  {
   "cell_type": "code",
   "execution_count": 14,
   "metadata": {},
   "outputs": [],
   "source": [
    "with open('../../data/jsons/test_write.json', 'w') as f:\n",
    "    json.dump(test_load, f)"
   ]
  }
 ],
 "metadata": {
  "kernelspec": {
   "display_name": "Python 3",
   "language": "python",
   "name": "python3"
  },
  "language_info": {
   "codemirror_mode": {
    "name": "ipython",
    "version": 3
   },
   "file_extension": ".py",
   "mimetype": "text/x-python",
   "name": "python",
   "nbconvert_exporter": "python",
   "pygments_lexer": "ipython3",
   "version": "3.7.3"
  }
 },
 "nbformat": 4,
 "nbformat_minor": 2
}
