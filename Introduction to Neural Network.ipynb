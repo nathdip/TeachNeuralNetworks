{
 "cells": [
  {
   "cell_type": "markdown",
   "metadata": {},
   "source": [
    "### Neural Networks"
   ]
  },
  {
   "cell_type": "markdown",
   "metadata": {},
   "source": [
    " - Basically a set of inter-connected nodes or neurons or perceptrons.\n",
    "     - Typically consists of layers of such neurons.\n",
    "     - Each neuron in a given layer is connected to all the neurons of the previous layers through a weight and an activatio function.\n",
    "     - Activation function is used to generate the non-linearity in the model that is to be trained with the data in hand.\n",
    " Let us first consider how a single layer neural network would look like. For our purposes let's consider our input to be a three dimensional vector. For example let's say we are monitoring the Pressure, temperature and humidity at a weather station. the vector is $\\vec{V}=\\left(P, T, H\\right)$. We would also need the label or the output. In this case this can be the chances of rain, $R$.\n",
    "\n",
    "<img src=\"images/linearneuralnetwork.PNG\" width=\"500\" height=\"250\">\n"
   ]
  },
  {
   "cell_type": "markdown",
   "metadata": {},
   "source": [
    "$R'$ is the output of the untrained linear neural net and is given by:\n",
    "\n",
    "\\begin{equation}\n",
    "R'=1\\times w_0+P\\times w_1+T\\times w_2+H\\times w_3\n",
    "\\end{equation}\n",
    "\n",
    "The difference between the output of the untrained model, $R'$ and the actual value $R$, a function of the difference $\\Delta=f\\left(R-R'\\right)$, known as the loss or the cost function is used to optimize the weights $w_i$ using optimization methods such as Gradient Descent. Note that we have a node to denote the offset whose input is always $1$ (weight given by $w_0$). As a rule of thumb, in the final representation and as well counting the number of neurons in each layer the node denoting the offset is mostly omitted. In the above example the neural network has single layer with three neurons. "
   ]
  },
  {
   "cell_type": "markdown",
   "metadata": {},
   "source": [
    "### Training a linear model using a  neural network"
   ]
  },
  {
   "cell_type": "markdown",
   "metadata": {},
   "source": [
    "- We will try to first model a simple linear equation using a single layer neural network.\n",
    "    - $y=3x+5$\n",
    "    - The neural net model would look like $y'= w_0+w_1x$\n",
    "    \n",
    "We will first simulate some of the data:"
   ]
  },
  {
   "cell_type": "code",
   "execution_count": 9,
   "metadata": {},
   "outputs": [],
   "source": [
    "import numpy as np\n",
    "import pandas as pd\n",
    "import matplotlib.pyplot as plt"
   ]
  },
  {
   "cell_type": "code",
   "execution_count": 10,
   "metadata": {},
   "outputs": [],
   "source": [
    "x = np.arange(0, 5, 0.5)"
   ]
  },
  {
   "cell_type": "code",
   "execution_count": 11,
   "metadata": {},
   "outputs": [],
   "source": [
    "y = 3*x+5 #+ .001*np.random.randn(len(x))"
   ]
  },
  {
   "cell_type": "code",
   "execution_count": 12,
   "metadata": {},
   "outputs": [
    {
     "data": {
      "text/plain": [
       "Text(0,0.5,'y')"
      ]
     },
     "execution_count": 12,
     "metadata": {},
     "output_type": "execute_result"
    },
    {
     "data": {
      "image/png": "[encoded data removed]",
      "text/plain": [
       "<Figure size 432x288 with 1 Axes>"
      ]
     },
     "metadata": {},
     "output_type": "display_data"
    }
   ],
   "source": [
    "plt.plot(x, y, 'b*')\n",
    "plt.xlabel('x')\n",
    "plt.ylabel('y')"
   ]
  },
  {
   "cell_type": "code",
   "execution_count": 13,
   "metadata": {},
   "outputs": [],
   "source": [
    "x = np.float32(x.reshape(-1, 1))\n",
    "y = np.float32(y.reshape(-1, 1))"
   ]
  },
  {
   "cell_type": "code",
   "execution_count": 14,
   "metadata": {},
   "outputs": [],
   "source": [
    "#Importing torch\n",
    "import torch\n",
    "import torch.nn as nn\n",
    "from torch.autograd import Variable"
   ]
  },
  {
   "cell_type": "code",
   "execution_count": 15,
   "metadata": {},
   "outputs": [],
   "source": [
    "#Create a class for the training\n",
    "class LinearRegression(nn.Module):\n",
    "    def __init__(self, input_size, output_size):\n",
    "        super().__init__()\n",
    "        self.input_dim = input_size\n",
    "        self.output_dim = output_size\n",
    "        self.linear = nn.Linear(self.input_dim, self.output_dim)\n",
    "    def forward(self, x):\n",
    "        output = self.linear(x)\n",
    "        return output"
   ]
  },
  {
   "cell_type": "code",
   "execution_count": 16,
   "metadata": {},
   "outputs": [],
   "source": [
    "#Instantiate the model\n",
    "input_dim = 1\n",
    "output_dim = 1\n",
    "\n",
    "model = LinearRegression(input_dim, output_dim)"
   ]
  },
  {
   "cell_type": "markdown",
   "metadata": {},
   "source": [
    "What else is required?\n",
    "\n",
    "- A loss function, in order to compare the output of the neural network to the real life value (in our case simulated y)\n",
    "- A simple loss function would be the mean squared error:\n",
    "    - $MSE = \\frac{1}{n}\\Sigma_i\\left(\\hat{y}_i-y_i\\right)^2$\n",
    "        - $\\hat{y}_i$: predicted value\n",
    "        - $y_i$: true value"
   ]
  },
  {
   "cell_type": "code",
   "execution_count": 17,
   "metadata": {},
   "outputs": [],
   "source": [
    "#Define the loss function\n",
    "criterion = nn.MSELoss(reduction='mean')"
   ]
  },
  {
   "cell_type": "markdown",
   "metadata": {},
   "source": [
    "However learning still needs to takes place. The learning takes place by feeding back the loss function to the parameters in such a way that the loss function is minimized. \n",
    "\n",
    "- $\\theta := \\theta - \\eta.\\nabla_{\\theta}$, where \n",
    "    - $\\theta$ represents the parameters, \n",
    "    - $\\eta$ is the learning rate\n",
    "    - $\\nabla_{\\theta}$ is the gradient of the loss function w.r.t. $\\theta$\n",
    "- What are the parameters in this case?\n",
    "    - $\\alpha$ and $\\beta$ in $y=\\alpha x + \\beta$\n",
    "    - After successful learning we should obtain: $\\alpha=3$, $\\beta=5$"
   ]
  },
  {
   "cell_type": "code",
   "execution_count": 18,
   "metadata": {},
   "outputs": [],
   "source": [
    "#Define learning rate\n",
    "lr = 0.1\n",
    "#Define the optimizer\n",
    "optimizer = torch.optim.SGD(model.parameters(), lr=lr)"
   ]
  },
  {
   "cell_type": "markdown",
   "metadata": {},
   "source": [
    "Now it is time to train. A few points before training:\n",
    "\n",
    "- Generally once has to go through the dataset several time in order to properly optimize the weights, we fix the number of 'epochs' initially\n",
    "- Since the inputs will generally be numpy array we have to convert them into torch tensors first.\n",
    "- While going through each epoch, we compute the outputs and obtain the loss.\n",
    "- The loss is then used to compute the gradients which will be used to update the parameters"
   ]
  },
  {
   "cell_type": "code",
   "execution_count": 19,
   "metadata": {},
   "outputs": [],
   "source": [
    "nb_epoch = 100"
   ]
  },
  {
   "cell_type": "code",
   "execution_count": 20,
   "metadata": {
    "scrolled": true
   },
   "outputs": [
    {
     "name": "stdout",
     "output_type": "stream",
     "text": [
      "Epoch 1,  Loss: 114.1458511352539\n",
      "Epoch 2,  Loss: 40.75569152832031\n",
      "Epoch 3,  Loss: 16.35734748840332\n",
      "Epoch 4,  Loss: 8.05331802368164\n",
      "Epoch 5,  Loss: 5.056278705596924\n",
      "Epoch 6,  Loss: 3.826961040496826\n",
      "Epoch 7,  Loss: 3.2023239135742188\n",
      "Epoch 8,  Loss: 2.798548936843872\n",
      "Epoch 9,  Loss: 2.4875075817108154\n",
      "Epoch 10,  Loss: 2.2251219749450684\n",
      "Epoch 11,  Loss: 1.9950758218765259\n",
      "Epoch 12,  Loss: 1.7903472185134888\n",
      "Epoch 13,  Loss: 1.6071312427520752\n",
      "Epoch 14,  Loss: 1.4428300857543945\n",
      "Epoch 15,  Loss: 1.2953797578811646\n",
      "Epoch 16,  Loss: 1.1630163192749023\n",
      "Epoch 17,  Loss: 1.0441830158233643\n",
      "Epoch 18,  Loss: 0.9374939799308777\n",
      "Epoch 19,  Loss: 0.8417062759399414\n",
      "Epoch 20,  Loss: 0.7557060718536377\n",
      "Epoch 21,  Loss: 0.6784930229187012\n",
      "Epoch 22,  Loss: 0.6091689467430115\n",
      "Epoch 23,  Loss: 0.5469277501106262\n",
      "Epoch 24,  Loss: 0.49104633927345276\n",
      "Epoch 25,  Loss: 0.4408746063709259\n",
      "Epoch 26,  Loss: 0.3958286941051483\n",
      "Epoch 27,  Loss: 0.35538533329963684\n",
      "Epoch 28,  Loss: 0.3190743625164032\n",
      "Epoch 29,  Loss: 0.2864733338356018\n",
      "Epoch 30,  Loss: 0.25720325112342834\n",
      "Epoch 31,  Loss: 0.23092404007911682\n",
      "Epoch 32,  Loss: 0.20732955634593964\n",
      "Epoch 33,  Loss: 0.18614600598812103\n",
      "Epoch 34,  Loss: 0.16712680459022522\n",
      "Epoch 35,  Loss: 0.15005077421665192\n",
      "Epoch 36,  Loss: 0.13471966981887817\n",
      "Epoch 37,  Loss: 0.12095490843057632\n",
      "Epoch 38,  Loss: 0.10859659314155579\n",
      "Epoch 39,  Loss: 0.09750089049339294\n",
      "Epoch 40,  Loss: 0.08753883838653564\n",
      "Epoch 41,  Loss: 0.07859472930431366\n",
      "Epoch 42,  Loss: 0.07056431472301483\n",
      "Epoch 43,  Loss: 0.06335458159446716\n",
      "Epoch 44,  Loss: 0.0568813756108284\n",
      "Epoch 45,  Loss: 0.05106955021619797\n",
      "Epoch 46,  Loss: 0.04585159197449684\n",
      "Epoch 47,  Loss: 0.04116677865386009\n",
      "Epoch 48,  Loss: 0.036960553377866745\n",
      "Epoch 49,  Loss: 0.03318413719534874\n",
      "Epoch 50,  Loss: 0.029793530702590942\n",
      "Epoch 51,  Loss: 0.026749547570943832\n",
      "Epoch 52,  Loss: 0.024016404524445534\n",
      "Epoch 53,  Loss: 0.021562574431300163\n",
      "Epoch 54,  Loss: 0.019359484314918518\n",
      "Epoch 55,  Loss: 0.01738147810101509\n",
      "Epoch 56,  Loss: 0.015605507418513298\n",
      "Epoch 57,  Loss: 0.01401104312390089\n",
      "Epoch 58,  Loss: 0.012579490430653095\n",
      "Epoch 59,  Loss: 0.011294172145426273\n",
      "Epoch 60,  Loss: 0.010140202939510345\n",
      "Epoch 61,  Loss: 0.009104135446250439\n",
      "Epoch 62,  Loss: 0.008173955604434013\n",
      "Epoch 63,  Loss: 0.007338786497712135\n",
      "Epoch 64,  Loss: 0.006588940974324942\n",
      "Epoch 65,  Loss: 0.005915747955441475\n",
      "Epoch 66,  Loss: 0.0053112925961613655\n",
      "Epoch 67,  Loss: 0.00476863794028759\n",
      "Epoch 68,  Loss: 0.004281410947442055\n",
      "Epoch 69,  Loss: 0.003843951039016247\n",
      "Epoch 70,  Loss: 0.003451173659414053\n",
      "Epoch 71,  Loss: 0.003098558634519577\n",
      "Epoch 72,  Loss: 0.002781984629109502\n",
      "Epoch 73,  Loss: 0.0024977282155305147\n",
      "Epoch 74,  Loss: 0.0022425337228924036\n",
      "Epoch 75,  Loss: 0.0020134092774242163\n",
      "Epoch 76,  Loss: 0.0018076709238812327\n",
      "Epoch 77,  Loss: 0.0016229820903390646\n",
      "Epoch 78,  Loss: 0.001457158592529595\n",
      "Epoch 79,  Loss: 0.0013082901714369655\n",
      "Epoch 80,  Loss: 0.0011746158124879003\n",
      "Epoch 81,  Loss: 0.001054606051184237\n",
      "Epoch 82,  Loss: 0.0009468513890169561\n",
      "Epoch 83,  Loss: 0.0008501101401634514\n",
      "Epoch 84,  Loss: 0.0007632449269294739\n",
      "Epoch 85,  Loss: 0.0006852644146420062\n",
      "Epoch 86,  Loss: 0.0006152479909360409\n",
      "Epoch 87,  Loss: 0.000552385114133358\n",
      "Epoch 88,  Loss: 0.0004959477228112519\n",
      "Epoch 89,  Loss: 0.00044526654528453946\n",
      "Epoch 90,  Loss: 0.0003997694584541023\n",
      "Epoch 91,  Loss: 0.00035892627784051\n",
      "Epoch 92,  Loss: 0.00032225469476543367\n",
      "Epoch 93,  Loss: 0.00028933174326084554\n",
      "Epoch 94,  Loss: 0.00025977336918003857\n",
      "Epoch 95,  Loss: 0.00023322731431107968\n",
      "Epoch 96,  Loss: 0.00020939638488925993\n",
      "Epoch 97,  Loss: 0.00018799962708726525\n",
      "Epoch 98,  Loss: 0.00016879153554327786\n",
      "Epoch 99,  Loss: 0.0001515447802376002\n",
      "Epoch 100,  Loss: 0.00013605931599158794\n"
     ]
    }
   ],
   "source": [
    "epoch=0\n",
    "for epoch in range(nb_epoch):\n",
    "    epoch+=1\n",
    "    #Convert the numpy array to torch tensor\n",
    "    inputs = Variable(torch.from_numpy(x))\n",
    "    labels = Variable(torch.from_numpy(y))\n",
    "    \n",
    "    #Clear the gradients\n",
    "    optimizer.zero_grad()\n",
    "    \n",
    "    #Compute the output using forward pass\n",
    "    outputs = model.forward(inputs)\n",
    "    \n",
    "    #Compute the loss\n",
    "    loss = criterion(outputs, labels)\n",
    "    \n",
    "    #get the Gradient\n",
    "    loss.backward()\n",
    "    \n",
    "    #Update the parameters\n",
    "    optimizer.step()\n",
    "    \n",
    "    print('Epoch {},  Loss: {}'.format(epoch, loss.data))"
   ]
  },
  {
   "cell_type": "code",
   "execution_count": 21,
   "metadata": {},
   "outputs": [
    {
     "data": {
      "text/plain": [
       "[Parameter containing:\n",
       " tensor([[3.0067]], requires_grad=True), Parameter containing:\n",
       " tensor([4.9795], requires_grad=True)]"
      ]
     },
     "execution_count": 21,
     "metadata": {},
     "output_type": "execute_result"
    }
   ],
   "source": [
    "list(model.parameters())"
   ]
  },
  {
   "cell_type": "code",
   "execution_count": 22,
   "metadata": {},
   "outputs": [],
   "source": [
    "with torch.no_grad():\n",
    "    predicted = model.forward(inputs).data.numpy()"
   ]
  },
  {
   "cell_type": "code",
   "execution_count": 23,
   "metadata": {},
   "outputs": [
    {
     "data": {
      "text/plain": [
       "<matplotlib.legend.Legend at 0x197ba265320>"
      ]
     },
     "execution_count": 23,
     "metadata": {},
     "output_type": "execute_result"
    },
    {
     "data": {
      "image/png": "[encoded data removed]",
      "text/plain": [
       "<Figure size 432x288 with 1 Axes>"
      ]
     },
     "metadata": {},
     "output_type": "display_data"
    }
   ],
   "source": [
    "plt.plot(x, y, 'b*', label='True Data', alpha=0.5)\n",
    "plt.plot(x, predicted, 'g--', label = 'predicted data', alpha=0.5)\n",
    "plt.legend(loc='best')"
   ]
  },
  {
   "cell_type": "markdown",
   "metadata": {},
   "source": [
    "### Loss \n",
    "\n",
    "Loss is way to estimate how much the predicted output is different from the actual value (in case of regression) and label (in case of classification). The loss is also often called cost function. \n",
    "\n",
    "In case of regression a common cost function would be the Mean Square Loss. Suppose we define our model as $h_{\\theta}\\left(x\\right)$ then we define the loss function as :\n",
    "\n",
    "\\begin{equation}\n",
    "J\\left(\\theta\\right) = \\sum_{i=1}^{n} \\left(h_{\\theta}\\left(x^i\\right)-y^i\\right)^2\n",
    "\\end{equation}\n",
    "where $x^i$ are the risen incidents.\n",
    "\n"
   ]
  },
  {
   "cell_type": "markdown",
   "metadata": {},
   "source": [
    "### What about non-linearity?\n",
    "\n",
    "The above example was about linear regression and hence a linear model could easily model the sample data. However we want to be able to data that is non-linear as well. Non-linearity is introduced in Neural networks through what are known as activation function. A well known activation function is the Sigmoid function which is given by :\n",
    "\n",
    "\\begin{equation}\n",
    "S(z)=\\frac{1}{1+e^{-z}}=\\frac{e^z}{e^z+1}\n",
    "\\end{equation}\n",
    "\n",
    "If you plot the sigmoid function this is what it looks like:"
   ]
  },
  {
   "cell_type": "markdown",
   "metadata": {},
   "source": [
    "In case of a classification problem, this loss function described above for the problem of regression will not give us much information. Consider the case when we consider the output of a binary classifier. The loss function used in this case is of the form:\n",
    "\n",
    "\\begin{equation}\n",
    "J\\left(\\theta\\right) = \\sum_{i=1}^n\\left[y^ilogh\\left(x^i\\right)+\\left(1-y^i\\right)log\\left(i-h\\left(x^i\\right)\\right)\\right]\n",
    "\\end{equation}\n"
   ]
  },
  {
   "cell_type": "code",
   "execution_count": 24,
   "metadata": {},
   "outputs": [],
   "source": [
    "def sigmoid(x):\n",
    "    return 1/(1+np.exp(-x))"
   ]
  },
  {
   "cell_type": "code",
   "execution_count": 25,
   "metadata": {},
   "outputs": [
    {
     "data": {
      "text/plain": [
       "<matplotlib.collections.LineCollection at 0x197ba2e07f0>"
      ]
     },
     "execution_count": 25,
     "metadata": {},
     "output_type": "execute_result"
    },
    {
     "data": {
      "image/png": "[encoded data removed]",
      "text/plain": [
       "<Figure size 432x288 with 1 Axes>"
      ]
     },
     "metadata": {},
     "output_type": "display_data"
    }
   ],
   "source": [
    "z = np.linspace(-10, 10, num=100 )\n",
    "plt.plot(z, sigmoid(z), 'r-', label='Sigmoid Function')\n",
    "plt.legend(loc='best')\n",
    "plt.xlabel('z')\n",
    "plt.ylabel('S(z)')\n",
    "plt.hlines(y=0.5, xmin=-10, xmax=10)\n",
    "plt.vlines(x=0, ymin=0, ymax=1)"
   ]
  },
  {
   "cell_type": "markdown",
   "metadata": {},
   "source": [
    "#### ReLU activation\n",
    "There are a few other popular activation functions as well. A particularly popular one is the ReLU (Rectified Linear Unit ) activation which looks like:\n",
    "\n",
    "\\begin{equation}\n",
    "R\\left(x\\right) = max(x, 0)\n",
    "\\end{equation}"
   ]
  },
  {
   "cell_type": "code",
   "execution_count": 26,
   "metadata": {},
   "outputs": [],
   "source": [
    "def relu(x):\n",
    "    return max(x,0.0)"
   ]
  },
  {
   "cell_type": "code",
   "execution_count": 27,
   "metadata": {},
   "outputs": [],
   "source": [
    "relu_vec = np.vectorize(relu)"
   ]
  },
  {
   "cell_type": "code",
   "execution_count": 28,
   "metadata": {},
   "outputs": [
    {
     "data": {
      "text/plain": [
       "<matplotlib.collections.LineCollection at 0x197ba34cda0>"
      ]
     },
     "execution_count": 28,
     "metadata": {},
     "output_type": "execute_result"
    },
    {
     "data": {
      "image/png": "[encoded data removed]",
      "text/plain": [
       "<Figure size 432x288 with 1 Axes>"
      ]
     },
     "metadata": {},
     "output_type": "display_data"
    }
   ],
   "source": [
    "z = np.linspace(-10, 10, num=100)\n",
    "plt.plot(z, relu_vec(z), 'r-', label='ReLU Function')\n",
    "plt.legend(loc='best')\n",
    "plt.xlabel('z')\n",
    "plt.ylabel('ReLU(z)')\n",
    "plt.hlines(y=0, xmin=-10, xmax=10)\n",
    "plt.vlines(x=0, ymin=0, ymax=10)"
   ]
  },
  {
   "cell_type": "markdown",
   "metadata": {},
   "source": [
    "In order to enable non-linearity in our models we apply activation function to each node or neuron of a layer.\n",
    "\n",
    "<img src=\"images/linearneuralnetworkplusactivation.PNG\" width=\"500\" height=\"250\">\n",
    "\n",
    "In the above diagram we see the activation function applied to the final layer which has a single neuron in it. In general, activation functions are applied to all the neurons in each layer, with each neuron being applied an activation function. "
   ]
  },
  {
   "cell_type": "markdown",
   "metadata": {},
   "source": [
    "In order to maximize the effectiveness of neural network we need to add more layers of network. This combined with the activation function will allow us to model complex data which has non-trivial relationship between the features and the labels:\n",
    "\n",
    "<img src=\"images/multilayerneuralnet.png\" width=\"500\" height=\"250\">"
   ]
  },
  {
   "cell_type": "markdown",
   "metadata": {},
   "source": [
    "#### Softmax activation\n",
    "The softmax activation function is another highly popular activation function which is usually used in the final layer when doing multiclass-classification using neural networks. Suppose we want to apply softmax to the output of a neural network classfier trying to classify 10 types of images with classes $k=1,2..10$. The output layer would thus have 10 layers. The softmax activated output for the i$^{th}$ neuron of the final layer would be thus given by \n"
   ]
  },
  {
   "cell_type": "markdown",
   "metadata": {},
   "source": [
    "\\begin{equation}\n",
    "P\\left(y=2|x\\right) = \\frac{e^{x^Tw_j}}{\\Sigma_k e^{x^Tw_k}}\n",
    "\\end{equation}"
   ]
  },
  {
   "cell_type": "markdown",
   "metadata": {},
   "source": [
    "#### Backpropagation\n",
    "\n",
    "As we can see that a neural network can very complicated and perform parameter updates (here the weight $w_{ij}$), we will need to compute the gradient at each node. This is known as backpropagation as the error obtained by comparing the output with the actual value using a loss function is then used to compute the gradients of the parameters. "
   ]
  },
  {
   "cell_type": "markdown",
   "metadata": {},
   "source": [
    "#### Basic classfication using Neural Networks\n",
    "\n",
    "Let us try some basic classification using neural networks. For this purposes I will use a very popular dataset, the breast cancer diagnostics dataset origically sourced from the University of Wisconsin."
   ]
  },
  {
   "cell_type": "code",
   "execution_count": 29,
   "metadata": {},
   "outputs": [],
   "source": [
    "from sklearn.datasets import load_breast_cancer"
   ]
  },
  {
   "cell_type": "code",
   "execution_count": 30,
   "metadata": {},
   "outputs": [],
   "source": [
    "data = load_breast_cancer()"
   ]
  },
  {
   "cell_type": "code",
   "execution_count": 35,
   "metadata": {},
   "outputs": [],
   "source": [
    "df = pd.DataFrame(data=data.data, columns=list(data.feature_names))"
   ]
  },
  {
   "cell_type": "code",
   "execution_count": 36,
   "metadata": {},
   "outputs": [
    {
     "data": {
      "text/html": [
       "<div>\n",
       "<style scoped>\n",
       "    .dataframe tbody tr th:only-of-type {\n",
       "        vertical-align: middle;\n",
       "    }\n",
       "\n",
       "    .dataframe tbody tr th {\n",
       "        vertical-align: top;\n",
       "    }\n",
       "\n",
       "    .dataframe thead th {\n",
       "        text-align: right;\n",
       "    }\n",
       "</style>\n",
       "<table border=\"1\" class=\"dataframe\">\n",
       "  <thead>\n",
       "    <tr style=\"text-align: right;\">\n",
       "      <th></th>\n",
       "      <th>mean radius</th>\n",
       "      <th>mean texture</th>\n",
       "      <th>mean perimeter</th>\n",
       "      <th>mean area</th>\n",
       "      <th>mean smoothness</th>\n",
       "      <th>mean compactness</th>\n",
       "      <th>mean concavity</th>\n",
       "      <th>mean concave points</th>\n",
       "      <th>mean symmetry</th>\n",
       "      <th>mean fractal dimension</th>\n",
       "      <th>...</th>\n",
       "      <th>worst radius</th>\n",
       "      <th>worst texture</th>\n",
       "      <th>worst perimeter</th>\n",
       "      <th>worst area</th>\n",
       "      <th>worst smoothness</th>\n",
       "      <th>worst compactness</th>\n",
       "      <th>worst concavity</th>\n",
       "      <th>worst concave points</th>\n",
       "      <th>worst symmetry</th>\n",
       "      <th>worst fractal dimension</th>\n",
       "    </tr>\n",
       "  </thead>\n",
       "  <tbody>\n",
       "    <tr>\n",
       "      <th>0</th>\n",
       "      <td>17.99</td>\n",
       "      <td>10.38</td>\n",
       "      <td>122.80</td>\n",
       "      <td>1001.0</td>\n",
       "      <td>0.11840</td>\n",
       "      <td>0.27760</td>\n",
       "      <td>0.3001</td>\n",
       "      <td>0.14710</td>\n",
       "      <td>0.2419</td>\n",
       "      <td>0.07871</td>\n",
       "      <td>...</td>\n",
       "      <td>25.38</td>\n",
       "      <td>17.33</td>\n",
       "      <td>184.60</td>\n",
       "      <td>2019.0</td>\n",
       "      <td>0.1622</td>\n",
       "      <td>0.6656</td>\n",
       "      <td>0.7119</td>\n",
       "      <td>0.2654</td>\n",
       "      <td>0.4601</td>\n",
       "      <td>0.11890</td>\n",
       "    </tr>\n",
       "    <tr>\n",
       "      <th>1</th>\n",
       "      <td>20.57</td>\n",
       "      <td>17.77</td>\n",
       "      <td>132.90</td>\n",
       "      <td>1326.0</td>\n",
       "      <td>0.08474</td>\n",
       "      <td>0.07864</td>\n",
       "      <td>0.0869</td>\n",
       "      <td>0.07017</td>\n",
       "      <td>0.1812</td>\n",
       "      <td>0.05667</td>\n",
       "      <td>...</td>\n",
       "      <td>24.99</td>\n",
       "      <td>23.41</td>\n",
       "      <td>158.80</td>\n",
       "      <td>1956.0</td>\n",
       "      <td>0.1238</td>\n",
       "      <td>0.1866</td>\n",
       "      <td>0.2416</td>\n",
       "      <td>0.1860</td>\n",
       "      <td>0.2750</td>\n",
       "      <td>0.08902</td>\n",
       "    </tr>\n",
       "    <tr>\n",
       "      <th>2</th>\n",
       "      <td>19.69</td>\n",
       "      <td>21.25</td>\n",
       "      <td>130.00</td>\n",
       "      <td>1203.0</td>\n",
       "      <td>0.10960</td>\n",
       "      <td>0.15990</td>\n",
       "      <td>0.1974</td>\n",
       "      <td>0.12790</td>\n",
       "      <td>0.2069</td>\n",
       "      <td>0.05999</td>\n",
       "      <td>...</td>\n",
       "      <td>23.57</td>\n",
       "      <td>25.53</td>\n",
       "      <td>152.50</td>\n",
       "      <td>1709.0</td>\n",
       "      <td>0.1444</td>\n",
       "      <td>0.4245</td>\n",
       "      <td>0.4504</td>\n",
       "      <td>0.2430</td>\n",
       "      <td>0.3613</td>\n",
       "      <td>0.08758</td>\n",
       "    </tr>\n",
       "    <tr>\n",
       "      <th>3</th>\n",
       "      <td>11.42</td>\n",
       "      <td>20.38</td>\n",
       "      <td>77.58</td>\n",
       "      <td>386.1</td>\n",
       "      <td>0.14250</td>\n",
       "      <td>0.28390</td>\n",
       "      <td>0.2414</td>\n",
       "      <td>0.10520</td>\n",
       "      <td>0.2597</td>\n",
       "      <td>0.09744</td>\n",
       "      <td>...</td>\n",
       "      <td>14.91</td>\n",
       "      <td>26.50</td>\n",
       "      <td>98.87</td>\n",
       "      <td>567.7</td>\n",
       "      <td>0.2098</td>\n",
       "      <td>0.8663</td>\n",
       "      <td>0.6869</td>\n",
       "      <td>0.2575</td>\n",
       "      <td>0.6638</td>\n",
       "      <td>0.17300</td>\n",
       "    </tr>\n",
       "    <tr>\n",
       "      <th>4</th>\n",
       "      <td>20.29</td>\n",
       "      <td>14.34</td>\n",
       "      <td>135.10</td>\n",
       "      <td>1297.0</td>\n",
       "      <td>0.10030</td>\n",
       "      <td>0.13280</td>\n",
       "      <td>0.1980</td>\n",
       "      <td>0.10430</td>\n",
       "      <td>0.1809</td>\n",
       "      <td>0.05883</td>\n",
       "      <td>...</td>\n",
       "      <td>22.54</td>\n",
       "      <td>16.67</td>\n",
       "      <td>152.20</td>\n",
       "      <td>1575.0</td>\n",
       "      <td>0.1374</td>\n",
       "      <td>0.2050</td>\n",
       "      <td>0.4000</td>\n",
       "      <td>0.1625</td>\n",
       "      <td>0.2364</td>\n",
       "      <td>0.07678</td>\n",
       "    </tr>\n",
       "  </tbody>\n",
       "</table>\n",
       "<p>5 rows × 30 columns</p>\n",
       "</div>"
      ],
      "text/plain": [
       "   mean radius  mean texture  mean perimeter  mean area  mean smoothness  \\\n",
       "0        17.99         10.38          122.80     1001.0          0.11840   \n",
       "1        20.57         17.77          132.90     1326.0          0.08474   \n",
       "2        19.69         21.25          130.00     1203.0          0.10960   \n",
       "3        11.42         20.38           77.58      386.1          0.14250   \n",
       "4        20.29         14.34          135.10     1297.0          0.10030   \n",
       "\n",
       "   mean compactness  mean concavity  mean concave points  mean symmetry  \\\n",
       "0           0.27760          0.3001              0.14710         0.2419   \n",
       "1           0.07864          0.0869              0.07017         0.1812   \n",
       "2           0.15990          0.1974              0.12790         0.2069   \n",
       "3           0.28390          0.2414              0.10520         0.2597   \n",
       "4           0.13280          0.1980              0.10430         0.1809   \n",
       "\n",
       "   mean fractal dimension           ...             worst radius  \\\n",
       "0                 0.07871           ...                    25.38   \n",
       "1                 0.05667           ...                    24.99   \n",
       "2                 0.05999           ...                    23.57   \n",
       "3                 0.09744           ...                    14.91   \n",
       "4                 0.05883           ...                    22.54   \n",
       "\n",
       "   worst texture  worst perimeter  worst area  worst smoothness  \\\n",
       "0          17.33           184.60      2019.0            0.1622   \n",
       "1          23.41           158.80      1956.0            0.1238   \n",
       "2          25.53           152.50      1709.0            0.1444   \n",
       "3          26.50            98.87       567.7            0.2098   \n",
       "4          16.67           152.20      1575.0            0.1374   \n",
       "\n",
       "   worst compactness  worst concavity  worst concave points  worst symmetry  \\\n",
       "0             0.6656           0.7119                0.2654          0.4601   \n",
       "1             0.1866           0.2416                0.1860          0.2750   \n",
       "2             0.4245           0.4504                0.2430          0.3613   \n",
       "3             0.8663           0.6869                0.2575          0.6638   \n",
       "4             0.2050           0.4000                0.1625          0.2364   \n",
       "\n",
       "   worst fractal dimension  \n",
       "0                  0.11890  \n",
       "1                  0.08902  \n",
       "2                  0.08758  \n",
       "3                  0.17300  \n",
       "4                  0.07678  \n",
       "\n",
       "[5 rows x 30 columns]"
      ]
     },
     "execution_count": 36,
     "metadata": {},
     "output_type": "execute_result"
    }
   ],
   "source": [
    "df.head()"
   ]
  },
  {
   "cell_type": "markdown",
   "metadata": {},
   "source": [
    "Before we start modeling, we need to split the data into training and test sets in order to have an independent verification of our model. This functionality available in the sklearn package."
   ]
  },
  {
   "cell_type": "code",
   "execution_count": 154,
   "metadata": {},
   "outputs": [],
   "source": [
    "X = np.float32(data.data)\n",
    "y = np.float32(data.target).reshape(-1, 1)\n",
    "from sklearn.model_selection import train_test_split\n",
    "from sklearn.preprocessing import LabelBinarizer\n",
    "# lb = LabelBinarizer()\n",
    "# y = lb.fit_transform(y.reshape(-1,1))\n",
    "y = y.astype('float32')\n",
    "X_train, X_test, y_train, y_test = train_test_split(X, y, test_size=0.2, random_state=42)"
   ]
  },
  {
   "cell_type": "code",
   "execution_count": 155,
   "metadata": {},
   "outputs": [
    {
     "data": {
      "text/plain": [
       "(569, 1)"
      ]
     },
     "execution_count": 155,
     "metadata": {},
     "output_type": "execute_result"
    }
   ],
   "source": [
    "y.shape"
   ]
  },
  {
   "cell_type": "code",
   "execution_count": 156,
   "metadata": {},
   "outputs": [],
   "source": [
    "import torch.nn.functional as F"
   ]
  },
  {
   "cell_type": "code",
   "execution_count": 182,
   "metadata": {},
   "outputs": [],
   "source": [
    "#Create a class for the training\n",
    "class Classification(nn.Module):\n",
    "    def __init__(self):\n",
    "        super().__init__()\n",
    "        self.linear1 = nn.Linear(30, 60)\n",
    "        self.dropout1 = nn.Dropout(p=0.05)\n",
    "        self.linear2 = nn.Linear(60, 120)\n",
    "        self.dropout2 = nn.Dropout(p=0.05)\n",
    "        self.linear3 = nn.Linear(120, 60)\n",
    "        self.dropout3 = nn.Dropout(p=0.05)\n",
    "        self.linear4 = nn.Linear(60, 10)\n",
    "        self.dropout4 = nn.Dropout(p=0.05)\n",
    "        self.linear5 = nn.Linear(10, 1)\n",
    "    def forward(self, x):\n",
    "        output = F.relu(self.linear1(x))\n",
    "        output = self.dropout1(output)\n",
    "        output = F.relu(self.linear2(output))\n",
    "        output = self.dropout2(output)\n",
    "        output = F.relu(self.linear3(output))\n",
    "        output = self.dropout3(output)\n",
    "        output = F.relu(self.linear4(output))\n",
    "        output = self.dropout4(output)\n",
    "        output = torch.sigmoid(self.linear5(output))\n",
    "        return output"
   ]
  },
  {
   "cell_type": "code",
   "execution_count": 183,
   "metadata": {},
   "outputs": [],
   "source": [
    "#Initializing the model\n",
    "model = Classification()\n",
    "#Setting the loss \n",
    "criterion = nn.BCELoss()\n",
    "#Define learning rate\n",
    "lr = 0.005\n",
    "#Define the optimizer\n",
    "optimizer = torch.optim.SGD(model.parameters(), lr=lr, momentum=0.9)"
   ]
  },
  {
   "cell_type": "code",
   "execution_count": 184,
   "metadata": {},
   "outputs": [
    {
     "name": "stdout",
     "output_type": "stream",
     "text": [
      "Epoch 1,  ROC_AUC: 0.7561343981462324\n",
      "Epoch 2,  ROC_AUC: 0.28795464890139444\n",
      "Epoch 3,  ROC_AUC: 0.16979765796333843\n",
      "Epoch 4,  ROC_AUC: 0.3005337857408863\n",
      "Epoch 5,  ROC_AUC: 0.4327388587743617\n",
      "Epoch 6,  ROC_AUC: 0.5386891215293582\n",
      "Epoch 7,  ROC_AUC: 0.5746472462448794\n",
      "Epoch 8,  ROC_AUC: 0.601336533289196\n",
      "Epoch 9,  ROC_AUC: 0.6343153887532587\n",
      "Epoch 10,  ROC_AUC: 0.6555840609095046\n",
      "Epoch 11,  ROC_AUC: 0.6569909380560268\n",
      "Epoch 12,  ROC_AUC: 0.6356084743658709\n",
      "Epoch 13,  ROC_AUC: 0.6814768072164522\n",
      "Epoch 14,  ROC_AUC: 0.6995489717383209\n",
      "Epoch 15,  ROC_AUC: 0.7040178756155087\n",
      "Epoch 16,  ROC_AUC: 0.6536909835726403\n",
      "Epoch 17,  ROC_AUC: 0.7221417635618819\n",
      "Epoch 18,  ROC_AUC: 0.7418380436131915\n",
      "Epoch 19,  ROC_AUC: 0.7364588074647246\n",
      "Epoch 20,  ROC_AUC: 0.77857201969628\n",
      "Epoch 21,  ROC_AUC: 0.7935407787478793\n",
      "Epoch 22,  ROC_AUC: 0.7710100550337238\n",
      "Epoch 23,  ROC_AUC: 0.7695617991475979\n",
      "Epoch 24,  ROC_AUC: 0.7693445607646792\n",
      "Epoch 25,  ROC_AUC: 0.8045889022220383\n",
      "Epoch 26,  ROC_AUC: 0.7833926428600986\n",
      "Epoch 27,  ROC_AUC: 0.7715790127032731\n",
      "Epoch 28,  ROC_AUC: 0.8225369305250961\n",
      "Epoch 29,  ROC_AUC: 0.8292299416559772\n",
      "Epoch 30,  ROC_AUC: 0.8405470269375594\n",
      "Epoch 31,  ROC_AUC: 0.7849340009103323\n",
      "Epoch 32,  ROC_AUC: 0.844043530434063\n",
      "Epoch 33,  ROC_AUC: 0.8603467538378782\n",
      "Epoch 34,  ROC_AUC: 0.8563950842057351\n",
      "Epoch 35,  ROC_AUC: 0.8500848264161873\n",
      "Epoch 36,  ROC_AUC: 0.841095295237307\n",
      "Epoch 37,  ROC_AUC: 0.8851119294906278\n",
      "Epoch 38,  ROC_AUC: 0.8655087516034261\n",
      "Epoch 39,  ROC_AUC: 0.8536951214466008\n",
      "Epoch 40,  ROC_AUC: 0.8155956469565937\n",
      "Epoch 41,  ROC_AUC: 0.8319919725245168\n",
      "Epoch 42,  ROC_AUC: 0.8337402242727687\n",
      "Epoch 43,  ROC_AUC: 0.8342471138329127\n",
      "Epoch 44,  ROC_AUC: 0.7977820995572475\n",
      "Epoch 45,  ROC_AUC: 0.7620929366491497\n",
      "Epoch 46,  ROC_AUC: 0.8608432987131212\n",
      "Epoch 47,  ROC_AUC: 0.8028923738982912\n",
      "Epoch 48,  ROC_AUC: 0.7601481358877809\n",
      "Epoch 49,  ROC_AUC: 0.8591260810195722\n",
      "Epoch 50,  ROC_AUC: 0.8072785202962718\n",
      "Epoch 51,  ROC_AUC: 0.8788740844953864\n",
      "Epoch 52,  ROC_AUC: 0.8377125832747134\n",
      "Epoch 53,  ROC_AUC: 0.8342367691480117\n",
      "Epoch 54,  ROC_AUC: 0.8652708238507055\n",
      "Epoch 55,  ROC_AUC: 0.8716845284892623\n",
      "Epoch 56,  ROC_AUC: 0.8666156328878222\n",
      "Epoch 57,  ROC_AUC: 0.8608846774527248\n",
      "Epoch 58,  ROC_AUC: 0.8632225762403277\n",
      "Epoch 59,  ROC_AUC: 0.8761017089419456\n",
      "Epoch 60,  ROC_AUC: 0.8541399428973393\n",
      "Epoch 61,  ROC_AUC: 0.874146563495676\n",
      "Epoch 62,  ROC_AUC: 0.895415235651922\n",
      "Epoch 63,  ROC_AUC: 0.8712190176687218\n",
      "Epoch 64,  ROC_AUC: 0.8589916001158604\n",
      "Epoch 65,  ROC_AUC: 0.8873256920594199\n",
      "Epoch 66,  ROC_AUC: 0.873629329250631\n",
      "Epoch 67,  ROC_AUC: 0.9109736417428724\n",
      "Epoch 68,  ROC_AUC: 0.9091322878305127\n",
      "Epoch 69,  ROC_AUC: 0.8675259651591012\n",
      "Epoch 70,  ROC_AUC: 0.9289940828402367\n",
      "Epoch 71,  ROC_AUC: 0.8975255513717052\n",
      "Epoch 72,  ROC_AUC: 0.9020565233582986\n",
      "Epoch 73,  ROC_AUC: 0.9311250879298216\n",
      "Epoch 74,  ROC_AUC: 0.9071461083295402\n",
      "Epoch 75,  ROC_AUC: 0.9452145487648447\n",
      "Epoch 76,  ROC_AUC: 0.9229320974883104\n",
      "Epoch 77,  ROC_AUC: 0.9066081847146936\n",
      "Epoch 78,  ROC_AUC: 0.9488972565895644\n",
      "Epoch 79,  ROC_AUC: 0.8401125501717218\n",
      "Epoch 80,  ROC_AUC: 0.950138618777672\n",
      "Epoch 81,  ROC_AUC: 0.8158025406546117\n",
      "Epoch 82,  ROC_AUC: 0.9473869325940332\n",
      "Epoch 83,  ROC_AUC: 0.9470765920470061\n",
      "Epoch 84,  ROC_AUC: 0.8792361484669178\n",
      "Epoch 85,  ROC_AUC: 0.9352112384656763\n",
      "Epoch 86,  ROC_AUC: 0.9550419994206976\n",
      "Epoch 87,  ROC_AUC: 0.920449373112095\n",
      "Epoch 88,  ROC_AUC: 0.9123184507799893\n",
      "Epoch 89,  ROC_AUC: 0.9350664128770637\n",
      "Epoch 90,  ROC_AUC: 0.9312285347788307\n",
      "Epoch 91,  ROC_AUC: 0.9256424049323457\n",
      "Epoch 92,  ROC_AUC: 0.9355319236976042\n",
      "Epoch 93,  ROC_AUC: 0.9455248893118716\n",
      "Epoch 94,  ROC_AUC: 0.9299871725907228\n",
      "Epoch 95,  ROC_AUC: 0.9298216576323086\n",
      "Epoch 96,  ROC_AUC: 0.9469524558281954\n",
      "Epoch 97,  ROC_AUC: 0.9456283361608806\n",
      "Epoch 98,  ROC_AUC: 0.9431869905242687\n",
      "Epoch 99,  ROC_AUC: 0.9457110936400878\n",
      "Epoch 100,  ROC_AUC: 0.9400628956841974\n",
      "Epoch 101,  ROC_AUC: 0.9545040758058511\n",
      "Epoch 102,  ROC_AUC: 0.9575867919063186\n",
      "Epoch 103,  ROC_AUC: 0.9416973558985393\n",
      "Epoch 104,  ROC_AUC: 0.9367732858857118\n",
      "Epoch 105,  ROC_AUC: 0.9587453966152191\n",
      "Epoch 106,  ROC_AUC: 0.9459593660777093\n",
      "Epoch 107,  ROC_AUC: 0.9578143749741382\n",
      "Epoch 108,  ROC_AUC: 0.9486696735217446\n",
      "Epoch 109,  ROC_AUC: 0.9524972069350768\n",
      "Epoch 110,  ROC_AUC: 0.94850415856333\n",
      "Epoch 111,  ROC_AUC: 0.9548971738320851\n",
      "Epoch 112,  ROC_AUC: 0.945380063723259\n",
      "Epoch 113,  ROC_AUC: 0.9486489841519427\n",
      "Epoch 114,  ROC_AUC: 0.9496420739024289\n",
      "Epoch 115,  ROC_AUC: 0.948628294782141\n",
      "Epoch 116,  ROC_AUC: 0.9517523896222122\n",
      "Epoch 117,  ROC_AUC: 0.9622522447966235\n",
      "Epoch 118,  ROC_AUC: 0.9504075805850953\n",
      "Epoch 119,  ROC_AUC: 0.9428145818678363\n",
      "Epoch 120,  ROC_AUC: 0.9617867339760832\n",
      "Epoch 121,  ROC_AUC: 0.9547937269830761\n",
      "Epoch 122,  ROC_AUC: 0.9491662183969876\n",
      "Epoch 123,  ROC_AUC: 0.9610626060330202\n",
      "Epoch 124,  ROC_AUC: 0.9567385277444449\n",
      "Epoch 125,  ROC_AUC: 0.9527247900028966\n",
      "Epoch 126,  ROC_AUC: 0.9612488103612364\n",
      "Epoch 127,  ROC_AUC: 0.9607315761161915\n",
      "Epoch 128,  ROC_AUC: 0.9512248106922663\n",
      "Epoch 129,  ROC_AUC: 0.959862622584516\n",
      "Epoch 130,  ROC_AUC: 0.9595315926676874\n",
      "Epoch 131,  ROC_AUC: 0.9414594281458186\n",
      "Epoch 132,  ROC_AUC: 0.960379856829561\n",
      "Epoch 133,  ROC_AUC: 0.9584971241775976\n",
      "Epoch 134,  ROC_AUC: 0.9615384615384615\n",
      "Epoch 135,  ROC_AUC: 0.9562937062937062\n",
      "Epoch 136,  ROC_AUC: 0.9617453552364794\n",
      "Epoch 137,  ROC_AUC: 0.960379856829561\n",
      "Epoch 138,  ROC_AUC: 0.9504282699548972\n",
      "Epoch 139,  ROC_AUC: 0.9664418421814871\n",
      "Epoch 140,  ROC_AUC: 0.9656970248686224\n",
      "Epoch 141,  ROC_AUC: 0.9512765341167706\n",
      "Epoch 142,  ROC_AUC: 0.9492489758761948\n",
      "Epoch 143,  ROC_AUC: 0.9622212107419208\n",
      "Epoch 144,  ROC_AUC: 0.9574936897422104\n",
      "Epoch 145,  ROC_AUC: 0.9383146439359458\n",
      "Epoch 146,  ROC_AUC: 0.9547213141887698\n",
      "Epoch 147,  ROC_AUC: 0.9573178300988952\n",
      "Epoch 148,  ROC_AUC: 0.9614867381139571\n",
      "Epoch 149,  ROC_AUC: 0.9552282037489137\n",
      "Epoch 150,  ROC_AUC: 0.9661108122646583\n",
      "Epoch 151,  ROC_AUC: 0.9568523192783547\n",
      "Epoch 152,  ROC_AUC: 0.9493834567799064\n",
      "Epoch 153,  ROC_AUC: 0.9690280134067117\n",
      "Epoch 154,  ROC_AUC: 0.9650142756651632\n",
      "Epoch 155,  ROC_AUC: 0.9548351057226797\n",
      "Epoch 156,  ROC_AUC: 0.9557454379939587\n",
      "Epoch 157,  ROC_AUC: 0.9593660777092731\n",
      "Epoch 158,  ROC_AUC: 0.9576281706459221\n",
      "Epoch 159,  ROC_AUC: 0.9556006124053462\n",
      "Epoch 160,  ROC_AUC: 0.9574626556875078\n",
      "Epoch 161,  ROC_AUC: 0.9664418421814871\n",
      "Epoch 162,  ROC_AUC: 0.9587867753548227\n",
      "Epoch 163,  ROC_AUC: 0.956014399801382\n",
      "Epoch 164,  ROC_AUC: 0.9649832416104605\n",
      "Epoch 165,  ROC_AUC: 0.9632556792320106\n",
      "Epoch 166,  ROC_AUC: 0.9596557288864981\n",
      "Epoch 167,  ROC_AUC: 0.9616108743327678\n",
      "Epoch 168,  ROC_AUC: 0.966772872098316\n",
      "Epoch 169,  ROC_AUC: 0.9572350726196881\n",
      "Epoch 170,  ROC_AUC: 0.9510903297885547\n",
      "Epoch 171,  ROC_AUC: 0.9662970165928745\n",
      "Epoch 172,  ROC_AUC: 0.9542764927380312\n",
      "Epoch 173,  ROC_AUC: 0.9558902635825712\n",
      "Epoch 174,  ROC_AUC: 0.9662970165928746\n",
      "Epoch 175,  ROC_AUC: 0.9634005048206231\n",
      "Epoch 176,  ROC_AUC: 0.9609384698142094\n",
      "Epoch 177,  ROC_AUC: 0.9569661108122647\n",
      "Epoch 178,  ROC_AUC: 0.96877974096909\n",
      "Epoch 179,  ROC_AUC: 0.9652211693631811\n",
      "Epoch 180,  ROC_AUC: 0.9625936193983531\n",
      "Epoch 181,  ROC_AUC: 0.9558902635825712\n",
      "Epoch 182,  ROC_AUC: 0.9567385277444449\n",
      "Epoch 183,  ROC_AUC: 0.9657694376629287\n",
      "Epoch 184,  ROC_AUC: 0.9619108701948939\n",
      "Epoch 185,  ROC_AUC: 0.9532627136177431\n",
      "Epoch 186,  ROC_AUC: 0.9675590681507842\n",
      "Epoch 187,  ROC_AUC: 0.9637108453676501\n",
      "Epoch 188,  ROC_AUC: 0.9686142260106756\n",
      "Epoch 189,  ROC_AUC: 0.9666073571399014\n",
      "Epoch 190,  ROC_AUC: 0.9656556461290189\n",
      "Epoch 191,  ROC_AUC: 0.958352298588985\n",
      "Epoch 192,  ROC_AUC: 0.9649108288161543\n",
      "Epoch 193,  ROC_AUC: 0.9642694583522986\n",
      "Epoch 194,  ROC_AUC: 0.9634005048206231\n",
      "Epoch 195,  ROC_AUC: 0.9665659784002979\n",
      "Epoch 196,  ROC_AUC: 0.9664625315512889\n",
      "Epoch 197,  ROC_AUC: 0.9535730541647701\n",
      "Epoch 198,  ROC_AUC: 0.9660177101005505\n",
      "Epoch 199,  ROC_AUC: 0.9682625067240452\n",
      "Epoch 200,  ROC_AUC: 0.9547316588736706\n",
      "Epoch 201,  ROC_AUC: 0.9585178135473993\n",
      "Epoch 202,  ROC_AUC: 0.9684073323126576\n",
      "Epoch 203,  ROC_AUC: 0.9620660404684074\n",
      "Epoch 204,  ROC_AUC: 0.9581247155211652\n",
      "Epoch 205,  ROC_AUC: 0.9637522241072536\n",
      "Epoch 206,  ROC_AUC: 0.9674349319319733\n",
      "Epoch 207,  ROC_AUC: 0.9538006372325899\n",
      "Epoch 208,  ROC_AUC: 0.9653866843215955\n",
      "Epoch 209,  ROC_AUC: 0.9636901559978481\n",
      "Epoch 210,  ROC_AUC: 0.9677866512186039\n",
      "Epoch 211,  ROC_AUC: 0.9571523151404809\n"
     ]
    },
    {
     "name": "stdout",
     "output_type": "stream",
     "text": [
      "Epoch 212,  ROC_AUC: 0.9647453138577399\n",
      "Epoch 213,  ROC_AUC: 0.9645797988993255\n",
      "Epoch 214,  ROC_AUC: 0.9632556792320106\n",
      "Epoch 215,  ROC_AUC: 0.9683142301485497\n",
      "Epoch 216,  ROC_AUC: 0.9664004634418837\n",
      "Epoch 217,  ROC_AUC: 0.9640625646542806\n",
      "Epoch 218,  ROC_AUC: 0.9673521744527662\n",
      "Epoch 219,  ROC_AUC: 0.975772747962097\n",
      "Epoch 220,  ROC_AUC: 0.9658832291968387\n",
      "Epoch 221,  ROC_AUC: 0.96624529316837\n",
      "Epoch 222,  ROC_AUC: 0.9682418173542433\n",
      "Epoch 223,  ROC_AUC: 0.9646625563785327\n",
      "Epoch 224,  ROC_AUC: 0.9600902056523358\n",
      "Epoch 225,  ROC_AUC: 0.9669383870567303\n",
      "Epoch 226,  ROC_AUC: 0.965759092978028\n",
      "Epoch 227,  ROC_AUC: 0.9592626308602639\n",
      "Epoch 228,  ROC_AUC: 0.9696900732403692\n",
      "Epoch 229,  ROC_AUC: 0.9611143294575248\n",
      "Epoch 230,  ROC_AUC: 0.9662349484834692\n",
      "Epoch 231,  ROC_AUC: 0.962810857781272\n",
      "Epoch 232,  ROC_AUC: 0.9626970662473622\n",
      "Epoch 233,  ROC_AUC: 0.9656349567592171\n",
      "Epoch 234,  ROC_AUC: 0.9635039516696321\n",
      "Epoch 235,  ROC_AUC: 0.9614039806347499\n",
      "Epoch 236,  ROC_AUC: 0.9683659535730542\n",
      "Epoch 237,  ROC_AUC: 0.9738486365705299\n",
      "Epoch 238,  ROC_AUC: 0.9646625563785327\n",
      "Epoch 239,  ROC_AUC: 0.9725865850126205\n",
      "Epoch 240,  ROC_AUC: 0.9673728638225678\n",
      "Epoch 241,  ROC_AUC: 0.9673728638225679\n",
      "Epoch 242,  ROC_AUC: 0.9710969503868911\n",
      "Epoch 243,  ROC_AUC: 0.9641039433938842\n",
      "Epoch 244,  ROC_AUC: 0.9614660487441553\n",
      "Epoch 245,  ROC_AUC: 0.9718624570695578\n",
      "Epoch 246,  ROC_AUC: 0.9652935821574875\n",
      "Epoch 247,  ROC_AUC: 0.9722245210410891\n",
      "Epoch 248,  ROC_AUC: 0.9615591509082633\n",
      "Epoch 249,  ROC_AUC: 0.9666177018248024\n",
      "Epoch 250,  ROC_AUC: 0.9693383539537387\n",
      "Epoch 251,  ROC_AUC: 0.9614350146894526\n",
      "Epoch 252,  ROC_AUC: 0.9760520544544213\n",
      "Epoch 253,  ROC_AUC: 0.96048330367857\n",
      "Epoch 254,  ROC_AUC: 0.9615384615384615\n",
      "Epoch 255,  ROC_AUC: 0.971221086605702\n",
      "Epoch 256,  ROC_AUC: 0.9710141929076841\n",
      "Epoch 257,  ROC_AUC: 0.9699797244175943\n",
      "Epoch 258,  ROC_AUC: 0.9693176645839368\n",
      "Epoch 259,  ROC_AUC: 0.9729279596143502\n",
      "Epoch 260,  ROC_AUC: 0.9635660197790374\n",
      "Epoch 261,  ROC_AUC: 0.9664418421814871\n",
      "Epoch 262,  ROC_AUC: 0.9730624405180619\n",
      "Epoch 263,  ROC_AUC: 0.9540489096702114\n",
      "Epoch 264,  ROC_AUC: 0.9652832374725866\n",
      "Epoch 265,  ROC_AUC: 0.9704142011834319\n",
      "Epoch 266,  ROC_AUC: 0.9551454462697065\n",
      "Epoch 267,  ROC_AUC: 0.974469317664584\n",
      "Epoch 268,  ROC_AUC: 0.9684487110522613\n",
      "Epoch 269,  ROC_AUC: 0.9624901725493442\n",
      "Epoch 270,  ROC_AUC: 0.9702900649646212\n",
      "Epoch 271,  ROC_AUC: 0.968800430338892\n",
      "Epoch 272,  ROC_AUC: 0.9658728845119378\n",
      "Epoch 273,  ROC_AUC: 0.9651797906235775\n",
      "Epoch 274,  ROC_AUC: 0.974965862539827\n",
      "Epoch 275,  ROC_AUC: 0.9675176894111805\n",
      "Epoch 276,  ROC_AUC: 0.9691004262010179\n",
      "Epoch 277,  ROC_AUC: 0.9675590681507842\n",
      "Epoch 278,  ROC_AUC: 0.9691004262010179\n",
      "Epoch 279,  ROC_AUC: 0.9672487276037571\n",
      "Epoch 280,  ROC_AUC: 0.9700417925269996\n",
      "Epoch 281,  ROC_AUC: 0.9701762734307112\n",
      "Epoch 282,  ROC_AUC: 0.9702279968552159\n",
      "Epoch 283,  ROC_AUC: 0.9704348905532337\n",
      "Epoch 284,  ROC_AUC: 0.9674866553564778\n",
      "Epoch 285,  ROC_AUC: 0.9691935283651261\n",
      "Epoch 286,  ROC_AUC: 0.9701659287458104\n",
      "Epoch 287,  ROC_AUC: 0.9733314023254852\n",
      "Epoch 288,  ROC_AUC: 0.9673004510282617\n",
      "Epoch 289,  ROC_AUC: 0.9669073530020275\n",
      "Epoch 290,  ROC_AUC: 0.9774589316009433\n",
      "Epoch 291,  ROC_AUC: 0.9639798071750735\n",
      "Epoch 292,  ROC_AUC: 0.9697728307195763\n",
      "Epoch 293,  ROC_AUC: 0.9731451979972691\n",
      "Epoch 294,  ROC_AUC: 0.9673107957131626\n",
      "Epoch 295,  ROC_AUC: 0.9701452393760086\n",
      "Epoch 296,  ROC_AUC: 0.9670107998510364\n",
      "Epoch 297,  ROC_AUC: 0.965945297306244\n",
      "Epoch 298,  ROC_AUC: 0.9724003806844044\n",
      "Epoch 299,  ROC_AUC: 0.9748210369512145\n",
      "Epoch 300,  ROC_AUC: 0.9601626184466422\n",
      "Epoch 301,  ROC_AUC: 0.9681797492448381\n",
      "Epoch 302,  ROC_AUC: 0.9697521413497744\n",
      "Epoch 303,  ROC_AUC: 0.9662866719079736\n",
      "Epoch 304,  ROC_AUC: 0.9692349071047295\n",
      "Epoch 305,  ROC_AUC: 0.976393429056151\n",
      "Epoch 306,  ROC_AUC: 0.9642901477221003\n",
      "Epoch 307,  ROC_AUC: 0.9599764141184259\n",
      "Epoch 308,  ROC_AUC: 0.9731658873670708\n",
      "Epoch 309,  ROC_AUC: 0.9690487027765133\n",
      "Epoch 310,  ROC_AUC: 0.9663487400173791\n",
      "Epoch 311,  ROC_AUC: 0.9736417428725122\n",
      "Epoch 312,  ROC_AUC: 0.9685314685314685\n",
      "Epoch 313,  ROC_AUC: 0.9559730210617785\n",
      "Epoch 314,  ROC_AUC: 0.9702900649646212\n",
      "Epoch 315,  ROC_AUC: 0.9773865188066372\n",
      "Epoch 316,  ROC_AUC: 0.9594281458186784\n",
      "Epoch 317,  ROC_AUC: 0.962821202466173\n",
      "Epoch 318,  ROC_AUC: 0.9741175983779534\n",
      "Epoch 319,  ROC_AUC: 0.9681176811354325\n",
      "Epoch 320,  ROC_AUC: 0.9654797864857037\n",
      "Epoch 321,  ROC_AUC: 0.9722762444655936\n",
      "Epoch 322,  ROC_AUC: 0.9689452559275045\n",
      "Epoch 323,  ROC_AUC: 0.9622108660570199\n",
      "Epoch 324,  ROC_AUC: 0.9694831795423511\n",
      "Epoch 325,  ROC_AUC: 0.9733624363801878\n",
      "Epoch 326,  ROC_AUC: 0.9584143666983903\n",
      "Epoch 327,  ROC_AUC: 0.965138411883974\n",
      "Epoch 328,  ROC_AUC: 0.9691624943104233\n",
      "Epoch 329,  ROC_AUC: 0.959572971407291\n",
      "Epoch 330,  ROC_AUC: 0.9656556461290189\n",
      "Epoch 331,  ROC_AUC: 0.9714900484131253\n",
      "Epoch 332,  ROC_AUC: 0.9645177307899202\n",
      "Epoch 333,  ROC_AUC: 0.9644349733107129\n",
      "Epoch 334,  ROC_AUC: 0.9662349484834692\n",
      "Epoch 335,  ROC_AUC: 0.965645301444118\n",
      "Epoch 336,  ROC_AUC: 0.9625625853436505\n",
      "Epoch 337,  ROC_AUC: 0.9689038771879008\n",
      "Epoch 338,  ROC_AUC: 0.9651177225141723\n",
      "Epoch 339,  ROC_AUC: 0.9644970414201184\n",
      "Epoch 340,  ROC_AUC: 0.9723796913146026\n",
      "Epoch 341,  ROC_AUC: 0.9704762692928373\n",
      "Epoch 342,  ROC_AUC: 0.9658832291968387\n",
      "Epoch 343,  ROC_AUC: 0.9742210452269624\n",
      "Epoch 344,  ROC_AUC: 0.9737245003517192\n",
      "Epoch 345,  ROC_AUC: 0.9727107212314313\n",
      "Epoch 346,  ROC_AUC: 0.9686866388049821\n",
      "Epoch 347,  ROC_AUC: 0.971821078329954\n",
      "Epoch 348,  ROC_AUC: 0.9676004468903876\n",
      "Epoch 349,  ROC_AUC: 0.9683245748334506\n",
      "Epoch 350,  ROC_AUC: 0.9614143253196508\n",
      "Epoch 351,  ROC_AUC: 0.968386642942856\n",
      "Epoch 352,  ROC_AUC: 0.9703624777589275\n",
      "Epoch 353,  ROC_AUC: 0.969896966938387\n",
      "Epoch 354,  ROC_AUC: 0.9702073074854141\n",
      "Epoch 355,  ROC_AUC: 0.9699797244175942\n",
      "Epoch 356,  ROC_AUC: 0.9723176232051972\n",
      "Epoch 357,  ROC_AUC: 0.9710348822774858\n",
      "Epoch 358,  ROC_AUC: 0.9719038358091613\n",
      "Epoch 359,  ROC_AUC: 0.9744486282947822\n",
      "Epoch 360,  ROC_AUC: 0.9605039930483716\n",
      "Epoch 361,  ROC_AUC: 0.9719452145487648\n",
      "Epoch 362,  ROC_AUC: 0.9701452393760086\n",
      "Epoch 363,  ROC_AUC: 0.961993627674101\n",
      "Epoch 364,  ROC_AUC: 0.9694211114329458\n",
      "Epoch 365,  ROC_AUC: 0.9710555716472876\n",
      "Epoch 366,  ROC_AUC: 0.957648860015724\n",
      "Epoch 367,  ROC_AUC: 0.9766106674390698\n",
      "Epoch 368,  ROC_AUC: 0.967062523275541\n",
      "Epoch 369,  ROC_AUC: 0.9585798816568047\n",
      "Epoch 370,  ROC_AUC: 0.9699176563081889\n",
      "Epoch 371,  ROC_AUC: 0.969483179542351\n",
      "Epoch 372,  ROC_AUC: 0.968883187818099\n",
      "Epoch 373,  ROC_AUC: 0.9688107750237929\n",
      "Epoch 374,  ROC_AUC: 0.9705900608267473\n",
      "Epoch 375,  ROC_AUC: 0.9703107543344229\n",
      "Epoch 376,  ROC_AUC: 0.9674970000413787\n",
      "Epoch 377,  ROC_AUC: 0.9740141515289443\n",
      "Epoch 378,  ROC_AUC: 0.9714900484131254\n",
      "Epoch 379,  ROC_AUC: 0.9711590184962966\n",
      "Epoch 380,  ROC_AUC: 0.9633384367112178\n",
      "Epoch 381,  ROC_AUC: 0.9673625191376671\n",
      "Epoch 382,  ROC_AUC: 0.9706831629908552\n",
      "Epoch 383,  ROC_AUC: 0.9717900442752514\n",
      "Epoch 384,  ROC_AUC: 0.9733934704348906\n",
      "Epoch 385,  ROC_AUC: 0.9673314850829644\n",
      "Epoch 386,  ROC_AUC: 0.9694418008027476\n",
      "Epoch 387,  ROC_AUC: 0.965345305581992\n",
      "Epoch 388,  ROC_AUC: 0.9661315016344603\n",
      "Epoch 389,  ROC_AUC: 0.9725038275334134\n",
      "Epoch 390,  ROC_AUC: 0.977200314478421\n",
      "Epoch 391,  ROC_AUC: 0.965841850457235\n",
      "Epoch 392,  ROC_AUC: 0.9715934952621343\n",
      "Epoch 393,  ROC_AUC: 0.9744382836098812\n",
      "Epoch 394,  ROC_AUC: 0.970703852360657\n",
      "Epoch 395,  ROC_AUC: 0.9680245789713247\n",
      "Epoch 396,  ROC_AUC: 0.9745313857739895\n",
      "Epoch 397,  ROC_AUC: 0.9656349567592171\n",
      "Epoch 398,  ROC_AUC: 0.9691935283651261\n",
      "Epoch 399,  ROC_AUC: 0.9705900608267473\n",
      "Epoch 400,  ROC_AUC: 0.9711590184962966\n",
      "Epoch 401,  ROC_AUC: 0.9714900484131253\n",
      "Epoch 402,  ROC_AUC: 0.9729176149294493\n",
      "Epoch 403,  ROC_AUC: 0.9639798071750735\n",
      "Epoch 404,  ROC_AUC: 0.966565978400298\n",
      "Epoch 405,  ROC_AUC: 0.97304175114826\n",
      "Epoch 406,  ROC_AUC: 0.9729900277237555\n",
      "Epoch 407,  ROC_AUC: 0.9698555881987835\n",
      "Epoch 408,  ROC_AUC: 0.9684073323126577\n",
      "Epoch 409,  ROC_AUC: 0.9708693673190714\n",
      "Epoch 410,  ROC_AUC: 0.9693280092688377\n",
      "Epoch 411,  ROC_AUC: 0.9730417511482601\n",
      "Epoch 412,  ROC_AUC: 0.9723590019448007\n",
      "Epoch 413,  ROC_AUC: 0.9711693631811975\n",
      "Epoch 414,  ROC_AUC: 0.970910746058675\n",
      "Epoch 415,  ROC_AUC: 0.9731141639425662\n",
      "Epoch 416,  ROC_AUC: 0.969803864774279\n",
      "Epoch 417,  ROC_AUC: 0.9696280051309638\n",
      "Epoch 418,  ROC_AUC: 0.9757313692224935\n",
      "Epoch 419,  ROC_AUC: 0.9701452393760086\n",
      "Epoch 420,  ROC_AUC: 0.9685314685314685\n",
      "Epoch 421,  ROC_AUC: 0.9704348905532337\n"
     ]
    },
    {
     "name": "stdout",
     "output_type": "stream",
     "text": [
      "Epoch 422,  ROC_AUC: 0.972327967890098\n",
      "Epoch 423,  ROC_AUC: 0.9772416932180245\n",
      "Epoch 424,  ROC_AUC: 0.9730003724086563\n",
      "Epoch 425,  ROC_AUC: 0.9716762527413415\n",
      "Epoch 426,  ROC_AUC: 0.9705383374022428\n",
      "Epoch 427,  ROC_AUC: 0.9733210576405843\n",
      "Epoch 428,  ROC_AUC: 0.9730003724086563\n",
      "Epoch 429,  ROC_AUC: 0.9716762527413416\n",
      "Epoch 430,  ROC_AUC: 0.9733314023254852\n",
      "Epoch 431,  ROC_AUC: 0.9673211403980635\n",
      "Epoch 432,  ROC_AUC: 0.9747382794720073\n",
      "Epoch 433,  ROC_AUC: 0.9759796416601151\n",
      "Epoch 434,  ROC_AUC: 0.9685314685314685\n",
      "Epoch 435,  ROC_AUC: 0.9746141432531965\n",
      "Epoch 436,  ROC_AUC: 0.974065874953449\n",
      "Epoch 437,  ROC_AUC: 0.9665452890304961\n",
      "Epoch 438,  ROC_AUC: 0.9719141804940622\n",
      "Epoch 439,  ROC_AUC: 0.9759175735507096\n",
      "Epoch 440,  ROC_AUC: 0.9686762941200812\n",
      "Epoch 441,  ROC_AUC: 0.9680142342864237\n",
      "Epoch 442,  ROC_AUC: 0.9735589853933049\n",
      "Epoch 443,  ROC_AUC: 0.9698038647742789\n",
      "Epoch 444,  ROC_AUC: 0.9659866760458478\n",
      "Epoch 445,  ROC_AUC: 0.9718210783299541\n",
      "Epoch 446,  ROC_AUC: 0.9693280092688378\n",
      "Epoch 447,  ROC_AUC: 0.9725038275334134\n",
      "Epoch 448,  ROC_AUC: 0.9739107046799353\n",
      "Epoch 449,  ROC_AUC: 0.9719038358091612\n",
      "Epoch 450,  ROC_AUC: 0.9653970290064964\n",
      "Epoch 451,  ROC_AUC: 0.9734348491744942\n",
      "Epoch 452,  ROC_AUC: 0.9693900773782431\n",
      "Epoch 453,  ROC_AUC: 0.9689969793520089\n",
      "Epoch 454,  ROC_AUC: 0.9690693921463152\n",
      "Epoch 455,  ROC_AUC: 0.9638453262713618\n",
      "Epoch 456,  ROC_AUC: 0.9675797575205859\n",
      "Epoch 457,  ROC_AUC: 0.9726900318616294\n",
      "Epoch 458,  ROC_AUC: 0.9650349650349651\n",
      "Epoch 459,  ROC_AUC: 0.9751210328133405\n",
      "Epoch 460,  ROC_AUC: 0.9681176811354326\n",
      "Epoch 461,  ROC_AUC: 0.9764865312202591\n",
      "Epoch 462,  ROC_AUC: 0.9723796913146027\n",
      "Epoch 463,  ROC_AUC: 0.9695762817064593\n",
      "Epoch 464,  ROC_AUC: 0.9720279720279721\n",
      "Epoch 465,  ROC_AUC: 0.9693073198990358\n",
      "Epoch 466,  ROC_AUC: 0.9736727769272148\n",
      "Epoch 467,  ROC_AUC: 0.9756072330036828\n",
      "Epoch 468,  ROC_AUC: 0.9721934869863863\n",
      "Epoch 469,  ROC_AUC: 0.9728348574502421\n",
      "Epoch 470,  ROC_AUC: 0.9731555426821699\n",
      "Epoch 471,  ROC_AUC: 0.9733314023254852\n",
      "Epoch 472,  ROC_AUC: 0.9719969379732694\n",
      "Epoch 473,  ROC_AUC: 0.97718996979352\n",
      "Epoch 474,  ROC_AUC: 0.9729072702445484\n",
      "Epoch 475,  ROC_AUC: 0.968283196093847\n",
      "Epoch 476,  ROC_AUC: 0.977210659163322\n",
      "Epoch 477,  ROC_AUC: 0.9780278892704928\n",
      "Epoch 478,  ROC_AUC: 0.9737038109819175\n",
      "Epoch 479,  ROC_AUC: 0.9705590267720444\n",
      "Epoch 480,  ROC_AUC: 0.9760003310299168\n",
      "Epoch 481,  ROC_AUC: 0.9651797906235776\n",
      "Epoch 482,  ROC_AUC: 0.9731245086274672\n",
      "Epoch 483,  ROC_AUC: 0.974552075143791\n",
      "Epoch 484,  ROC_AUC: 0.9684900897918649\n",
      "Epoch 485,  ROC_AUC: 0.9741486324326561\n",
      "Epoch 486,  ROC_AUC: 0.9732072661066744\n",
      "Epoch 487,  ROC_AUC: 0.9636280878884429\n",
      "Epoch 488,  ROC_AUC: 0.9724210700542062\n",
      "Epoch 489,  ROC_AUC: 0.9739313940497372\n",
      "Epoch 490,  ROC_AUC: 0.9663797740720818\n",
      "Epoch 491,  ROC_AUC: 0.9750072412794306\n",
      "Epoch 492,  ROC_AUC: 0.9737245003517192\n",
      "Epoch 493,  ROC_AUC: 0.9694728348574504\n",
      "Epoch 494,  ROC_AUC: 0.974262423966566\n",
      "Epoch 495,  ROC_AUC: 0.9728141680804403\n",
      "Epoch 496,  ROC_AUC: 0.9677038937393967\n",
      "Epoch 497,  ROC_AUC: 0.9733210576405842\n",
      "Epoch 498,  ROC_AUC: 0.97142798030372\n",
      "Epoch 499,  ROC_AUC: 0.9685521579012702\n",
      "Epoch 500,  ROC_AUC: 0.9682831960938469\n"
     ]
    }
   ],
   "source": [
    "from sklearn.metrics import roc_auc_score\n",
    "nb_epoch = 500\n",
    "for epoch in range(nb_epoch):\n",
    "    epoch+=1\n",
    "    #Convert the numpy array to torch tensor\n",
    "    inputs = Variable(torch.from_numpy(X_train))\n",
    "    labels = Variable(torch.from_numpy(y_train))\n",
    "    \n",
    "    #Clear the gradients\n",
    "    optimizer.zero_grad()\n",
    "    \n",
    "    #Compute the output using forward pass\n",
    "    outputs = model.forward(inputs)\n",
    "#     print(outputs)\n",
    "    \n",
    "    #Compute the loss\n",
    "    loss = criterion(outputs, labels)\n",
    "    \n",
    "    #get the Gradient\n",
    "    loss.backward()\n",
    "    \n",
    "    #Update the parameters\n",
    "    optimizer.step()\n",
    "    \n",
    "    with torch.no_grad():\n",
    "        prob = model.forward(inputs)\n",
    "        score = roc_auc_score(labels, prob)\n",
    "    \n",
    "    print('Epoch {},  ROC_AUC: {}'.format(epoch, score))"
   ]
  },
  {
   "cell_type": "code",
   "execution_count": 186,
   "metadata": {},
   "outputs": [],
   "source": [
    "from sklearn.metrics import roc_curve"
   ]
  },
  {
   "cell_type": "markdown",
   "metadata": {},
   "source": [
    "Let us look at the roc curve of the model especially over the test data"
   ]
  },
  {
   "cell_type": "code",
   "execution_count": 215,
   "metadata": {},
   "outputs": [],
   "source": [
    "#computing the ROC curve\n",
    "with torch.no_grad():\n",
    "    probs = model.forward(torch.from_numpy(X_test))\n",
    "    fpr, tpr, _ = roc_curve(y_test, probs.numpy())\n",
    "    roc_score = roc_auc_score(y_test, probs.numpy())"
   ]
  },
  {
   "cell_type": "code",
   "execution_count": 216,
   "metadata": {},
   "outputs": [
    {
     "data": {
      "text/plain": [
       "Text(0,0.5,'TPR')"
      ]
     },
     "execution_count": 216,
     "metadata": {},
     "output_type": "execute_result"
    },
    {
     "data": {
      "image/png": "[encoded data removed]",
      "text/plain": [
       "<Figure size 432x288 with 1 Axes>"
      ]
     },
     "metadata": {},
     "output_type": "display_data"
    }
   ],
   "source": [
    "plt.plot(fpr, tpr, 'r-', label='ROC_test')\n",
    "plt.plot([0,1], [0, 1], 'b--')\n",
    "plt.legend(loc='best')\n",
    "plt.xlabel('FPR')\n",
    "plt.ylabel('TPR')"
   ]
  },
  {
   "cell_type": "code",
   "execution_count": 217,
   "metadata": {},
   "outputs": [
    {
     "name": "stdout",
     "output_type": "stream",
     "text": [
      "The ROC_AUC score is : 0.9849328529315426\n"
     ]
    }
   ],
   "source": [
    "print('The ROC_AUC score is : {}'.format(roc_score))"
   ]
  },
  {
   "cell_type": "code",
   "execution_count": 218,
   "metadata": {},
   "outputs": [],
   "source": [
    "#computing the ROC curve\n",
    "with torch.no_grad():\n",
    "    probs = model.forward(torch.from_numpy(X_train))\n",
    "    fpr, tpr, _ = roc_curve(y_train, probs.numpy())\n",
    "    roc_score = roc_auc_score(y_train, probs.numpy())"
   ]
  },
  {
   "cell_type": "code",
   "execution_count": 219,
   "metadata": {},
   "outputs": [
    {
     "data": {
      "text/plain": [
       "Text(0,0.5,'TPR')"
      ]
     },
     "execution_count": 219,
     "metadata": {},
     "output_type": "execute_result"
    },
    {
     "data": {
      "image/png": "[encoded data removed]",
      "text/plain": [
       "<Figure size 432x288 with 1 Axes>"
      ]
     },
     "metadata": {},
     "output_type": "display_data"
    }
   ],
   "source": [
    "plt.plot(fpr, tpr, 'r-', label='ROC_train')\n",
    "plt.plot([0,1], [0, 1], 'b--')\n",
    "plt.legend(loc='best')\n",
    "plt.xlabel('FPR')\n",
    "plt.ylabel('TPR')"
   ]
  },
  {
   "cell_type": "code",
   "execution_count": 220,
   "metadata": {},
   "outputs": [
    {
     "name": "stdout",
     "output_type": "stream",
     "text": [
      "The ROC_AUC score is : 0.9695245582819547\n"
     ]
    }
   ],
   "source": [
    "print('The ROC_AUC score is : {}'.format(roc_score))"
   ]
  },
  {
   "cell_type": "code",
   "execution_count": null,
   "metadata": {},
   "outputs": [],
   "source": []
  }
 ],
 "metadata": {
  "kernelspec": {
   "display_name": "Python 3",
   "language": "python",
   "name": "python3"
  },
  "language_info": {
   "codemirror_mode": {
    "name": "ipython",
    "version": 3
   },
   "file_extension": ".py",
   "mimetype": "text/x-python",
   "name": "python",
   "nbconvert_exporter": "python",
   "pygments_lexer": "ipython3",
   "version": "3.6.5"
  }
 },
 "nbformat": 4,
 "nbformat_minor": 2
}
